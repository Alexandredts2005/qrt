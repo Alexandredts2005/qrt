{
 "cells": [
  {
   "cell_type": "markdown",
   "metadata": {},
   "source": [
    "# Exercices d'applications sur les dictionnaires"
   ]
  },
  {
   "cell_type": "markdown",
   "metadata": {},
   "source": [
    "## Exercice 1 : les pokémons\n"
   ]
  },
  {
   "cell_type": "markdown",
   "metadata": {},
   "source": [
    "On modélise des informations (nom, taille et poids) sur des Pokémons de la façon suivante :"
   ]
  },
  {
   "cell_type": "code",
   "execution_count": null,
   "metadata": {},
   "outputs": [],
   "source": [
    "exemple_pokemons={\n",
    "    'Bulbizarre' : (70 , 7),\n",
    "    'Herbizarre' : (100 , 13),\n",
    "    'Abo' : (200 , 7),\n",
    "    'Jungko' : (170, 52)}"
   ]
  },
  {
   "cell_type": "markdown",
   "metadata": {},
   "source": [
    "Par exemple, Bulbizarre est un Pokémon qui mesure 70 cm et qui pèse 7 kg."
   ]
  },
  {
   "cell_type": "markdown",
   "metadata": {},
   "source": [
    "1. Quel est le type de exemple_pokemons ?"
   ]
  },
  {
   "cell_type": "markdown",
   "metadata": {},
   "source": [
    "2. Quelle instruction permet d'ajouter à cette structure de données le Pokémon Goupix qui mesure 30 cm et qui pèse 10 kg ?"
   ]
  },
  {
   "cell_type": "code",
   "execution_count": null,
   "metadata": {},
   "outputs": [],
   "source": []
  },
  {
   "cell_type": "markdown",
   "metadata": {},
   "source": [
    "3. On donne le code suivant :"
   ]
  },
  {
   "cell_type": "code",
   "execution_count": null,
   "metadata": {},
   "outputs": [],
   "source": [
    "def le_plus_grand(pokemons):\n",
    "    taille_max = 0\n",
    "    for (nom , (taille , poids)) in pokemons.items():\n",
    "        if taille_max == 0 or taille > taille_max:\n",
    "            taille_max = taille\n",
    "            nom_du_plus_grand = nom\n",
    "    return (nom_du_plus_grand , taille_max)"
   ]
  },
  {
   "cell_type": "markdown",
   "metadata": {},
   "source": [
    "a.  Quelle est la valeur de le_plus_grand(exemple_pokemons) ?"
   ]
  },
  {
   "cell_type": "markdown",
   "metadata": {},
   "source": [
    "b. Ecrire le code d'une fonction le_plus_leger qui prend des pokémons en paramètre et qui renvoie un tuple dont la première composante est le nom du Pokémon le plus léger et la deuxième composante est son poids."
   ]
  },
  {
   "cell_type": "code",
   "execution_count": null,
   "metadata": {},
   "outputs": [],
   "source": []
  },
  {
   "cell_type": "markdown",
   "metadata": {},
   "source": [
    "4. Ecrire le code d'une fonction taille qui prend en paramètre un dictionnaire de Pokémons ainsi que le nom d'un Pokémon, et qui renvoie la taille de ce Pokémon."
   ]
  },
  {
   "cell_type": "code",
   "execution_count": null,
   "metadata": {},
   "outputs": [],
   "source": []
  },
  {
   "cell_type": "markdown",
   "metadata": {},
   "source": [
    "## Exercice 2 : modélisation d'un parc de velibs"
   ]
  },
  {
   "cell_type": "markdown",
   "metadata": {},
   "source": [
    "On veut représenter un parc de vélos en libre accès à l'aide d'un dictionnaire.\n",
    "Les clés et les valeurs possibles seront :\n",
    "- \"id\" : qui correspond à l'identifiant du vélo (un entier)\n",
    "- \"typ\" : qui peut être \"électrique\" ou \"classique\"\n",
    "- \"station\" : qui correspond à la station (une chaîne de caractères) où est stationné le vélo ou à celle où il a dernièrement stationné.\n",
    "- \"statut\" : qui correspond au statut du vélo. Il peut être \"en déplacement\", \"en panne\" ou \"dispo\"."
   ]
  },
  {
   "cell_type": "markdown",
   "metadata": {},
   "source": [
    "1. D'après cette représentation, créer un vélo électrique d'identifiant 1210000, stationné à place d'Italie, mais en panne."
   ]
  },
  {
   "cell_type": "code",
   "execution_count": null,
   "metadata": {},
   "outputs": [],
   "source": []
  },
  {
   "cell_type": "markdown",
   "metadata": {},
   "source": [
    "2. Ce vélo est ensuite réparé et quitte sa station. Modifier son dictionnaire en conséquence."
   ]
  },
  {
   "cell_type": "code",
   "execution_count": null,
   "metadata": {},
   "outputs": [],
   "source": []
  },
  {
   "cell_type": "markdown",
   "metadata": {},
   "source": [
    "3. Vérifier à l'aide d'une ligne de code si la valeur \"dispo\" figure dans le dictionnaire créé."
   ]
  },
  {
   "cell_type": "code",
   "execution_count": null,
   "metadata": {},
   "outputs": [],
   "source": []
  },
  {
   "cell_type": "markdown",
   "metadata": {},
   "source": [
    "## Exercice 3 : itérer les éléments d'un dictionnaire."
   ]
  },
  {
   "cell_type": "markdown",
   "metadata": {},
   "source": [
    "Au zoo de Beauval, il y a 5 élaphants d'Asie, 17 écureuils d'Asie, 2 pandas d'Asie ...\n",
    "On représente cet inventaire à l'aide d'un dictionnaire, de la façon suivante :"
   ]
  },
  {
   "cell_type": "code",
   "execution_count": null,
   "metadata": {},
   "outputs": [],
   "source": [
    "zoo_<Beauval = {\n",
    "    'éléphant' : ('Asie' , 5),\n",
    "    'écureuil' : ('Asie' , 17),\n",
    "    'panda' : ('Asie' , 2),\n",
    "    'hippopotame' : ('Afrique' , 7),\n",
    "    'girafe' : ('Afrique' , 4)\n",
    "}"
   ]
  },
  {
   "cell_type": "markdown",
   "metadata": {},
   "source": [
    "On représente de la même façon le zoo de La Flèche :"
   ]
  },
  {
   "cell_type": "code",
   "execution_count": null,
   "metadata": {},
   "outputs": [],
   "source": [
    "zoo_La_Fleche = {\n",
    "    'ours' : ('Europe' , 4),\n",
    "    'tigre' : ('Asie' , 7),\n",
    "    'girafe' : ('Afrique', 11),\n",
    "    'hippopotame' : ('Afrique' , 3)\n",
    "}"
   ]
  },
  {
   "cell_type": "markdown",
   "metadata": {},
   "source": [
    "On souhaite se doter d'une fonction plus_grand_nombre() qui prend un zoo en paramètre et qui renvoie le nom de l'animal le plus représenté dans ce zoo. "
   ]
  },
  {
   "cell_type": "markdown",
   "metadata": {},
   "source": [
    "1. a. Quel type de boucle peut-on envisager pour le code de cette fonction ?\n",
    "     for cle in dico.keys()\n",
    "     for valeur in dico.values()\n",
    "     for (cle , valeur) in dico.items()\n",
    "     aucune boucle"
   ]
  },
  {
   "cell_type": "markdown",
   "metadata": {},
   "source": [
    "b. Ecrire le code de cette fonction"
   ]
  },
  {
   "cell_type": "code",
   "execution_count": null,
   "metadata": {},
   "outputs": [],
   "source": []
  },
  {
   "cell_type": "markdown",
   "metadata": {},
   "source": [
    "2. On souhaite se doter d'une fonction nombre_total() qui prend un zoo en paramètre ainsi que le nom d'un continent, et qui renvoie le nombre d'animaux orginaires de ce continent dans le zoo. Quel type de boucle peut-on envisager pour le code de cette fonction ? Ecrire le code de cette fonction."
   ]
  },
  {
   "cell_type": "code",
   "execution_count": null,
   "metadata": {},
   "outputs": [],
   "source": []
  },
  {
   "cell_type": "markdown",
   "metadata": {},
   "source": [
    "On souhaite se doter d'une fonction nombre() qui prend un zoo en paramètre ainsi que le nom d'un animal et qui renvoie le nombre de représentants de cet animal dans cet zoo. Ecrire le code de cette fonction."
   ]
  },
  {
   "cell_type": "code",
   "execution_count": null,
   "metadata": {},
   "outputs": [],
   "source": []
  },
  {
   "cell_type": "markdown",
   "metadata": {},
   "source": [
    "## Exercice 4 : Coorodonnées GPS"
   ]
  },
  {
   "cell_type": "markdown",
   "metadata": {},
   "source": [
    "On a construit un dictionnaire ayant pour clés des couples contenant les coordonnées GPS de villes et pour valeurs les villes correspondantes. ON trouve les coordonnées sur le Web par exemple. Les données sont sous forme décimale en degré."
   ]
  },
  {
   "cell_type": "code",
   "execution_count": null,
   "metadata": {},
   "outputs": [],
   "source": [
    "positions = {}\n",
    "positions[(48.853585 , 2.301490)] = \"Paris\"\n",
    "positions[(11.611358 , 43.147752)] = \"Djibouti\"\n",
    "positions[(37.023113 , -8.996601)] = \"Fortaleza de Sao Vicente\"\n",
    "positions[(7.677989 , -5.025387)] = \"Bouaké\""
   ]
  },
  {
   "cell_type": "markdown",
   "metadata": {},
   "source": [
    "Nous supposons avoir reçu une photo prise avec un smartphone par une personne en vacances. Nous voyons dans les propriétés les coordonnées GPS au monment de la prise de vue. Ecrire une fonction prenant en paramètre un couple de coordonnées GPS et le dictionnaire construit et renvoyant le nom du lieu correspondant."
   ]
  },
  {
   "cell_type": "code",
   "execution_count": null,
   "metadata": {},
   "outputs": [],
   "source": []
  },
  {
   "cell_type": "markdown",
   "metadata": {},
   "source": [
    "## Exercice 5 : compter des lettres dans un texte"
   ]
  },
  {
   "cell_type": "markdown",
   "metadata": {},
   "source": [
    "Ecrire une fonction stat() qui prend en paramètre un texte (type str) et renvoie un dictionnaire dont les clés sont les différentes lettres du texte et les valeurs le nombre d'occurences de chaque lettre. On suppose le texte écrit en lettres capitales non accentuées.\n",
    "Attention, le texte contient des caractères de ponctuation et des espaces qu'il ne faut pas comptabiliser."
   ]
  },
  {
   "cell_type": "code",
   "execution_count": null,
   "metadata": {},
   "outputs": [],
   "source": []
  }
 ],
 "metadata": {
  "kernelspec": {
   "display_name": "Python 3",
   "language": "python",
   "name": "python3"
  },
  "language_info": {
   "codemirror_mode": {
    "name": "ipython",
    "version": 3
   },
   "file_extension": ".py",
   "mimetype": "text/x-python",
   "name": "python",
   "nbconvert_exporter": "python",
   "pygments_lexer": "ipython3",
   "version": "3.7.6"
  }
 },
 "nbformat": 4,
 "nbformat_minor": 4
}
