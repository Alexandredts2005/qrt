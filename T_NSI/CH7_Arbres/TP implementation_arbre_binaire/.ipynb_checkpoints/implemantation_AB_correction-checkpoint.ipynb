{
 "cells": [
  {
   "cell_type": "markdown",
   "metadata": {},
   "source": [
    "<h1>IMPLEMENTATION DES ARBRES BINAIRES</h1>"
   ]
  },
  {
   "cell_type": "markdown",
   "metadata": {},
   "source": [
    "L'objectif de ce TP est d'implémenter, sous forme de classe, les arbres binaires : création, taille, hauteur, parcours ..."
   ]
  },
  {
   "cell_type": "markdown",
   "metadata": {},
   "source": [
    "<h2> Création d'un arbre binaire</h2>"
   ]
  },
  {
   "cell_type": "markdown",
   "metadata": {},
   "source": [
    "On  vu dans le cours le principe de la création d'un arbre binaire dont chaque noeud est défini par son sous-arbre gauche, sa valeur et son sous-arbre de droite."
   ]
  },
  {
   "cell_type": "markdown",
   "metadata": {},
   "source": [
    "Compléter le constructeur de la classe Arbre_binaire (ce constructeur crée en réalité un noeud, qui, à la manière des listes chaînées, contient un sous-arbre gauche et un sous-arbre droit) :"
   ]
  },
  {
   "cell_type": "code",
   "execution_count": 1,
   "metadata": {},
   "outputs": [],
   "source": [
    "class Arbre_binaire:\n",
    "    \"\"\"\n",
    "    Classe implémentant un arbre binaire dont les noeuds sont caractérisés par\n",
    "    - une valeur (de type quelconque)\n",
    "    - un fils gauche et un fils droit\n",
    "    Les enfants gauche et droit sont eux-mêmes des arbres\n",
    "    \"\"\"\n",
    "    def __init__(self, gauche = None, valeur = None, droit = None):\n",
    "        self.valeur = valeur\n",
    "        self.gauche = gauche\n",
    "        self.droit = droit\n",
    "        \n",
    "    "
   ]
  },
  {
   "cell_type": "markdown",
   "metadata": {},
   "source": [
    "Tester le constructeur en créant un arbre vide a."
   ]
  },
  {
   "cell_type": "code",
   "execution_count": 2,
   "metadata": {},
   "outputs": [],
   "source": [
    "a = Arbre_binaire()"
   ]
  },
  {
   "cell_type": "code",
   "execution_count": 3,
   "metadata": {},
   "outputs": [
    {
     "data": {
      "text/plain": [
       "<__main__.Arbre_binaire at 0x28d2920bf70>"
      ]
     },
     "execution_count": 3,
     "metadata": {},
     "output_type": "execute_result"
    }
   ],
   "source": [
    "a"
   ]
  },
  {
   "cell_type": "code",
   "execution_count": 4,
   "metadata": {},
   "outputs": [],
   "source": [
    "a.valeur\n",
    "a.gauche\n",
    "a.droit"
   ]
  },
  {
   "cell_type": "markdown",
   "metadata": {},
   "source": [
    "Créer un arbre binaire b de taille 1 dont la racine a pour valeur 3 et un autre arbre binaire c de taille 1 dont la valeur vaut 2. On a ainsi créé deux feuilles."
   ]
  },
  {
   "cell_type": "code",
   "execution_count": 5,
   "metadata": {},
   "outputs": [],
   "source": [
    "b = Arbre_binaire(None, 3, None)\n",
    "c = Arbre_binaire(None, 2, None)"
   ]
  },
  {
   "cell_type": "code",
   "execution_count": 6,
   "metadata": {},
   "outputs": [
    {
     "data": {
      "text/plain": [
       "2"
      ]
     },
     "execution_count": 6,
     "metadata": {},
     "output_type": "execute_result"
    }
   ],
   "source": [
    "b.valeur\n",
    "c.valeur"
   ]
  },
  {
   "cell_type": "markdown",
   "metadata": {},
   "source": [
    "Vous pouvez visualiser l'arbre à l'aide du code suivant :"
   ]
  },
  {
   "cell_type": "code",
   "execution_count": 23,
   "metadata": {},
   "outputs": [
    {
     "ename": "AttributeError",
     "evalue": "'Arbre_binaire' object has no attribute 'affiche'",
     "output_type": "error",
     "traceback": [
      "\u001b[1;31m---------------------------------------------------------------------------\u001b[0m",
      "\u001b[1;31mAttributeError\u001b[0m                            Traceback (most recent call last)",
      "\u001b[1;32m<ipython-input-23-cb84b89a79a0>\u001b[0m in \u001b[0;36m<module>\u001b[1;34m\u001b[0m\n\u001b[0;32m     10\u001b[0m         \u001b[1;32mreturn\u001b[0m \u001b[1;33m[\u001b[0m\u001b[0mself\u001b[0m\u001b[1;33m.\u001b[0m\u001b[0mvaleur\u001b[0m\u001b[1;33m,\u001b[0m\u001b[0mself\u001b[0m\u001b[1;33m.\u001b[0m\u001b[0mgauche\u001b[0m\u001b[1;33m.\u001b[0m\u001b[0maffiche\u001b[0m\u001b[1;33m(\u001b[0m\u001b[1;33m)\u001b[0m\u001b[1;33m,\u001b[0m\u001b[0mself\u001b[0m\u001b[1;33m.\u001b[0m\u001b[0mdroit\u001b[0m\u001b[1;33m.\u001b[0m\u001b[0maffiche\u001b[0m\u001b[1;33m(\u001b[0m\u001b[1;33m)\u001b[0m\u001b[1;33m]\u001b[0m\u001b[1;33m\u001b[0m\u001b[1;33m\u001b[0m\u001b[0m\n\u001b[0;32m     11\u001b[0m \u001b[1;33m\u001b[0m\u001b[0m\n\u001b[1;32m---> 12\u001b[1;33m \u001b[0mb\u001b[0m\u001b[1;33m.\u001b[0m\u001b[0maffiche\u001b[0m\u001b[1;33m(\u001b[0m\u001b[1;33m)\u001b[0m\u001b[1;33m\u001b[0m\u001b[1;33m\u001b[0m\u001b[0m\n\u001b[0m",
      "\u001b[1;31mAttributeError\u001b[0m: 'Arbre_binaire' object has no attribute 'affiche'"
     ]
    }
   ],
   "source": [
    "    def affiche(self):\n",
    "        \"\"\"permet d'afficher un arbre\"\"\"\n",
    "        if self.gauche == None and self.droit == None:\n",
    "            return self.valeur\n",
    "        elif self.gauche == None:\n",
    "            return [self.valeur,self.droit.affiche()]\n",
    "        elif self.droit == None:\n",
    "            return [self.valeur, self.gauche.affiche()]\n",
    "        else:\n",
    "            return [self.valeur,self.gauche.affiche(),self.droit.affiche()]\n",
    "        \n",
    "b.affiche()"
   ]
  },
  {
   "cell_type": "markdown",
   "metadata": {},
   "source": [
    "Créer, à l'aide des deux feuilles précédentes l'arbre binaire d :\n",
    "<img src =\"images/arbre_c.png\">"
   ]
  },
  {
   "cell_type": "code",
   "execution_count": 19,
   "metadata": {},
   "outputs": [],
   "source": [
    "d = Arbre_binaire (c , 1 , b)"
   ]
  },
  {
   "cell_type": "code",
   "execution_count": 22,
   "metadata": {},
   "outputs": [
    {
     "name": "stdout",
     "output_type": "stream",
     "text": [
      "1\n",
      "<__main__.Arbre_binaire object at 0x0000028D29238280>\n",
      "<__main__.Arbre_binaire object at 0x0000028D29238070>\n"
     ]
    },
    {
     "ename": "AttributeError",
     "evalue": "'Arbre_binaire' object has no attribute 'affiche'",
     "output_type": "error",
     "traceback": [
      "\u001b[1;31m---------------------------------------------------------------------------\u001b[0m",
      "\u001b[1;31mAttributeError\u001b[0m                            Traceback (most recent call last)",
      "\u001b[1;32m<ipython-input-22-dcc5e52b9fe9>\u001b[0m in \u001b[0;36m<module>\u001b[1;34m\u001b[0m\n\u001b[0;32m      2\u001b[0m \u001b[0mprint\u001b[0m\u001b[1;33m(\u001b[0m\u001b[0md\u001b[0m\u001b[1;33m.\u001b[0m\u001b[0mgauche\u001b[0m\u001b[1;33m)\u001b[0m\u001b[1;33m\u001b[0m\u001b[1;33m\u001b[0m\u001b[0m\n\u001b[0;32m      3\u001b[0m \u001b[0mprint\u001b[0m\u001b[1;33m(\u001b[0m\u001b[0md\u001b[0m\u001b[1;33m.\u001b[0m\u001b[0mdroit\u001b[0m\u001b[1;33m)\u001b[0m\u001b[1;33m\u001b[0m\u001b[1;33m\u001b[0m\u001b[0m\n\u001b[1;32m----> 4\u001b[1;33m \u001b[0maffiche\u001b[0m\u001b[1;33m(\u001b[0m\u001b[0md\u001b[0m\u001b[1;33m)\u001b[0m\u001b[1;33m\u001b[0m\u001b[1;33m\u001b[0m\u001b[0m\n\u001b[0m",
      "\u001b[1;32m<ipython-input-18-a57e1a8ed190>\u001b[0m in \u001b[0;36maffiche\u001b[1;34m(self)\u001b[0m\n\u001b[0;32m      8\u001b[0m         \u001b[1;32mreturn\u001b[0m \u001b[1;33m[\u001b[0m\u001b[0mself\u001b[0m\u001b[1;33m.\u001b[0m\u001b[0mvaleur\u001b[0m\u001b[1;33m,\u001b[0m \u001b[0mself\u001b[0m\u001b[1;33m.\u001b[0m\u001b[0mgauche\u001b[0m\u001b[1;33m.\u001b[0m\u001b[0maffiche\u001b[0m\u001b[1;33m(\u001b[0m\u001b[1;33m)\u001b[0m\u001b[1;33m]\u001b[0m\u001b[1;33m\u001b[0m\u001b[1;33m\u001b[0m\u001b[0m\n\u001b[0;32m      9\u001b[0m     \u001b[1;32melse\u001b[0m\u001b[1;33m:\u001b[0m\u001b[1;33m\u001b[0m\u001b[1;33m\u001b[0m\u001b[0m\n\u001b[1;32m---> 10\u001b[1;33m         \u001b[1;32mreturn\u001b[0m \u001b[1;33m[\u001b[0m\u001b[0mself\u001b[0m\u001b[1;33m.\u001b[0m\u001b[0mvaleur\u001b[0m\u001b[1;33m,\u001b[0m\u001b[0mself\u001b[0m\u001b[1;33m.\u001b[0m\u001b[0mgauche\u001b[0m\u001b[1;33m.\u001b[0m\u001b[0maffiche\u001b[0m\u001b[1;33m(\u001b[0m\u001b[1;33m)\u001b[0m\u001b[1;33m,\u001b[0m\u001b[0mself\u001b[0m\u001b[1;33m.\u001b[0m\u001b[0mdroit\u001b[0m\u001b[1;33m.\u001b[0m\u001b[0maffiche\u001b[0m\u001b[1;33m(\u001b[0m\u001b[1;33m)\u001b[0m\u001b[1;33m]\u001b[0m\u001b[1;33m\u001b[0m\u001b[1;33m\u001b[0m\u001b[0m\n\u001b[0m\u001b[0;32m     11\u001b[0m \u001b[1;33m\u001b[0m\u001b[0m\n\u001b[0;32m     12\u001b[0m \u001b[0maffiche\u001b[0m\u001b[1;33m(\u001b[0m\u001b[0mb\u001b[0m\u001b[1;33m)\u001b[0m\u001b[1;33m\u001b[0m\u001b[1;33m\u001b[0m\u001b[0m\n",
      "\u001b[1;31mAttributeError\u001b[0m: 'Arbre_binaire' object has no attribute 'affiche'"
     ]
    }
   ],
   "source": [
    "print(d.valeur)\n",
    "print(d.gauche)\n",
    "print(d.droit)\n",
    "affiche(d)"
   ]
  },
  {
   "cell_type": "markdown",
   "metadata": {},
   "source": [
    "Créer l'arbre e :\n",
    "<img src =\"images/arbre_d.png\">"
   ]
  },
  {
   "cell_type": "code",
   "execution_count": 21,
   "metadata": {},
   "outputs": [
    {
     "ename": "AttributeError",
     "evalue": "'Arbre_binaire' object has no attribute 'affiche'",
     "output_type": "error",
     "traceback": [
      "\u001b[1;31m---------------------------------------------------------------------------\u001b[0m",
      "\u001b[1;31mAttributeError\u001b[0m                            Traceback (most recent call last)",
      "\u001b[1;32m<ipython-input-21-31bf146ef24b>\u001b[0m in \u001b[0;36m<module>\u001b[1;34m\u001b[0m\n\u001b[0;32m      6\u001b[0m \u001b[0me\u001b[0m \u001b[1;33m=\u001b[0m \u001b[0mArbre_binaire\u001b[0m\u001b[1;33m(\u001b[0m\u001b[0mN2\u001b[0m \u001b[1;33m,\u001b[0m \u001b[1;36m1\u001b[0m\u001b[1;33m,\u001b[0m \u001b[0mN3\u001b[0m\u001b[1;33m)\u001b[0m\u001b[1;33m\u001b[0m\u001b[1;33m\u001b[0m\u001b[0m\n\u001b[0;32m      7\u001b[0m \u001b[1;33m\u001b[0m\u001b[0m\n\u001b[1;32m----> 8\u001b[1;33m \u001b[0maffiche\u001b[0m\u001b[1;33m(\u001b[0m\u001b[0me\u001b[0m\u001b[1;33m)\u001b[0m\u001b[1;33m\u001b[0m\u001b[1;33m\u001b[0m\u001b[0m\n\u001b[0m",
      "\u001b[1;32m<ipython-input-18-a57e1a8ed190>\u001b[0m in \u001b[0;36maffiche\u001b[1;34m(self)\u001b[0m\n\u001b[0;32m      8\u001b[0m         \u001b[1;32mreturn\u001b[0m \u001b[1;33m[\u001b[0m\u001b[0mself\u001b[0m\u001b[1;33m.\u001b[0m\u001b[0mvaleur\u001b[0m\u001b[1;33m,\u001b[0m \u001b[0mself\u001b[0m\u001b[1;33m.\u001b[0m\u001b[0mgauche\u001b[0m\u001b[1;33m.\u001b[0m\u001b[0maffiche\u001b[0m\u001b[1;33m(\u001b[0m\u001b[1;33m)\u001b[0m\u001b[1;33m]\u001b[0m\u001b[1;33m\u001b[0m\u001b[1;33m\u001b[0m\u001b[0m\n\u001b[0;32m      9\u001b[0m     \u001b[1;32melse\u001b[0m\u001b[1;33m:\u001b[0m\u001b[1;33m\u001b[0m\u001b[1;33m\u001b[0m\u001b[0m\n\u001b[1;32m---> 10\u001b[1;33m         \u001b[1;32mreturn\u001b[0m \u001b[1;33m[\u001b[0m\u001b[0mself\u001b[0m\u001b[1;33m.\u001b[0m\u001b[0mvaleur\u001b[0m\u001b[1;33m,\u001b[0m\u001b[0mself\u001b[0m\u001b[1;33m.\u001b[0m\u001b[0mgauche\u001b[0m\u001b[1;33m.\u001b[0m\u001b[0maffiche\u001b[0m\u001b[1;33m(\u001b[0m\u001b[1;33m)\u001b[0m\u001b[1;33m,\u001b[0m\u001b[0mself\u001b[0m\u001b[1;33m.\u001b[0m\u001b[0mdroit\u001b[0m\u001b[1;33m.\u001b[0m\u001b[0maffiche\u001b[0m\u001b[1;33m(\u001b[0m\u001b[1;33m)\u001b[0m\u001b[1;33m]\u001b[0m\u001b[1;33m\u001b[0m\u001b[1;33m\u001b[0m\u001b[0m\n\u001b[0m\u001b[0;32m     11\u001b[0m \u001b[1;33m\u001b[0m\u001b[0m\n\u001b[0;32m     12\u001b[0m \u001b[0maffiche\u001b[0m\u001b[1;33m(\u001b[0m\u001b[0mb\u001b[0m\u001b[1;33m)\u001b[0m\u001b[1;33m\u001b[0m\u001b[1;33m\u001b[0m\u001b[0m\n",
      "\u001b[1;31mAttributeError\u001b[0m: 'Arbre_binaire' object has no attribute 'affiche'"
     ]
    }
   ],
   "source": [
    "f4 = Arbre_binaire(None, 4, None)\n",
    "f5 = Arbre_binaire(None, 5, None)\n",
    "f6 = Arbre_binaire(None, 6, None)\n",
    "N2 = Arbre_binaire(f4, 2 , f5)\n",
    "N3 = Arbre_binaire(None, 3, f6)\n",
    "e = Arbre_binaire(N2 , 1, N3)\n",
    "\n",
    "affiche(e)"
   ]
  },
  {
   "cell_type": "markdown",
   "metadata": {},
   "source": [
    "Créer la méthode get_valeur(self) qui renvoie la valeur de l'arbre"
   ]
  },
  {
   "cell_type": "code",
   "execution_count": 14,
   "metadata": {},
   "outputs": [],
   "source": [
    "def get_valeur(self):\n",
    "        \"\"\"\n",
    "        Accesseur de la valeur de l'arbre\n",
    "        \"\"\"\n",
    "        return self.valeur"
   ]
  },
  {
   "cell_type": "code",
   "execution_count": 15,
   "metadata": {},
   "outputs": [
    {
     "name": "stdout",
     "output_type": "stream",
     "text": [
      "None\n",
      "3\n",
      "2\n"
     ]
    }
   ],
   "source": [
    "print(get_valeur(a))\n",
    "print(get_valeur(b))\n",
    "print(get_valeur(c))"
   ]
  },
  {
   "cell_type": "markdown",
   "metadata": {},
   "source": [
    "Créer de même les méthodes get_gauche(self) et get_droit(self) qui renvoient respectivement les fils gauche et droit du noeud"
   ]
  },
  {
   "cell_type": "code",
   "execution_count": 16,
   "metadata": {},
   "outputs": [],
   "source": [
    "def get_gauche(self):\n",
    "        \"\"\"\n",
    "        Accesseur du fils gauche\n",
    "        \"\"\"\n",
    "        return self.gauche\n",
    "    \n",
    "def get_droit(self):\n",
    "        \"\"\"\n",
    "        Accesseur du fils droit\n",
    "        \"\"\"\n",
    "        return self.droit"
   ]
  },
  {
   "cell_type": "code",
   "execution_count": 17,
   "metadata": {},
   "outputs": [
    {
     "name": "stdout",
     "output_type": "stream",
     "text": [
      "None\n",
      "None\n"
     ]
    }
   ],
   "source": [
    "print(get_gauche(c))\n",
    "print(get_droit(c))"
   ]
  },
  {
   "cell_type": "markdown",
   "metadata": {},
   "source": [
    "<h2>2. Modifier l'arbre</h2>"
   ]
  },
  {
   "cell_type": "markdown",
   "metadata": {},
   "source": [
    "Créer une méthode set_valeur(self) qui permet de modifier la valeur du noeud"
   ]
  },
  {
   "cell_type": "code",
   "execution_count": 18,
   "metadata": {},
   "outputs": [],
   "source": [
    "def set_valeur(self, valeur):\n",
    "        \"\"\"\n",
    "        Mutateur de la valeur du noeud\n",
    "        \"\"\"\n",
    "        self.valeur = valeur"
   ]
  },
  {
   "cell_type": "markdown",
   "metadata": {},
   "source": [
    "Modifier la valeur de l'arbre d pour qu'elle devienne 12.\n",
    "<img src =\"images/arbre_c.png\">"
   ]
  },
  {
   "cell_type": "code",
   "execution_count": 19,
   "metadata": {},
   "outputs": [],
   "source": [
    "set_valeur(d,12)"
   ]
  },
  {
   "cell_type": "code",
   "execution_count": 20,
   "metadata": {},
   "outputs": [
    {
     "name": "stdout",
     "output_type": "stream",
     "text": [
      "12\n"
     ]
    }
   ],
   "source": [
    "print(d.valeur)"
   ]
  },
  {
   "cell_type": "markdown",
   "metadata": {},
   "source": [
    "Créer de même les méthodes set_gauche(self) et set_droit(self) qui modifient les fils gauche ou droit du noeud."
   ]
  },
  {
   "cell_type": "code",
   "execution_count": 21,
   "metadata": {},
   "outputs": [],
   "source": [
    "def set_gauche(self, arbre):\n",
    "        \"\"\"\n",
    "        Mutateur du fils gauche\n",
    "        \"\"\"\n",
    "        self.gauche = arbre\n",
    "        \n",
    "def set_droit(self, arbre):\n",
    "        \"\"\"\n",
    "        Mutateur du fils droit\n",
    "        \"\"\"\n",
    "        self.droit = arbre\n",
    "        \n"
   ]
  },
  {
   "cell_type": "markdown",
   "metadata": {},
   "source": [
    "Modifier l'arbre d pour qu'il devienne :\n",
    "<img src =\"images/arbre_c_3.png\">"
   ]
  },
  {
   "cell_type": "code",
   "execution_count": 22,
   "metadata": {},
   "outputs": [],
   "source": [
    "set_valeur(c, 5)\n",
    "set_valeur(b, 7)\n",
    "# on peut aussi modifier les feuilles et refaire l'arbre mais c'est plus long ^^"
   ]
  },
  {
   "cell_type": "code",
   "execution_count": 19,
   "metadata": {},
   "outputs": [
    {
     "name": "stdout",
     "output_type": "stream",
     "text": [
      "12\n",
      "5\n",
      "7\n"
     ]
    }
   ],
   "source": [
    "print(get_valeur(d))\n",
    "print(get_valeur(get_gauche(d)))\n",
    "print(get_valeur(get_droit(d)))"
   ]
  },
  {
   "cell_type": "markdown",
   "metadata": {},
   "source": [
    "<h2> 3. Caractéristiques de l'arbre </h2>"
   ]
  },
  {
   "cell_type": "markdown",
   "metadata": {},
   "source": [
    "<h3> a. taille d'un arbre </h3>"
   ]
  },
  {
   "cell_type": "markdown",
   "metadata": {},
   "source": [
    "On peut déterminer, de manière récursive, la taille de l'arbre."
   ]
  },
  {
   "cell_type": "markdown",
   "metadata": {},
   "source": [
    "Quelle est la condition d'arrêt ? "
   ]
  },
  {
   "cell_type": "markdown",
   "metadata": {},
   "source": [
    "Si l'arbre est vide, on retourne 0. Si l'arbre est une feuille, on retourne 1."
   ]
  },
  {
   "cell_type": "markdown",
   "metadata": {},
   "source": [
    "Quel est l'appel récursif à effectuer (on détaillera les différents cas selon qu'il existe ou non des sous-arbres droit et gauche) ?"
   ]
  },
  {
   "cell_type": "markdown",
   "metadata": {},
   "source": [
    "taille = 1 + taille(sag) + taille(sag) s'il y a deux sous-arbres, sinon on ne traite que celui qui existe."
   ]
  },
  {
   "cell_type": "markdown",
   "metadata": {},
   "source": [
    "Ecrire le code de cette méthode."
   ]
  },
  {
   "cell_type": "code",
   "execution_count": 20,
   "metadata": {},
   "outputs": [
    {
     "ename": "AttributeError",
     "evalue": "'Arbre_binaire' object has no attribute 'taille'",
     "output_type": "error",
     "traceback": [
      "\u001b[1;31m---------------------------------------------------------------------------\u001b[0m",
      "\u001b[1;31mAttributeError\u001b[0m                            Traceback (most recent call last)",
      "\u001b[1;32m<ipython-input-20-ff758d7ce939>\u001b[0m in \u001b[0;36m<module>\u001b[1;34m\u001b[0m\n\u001b[0;32m     12\u001b[0m         \u001b[1;32mreturn\u001b[0m \u001b[1;36m1\u001b[0m \u001b[1;33m+\u001b[0m \u001b[0mself\u001b[0m\u001b[1;33m.\u001b[0m\u001b[0mgauche\u001b[0m\u001b[1;33m.\u001b[0m\u001b[0mtaille\u001b[0m\u001b[1;33m(\u001b[0m\u001b[1;33m)\u001b[0m\u001b[1;33m\u001b[0m\u001b[1;33m\u001b[0m\u001b[0m\n\u001b[0;32m     13\u001b[0m \u001b[1;33m\u001b[0m\u001b[0m\n\u001b[1;32m---> 14\u001b[1;33m \u001b[0me\u001b[0m\u001b[1;33m.\u001b[0m\u001b[0mtaille\u001b[0m\u001b[1;33m(\u001b[0m\u001b[1;33m)\u001b[0m\u001b[1;33m\u001b[0m\u001b[1;33m\u001b[0m\u001b[0m\n\u001b[0m",
      "\u001b[1;31mAttributeError\u001b[0m: 'Arbre_binaire' object has no attribute 'taille'"
     ]
    }
   ],
   "source": [
    "def taille(self):\n",
    "    if self.est_vide():\n",
    "        return 0\n",
    "        \n",
    "    if self.gauche == None and self.droit == None:\n",
    "        return 1\n",
    "       \n",
    "    elif self.gauche == None: \n",
    "        return 1 + self.droit.taille()\n",
    "        \n",
    "    else:\n",
    "        return 1 + self.gauche.taille()\n",
    "                   \n",
    "e.taille()"
   ]
  },
  {
   "cell_type": "markdown",
   "metadata": {},
   "source": [
    "<h3> b. hauteur </h3>"
   ]
  },
  {
   "cell_type": "markdown",
   "metadata": {},
   "source": [
    "Ecrire, en procédant de même, la méthode permettant de déterminer la hauteur de l'arbre."
   ]
  },
  {
   "cell_type": "markdown",
   "metadata": {},
   "source": [
    "La condition d'arrêt est : si l'arbre est une feuille, on retourne 1. </br>\n",
    "La hauteur d'un arbre vaut 1 + la plus grande des hauteurs de ses sous-arbres gauche et droit sinon.\n"
   ]
  },
  {
   "cell_type": "code",
   "execution_count": 32,
   "metadata": {},
   "outputs": [
    {
     "ename": "AttributeError",
     "evalue": "'Arbre_binaire' object has no attribute 'hauteur'",
     "output_type": "error",
     "traceback": [
      "\u001b[1;31m---------------------------------------------------------------------------\u001b[0m",
      "\u001b[1;31mAttributeError\u001b[0m                            Traceback (most recent call last)",
      "\u001b[1;32m<ipython-input-32-93c2bd11fc74>\u001b[0m in \u001b[0;36m<module>\u001b[1;34m\u001b[0m\n\u001b[0;32m     14\u001b[0m         \u001b[1;32mreturn\u001b[0m \u001b[1;36m1\u001b[0m \u001b[1;33m+\u001b[0m \u001b[0mmax\u001b[0m\u001b[1;33m(\u001b[0m\u001b[0mself\u001b[0m\u001b[1;33m.\u001b[0m\u001b[0mgauche\u001b[0m\u001b[1;33m.\u001b[0m\u001b[0mhauteur\u001b[0m\u001b[1;33m(\u001b[0m\u001b[1;33m)\u001b[0m \u001b[1;33m,\u001b[0m \u001b[0mself\u001b[0m\u001b[1;33m.\u001b[0m\u001b[0mdroit\u001b[0m\u001b[1;33m.\u001b[0m\u001b[0mhauteur\u001b[0m\u001b[1;33m(\u001b[0m\u001b[1;33m)\u001b[0m\u001b[1;33m)\u001b[0m\u001b[1;33m\u001b[0m\u001b[1;33m\u001b[0m\u001b[0m\n\u001b[0;32m     15\u001b[0m \u001b[1;33m\u001b[0m\u001b[0m\n\u001b[1;32m---> 16\u001b[1;33m \u001b[0mprint\u001b[0m\u001b[1;33m(\u001b[0m\u001b[0ma\u001b[0m\u001b[1;33m.\u001b[0m\u001b[0mhauteur\u001b[0m\u001b[1;33m(\u001b[0m\u001b[1;33m)\u001b[0m\u001b[1;33m)\u001b[0m\u001b[1;33m\u001b[0m\u001b[1;33m\u001b[0m\u001b[0m\n\u001b[0m",
      "\u001b[1;31mAttributeError\u001b[0m: 'Arbre_binaire' object has no attribute 'hauteur'"
     ]
    }
   ],
   "source": [
    "    def hauteur(self):\n",
    "        if self.est_vide():\n",
    "            return 0\n",
    "        \n",
    "        if self.gauche == None and self.droit == None:\n",
    "            return 1\n",
    "        \n",
    "        elif self.gauche == None:\n",
    "            return 1 + self.droit.hauteur()\n",
    "        \n",
    "        elif self.droit == None:\n",
    "            return 1 + self.gauche.hauteur()\n",
    "        else:\n",
    "            return 1 + max(self.gauche.hauteur() , self.droit.hauteur()) \n",
    "    \n",
    "print(a.hauteur())"
   ]
  },
  {
   "cell_type": "markdown",
   "metadata": {},
   "source": [
    "<h2> 4. Parcours d'un arbre </h2>"
   ]
  },
  {
   "cell_type": "markdown",
   "metadata": {},
   "source": [
    "<h3> a. Parcours en largeur </h3>"
   ]
  },
  {
   "cell_type": "markdown",
   "metadata": {},
   "source": [
    "Pour déterminer le parcours en largeur d'un arbre, le plus simple est d'utiliser la structure de file."
   ]
  },
  {
   "cell_type": "markdown",
   "metadata": {},
   "source": [
    "Compléter le code suivant qui implémente la méthode parcours_largeur(self)"
   ]
  },
  {
   "cell_type": "code",
   "execution_count": 95,
   "metadata": {},
   "outputs": [],
   "source": [
    "from FILE import *\n",
    "def parcours_largeur(self):\n",
    "    f = CREER_FILE_VIDE()\n",
    "    ENFILER(f,self)\n",
    "    parcours = []\n",
    "    while not EST_VIDE(f):\n",
    "        noeud_en_cours = DEFILER(f)\n",
    "        parcours.append(noeud_en_cours.valeur)\n",
    "        if noeud_en_cours.gauche != None:\n",
    "            ENFILER(f, noeud_en_cours.gauche)\n",
    "        if noeud_en_cours.droit != None:\n",
    "            ENFILER(f, noeud_en_cours.droit)\n",
    "    return parcours\n"
   ]
  },
  {
   "cell_type": "markdown",
   "metadata": {},
   "source": [
    "Tester ce programme sur les arbres déjà créés, ainsi que sur l'exemple du cours donné ci-dessous :"
   ]
  },
  {
   "cell_type": "code",
   "execution_count": 102,
   "metadata": {},
   "outputs": [],
   "source": [
    "f = Arbre_binaire(Arbre_binaire(Arbre_binaire(None,5,None),8,Arbre_binaire(None,10, None)),11, Arbre_binaire(Arbre_binaire(None,13,None),14,Arbre_binaire(None,15,None)))"
   ]
  },
  {
   "cell_type": "markdown",
   "metadata": {},
   "source": [
    "<h3>b. Parcours en profondeur préfixe </h3>"
   ]
  },
  {
   "cell_type": "markdown",
   "metadata": {},
   "source": [
    "Dans un parcours en profondeur préfixe, on effectue le parcours de chaque noeud avant d'explorer le sous-arbre correspondant. </br>\n",
    "Ce parcours s'implémente de manière récursive de la façon suivante :\n"
   ]
  },
  {
   "cell_type": "code",
   "execution_count": 99,
   "metadata": {},
   "outputs": [
    {
     "ename": "SyntaxError",
     "evalue": "invalid syntax (<ipython-input-99-4621367a5959>, line 1)",
     "output_type": "error",
     "traceback": [
      "\u001b[1;36m  File \u001b[1;32m\"<ipython-input-99-4621367a5959>\"\u001b[1;36m, line \u001b[1;32m1\u001b[0m\n\u001b[1;33m    Parcours_Prefixe(Arbre):\u001b[0m\n\u001b[1;37m                            ^\u001b[0m\n\u001b[1;31mSyntaxError\u001b[0m\u001b[1;31m:\u001b[0m invalid syntax\n"
     ]
    }
   ],
   "source": [
    "Parcours_Prefixe(Arbre):\n",
    "    Afficher la racine de Arbre\n",
    "    pour tous les enfants e de la racine:\n",
    "        Parcours_Prefixe(sous_Arbre issu de e)"
   ]
  },
  {
   "cell_type": "markdown",
   "metadata": {},
   "source": [
    "Adapter cet algorithme dans le cas d'un arbre binaire."
   ]
  },
  {
   "cell_type": "code",
   "execution_count": 100,
   "metadata": {},
   "outputs": [
    {
     "ename": "SyntaxError",
     "evalue": "invalid syntax (<ipython-input-100-6931c6e63ea9>, line 1)",
     "output_type": "error",
     "traceback": [
      "\u001b[1;36m  File \u001b[1;32m\"<ipython-input-100-6931c6e63ea9>\"\u001b[1;36m, line \u001b[1;32m1\u001b[0m\n\u001b[1;33m    Parcours_Prefixe(Arbre_Binaire):\u001b[0m\n\u001b[1;37m                                    ^\u001b[0m\n\u001b[1;31mSyntaxError\u001b[0m\u001b[1;31m:\u001b[0m invalid syntax\n"
     ]
    }
   ],
   "source": [
    "Parcours_Prefixe(Arbre_Binaire):\n",
    "    Afficher la racine de Arbre_Binaire\n",
    "    si on a un sous-arbre gauche :\n",
    "        ajouter Parcours_Prefixe(sous-arbre gauche)\n",
    "    si on a un sous-arbre droit :\n",
    "        ajouter Parcours_Prefixe(sous-arbre droit)"
   ]
  },
  {
   "cell_type": "markdown",
   "metadata": {},
   "source": [
    "Implémenter cette méthode en Python."
   ]
  },
  {
   "cell_type": "code",
   "execution_count": 101,
   "metadata": {},
   "outputs": [],
   "source": [
    "    def parcours_prefixe(self):\n",
    "        parcours = []\n",
    "        parcours.append(self.valeur)\n",
    "        if self.gauche != None:\n",
    "            parcours.append(self.gauche.parcours_prefixe())\n",
    "        if self.droit != None:\n",
    "            parcours.append(self.droit.parcours_prefixe())\n",
    "        return parcours"
   ]
  },
  {
   "cell_type": "markdown",
   "metadata": {},
   "source": [
    "Tester ce programme sur les arbres déjà créés, ainsi que sur l'exemple du cours."
   ]
  },
  {
   "cell_type": "code",
   "execution_count": null,
   "metadata": {},
   "outputs": [],
   "source": []
  },
  {
   "cell_type": "markdown",
   "metadata": {},
   "source": [
    "<h3> c. Parcours postfixe </h3>"
   ]
  },
  {
   "cell_type": "markdown",
   "metadata": {},
   "source": [
    "Dans un parcours en profondeur postfixe, on effectue le parcours de chaque noeud après avoir exploré le sous-arbre correspondant. </br>\n",
    "Ce parcours s'implémente de manière récursive de la façon suivante :"
   ]
  },
  {
   "cell_type": "code",
   "execution_count": 104,
   "metadata": {},
   "outputs": [
    {
     "ename": "SyntaxError",
     "evalue": "invalid syntax (<ipython-input-104-95a47f681636>, line 1)",
     "output_type": "error",
     "traceback": [
      "\u001b[1;36m  File \u001b[1;32m\"<ipython-input-104-95a47f681636>\"\u001b[1;36m, line \u001b[1;32m1\u001b[0m\n\u001b[1;33m    ParcoursPostfixe(arbre):\u001b[0m\n\u001b[1;37m                            ^\u001b[0m\n\u001b[1;31mSyntaxError\u001b[0m\u001b[1;31m:\u001b[0m invalid syntax\n"
     ]
    }
   ],
   "source": [
    "ParcoursPostfixe(arbre):\n",
    "    Pour tous les enfants e de la racine de arbre:\n",
    "        Parcours_postfixe(Sous-arbre issu de e)\n",
    "    Afficher la racine de arbre"
   ]
  },
  {
   "cell_type": "markdown",
   "metadata": {},
   "source": [
    "Adapter cet algorithme dans le cas d'un arbre binaire."
   ]
  },
  {
   "cell_type": "code",
   "execution_count": 106,
   "metadata": {},
   "outputs": [
    {
     "ename": "IndentationError",
     "evalue": "unindent does not match any outer indentation level (<tokenize>, line 6)",
     "output_type": "error",
     "traceback": [
      "\u001b[1;36m  File \u001b[1;32m\"<tokenize>\"\u001b[1;36m, line \u001b[1;32m6\u001b[0m\n\u001b[1;33m    Afficher la racine de Arbre_Binaire\u001b[0m\n\u001b[1;37m    ^\u001b[0m\n\u001b[1;31mIndentationError\u001b[0m\u001b[1;31m:\u001b[0m unindent does not match any outer indentation level\n"
     ]
    }
   ],
   "source": [
    "Parcours_Postfixe(Arbre_Binaire):\n",
    "    si on a un sous-arbre gauche :\n",
    "        ajouter Parcours_Postfixe(sous-arbre gauche)\n",
    "    si on a un sous-arbre droit :\n",
    "        ajouter Parcours_Postfixe(sous-arbre droit)\n",
    "    Afficher la racine de Arbre_Binaire"
   ]
  },
  {
   "cell_type": "markdown",
   "metadata": {},
   "source": [
    "Implémenter cette méthode."
   ]
  },
  {
   "cell_type": "code",
   "execution_count": 107,
   "metadata": {},
   "outputs": [],
   "source": [
    "    def parcours_postfixe(self):\n",
    "        parcours = []\n",
    "        if self.gauche != None:\n",
    "            parcours.append(self.gauche.parcours_postfixe())\n",
    "        if self.droit != None:\n",
    "            parcours.append(self.droit.parcours_postfixe())\n",
    "        parcours.append(self.valeur)\n",
    "        return parcours"
   ]
  },
  {
   "cell_type": "code",
   "execution_count": null,
   "metadata": {},
   "outputs": [],
   "source": []
  }
 ],
 "metadata": {
  "kernelspec": {
   "display_name": "Python 3",
   "language": "python",
   "name": "python3"
  },
  "language_info": {
   "codemirror_mode": {
    "name": "ipython",
    "version": 3
   },
   "file_extension": ".py",
   "mimetype": "text/x-python",
   "name": "python",
   "nbconvert_exporter": "python",
   "pygments_lexer": "ipython3",
   "version": "3.8.5"
  }
 },
 "nbformat": 4,
 "nbformat_minor": 4
}
