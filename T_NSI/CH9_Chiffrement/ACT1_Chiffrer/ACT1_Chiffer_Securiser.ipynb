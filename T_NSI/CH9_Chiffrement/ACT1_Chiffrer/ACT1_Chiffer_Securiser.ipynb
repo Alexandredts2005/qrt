{
 "cells": [
  {
   "attachments": {},
   "cell_type": "markdown",
   "metadata": {
    "id": "GMSNXgt40AK0"
   },
   "source": [
    "# ACT1 Chiffrer pour sécuriser les échanges\n",
    "\n",
    "|Comp.| Description :|\n",
    "|-|-|\n",
    "|ANA|Décrire et spécifier les caractéristiques d’un processus, les données d’un problème, ou celles manipulées par un algorithme ou une fonction|\n",
    "|REA|Concevoir, décrire une structure de données permettant de résoudre le problème|\n",
    "|VAL|Justifier et critiquer une solution par évaluation, contrôle, et validation du code|\n",
    "\n",
    "\n",
    "\n",
    "\n",
    "\n",
    "## La sécurité : un jeu de Cache-Cache\n",
    "\n",
    "![](https://upload.wikimedia.org/wikipedia/commons/thumb/4/4d/Lorenz-SZ42-2.jpg/220px-Lorenz-SZ42-2.jpg)"
   ]
  },
  {
   "cell_type": "markdown",
   "metadata": {
    "id": "ABK8DhMzqHGu"
   },
   "source": [
    "La \"**cryptographie**\" est l'art de transmettre des messages chiffrés. Depuis des temps forts lointains, ils sont au rang de l'arsenal militaire, le vainqueur étant très souvent celui dont les services de chiffrement ou les crytanalystes prennent le pas sur l'adversaire.\n",
    "\n",
    "Aujourd'hui, le chiffrement est indispensable pour la sécurité des réseaux informatiques, des données de santé, des opérations bancaires, de la blockchain, etc.\n",
    "Les systèmes actuels n'ont pas encore été craqués, mais l'arrivée des ordinateurs quantiques va peut-être changer la donne.\n",
    "\n",
    "\n",
    "\n"
   ]
  },
  {
   "attachments": {},
   "cell_type": "markdown",
   "metadata": {
    "id": "fZFvSbLiF2gz"
   },
   "source": [
    "***Petit point de vocabulaire*** :\n",
    "\n",
    "* **Code** : un protocole utilisé pour communiquer des informations. Par exemple, la traduction d'un mot en suites de 0 et de 1 pour qu'il soit traitable par un ordinateur est un code. Le morse est un autre code inventé au XIX<sup>ème</sup> siècle pour envoyer des messages par télégraphie. **Coder**, c'est transformer l'information selon ce protocole.\n",
    "\n",
    "*Exemple : le code Morse*\n",
    "<table>\n",
    "    <tr>\n",
    "        <td><img src=\"img/morse.jpg\" width=\"200\" height=\"160\" /> </td>\n",
    "        <td><i>... ou plutôt...</i></td>\n",
    "        <td><img src=\"img/morse_code.png\" width=\"30%\" /></td>\n",
    "    </tr>\n",
    "</table>\n",
    "\n",
    "* **Chiffrer** consiste à appliquer un algorithme, en utilisant une **clé de chiffrement** pour transformer un **message en clair** en un message illisible de qui ne connaît pas l'algorithme ni la clé. **Déchiffrer**, c'est revenir, connaissant l'algorithme et la **clé de déchiffrement** (qui n'est pas forcément la même que la clé de chiffrement), au message en clair.\n",
    "\n",
    "* **Crypter** recouvre les deux : coder et chiffrer, ainsi que les techniques de **stéganographie** qui consistent à cacher l'information en la gardant pourtant visible aux yeux de tous. \n",
    "\n"
   ]
  },
  {
   "cell_type": "markdown",
   "metadata": {
    "id": "S66RlOt8XzdU"
   },
   "source": [
    "La stéganographie numérique permet aussi aujourd'hui, de cacher un message, voir un document, à l'intérieur d'une image, ou une image à l'intérieur d'un fichier son... en fait, tout dans n'importe quoi.\n",
    "\n",
    "Pour de plus amples informations, on lira avec profit la page suivante, issue de l'excellent site *S'Cape* :\n",
    "https://scape.enepe.fr/steganographie.html"
   ]
  },
  {
   "attachments": {},
   "cell_type": "markdown",
   "metadata": {
    "id": "P5idD5kcojEs"
   },
   "source": [
    "## Le Chiffre de César\n",
    "\n",
    "\n",
    "<img src=\"https://i.pinimg.com/originals/94/5c/4a/945c4ac61c635982192440c590446aa9.jpg\" width=\"200\" height=\"200\" />\n",
    "\n",
    "### 1. Le principe : décalage alphabétique \n",
    "\n",
    "Le \"Chiffre de César\" est un système utilisé par l'Empereur Romain en question. \n",
    "\n",
    "Il s'agit d'un simple décalage de l'alphabet : toutes les lettres sont décalées du même nombre de caractères, la \"**clé**\"."
   ]
  },
  {
   "cell_type": "code",
   "execution_count": null,
   "metadata": {
    "id": "ZHpCO5G9o0pH"
   },
   "outputs": [],
   "source": [
    "def cesar(message, cle, sens):\n",
    "    \"\"\" Chiffre ou déchiffre un message en fonction la clé. \n",
    "        Entrées : \n",
    "            message (str) --> message clair ou chiffré\n",
    "            cle (int) --> nombre de décalage de lettre\n",
    "            sens (int signé) -->  +1 pour chiffrement, -1 pour déchiffrement\n",
    "        Sortie :\n",
    "            resultat (str) --> message chiffré ou déchiffré selon le cas\n",
    "    \"\"\"\n",
    "\n",
    "    resultat = \"\"\n",
    "\n",
    "    for caractere in message :\n",
    "        if caractere == \" \":\n",
    "            resultat = resultat + \" \"\n",
    "        \n",
    "        else :\n",
    "            code_lettre = ord(caractere) + sens*cle     # Décalage du nombre de lettre correspondant à la clé\n",
    "                                                        # (ord renvoie le code ASCII du caractère)\n",
    "            if code_lettre > 90 : # on a depasse vers la droite le code du Z\n",
    "                code_lettre = code_lettre - 26 # donc on repart du A vers la droite (boucle)\n",
    "\n",
    "            if code_lettre < 65 : # on a dépasse vers la gauche le code du A\n",
    "                code_lettre = code_lettre + 26 # on repart du Z vers la gauche\n",
    "\n",
    "            resultat = resultat + chr(code_lettre) # on concatene la lettre obtenue\n",
    "            \n",
    "    return resultat"
   ]
  },
  {
   "cell_type": "markdown",
   "metadata": {
    "id": "bmLXsaCNnF0s"
   },
   "source": [
    "Avec un extrait de la \"Guerre des Gaules\"..."
   ]
  },
  {
   "cell_type": "code",
   "execution_count": null,
   "metadata": {
    "colab": {
     "base_uri": "https://localhost:8080/",
     "height": 52
    },
    "id": "SsJzW1pXpUbx",
    "outputId": "0a47e0cf-39c1-4bd1-aec0-349a8be06d2c"
   },
   "outputs": [],
   "source": [
    "message = \"RWBCADRC MN LNB NENWNVNWCB NC ANMXDCJWC UJ OJRKUNBBN MNB PJDUXRB ZD RU LXWWJRBBJRC BR VXKRUNB MJWB UNDAB ANBXUDCRXWB NC JERMNB MN WXDENJDCNB LNBJA WN LADC YJB MNEXRA BN ORNA J NDG\"\n",
    "\n",
    "# A déchiffrer ... !\n"
   ]
  },
  {
   "attachments": {},
   "cell_type": "markdown",
   "metadata": {
    "id": "0UvV3Ua70AK8"
   },
   "source": [
    "### 2. Fréquence d'apparition des lettres dans un texte\n",
    "\n",
    "Mais comment procéder quand on ne connaît pas la clé de chiffrement ?\n",
    "\n",
    "On doit alors **décrypter** le message.\n",
    "\n",
    "Une idée simple pour découvrir la clé est de chercher dans le message chiffré la lettre la plus fréquente, il y a alors de bonnes chances qu'elle corresponde au \"E\" dans le texte en clair, lettre la plus fréquente dans la langue française.\n",
    "\n",
    "**A FAIRE :**\n",
    "1. Coder les deux fonctions ci-dessous ```calcul_frequences()``` et ```analyse_frequences()``` permettant de trouver le clé et de décrypter un message codé par le \"code de César\".\n",
    "2. Le tester sur d'autres messages codés.\n",
    "3. Conclure sur la fiabilité du code de César.\n"
   ]
  },
  {
   "cell_type": "code",
   "execution_count": null,
   "metadata": {
    "id": "QjeyRJlk0ALE"
   },
   "outputs": [],
   "source": [
    "import matplotlib.pyplot as plt\n",
    "\n",
    "\n",
    "def diagramme_barres(frequences_observees):\n",
    "    \"\"\" Affiche frequences_observees et frequences_theoriques sur le même graphique \n",
    "        Entrée :\n",
    "            frequences_observees (list): liste des fréquences observées (float) pour chaque lettres ordre alpha\n",
    "        Sortie : \n",
    "            Graphique matplotlib Fréquences en fct d'alphabet \n",
    "    \"\"\"\n",
    "    alphabet = [lettre for lettre in \"ABCDEFGHIJKLMNOPQRSTUVWXYZ\"]\n",
    "    frequences_theoriques = [0.084, 0.0106, 0.0303, 0.0418, 0.1726, 0.0112, 0.0127, 0.0092, 0.0734, 0.0031, 0.0005,\\\n",
    "                             0.0601, 0.0296, 0.0713, 0.0526, 0.0301, 0.0099, 0.0655, 0.0808, 0.0707, 0.0574, 0.0132,\\\n",
    "                             0.0004, 0.0045, 0.003, 0.0012]\n",
    "\n",
    "    plt.bar(alphabet, frequences_observees, color = 'red', width = 0.2, alpha = 0.6, label = 'frequences observees')\n",
    "    plt.bar(alphabet, frequences_theoriques,color = 'blue', width = 0.5, alpha = 0.1, label = 'frequences francais')\n",
    "    plt.title(\"Fréquence d'apparition de chaque lettre dans le texte\")\n",
    "    plt.legend()\n",
    "    plt.show()\n",
    "    \n",
    "\n",
    "def calcul_frequences(texte) : \n",
    "    \"\"\" Renvoie frequences_texte qui sont les fréquences d'apparition de chaque lettres du texte\n",
    "        Entrée :\n",
    "            texte (str) --> texte chiffré\n",
    "        Sortie:\n",
    "            frequences_texte (list) --> liste des fréquences de chacun des caractères du texte chiffré\n",
    "    \"\"\"\n",
    "diagramme_barres()\n",
    "    \n",
    "def analyse_frequences(texte):\n",
    "    \"\"\" Renvoie la clé probable \n",
    "        Entrée :\n",
    "            texte (str) --> texte chiffré\n",
    "        Sortie :(8bits) ,\\\n",
    "                        0.0132, 0.0004, 0.0045, 0.003, 0.0012]\n",
    "            cle (int) --> clé probable à partir des fréquences\n",
    "    \"\"\"\n",
    "   \n",
    "\n",
    "    \n",
    "    pass\n"
   ]
  },
  {
   "cell_type": "code",
   "execution_count": null,
   "metadata": {
    "colab": {
     "base_uri": "https://localhost:8080/",
     "height": 353
    },
    "id": "e1YbnrkL0ALU",
    "outputId": "2cc06979-e0a0-4993-e1af-9974bf847952"
   },
   "outputs": [],
   "source": [
    "message = \"RWBCADRC MN LNB NENWNVNWCB NC ANMXDCJWC UJ OJRKUNBBN MNB PJDUXRB ZD RU LXWWJRBBJRC BR VXKRUNB MJWB UNDAB ANBXUDCRXWB NC JERMNB MN WXDENJDCNB LNBJA WN LADC YJB MNEXRA BN ORNA J NDG\"\n"
   ]
  },
  {
   "cell_type": "code",
   "execution_count": null,
   "metadata": {
    "id": "IXOpjX8k0ALq"
   },
   "outputs": [],
   "source": [
    "# on vérifie avec la clé trouvée :\n",
    "#..."
   ]
  },
  {
   "cell_type": "markdown",
   "metadata": {
    "id": "tpOHY2nIs8sc"
   },
   "source": [
    "## Le chiffrement XOR"
   ]
  },
  {
   "attachments": {},
   "cell_type": "markdown",
   "metadata": {
    "id": "RMANgPVttSVw"
   },
   "source": [
    "\n",
    "On peut être un peu plus efficace que le \"code de César\" en utilisant une autre ***fonction de chiffrement***. En effet, pour le \"code de César\" la fonction de chiffrement est une fonction ***décalage***.\n",
    "\n",
    "Maintenant, nous allons tester une fonction ***XOR***, ou *ou exclusif*.\n",
    "\n",
    "- Message :  \"CHUCK NORRIS A DEJA COMPTE JUSQU'A L'INFINI, DEUX FOIS.\"\n",
    "- Clé : \"NSI\"\n",
    "\n",
    "### Méthode de chiffrement :\n",
    "\n",
    " - On recopie plusieurs fois la clé pour obtenir une chaîne de la même longueur que le message\n",
    " - Chaque caractère de la chaîne et du message est transformé en nombre (valeur binaire)\n",
    " - On effectue l'opération XOR entre chaque nombre de la chaîne et du message correspondants.\n",
    "\n",
    "**A FAIRE :**\n",
    "\n",
    "1. Rappeler la table de vérité du **XOR**\n",
    "2. Compléter la chaîne\n",
    "3. Tester cette méthode de chiffrement avec le message et la clé proposée\n",
    "4. Conclure sur la facilité de décryptage et sur l'utilisation pour sécuriser les données échangées ?\n",
    "\n",
    "\n",
    "*__Aide :__*\n",
    "\n",
    "\n",
    "*Créer d'abord une fonction ```conversion()``` pour convertir en liste de valeurs hexadécimales des caractères ASCII avec ```ord()```, puis en une liste de valeurs binaires avec ```bin()```.*\n",
    "\n",
    "*Créer une fonction pour créer la chaîne de clés ainsi que sa conversion en valeurs binaires.*\n",
    "\n",
    "*Créer ensuite une fonction ```chiffreXOR(message, cle)``` pour obtenir le message chiffré.*"
   ]
  },
  {
   "cell_type": "code",
   "execution_count": null,
   "metadata": {},
   "outputs": [],
   "source": [
    " # Table de vérité du XOR :\n",
    "\n",
    "\n",
    "\n"
   ]
  },
  {
   "cell_type": "code",
   "execution_count": null,
   "metadata": {
    "id": "MK0GdY020AL_"
   },
   "outputs": [],
   "source": [
    "message = \"CHUCK NORRIS A DEJA COMPTE JUSQU'A L'INFINI, DEUX FOIS.\"\n",
    "\n",
    "# chaine =  ...        # A compléter  "
   ]
  },
  {
   "cell_type": "code",
   "execution_count": null,
   "metadata": {
    "colab": {
     "base_uri": "https://localhost:8080/",
     "height": 34
    },
    "id": "1V9-F-RA0AMT",
    "outputId": "d2a2e457-4d37-4844-ba4e-99324e30aa80"
   },
   "outputs": [],
   "source": [
    "def conversion(texte):\n",
    "    \"\"\" Renvoie la liste des lettres du texte en valeur binaire (8bits)  \n",
    "        Entrée : \n",
    "            texte (str) --> texte à chiffrer\n",
    "        Sortie :\n",
    "            liste_lettres (list) --> liste des valeurs binaires (8bits) des lettres du texte\n",
    "    \"\"\"\n",
    "    \n",
    "    pass\n",
    "    "
   ]
  },
  {
   "cell_type": "code",
   "execution_count": null,
   "metadata": {},
   "outputs": [],
   "source": [
    "def chaine_cle(cle, texte):\n",
    "    \"\"\" Crée la chaîne de clé de même longueur que le texte à chiffrer \n",
    "        Entrée : \n",
    "            cle (str) --> chaîne de caractère formant la clé\n",
    "            texte (str) --> texte à chiffrer\n",
    "        Sortie :\n",
    "            chaine (str) --> chaîne de caractère répétant la clé de même longueur\n",
    "                            que le texte à chiffrer\n",
    "    \"\"\"\n",
    "\n",
    "    pass\n",
    "\n"
   ]
  },
  {
   "cell_type": "code",
   "execution_count": null,
   "metadata": {
    "id": "0w2KNORC0AMo"
   },
   "outputs": [],
   "source": [
    "def chiffreXOR(message, cle):\n",
    "    \"\"\" Renvoie la liste des valeurs binaires chiffrées en XOR\n",
    "        Entrée :\n",
    "            message (str) --> message à chiffrer\n",
    "            cle (str) --> chaîne de caractères servant de clé de chiffrement\n",
    "        Sortie :\n",
    "            message_chiffre (list) --> liste des valeurs binaires (8bits) du message chiffré\n",
    "    \"\"\"\n",
    "    \n",
    "\n",
    "\n",
    "    pass\n",
    "\n"
   ]
  },
  {
   "cell_type": "markdown",
   "metadata": {
    "colab": {
     "base_uri": "https://localhost:8080/",
     "height": 506
    },
    "id": "XzfAiTO70AM2",
    "outputId": "0db4f0d5-52df-4be5-8a18-110f371fea0f"
   },
   "source": [
    "## Application : le Hash pour les mots de passe\n",
    "\n",
    "Vos mots de passe pour vous connecter à votre compte Insta, ou tout autre service necessitant une authentification ne sont normalement pas stockés directement dans un fichier. Le risque de fuite serait trop important.\n",
    "\n",
    "Normalement, seul un hash de votre mot de passe est enregistré sur un ordinateur : un hash est une suite de caractères de taille fixe associée à une chaîne quelconque. Par exemple, le hash (pour l'algorithme SHA1) de la chaîne :\n",
    "\n",
    "       \"J'aime les pizzas.\"\n",
    "est\n",
    "\n",
    "       \"ac4f7e9c94319a21136f8e5f9189bdaf7899c25e\"\n",
    "\n",
    "Sans majuscule, \n",
    "\n",
    "       \"j'aime les pizzas.\"\n",
    "le hash devient \n",
    "\n",
    "       \"2edba57751b915a8dd8d562e1179265f5d16088c\"\n",
    "       \n",
    "Autrement, même pour un changement minime de la chaîne de départ, le message chiffré n'a plus rien à voir !\n",
    "La force des algorithmes de hashage est que **le risque de cryptanalyse devient donc très faible**.\n",
    "\n",
    " Les fonctions de hash utilisées en cryptographie sont toujours faciles (rapide) à calculer, mais elles doivent vérifient )les propriétés suivantes :\n",
    "\n",
    "    - il est très difficile de trouver une chaîne ayant un hash donné,\n",
    "    - il est très difficile de modifier une chaîne sans modifier son hash,\n",
    "    - il est très difficile de trouver deux chaînes avec le même hash.\n",
    "\n",
    "Les algorithmes de hashage les plus connus sont :\n",
    "\n",
    "    MD (mais cet algorithme n'est plus sûr)\n",
    "    SHA1\n",
    "    SHA256 (utilisé pour les blockchain des Bitcoin)\n",
    "    SHA512\n"
   ]
  },
  {
   "attachments": {},
   "cell_type": "markdown",
   "metadata": {},
   "source": [
    "**Craquer le mot de passe** \n",
    "\n",
    "Si on possède le hash d'un mot de passe, on peut essayer de retrouver le mot de passe en essayant toutes les possibilités.\n",
    "\n",
    "En général, il est intéressant de commencer par les mots du dictionnaire. Le fichier ```dico.txt``` contient les mots du dictionnaire \"le Littré\" qui ne contiennent pas d'accent. Il contient 47666 mots...\n",
    "\n",
    "**A FAIRE :**\n",
    "Le code Python suivant permet de tester tous les mots de ce fichier et de comparer leur hash avec un hash passé en argument : \n",
    "\n",
    "1.  A l'aide de cette fonction, retrouver le mot correspondant au hash ``` \"11f48731001d3a8e81b2305036b5cb2a19309d7fe86983e05fe16a2cb900e522\"```\n",
    "    \n",
    "2. Maintenant, on a modifié le hasch avec une majuscule à la dernière lettre et le \"l\" du mot est remplacé par  \"1\". Le hash obtenu est :\n",
    "    \n",
    "    ```\"2a2ec0d82a404e4bb0988ea6998f4ad5d0e8e87df2cb6a288e6191a75f658406\"```\n",
    "    \n",
    "    Retrouver le mot de passe, et comparer le temps de calcul."
   ]
  },
  {
   "cell_type": "code",
   "execution_count": null,
   "metadata": {},
   "outputs": [],
   "source": [
    "import hashlib\n",
    "\n",
    "def attaque_dico_hash(hash, dic):\n",
    "    \"\"\" Attaque force brute pour trouver le mot correspondant au message chiffré (hash)\n",
    "        Entree :\n",
    "            hash (str) --> message chiffré par \"hashage\"\n",
    "            dic (fichier .txt) --> fichier .TXT comprenant un mot par ligne\n",
    "        Sortie : \n",
    "            simple message pour dire si le mot est trouvé ou pas\n",
    "    \"\"\"\n",
    "    \n",
    "    dico = open(dic, mode=\"r\")\n",
    "    n = 0   # compter le nombre de mots\n",
    "\n",
    "    for mot in dico:\n",
    "        mot = mot.strip()\n",
    "        n = n + 1\n",
    "        mot_hash = hashlib.sha256(mot.encode()).hexdigest()  # hash du mot du dico\n",
    "\n",
    "        if mot_hash == hash:    # comparaison avec le hash d'entrée\n",
    "            dico.close()\n",
    "            return \"TROUVÉ ! Le mot \" + mot \n",
    "\n",
    "        if n % 1000 == 0:           # compteur de 1000 en 1000 pour voir où en en est\n",
    "            print(n, \" \", end=\"\")\n",
    "   \n",
    "    return str(n) + \" mots ont été testés, mais le hash ne correspond pas  :-( \"\n"
   ]
  },
  {
   "attachments": {},
   "cell_type": "markdown",
   "metadata": {
    "id": "0kpP-lqvRd9Z"
   },
   "source": [
    "### POUR ALLER PLUS LOIN : HTTPS et chiffrement RSA\n",
    "\n",
    "\n",
    "Petit retour sur le protocole HTTP : un client effectue une requête HTTP vers un serveur, le serveur va alors répondre à cette requête (par exemple en envoyant une page HTML au client).\n",
    "\n",
    "<p style=\"text-align:center;\"><img src=\"img/nsi_term_secu_5.png\"></p>\n",
    "\n",
    "Le protocole HTTP pose 2 problèmes en termes de sécurité informatique :\n",
    "\n",
    "1. Un individu qui intercepterait les données transitant entre le client et le serveur pourrait les lire sans aucun problème (ce qui serait problématique notamment avec un site de e-commerce au moment où le client envoie des données bancaires)\n",
    "2. Grâce à une technique qui ne sera pas détaillée ici (le DNS spoofing), un serveur \"pirate\" peut se faire passer pour un site sur lequel vous avez l'habitude de vous rendre en toute confiance...\n",
    "\n",
    "<p style=\"text-align:center;\"><img src=\"img/nsi_term_secu_6.png\"></p>\n",
    "\n",
    "\n",
    "**La solution : HTTPS**\n",
    "\n",
    "Le protocole HTTPS sera chiffré grâce à une paire clé publique / clé privée basé sur le chiffrement **RSA**.\n",
    "\n",
    "\n",
    "Il faut attendre 1977 pour que, Ronald **R**IVEST, Adi **S**HAMIR et Leonard **A**DLEMAN mettent la dernière touche à un système qui va révolutionner le monde de la crytographie : enfin un **système asymétrique**...\n",
    "\n",
    "Le principe utilise les nombres premiers, les très grands nombres premiers. Multiplier deux d'entre eux prend seulement quelques dixièmes de seconde aux processeurs d'aujourd'hui, mais faire le chemin inverse est extrêmement difficile.\n",
    "\n",
    "Par exemple, sauriez-vous trouver la \"**factorisation**\" de ce nombre : \n",
    "\n",
    "175 828 273 ?\n",
    "\n",
    "...\n",
    "\n",
    "C'est seulement 10 247 x 17 159, deux \"tout petits\" nombres premiers... \n",
    "\n",
    "Si l'on avait pris des nombres premiers de l'ordre de $10^{65}$, il faudrait à peu près 50 ans pour factoriser leur produit, de l'ordre de $10^{130}$. Avec un produit de l'ordre de $10^{300}$, il faudrait plus de 1000 ans à 100 millions d'ordinateurs pour le casser (c'est à peu près le niveau de sécurité des systèmes bancaires actuels.)\n"
   ]
  },
  {
   "attachments": {},
   "cell_type": "markdown",
   "metadata": {
    "id": "pzI71LAoWflD"
   },
   "source": [
    "---\n",
    "\n",
    "### Le principe\n",
    "\n",
    "Imaginons que le client ait choisi les deux nombres premiers précédents, appelons-les **p** et **q** et appelons **N** leur produit, il dispose alors de sa \"**clé publique**\" qu'il peut divulguer à la planète entière. \n",
    "Ce grand nombre est passé dans une fonction arithmétique de laquelle il est impossible de revenir en arrière.\n",
    "\n",
    "Pour chiffrer une réponse pour le client, le serveur va récupérer la clé publique du client et l'insérer dans la fonction à sens unique, elle aussi connue de tous, il obtient une fonction \"spéciale client\". Il y insère sa réponse, en note le résultat et l'envoie au client.\n",
    "\n",
    "---\n"
   ]
  },
  {
   "attachments": {},
   "cell_type": "markdown",
   "metadata": {
    "id": "6pI6shi7aPsu"
   },
   "source": [
    "**Un exemple simplifié**\n",
    "\n",
    "1. Le client choisit deux nombres premiers p et q. Ces nombres devraient être géants, mais pour la simplicité de l'exercice, nous prendrons **p = 17** et **q = 11**.\n",
    "\n",
    "2. Il calcule leur produit **N** = 17x11 **= 187**. Il choisit un autre nombre, e, pour que le nombre e + (p-1)x(q-1) soit un nombre premier relatif (c'est technique, mais pas si compliqué...). Ici, prenons **e = 7** ( on a bien 7 + (17-1)x(11-1) = 167, premier)\n",
    "\n",
    "3. Le client peut maintenant divulguer e et N : étant nécessaire pour le chiffrement, il doivent être disponibles à tous. Il forment la **clé publique** du client.\n",
    "\n",
    "4. Pour crypter son message, le serveur doit d'abord le traduire en bits, selon le code ASCII, bits qui consituent l'écriture décimale d'un nombre M. \n",
    "Par exemple, si le serveur veut envoyer au client le message **\"X\"** , en ASCII, cette lettre a pour code 10110000, qui en décimal, vaut 88. Donc **M = 88**.\n",
    "\n",
    "5. Le serveur passe alors ce nombre dans sa fonction \"spéciale client\", après avoir récupéré sa clé publique (N et e) : (\"mod\" désigne la fonction \"modulo\", reste dans la division euclidienne, % en Python...)\n",
    "\n",
    "$C = M ^e (mod N)$ soit $C = 88^7 (mod 187)$\n",
    "\n",
    "6. Quelques propriétés arithmétiques permettent d'améliorer cette opération, qui serait sans cela fort compliquée : puisque 7 = 4+2+1, on a :\n",
    "\n",
    "$88^7 (mod 187) = [88^4 (mod 187) . 88^2 (mod 187) . 88^1 (mod 187) ] (mod 187) $\n",
    "\n",
    "avec :\n",
    "\n",
    "$88^1 = 88 = 88 (mod 187)$\n",
    "\n",
    "$88^2 = 7744 = 77 (mod 187)$\n",
    "\n",
    "$88^4 = 59969536 = 132 (mod 187)$\n",
    "\n",
    "et donc, $88^7 (mod 187) = 88 . 77 . 132 (mod 187) = 894432 (mod 187) = 11$\n",
    "\n",
    "Le serveur renvoie donc au client le message chiffré **C = 11**...\n",
    "\n"
   ]
  },
  {
   "attachments": {},
   "cell_type": "markdown",
   "metadata": {
    "id": "aOsRqpkThH_l"
   },
   "source": [
    "7. Comme l'exponentielle-modulo est impossible à inverser si on ne dispose pas des informations nécessaires, même si un individu mal intentionné intercepte le message \"11\", il ne saura rien en faire...\n",
    "\n",
    "8. Le client, par contre, peut inverser cette fonction : il calcule un nombre \"d\", selon la formule suivante :\n",
    "\n",
    "$e . d = 1 (mod (p-1).(q-1))$\n",
    "\n",
    "Soit ici : $7d = 1 mod(16.10) = 1 (mod 160)$\n",
    "\n",
    "d'où $d = 23$ ( que l'on trouve assez simplement avec l'algorithme d'Euclide étendu)\n",
    "\n",
    "9. Pour déchiffrer le message du serveur, le client applique les formules suivantes : \n",
    "\n",
    "$M = C^d (mod N)$\n",
    "\n",
    "$M = 11^{23} (mod 187) = [11^1 (mod 187) . 11^2 (mod 187) .11^4 (mod 187) . 11^{16} (mod 187)] (mod 187)$\n",
    "\n",
    "$M = 11 . 121 . 55 . 154 (mod 187) = 88$\n",
    "\n",
    "en binaire, 88 s'écrit 1011000, qui correspond à la lettre \"X\" !!!\n"
   ]
  },
  {
   "cell_type": "markdown",
   "metadata": {
    "id": "i56e9avIiDhJ"
   },
   "source": [
    "**A FAIRE :**\n",
    "\n",
    "Effectuer l'ensemble de ces opérations en suivant le chiffrement RSA pour envoyer cette fois la lettre **\"B\"**.\n",
    "\n"
   ]
  },
  {
   "cell_type": "code",
   "execution_count": null,
   "metadata": {
    "id": "GXl-tRnMibJ9"
   },
   "outputs": [],
   "source": []
  }
 ],
 "metadata": {
  "colab": {
   "collapsed_sections": [],
   "name": "Chiffement.ipynb",
   "provenance": []
  },
  "kernelspec": {
   "display_name": "Python 3",
   "language": "python",
   "name": "python3"
  },
  "language_info": {
   "codemirror_mode": {
    "name": "ipython",
    "version": 3
   },
   "file_extension": ".py",
   "mimetype": "text/x-python",
   "name": "python",
   "nbconvert_exporter": "python",
   "pygments_lexer": "ipython3",
   "version": "3.8.10"
  },
  "vscode": {
   "interpreter": {
    "hash": "916dbcbb3f70747c44a77c7bcd40155683ae19c65e1c03b4aa3499c5328201f1"
   }
  }
 },
 "nbformat": 4,
 "nbformat_minor": 1
}
