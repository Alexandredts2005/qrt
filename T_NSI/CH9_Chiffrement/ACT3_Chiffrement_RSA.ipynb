{
 "cells": [
  {
   "attachments": {},
   "cell_type": "markdown",
   "metadata": {
    "id": "GMSNXgt40AK0"
   },
   "source": [
    "# ACT3 Le chiffrement RSA\n",
    "\n",
    "|Comp.| Description :|\n",
    "|-|-|\n",
    "|ANA|Décrire et spécifier les caractéristiques d’un processus, les données d’un problème, ou celles manipulées par un algorithme ou une fonction|\n",
    "|REA|Concevoir, décrire une structure de données permettant de résoudre le problème|\n",
    "|VAL|Justifier et critiquer une solution par évaluation, contrôle, et validation du code|\n",
    "\n",
    "\n",
    "\n",
    "\n",
    "\n",
    "## 1. Un chiffrement très utilisé\n",
    "Dans les années 1960, l’informatique se développe et ouvre de nouvelles possibilités. La cryptographie, jusque-là réservée aux seules agences gouvernementales, devient accessible aux entreprises, voire aux particuliers. Mais, si deux personnes souhaitent communiquer secrètement, elles doivent se mettre d’accord sur une clé servant au chiffrement et au déchiffrement. L’échange des clés, qui a toujours été un casse-tête dans l’histoire de la cryptographie, devient un problème insurmontable à mesure que la cryptographie se démocratise.\n",
    "\n",
    "### un peu d'histoire\n",
    "Whitfield Diffie et Martin Hellman vont résoudre ce problème en 1976, dans un article intitulé New directions in cryptography resté fameux. Ces deux mathématiciens montrent qu’il est possible de communiquer secrètement en utilisant un chiffrement asymétrique.\n",
    "Le chiffrement asymétrique utilise 2 clés, l’une publique, l’autre privée. La clé publique permet de chiffrer le message, mais seule la clé privée permet de le déchiffrer. Deux ans plus tard, Ron **R**ivest, Adi **S**hamir et Leonard **A**dleman améliorent cette idée pour créer l’algorithme **RSA** (nommé d’après leurs initiales). \n",
    "\n",
    "### Principe \n",
    "L’algorithme RSA utilise, pour simplifier, un très grand nombre, N, que l’on peut décomposer comme le produit de 2 nombres premiers p et q. \t**N = p x q**\n",
    "\n",
    "La *clé publique* est un couple **(e, N)**, avec N le grand nombre en question et e un nombre généré à partir de p et q. La *clé privée* est connue de l'émetteur du message seulement est un couple **(d, N)** avec N le grand nombre en question et d un nombre généré à partir de p, q et d. (Voir ACT2 pour les clés publiques/privées).\n",
    "Le chiffrement s'effectue à l'aide de la *clé publique* (e, N) et le déchiffrement à l'aide de la *clé privée* (d, N).\n",
    "\n",
    "\n",
    "Pour aller un peu plus en détail : <a href=\"https://www.sebsauvage.net/comprendre/encryptage/crypto_rsa.html\"> Cryptographie : l'algorithme RSA </a>\n",
    "\n",
    "Pour aller (vraimment) plus loin, pour la preuve mathématique : <a href=\"https://cm2.ens.fr/maths/pdf/nombres/RSA.pdf\"> Culture Math, sur l'algorithme RSA</a>\n",
    "\n",
    "### Robustesse\n",
    "Si on ne connaît pas le couple (d, N), l’opération de déchiffrement devient extrêmement longue ! ... La sécurité de RSA repose sur le fait qu’il est très difficile de calculer les diviseurs d’un très grand nombre (on dit aussi « factoriser » un nombre). Même avec les meilleurs calculateurs, la factorisation peut prendre des années si le nombre est suffisamment grand. Pour cette raison, RSA est l’algorithme de chiffrement le plus utilisé dans le monde.\n",
    "\n",
    "RSA est très sûr mais nécessite donc des moyens de calcul importants. Paul Zimmermann a résolu ce problème en 1991 en inventant un logiciel appelé PGP (pretty good privacy) qui est un compromis entre un chiffrement « classique » à clé privée et un chiffrement RSA. PGP a permis de démocratiser la cryptographie en la rendant accessible aux ordinateurs grand public. Cela lui a valu des poursuites judiciaires de la part du gouvernement américain. Certains gouvernements tentent en effet de limiter cela, ils exigent en général :\n",
    "\n",
    "- Soit de limiter la taille des clés utilisées : une clé de taille « moyenne » est trop difficile à casser pour un ordinateur classique, mais pas pour un supercalculateur. Ainsi, la confidentialité est assurée vis-à- is des particuliers, mais pas des agences gouvernementales ni des très grandes entreprises qui possèdent des supercalculateurs.\n",
    "- Soit de déposer ses clés privées dans un « coffre » géré par un organisme « de confiance » (une agence gouvernementale par exemple). Ainsi, les communications sont secrètes pour tout le monde sauf pour ceux qui ont accès au coffre.\n",
    "\n",
    "Longtemps réservée aux armées et aux diplomates, la cryptographie est aujourd’hui utilisée par de nombreux services : les banques (cartes bancaires, transactions sécurisées sur Internet), le commerce électronique, les messageries électroniques (carte SIM, e-mail...), les services médicaux (carte Vitale...), le vote électronique, etc.\n",
    "\n",
    "<a href=\"https://www.youtube.com/embed/Y2bsLRdVBP8\"> Vidéo explicative de l'algo RSA (5min)</a> \n",
    "\n",
    "\n"
   ]
  },
  {
   "attachments": {},
   "cell_type": "markdown",
   "metadata": {
    "id": "P5idD5kcojEs"
   },
   "source": [
    "## 2. Mettre en place un chiffrement RSA simplifié\n",
    "\n",
    "(d'après <a href=\"https://macs4200.org/chapters/11/1/kidrsa.html\">*KidRSA*</a>)\n",
    "\n",
    "\n",
    "Dans cette partie, nous allons mettre en place un ensemble de fonctions permettant de chiffrer et déchiffrer un message utilisant une version simplifiée de l'algorithme RSA. \n",
    "\n",
    "\n",
    "<table><tr><td>\n",
    "\n",
    "### Principe utilisé\n",
    "\n",
    "1. Choisir 4 nombres entiers naturels :\n",
    "\n",
    "            a1, b1, a2, b2\n",
    "\n",
    "2. Effectuer les calculs suivants :\n",
    "\n",
    "            M = a1 x b1 - 1\n",
    "\n",
    "            e = a2 x M + a1\n",
    "\n",
    "            d = b2 x M + b1\n",
    "\n",
    "            N = (e x d - 1) / M\n",
    "\n",
    "3. Chiffrer un message **m** pour obtenir **c**, si m < N :\n",
    "\n",
    "            c = (e x m) mod N\n",
    "\n",
    "4. Déchiffrer un message **c** pour retrouver **m**, si c < N :\n",
    "\n",
    "            m = (d x c) mod N\n",
    "</td></tr></table>\n"
   ]
  },
  {
   "cell_type": "code",
   "execution_count": null,
   "metadata": {
    "id": "ZHpCO5G9o0pH"
   },
   "outputs": [],
   "source": [
    "def cesar(message, cle, sens):\n",
    "    \"\"\" Chiffre ou déchiffre un message en fonction la clé. \n",
    "        Entrées : \n",
    "            message (str) --> message clair ou chiffré\n",
    "            cle (int) --> nombre de décalage de lettre\n",
    "            sens (int signé) -->  +1 pour chiffrement, -1 pour déchiffrement\n",
    "        Sortie :\n",
    "            resultat (str) --> message chiffré ou déchiffré selon le cas\n",
    "    \"\"\"\n",
    "\n",
    "    resultat = \"\"\n",
    "\n",
    "    for caractere in message :\n",
    "        if caractere == \" \":\n",
    "            resultat = resultat + \" \"\n",
    "        \n",
    "        else :\n",
    "            code_lettre = ord(caractere) + sens*cle     # Décalage du nombre de lettre correspondant à la clé\n",
    "                                                        # (ord renvoie le code ASCII du caractère)\n",
    "            if code_lettre > 90 : # on a depasse vers la droite le code du Z\n",
    "                code_lettre = code_lettre - 26 # donc on repart du A vers la droite (boucle)\n",
    "\n",
    "            if code_lettre < 65 : # on a dépasse vers la gauche le code du A\n",
    "                code_lettre = code_lettre + 26 # on repart du Z vers la gauche\n",
    "\n",
    "            resultat = resultat + chr(code_lettre) # on concatene la lettre obtenue\n",
    "            \n",
    "    return resultat"
   ]
  },
  {
   "cell_type": "markdown",
   "metadata": {
    "id": "bmLXsaCNnF0s"
   },
   "source": [
    "Avec un extrait de la \"Guerre des Gaules\"..."
   ]
  },
  {
   "cell_type": "code",
   "execution_count": 1,
   "metadata": {
    "colab": {
     "base_uri": "https://localhost:8080/",
     "height": 52
    },
    "id": "SsJzW1pXpUbx",
    "outputId": "0a47e0cf-39c1-4bd1-aec0-349a8be06d2c"
   },
   "outputs": [],
   "source": [
    "message = \"RWBCADRC MN LNB NENWNVNWCB NC ANMXDCJWC UJ OJRKUNBBN MNB PJDUXRB ZD RU LXWWJRBBJRC BR VXKRUNB MJWB UNDAB ANBXUDCRXWB NC JERMNB MN WXDENJDCNB LNBJA WN LADC YJB MNEXRA BN ORNA J NDG\"\n",
    "\n",
    "# A déchiffrer ... !   ;-)#\n"
   ]
  },
  {
   "attachments": {},
   "cell_type": "markdown",
   "metadata": {
    "id": "0UvV3Ua70AK8"
   },
   "source": [
    "### 2. Fréquence d'apparition des lettres dans un texte\n",
    "\n",
    "Mais comment procéder quand on ne connaît pas la clé de chiffrement ?\n",
    "\n",
    "On doit alors **décrypter** le message.\n",
    "\n",
    "Une idée simple pour découvrir la clé est de chercher dans le message chiffré la lettre la plus fréquente, il y a alors de bonnes chances qu'elle corresponde au \"E\" dans le texte en clair, lettre la plus fréquente dans la langue française.\n",
    "\n",
    "**A FAIRE :**\n",
    "1. Coder les deux fonctions ci-dessous ```calcul_frequences()``` et ```analyse_frequences()``` permettant de trouver le clé et de décrypter un message codé par le \"code de César\".\n",
    "2. Le tester sur d'autres messages codés.\n",
    "3. Conclure sur la fiabilité du code de César.\n"
   ]
  },
  {
   "cell_type": "code",
   "execution_count": null,
   "metadata": {
    "id": "QjeyRJlk0ALE"
   },
   "outputs": [],
   "source": [
    "import matplotlib.pyplot as plt\n",
    "\n",
    "\n",
    "def diagramme_barres(frequences_observees):\n",
    "    \"\"\" Affiche frequences_observees et frequences_theoriques sur le même graphique \n",
    "        Entrée :\n",
    "            frequences_observees (list): liste des fréquences observées (float) pour chaque lettres ordre alpha\n",
    "        Sortie : \n",
    "            Graphique matplotlib Fréquences en fct d'alphabet \n",
    "    \"\"\"\n",
    "    alphabet = [lettre for lettre in \"ABCDEFGHIJKLMNOPQRSTUVWXYZ\"]\n",
    "    frequences_theoriques = [0.084, 0.0106, 0.0303, 0.0418, 0.1726, 0.0112, 0.0127, 0.0092, 0.0734, 0.0031, 0.0005,\\\n",
    "                             0.0601, 0.0296, 0.0713, 0.0526, 0.0301, 0.0099, 0.0655, 0.0808, 0.0707, 0.0574, 0.0132,\\\n",
    "                             0.0004, 0.0045, 0.003, 0.0012]\n",
    "\n",
    "    plt.bar(alphabet, frequences_observees, color = 'red', width = 0.2, alpha = 0.6, label = 'frequences observees')\n",
    "    plt.bar(alphabet, frequences_theoriques,color = 'blue', width = 0.5, alpha = 0.1, label = 'frequences francais')\n",
    "    plt.title(\"Fréquence d'apparition de chaque lettre dans le texte\")\n",
    "    plt.legend()\n",
    "    plt.show()\n",
    "    \n",
    "\n",
    "def calcul_frequences(texte) : \n",
    "    \"\"\" Renvoie frequences_texte qui sont les fréquences d'apparition de chaque lettres du texte\n",
    "        Entrée :\n",
    "            texte (str) --> texte chiffré\n",
    "        Sortie:\n",
    "            frequences_texte (list) --> liste des fréquences de chacun des caractères du texte chiffré\n",
    "    \"\"\"\n",
    "\n",
    "# Afficher le graphique des fréquences observées du texte pour tester...\n",
    "    \n",
    "def analyse_frequences(texte):\n",
    "    \"\"\" Renvoie la clé probable \n",
    "        Entrée :\n",
    "            texte (str) --> texte chiffré\n",
    "        Sortie :\n",
    "            cle (int) --> clé probable à partir des fréquences\n",
    "    \"\"\"\n",
    "   \n",
    "\n",
    "    \n",
    "    pass\n"
   ]
  },
  {
   "cell_type": "code",
   "execution_count": null,
   "metadata": {
    "colab": {
     "base_uri": "https://localhost:8080/",
     "height": 353
    },
    "id": "e1YbnrkL0ALU",
    "outputId": "2cc06979-e0a0-4993-e1af-9974bf847952"
   },
   "outputs": [],
   "source": [
    "message = \"RWBCADRC MN LNB NENWNVNWCB NC ANMXDCJWC UJ OJRKUNBBN MNB PJDUXRB ZD RU LXWWJRBBJRC BR VXKRUNB MJWB UNDAB ANBXUDCRXWB NC JERMNB MN WXDENJDCNB LNBJA WN LADC YJB MNEXRA BN ORNA J NDG\"\n"
   ]
  },
  {
   "cell_type": "code",
   "execution_count": null,
   "metadata": {
    "id": "IXOpjX8k0ALq"
   },
   "outputs": [],
   "source": [
    "# on vérifie avec la clé trouvée :\n",
    "#..."
   ]
  },
  {
   "cell_type": "markdown",
   "metadata": {
    "id": "tpOHY2nIs8sc"
   },
   "source": [
    "## Le chiffrement XOR"
   ]
  },
  {
   "attachments": {},
   "cell_type": "markdown",
   "metadata": {
    "id": "RMANgPVttSVw"
   },
   "source": [
    "\n",
    "On peut être un peu plus efficace que le \"code de César\" en utilisant une autre ***fonction de chiffrement***. En effet, pour le \"code de César\" la fonction de chiffrement est une fonction ***décalage***.\n",
    "\n",
    "Maintenant, nous allons tester une fonction ***XOR***, ou *ou exclusif*.\n",
    "\n",
    "- Message :  \"CHUCK NORRIS A DEJA COMPTE JUSQU'A L'INFINI, DEUX FOIS.\"\n",
    "- Clé : \"NSI\"\n",
    "\n",
    "### Méthode de chiffrement :\n",
    "\n",
    " - On recopie plusieurs fois la clé pour obtenir une chaîne de la même longueur que le message\n",
    " - Chaque caractère de la chaîne et du message est transformé en nombre (valeur binaire)\n",
    " - On effectue l'opération XOR entre chaque nombre de la chaîne et du message correspondants.\n",
    "\n",
    "**A FAIRE :**\n",
    "\n",
    "1. Rappeler la table de vérité du **XOR**\n",
    "2. Compléter la chaîne\n",
    "3. Tester cette méthode de chiffrement avec le message et la clé proposée\n",
    "4. Conclure sur la facilité de décryptage et sur l'utilisation pour sécuriser les données échangées ?\n",
    "\n",
    "\n",
    "*__Aide :__*\n",
    "\n",
    "\n",
    "*Créer d'abord une fonction ```conversion()``` pour convertir en liste de valeurs hexadécimales des caractères ASCII avec ```ord()```, puis en une liste de valeurs binaires avec ```bin()```.*\n",
    "\n",
    "*Créer une fonction pour créer la chaîne de clés ainsi que sa conversion en valeurs binaires.*\n",
    "\n",
    "*Créer ensuite une fonction ```chiffreXOR(message, cle)``` pour obtenir le message chiffré.*"
   ]
  },
  {
   "cell_type": "code",
   "execution_count": null,
   "metadata": {},
   "outputs": [],
   "source": [
    " # Table de vérité du XOR :\n",
    "\n",
    "\n",
    "\n"
   ]
  },
  {
   "cell_type": "code",
   "execution_count": null,
   "metadata": {
    "id": "MK0GdY020AL_"
   },
   "outputs": [],
   "source": [
    "message = \"CHUCK NORRIS A DEJA COMPTE JUSQU'A L'INFINI, DEUX FOIS.\"\n",
    "\n",
    "# chaine =  ...        # A compléter  "
   ]
  },
  {
   "cell_type": "code",
   "execution_count": null,
   "metadata": {
    "colab": {
     "base_uri": "https://localhost:8080/",
     "height": 34
    },
    "id": "1V9-F-RA0AMT",
    "outputId": "d2a2e457-4d37-4844-ba4e-99324e30aa80"
   },
   "outputs": [],
   "source": [
    "def conversion(texte):\n",
    "    \"\"\" Renvoie la liste des lettres du texte en valeur binaire (8bits)  \n",
    "        Entrée : \n",
    "            texte (str) --> texte à chiffrer\n",
    "        Sortie :\n",
    "            liste_lettres (list) --> liste des valeurs binaires (8bits) des lettres du texte\n",
    "    \"\"\"\n",
    "    \n",
    "    pass\n",
    "    "
   ]
  },
  {
   "cell_type": "code",
   "execution_count": null,
   "metadata": {},
   "outputs": [],
   "source": [
    "def chaine_cle(cle, texte):\n",
    "    \"\"\" Crée la chaîne de clé de même longueur que le texte à chiffrer \n",
    "        Entrée : \n",
    "            cle (str) --> chaîne de caractère formant la clé\n",
    "            texte (str) --> texte à chiffrer\n",
    "        Sortie :\n",
    "            chaine (str) --> chaîne de caractère répétant la clé de même longueur\n",
    "                            que le texte à chiffrer\n",
    "    \"\"\"\n",
    "\n",
    "    pass\n",
    "\n"
   ]
  },
  {
   "cell_type": "code",
   "execution_count": null,
   "metadata": {
    "id": "0w2KNORC0AMo"
   },
   "outputs": [],
   "source": [
    "def chiffreXOR(message, cle):\n",
    "    \"\"\" Renvoie la liste des valeurs binaires chiffrées en XOR\n",
    "        Entrée :\n",
    "            message (str) --> message à chiffrer\n",
    "            cle (str) --> chaîne de caractères servant de clé de chiffrement\n",
    "        Sortie :\n",
    "            message_chiffre (list) --> liste des valeurs binaires (8bits) du message chiffré\n",
    "    \"\"\"\n",
    "    \n",
    "\n",
    "\n",
    "    pass\n",
    "\n"
   ]
  },
  {
   "cell_type": "markdown",
   "metadata": {
    "colab": {
     "base_uri": "https://localhost:8080/",
     "height": 506
    },
    "id": "XzfAiTO70AM2",
    "outputId": "0db4f0d5-52df-4be5-8a18-110f371fea0f"
   },
   "source": [
    "## Application : le Hash pour les mots de passe\n",
    "\n",
    "Vos mots de passe pour vous connecter à votre compte Insta, ou tout autre service necessitant une authentification ne sont normalement pas stockés directement dans un fichier. Le risque de fuite serait trop important.\n",
    "\n",
    "Normalement, seul un hash de votre mot de passe est enregistré sur un ordinateur : un hash est une suite de caractères de taille fixe associée à une chaîne quelconque. Par exemple, le hash (pour l'algorithme SHA1) de la chaîne :\n",
    "\n",
    "       \"J'aime les pizzas.\"\n",
    "est\n",
    "\n",
    "       \"ac4f7e9c94319a21136f8e5f9189bdaf7899c25e\"\n",
    "\n",
    "Sans majuscule, \n",
    "\n",
    "       \"j'aime les pizzas.\"\n",
    "le hash devient \n",
    "\n",
    "       \"2edba57751b915a8dd8d562e1179265f5d16088c\"\n",
    "       \n",
    "Autrement, même pour un changement minime de la chaîne de départ, le message chiffré n'a plus rien à voir !\n",
    "La force des algorithmes de hashage est que **le risque de cryptanalyse devient donc très faible**.\n",
    "\n",
    " Les fonctions de hash utilisées en cryptographie sont toujours faciles (rapide) à calculer, mais elles doivent vérifient )les propriétés suivantes :\n",
    "\n",
    "    - il est très difficile de trouver une chaîne ayant un hash donné,\n",
    "    - il est très difficile de modifier une chaîne sans modifier son hash,\n",
    "    - il est très difficile de trouver deux chaînes avec le même hash.\n",
    "\n",
    "Les algorithmes de hashage les plus connus sont :\n",
    "\n",
    "    MD (mais cet algorithme n'est plus sûr)\n",
    "    SHA1\n",
    "    SHA256 (utilisé pour les blockchain des Bitcoin)\n",
    "    SHA512\n"
   ]
  },
  {
   "attachments": {},
   "cell_type": "markdown",
   "metadata": {},
   "source": [
    "**Craquer le mot de passe** \n",
    "\n",
    "Si on possède le hash d'un mot de passe, on peut essayer de retrouver le mot de passe en essayant toutes les possibilités.\n",
    "\n",
    "En général, il est intéressant de commencer par les mots du dictionnaire. Le fichier ```dico.txt``` contient les mots du dictionnaire \"le Littré\" qui ne contiennent pas d'accent. Il contient 47666 mots...\n",
    "\n",
    "**A FAIRE :**\n",
    "Le code Python suivant permet de tester tous les mots de ce fichier et de comparer leur hash avec un hash passé en argument : \n",
    "\n",
    "1.  A l'aide de cette fonction, retrouver le mot correspondant au hash ``` \"11f48731001d3a8e81b2305036b5cb2a19309d7fe86983e05fe16a2cb900e522\"```\n",
    "    \n",
    "2. Maintenant, on a modifié le hasch avec une majuscule à la dernière lettre et le \"l\" du mot est remplacé par  \"1\". Le hash obtenu est :\n",
    "    \n",
    "    ```\"2a2ec0d82a404e4bb0988ea6998f4ad5d0e8e87df2cb6a288e6191a75f658406\"```\n",
    "    \n",
    "    Retrouver le mot de passe, et comparer le temps de calcul."
   ]
  },
  {
   "cell_type": "code",
   "execution_count": null,
   "metadata": {},
   "outputs": [],
   "source": [
    "import hashlib\n",
    "\n",
    "def attaque_dico_hash(hash, dic):\n",
    "    \"\"\" Attaque force brute pour trouver le mot correspondant au message chiffré (hash)\n",
    "        Entree :\n",
    "            hash (str) --> message chiffré par \"hashage\"\n",
    "            dic (fichier .txt) --> fichier .TXT comprenant un mot par ligne\n",
    "        Sortie : \n",
    "            simple message pour dire si le mot est trouvé ou pas\n",
    "    \"\"\"\n",
    "    \n",
    "    dico = open(dic, mode=\"r\")\n",
    "    n = 0   # compter le nombre de mots\n",
    "\n",
    "    for mot in dico:\n",
    "        mot = mot.strip()\n",
    "        n = n + 1\n",
    "        mot_hash = hashlib.sha256(mot.encode()).hexdigest()  # hash du mot du dico\n",
    "\n",
    "        if mot_hash == hash:    # comparaison avec le hash d'entrée\n",
    "            dico.close()\n",
    "            return \"TROUVÉ ! Le mot \" + mot \n",
    "\n",
    "        if n % 1000 == 0:           # compteur de 1000 en 1000 pour voir où en en est\n",
    "            print(n, \" \", end=\"\")\n",
    "   \n",
    "    return str(n) + \" mots ont été testés, mais le hash ne correspond pas  :-( \"\n"
   ]
  },
  {
   "cell_type": "code",
   "execution_count": null,
   "metadata": {
    "id": "GXl-tRnMibJ9"
   },
   "outputs": [],
   "source": []
  }
 ],
 "metadata": {
  "colab": {
   "collapsed_sections": [],
   "name": "Chiffement.ipynb",
   "provenance": []
  },
  "kernelspec": {
   "display_name": "Python 3",
   "language": "python",
   "name": "python3"
  },
  "language_info": {
   "codemirror_mode": {
    "name": "ipython",
    "version": 3
   },
   "file_extension": ".py",
   "mimetype": "text/x-python",
   "name": "python",
   "nbconvert_exporter": "python",
   "pygments_lexer": "ipython3",
   "version": "3.8.10"
  },
  "vscode": {
   "interpreter": {
    "hash": "916dbcbb3f70747c44a77c7bcd40155683ae19c65e1c03b4aa3499c5328201f1"
   }
  }
 },
 "nbformat": 4,
 "nbformat_minor": 1
}
