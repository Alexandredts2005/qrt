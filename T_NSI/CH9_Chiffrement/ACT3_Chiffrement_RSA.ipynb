{
 "cells": [
  {
   "attachments": {},
   "cell_type": "markdown",
   "metadata": {
    "id": "GMSNXgt40AK0"
   },
   "source": [
    "# ACT3 Le chiffrement RSA\n",
    "\n",
    "|Comp.| Description :|\n",
    "|-|-|\n",
    "|ANA|Décrire et spécifier les caractéristiques d’un processus, les données d’un problème, ou celles manipulées par un algorithme ou une fonction|\n",
    "|REA|Concevoir, décrire une structure de données permettant de résoudre le problème|\n",
    "|VAL|Justifier et critiquer une solution par évaluation, contrôle, et validation du code|\n",
    "\n",
    "\n",
    "\n",
    "\n",
    "\n",
    "## 1. Un chiffrement très utilisé\n",
    "Dans les années 1960, l’informatique se développe et ouvre de nouvelles possibilités. La cryptographie, jusque-là réservée aux seules agences gouvernementales, devient accessible aux entreprises, voire aux particuliers. Mais, si deux personnes souhaitent communiquer secrètement, elles doivent se mettre d’accord sur une clé servant au chiffrement et au déchiffrement. L’échange des clés, qui a toujours été un casse-tête dans l’histoire de la cryptographie, devient un problème insurmontable à mesure que la cryptographie se démocratise.\n",
    "\n",
    "### un peu d'histoire\n",
    "Whitfield Diffie et Martin Hellman vont résoudre ce problème en 1976, dans un article intitulé New directions in cryptography resté fameux. Ces deux mathématiciens montrent qu’il est possible de communiquer secrètement en utilisant un chiffrement asymétrique.\n",
    "Le chiffrement asymétrique utilise 2 clés, l’une publique, l’autre privée. La clé publique permet de chiffrer le message, mais seule la clé privée permet de le déchiffrer. Deux ans plus tard, Ron **R**ivest, Adi **S**hamir et Leonard **A**dleman améliorent cette idée pour créer l’algorithme **RSA** (nommé d’après leurs initiales). \n",
    "\n",
    "### Principe \n",
    "L’algorithme RSA utilise, pour simplifier, un très grand nombre, N, que l’on peut décomposer comme le produit de 2 nombres premiers p et q. \t**N = p x q**\n",
    "\n",
    "La *clé publique* est un couple **(e, N)**, avec N le grand nombre en question et e un nombre généré à partir de p et q. La *clé privée* est connue de l'émetteur du message seulement est un couple **(d, N)** avec N le grand nombre en question et d un nombre généré à partir de p, q et d. (Voir ACT2 pour les clés publiques/privées).\n",
    "Le chiffrement s'effectue à l'aide de la *clé publique* (e, N) et le déchiffrement à l'aide de la *clé privée* (d, N).\n",
    "\n",
    "\n",
    "Pour aller un peu plus en détail : <a href=\"https://www.sebsauvage.net/comprendre/encryptage/crypto_rsa.html\"> Cryptographie : l'algorithme RSA </a>\n",
    "\n",
    "Pour aller (vraimment) plus loin, pour la preuve mathématique : <a href=\"https://cm2.ens.fr/maths/pdf/nombres/RSA.pdf\"> Culture Math, sur l'algorithme RSA</a>\n",
    "\n",
    "### Robustesse\n",
    "Si on ne connaît pas le couple (d, N), l’opération de déchiffrement devient extrêmement longue ! ... La sécurité de RSA repose sur le fait qu’il est très difficile de calculer les diviseurs d’un très grand nombre (on dit aussi « factoriser » un nombre). Même avec les meilleurs calculateurs, la factorisation peut prendre des années si le nombre est suffisamment grand. Pour cette raison, RSA est l’algorithme de chiffrement le plus utilisé dans le monde.\n",
    "\n",
    "RSA est très sûr mais nécessite donc des moyens de calcul importants. Paul Zimmermann a résolu ce problème en 1991 en inventant un logiciel appelé PGP (pretty good privacy) qui est un compromis entre un chiffrement « classique » à clé privée et un chiffrement RSA. PGP a permis de démocratiser la cryptographie en la rendant accessible aux ordinateurs grand public. Cela lui a valu des poursuites judiciaires de la part du gouvernement américain. Certains gouvernements tentent en effet de limiter cela, ils exigent en général :\n",
    "\n",
    "- Soit de limiter la taille des clés utilisées : une clé de taille « moyenne » est trop difficile à casser pour un ordinateur classique, mais pas pour un supercalculateur. Ainsi, la confidentialité est assurée vis-à- is des particuliers, mais pas des agences gouvernementales ni des très grandes entreprises qui possèdent des supercalculateurs.\n",
    "- Soit de déposer ses clés privées dans un « coffre » géré par un organisme « de confiance » (une agence gouvernementale par exemple). Ainsi, les communications sont secrètes pour tout le monde sauf pour ceux qui ont accès au coffre.\n",
    "\n",
    "Longtemps réservée aux armées et aux diplomates, la cryptographie est aujourd’hui utilisée par de nombreux services : les banques (cartes bancaires, transactions sécurisées sur Internet), le commerce électronique, les messageries électroniques (carte SIM, e-mail...), les services médicaux (carte Vitale...), le vote électronique, etc.\n",
    "\n",
    "<a href=\"https://www.youtube.com/embed/Y2bsLRdVBP8\"> Vidéo explicative de l'algo RSA (5min)</a> \n",
    "\n",
    "\n"
   ]
  },
  {
   "attachments": {},
   "cell_type": "markdown",
   "metadata": {
    "id": "P5idD5kcojEs"
   },
   "source": [
    "## 2. Mettre en place un chiffrement RSA simplifié\n",
    "\n",
    "(d'après <a href=\"https://macs4200.org/chapters/11/1/kidrsa.html\">*KidRSA*</a>)\n",
    "\n",
    "\n",
    "Dans cette partie, nous allons mettre en place un ensemble de fonctions permettant de chiffrer et déchiffrer un message utilisant une version simplifiée de l'algorithme RSA. \n",
    "\n",
    "### Le principe :\n",
    "\n",
    "<table><tr><td>\n",
    "\n",
    "\n",
    "\n",
    "1. Choisir 4 nombres entiers naturels :\n",
    "\n",
    "            a1, b1, a2, b2\n",
    "\n",
    "2. Effectuer les calculs suivants :\n",
    "\n",
    "            M = a1 x b1 - 1\n",
    "\n",
    "            e = a2 x M + a1\n",
    "\n",
    "            d = b2 x M + b1\n",
    "\n",
    "            N = (e x d - 1) / M\n",
    "\n",
    "Le couple (e, N) est **la clé publique** et le couple (d, N) est **la clé privée**.\n",
    "\n",
    "\n",
    "3. Chiffrer un message **m** pour obtenir **c**, si m < N :\n",
    "\n",
    "            c = (e x m) mod N\n",
    "\n",
    "(mod est l'opérateur *modulo*, c'est à dire le reste de la division entière)\n",
    "\n",
    "4. Déchiffrer un message **c** pour retrouver **m**, si c < N :\n",
    "\n",
    "            m = (d x c) mod N\n",
    "\n",
    "\n",
    "\n",
    "\n",
    "</td></tr></table>\n",
    "\n",
    "### Et un exemple :\n",
    "\n",
    "1. Choix de 4 nombres :\n",
    "            a1 = 3,  b1 = 5,  a2 = 7,  b2 = 19\n",
    "\n",
    "2. Les calculs :\n",
    "\n",
    "            M = a1 x b1 - 1 = 3 x 5 - 1 = 14\n",
    "\n",
    "            e = a2 x M + a1 = 7 x 14 + 3 = 101\n",
    "\n",
    "            d = b2 x M + b1 = 19 x 14 + 5 = 271\n",
    "\n",
    "            N = (e x d - 1) / M = (101 x 271 - 1) / 14 = 1955\n",
    "\n",
    "3. Chiffrer le message **m = 65** (valeur décimale de la lettre \"A\" en ASCII) pour obtenir **c** :\n",
    "\n",
    "            c = (e x m) mod N = (101 x 65) mod 1955 = 6565 mod 1955 = 700\n",
    "\n",
    "4. Déchiffrer le message **c** pour retrouver **m** :\n",
    "\n",
    "            m = (d x c) mod N = (271 x 700) mod 1955 = 189700 mod 1955 = 65 \n",
    "    On retrouve bien la valeur décimal du code ASCII de la lettre \"A\" !\n"
   ]
  },
  {
   "attachments": {},
   "cell_type": "markdown",
   "metadata": {},
   "source": [
    "## Travail à faire \n",
    "\n",
    "### Etape 1 : Générer les clés\n",
    "\n",
    " - Compléter le code de la fonction ci-dessous pour générer les 2 clés publiques et privées.\n",
    " - Faire quelques tests avec différents nombres (petits ou grands, premiers entre eux, tirés au hasard... )"
   ]
  },
  {
   "cell_type": "code",
   "execution_count": null,
   "metadata": {
    "id": "ZHpCO5G9o0pH"
   },
   "outputs": [],
   "source": [
    "def generer_cle(valeurs):\n",
    "    \"\"\" Génère deux couples de clés, une publique et une privée \n",
    "        Entrées :\n",
    "            valeurs (tuple) --> quadruplet de valeurs nombres entiers (a1, b1, a2, b2)\n",
    "        Sortie :\n",
    "            cle_privee (tuple) --> tuple d'entier formant la clé privée\n",
    "            cle_publique (tuple) --> tuple d'entier formant la clé publique\n",
    "    \"\"\"\n",
    "\n",
    "    pass"
   ]
  },
  {
   "attachments": {},
   "cell_type": "markdown",
   "metadata": {
    "id": "bmLXsaCNnF0s"
   },
   "source": [
    "### Etape 2 : Chiffrer et déchiffrer une lettre\n",
    "\n",
    " - Compléter le code de la fonction ci-dessous pour chiffrer un message décimal (code ASCII d'une lettre) à l'aide de la clé publique.\n",
    " - Ecrire un ```assert``` dans la fonction de façon à vérifier que nous sommes bien dans les conditions voulues (voir principe plus haut).\n",
    " - Faire quelques tests avec différentes clés.\n",
    "\n",
    "  *Rappel*  Syntaxe assert \n",
    "  \n",
    "  ```assert CONDITION Booléen, MESSAGE SI False``` "
   ]
  },
  {
   "cell_type": "code",
   "execution_count": null,
   "metadata": {
    "colab": {
     "base_uri": "https://localhost:8080/",
     "height": 52
    },
    "id": "SsJzW1pXpUbx",
    "outputId": "0a47e0cf-39c1-4bd1-aec0-349a8be06d2c"
   },
   "outputs": [],
   "source": [
    "def chiffrer_rsa(cle, lettre):\n",
    "    \"\"\" Chiffre une lettre à l'aide de la clé publique suivant l'algorithme RSA. \n",
    "        Entrées :\n",
    "            cle (tuple) --> tuple d'entier formant la clé publique\n",
    "            lettre (str) --> lettre à chiffrer \n",
    "        Sortie :\n",
    "            val_chiffre (int) --> entier representant la lettre chiffrée\n",
    "    \"\"\"\n",
    "    assert \n",
    "\n",
    "    pass\n"
   ]
  },
  {
   "attachments": {},
   "cell_type": "markdown",
   "metadata": {
    "id": "0UvV3Ua70AK8"
   },
   "source": [
    " - Ecrire une fonction ```dechiffrer_rsa(cle, val)``` qui fait l'inverse de la fonction précédente, c'est à dire qu'elle retrouve la lettre correspondante à la valeur chiffrée obtenue."
   ]
  },
  {
   "cell_type": "code",
   "execution_count": null,
   "metadata": {
    "id": "QjeyRJlk0ALE"
   },
   "outputs": [],
   "source": [
    "\n",
    "  "
   ]
  },
  {
   "attachments": {},
   "cell_type": "markdown",
   "metadata": {
    "id": "bmLXsaCNnF0s"
   },
   "source": [
    "### Etape 3 : Chiffrer et déchiffrer une phrase\n",
    "\n",
    " - Chiffrer et déchiffrer le message suivant :\n",
    "\n",
    "            message = \"Un jour Chuck Norris a eu un zero en latin, depuis c'est une langue morte\"\n",
    " \n",
    " "
   ]
  },
  {
   "cell_type": "code",
   "execution_count": null,
   "metadata": {
    "id": "IXOpjX8k0ALq"
   },
   "outputs": [],
   "source": []
  }
 ],
 "metadata": {
  "colab": {
   "collapsed_sections": [],
   "name": "Chiffement.ipynb",
   "provenance": []
  },
  "kernelspec": {
   "display_name": "Python 3",
   "language": "python",
   "name": "python3"
  },
  "language_info": {
   "codemirror_mode": {
    "name": "ipython",
    "version": 3
   },
   "file_extension": ".py",
   "mimetype": "text/x-python",
   "name": "python",
   "nbconvert_exporter": "python",
   "pygments_lexer": "ipython3",
   "version": "3.8.10 (default, Nov 14 2022, 12:59:47) \n[GCC 9.4.0]"
  },
  "vscode": {
   "interpreter": {
    "hash": "916dbcbb3f70747c44a77c7bcd40155683ae19c65e1c03b4aa3499c5328201f1"
   }
  }
 },
 "nbformat": 4,
 "nbformat_minor": 1
}
