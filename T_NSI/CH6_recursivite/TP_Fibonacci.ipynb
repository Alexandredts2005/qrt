{
 "cells": [
  {
   "cell_type": "markdown",
   "metadata": {},
   "source": [
    "<h1>TP : LA SUITE DE FIBONACCI </h1>"
   ]
  },
  {
   "cell_type": "markdown",
   "metadata": {},
   "source": [
    "La suite de Fibonacci, nommée F est définie comme suit :\n",
    "\n",
    "    F(0) = 0, F(1) = 1\n",
    "    et pour n entier et n > 1 : F(n) = F(n-1) + F(n-2)\n"
   ]
  },
  {
   "cell_type": "markdown",
   "metadata": {},
   "source": [
    "1. Déterminer les six premiers termes de cette suite."
   ]
  },
  {
   "cell_type": "markdown",
   "metadata": {},
   "source": [
    "2. Ecrire deux fonctions, ```Fibo_iter``` et ```Fibo_rec```, l'une itérative, l'autre récursive, permettant de calculer le terme de rang n de cette suite."
   ]
  },
  {
   "cell_type": "code",
   "execution_count": null,
   "metadata": {},
   "outputs": [],
   "source": []
  },
  {
   "cell_type": "code",
   "execution_count": null,
   "metadata": {},
   "outputs": [],
   "source": []
  },
  {
   "cell_type": "markdown",
   "metadata": {},
   "source": [
    "3. Etudier la complexité en temps de chacune de ces fonctions (on utilisera le module time, et/ou un compteur de boucle)"
   ]
  },
  {
   "cell_type": "code",
   "execution_count": null,
   "metadata": {},
   "outputs": [],
   "source": [
    "from time import time\n",
    "N = 30"
   ]
  },
  {
   "cell_type": "code",
   "execution_count": null,
   "metadata": {},
   "outputs": [],
   "source": []
  },
  {
   "cell_type": "code",
   "execution_count": null,
   "metadata": {},
   "outputs": [],
   "source": []
  },
  {
   "cell_type": "markdown",
   "metadata": {},
   "source": [
    "4. Essayer de calculer le terme de rang 50 de cette suite avec la fonction récursive. Quel est le problème rencontré ? Pourquoi ? (On pourra s'aider d'un arbre pour modéliser le principe de cette fonction."
   ]
  },
  {
   "cell_type": "code",
   "execution_count": null,
   "metadata": {},
   "outputs": [],
   "source": []
  },
  {
   "cell_type": "markdown",
   "metadata": {},
   "source": [
    "Pour pallier ce problème, il parait souhaitable de mémoriser les termes déjà calculés au fur et à mesure. Cette méthode s'appelle la **mémoïsation**.\n"
   ]
  },
  {
   "cell_type": "markdown",
   "metadata": {},
   "source": [
    "5. Compléter le programme suivant afin qu'il fasse cette mémoïsation. On utilisera des paramètres *accumulateurs*."
   ]
  },
  {
   "cell_type": "code",
   "execution_count": null,
   "metadata": {},
   "outputs": [],
   "source": [
    "def Fibo_recmemo(n, accu_1 = 1, accu_2 = 0):\n",
    "    \"\"\"\n",
    "    Calcul le n-ième terme de la suite de Fibonacci\n",
    "    Mémoïsation par accumulation\n",
    "    \"\"\"\n",
    "    if n == 0:\n",
    "        return \n",
    "    elif n == 1 :\n",
    "        return \n",
    "    else:\n",
    "        return\n",
    "    \n",
    "    "
   ]
  },
  {
   "cell_type": "markdown",
   "metadata": {},
   "source": [
    "6. Vérifier qu'avec cette méthode, on peut sans problème calculer les termes de rang 50 et 100, et donner leurs valeurs."
   ]
  },
  {
   "cell_type": "code",
   "execution_count": null,
   "metadata": {},
   "outputs": [],
   "source": []
  },
  {
   "cell_type": "markdown",
   "metadata": {},
   "source": [
    "7. Tracer sur un même graphe les temps des 3 méthodes étudiées dans ce TP et comparer."
   ]
  },
  {
   "cell_type": "code",
   "execution_count": null,
   "metadata": {},
   "outputs": [],
   "source": []
  }
 ],
 "metadata": {
  "kernelspec": {
   "display_name": "Python 3",
   "language": "python",
   "name": "python3"
  },
  "language_info": {
   "codemirror_mode": {
    "name": "ipython",
    "version": 3
   },
   "file_extension": ".py",
   "mimetype": "text/x-python",
   "name": "python",
   "nbconvert_exporter": "python",
   "pygments_lexer": "ipython3",
   "version": "3.7.6"
  }
 },
 "nbformat": 4,
 "nbformat_minor": 4
}
