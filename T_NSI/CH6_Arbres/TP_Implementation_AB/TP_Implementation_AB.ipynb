{
 "cells": [
  {
   "cell_type": "markdown",
   "metadata": {},
   "source": [
    "# TP IMPLEMENTATION DES ARBRES BINAIRES"
   ]
  },
  {
   "cell_type": "markdown",
   "metadata": {},
   "source": [
    "L'objectif de ce TP est d'implémenter, sous forme de classe, les arbres binaires : création, taille, hauteur, parcours ..."
   ]
  },
  {
   "cell_type": "markdown",
   "metadata": {},
   "source": [
    "## Création d'un arbre binaire"
   ]
  },
  {
   "cell_type": "markdown",
   "metadata": {},
   "source": [
    "On  vu dans le cours le principe de la création d'un arbre binaire dont chaque noeud est défini par son sous-arbre gauche, sa valeur et son sous-arbre de droite."
   ]
  },
  {
   "cell_type": "markdown",
   "metadata": {},
   "source": [
    " 1. Compléter le constructeur de la classe ```Noeud``` (ce constructeur crée en réalité un noeud, qui, à la manière des listes chaînées, contient un sous-arbre gauche et un sous-arbre droit) :"
   ]
  },
  {
   "cell_type": "code",
   "execution_count": null,
   "metadata": {},
   "outputs": [],
   "source": [
    "class Noeud:\n",
    "    \"\"\"\n",
    "    Classe implémentant un arbre binaire dont les noeuds sont caractérisés par\n",
    "    - une valeur (de type quelconque)\n",
    "    - un fils gauche et un fils droit\n",
    "    Les enfants gauche et droit sont eux-mêmes des arbres\n",
    "    \"\"\"\n",
    "    def __init__(self, gauche = None, valeur = None, droit = None):\n",
    "        self.valeur = valeur\n",
    "        self.gauche = gauche\n",
    "        self.droit = droit\n",
    "        "
   ]
  },
  {
   "cell_type": "markdown",
   "metadata": {},
   "source": [
    " 2. Tester le constructeur en créant un arbre vide ```a```."
   ]
  },
  {
   "cell_type": "code",
   "execution_count": null,
   "metadata": {},
   "outputs": [],
   "source": []
  },
  {
   "cell_type": "code",
   "execution_count": null,
   "metadata": {},
   "outputs": [],
   "source": []
  },
  {
   "cell_type": "markdown",
   "metadata": {},
   "source": [
    " 3. Créer un arbre binaire ```b``` de taille 1 dont la racine a pour valeur 3 et un autre arbre binaire ```c``` de taille 1 dont la valeur vaut 2. On a ainsi créé deux **feuilles**."
   ]
  },
  {
   "cell_type": "code",
   "execution_count": null,
   "metadata": {},
   "outputs": [],
   "source": []
  },
  {
   "cell_type": "code",
   "execution_count": null,
   "metadata": {},
   "outputs": [],
   "source": []
  },
  {
   "cell_type": "markdown",
   "metadata": {},
   "source": [
    "Vous pouvez visualiser l'arbre à l'aide de la méthode ```affiche()``` ci-dessous, **à rajouter dans la classe ```Noeud```**."
   ]
  },
  {
   "cell_type": "raw",
   "metadata": {},
   "source": [
    "def affiche(self):\n",
    "    \"\"\"permet d'afficher un arbre\"\"\"\n",
    "    if self.gauche == None and self.droit == None:\n",
    "        return self.valeur\n",
    "    elif self.gauche == None:\n",
    "        return [self.valeur, self.droit.affiche()]\n",
    "    elif self.droit == None:\n",
    "        return [self.valeur, self.gauche.affiche()]\n",
    "    else:\n",
    "        return [self.valeur,self.gauche.affiche(),self.droit.affiche()]"
   ]
  },
  {
   "cell_type": "markdown",
   "metadata": {},
   "source": [
    "4. Tester cette méthode sur les arbres créés précédemment."
   ]
  },
  {
   "cell_type": "code",
   "execution_count": null,
   "metadata": {},
   "outputs": [],
   "source": []
  },
  {
   "cell_type": "markdown",
   "metadata": {},
   "source": [
    "5. Créer, à l'aide des deux feuilles précédentes l'arbre binaire ```d``` :\n",
    "<img src =\"images/arbre_c.png\">"
   ]
  },
  {
   "cell_type": "code",
   "execution_count": null,
   "metadata": {},
   "outputs": [],
   "source": []
  },
  {
   "cell_type": "code",
   "execution_count": null,
   "metadata": {},
   "outputs": [],
   "source": []
  },
  {
   "cell_type": "markdown",
   "metadata": {},
   "source": [
    "6. Créer l'arbre ```e``` :\n",
    "<img src =\"images/arbre_d.png\">"
   ]
  },
  {
   "cell_type": "code",
   "execution_count": null,
   "metadata": {},
   "outputs": [],
   "source": []
  },
  {
   "cell_type": "markdown",
   "metadata": {},
   "source": [
    "7. Créer les méthodes ```get_gauche(self)``` et ```get_droit(self)``` qui renvoient respectivement les fils gauche et droit du noeud, **à rajouter dans la classe ```Noeud```**."
   ]
  },
  {
   "cell_type": "code",
   "execution_count": null,
   "metadata": {},
   "outputs": [],
   "source": []
  },
  {
   "cell_type": "code",
   "execution_count": null,
   "metadata": {},
   "outputs": [],
   "source": []
  },
  {
   "cell_type": "markdown",
   "metadata": {},
   "source": [
    "## Modifier l'arbre"
   ]
  },
  {
   "cell_type": "markdown",
   "metadata": {},
   "source": [
    "1. Créer une méthode ```set_valeur(self)``` qui permet de modifier la valeur du noeud, **à rajouter dans la classe ```Noeud```**."
   ]
  },
  {
   "cell_type": "markdown",
   "metadata": {},
   "source": [
    "Puis modifier la valeur du noeud ```d``` pour qu'elle devienne 12.\n",
    "<img src =\"images/arbre_c.png\">"
   ]
  },
  {
   "cell_type": "code",
   "execution_count": null,
   "metadata": {},
   "outputs": [],
   "source": []
  },
  {
   "cell_type": "code",
   "execution_count": null,
   "metadata": {},
   "outputs": [],
   "source": []
  },
  {
   "cell_type": "markdown",
   "metadata": {},
   "source": [
    "2. Créer de même les méthodes ```set_gauche(self)``` et ```set_droit(self)``` qui modifient les fils gauche ou droit du noeud, **à rajouter dans la classe ```Noeud```**."
   ]
  },
  {
   "cell_type": "markdown",
   "metadata": {},
   "source": [
    "Puis modifier l'arbre d pour qu'il devienne :\n",
    "<img src =\"images/arbre_c_3.png\">"
   ]
  },
  {
   "cell_type": "code",
   "execution_count": null,
   "metadata": {},
   "outputs": [],
   "source": []
  },
  {
   "cell_type": "code",
   "execution_count": null,
   "metadata": {},
   "outputs": [],
   "source": []
  },
  {
   "cell_type": "markdown",
   "metadata": {},
   "source": [
    "## Caractéristiques de l'arbre"
   ]
  },
  {
   "cell_type": "markdown",
   "metadata": {},
   "source": [
    "<h3> a. taille d'un arbre </h3>"
   ]
  },
  {
   "cell_type": "markdown",
   "metadata": {},
   "source": [
    "On peut déterminer, de manière récursive, la taille de l'arbre."
   ]
  },
  {
   "cell_type": "markdown",
   "metadata": {},
   "source": [
    " - Quelle est la condition d'arrêt ? "
   ]
  },
  {
   "cell_type": "markdown",
   "metadata": {},
   "source": [
    " - Si l'arbre est vide, on retourne 0. Si l'arbre est une feuille, on retourne 1. Quel est l'appel récursif à effectuer (on détaillera les différents cas selon qu'il existe ou non des sous-arbres droit et gauche) ?"
   ]
  },
  {
   "cell_type": "markdown",
   "metadata": {},
   "source": [
    " - Ecrire le code de cette méthode ```taille```."
   ]
  },
  {
   "cell_type": "code",
   "execution_count": null,
   "metadata": {},
   "outputs": [],
   "source": []
  },
  {
   "cell_type": "markdown",
   "metadata": {},
   "source": [
    "<h3> b. hauteur </h3>"
   ]
  },
  {
   "cell_type": "markdown",
   "metadata": {},
   "source": [
    " - Ecrire, en procédant de même, la méthode permettant de déterminer la hauteur de l'arbre."
   ]
  },
  {
   "cell_type": "markdown",
   "metadata": {},
   "source": [
    "La condition d'arrêt est : **si l'arbre est une feuille, on retourne 1.**\n",
    "\n",
    "La hauteur d'un arbre vaut 1 + la plus grande des hauteurs de ses sous-arbres gauche et droit sinon.\n"
   ]
  },
  {
   "cell_type": "code",
   "execution_count": null,
   "metadata": {},
   "outputs": [],
   "source": []
  },
  {
   "cell_type": "markdown",
   "metadata": {},
   "source": [
    "## Parcours d'un arbre "
   ]
  },
  {
   "cell_type": "markdown",
   "metadata": {},
   "source": [
    "<h3> a. Parcours en largeur </h3>"
   ]
  },
  {
   "cell_type": "markdown",
   "metadata": {},
   "source": [
    "Pour déterminer le parcours en largeur d'un arbre, le plus simple est d'utiliser la structure de file."
   ]
  },
  {
   "cell_type": "markdown",
   "metadata": {},
   "source": [
    "- Compléter le code suivant qui implémente la méthode ```parcours_largeur()```"
   ]
  },
  {
   "cell_type": "code",
   "execution_count": null,
   "metadata": {},
   "outputs": [],
   "source": [
    "from FILE import *\n",
    "\n",
    "def parcours_largeur(self):\n",
    "    f = CREER_FILE_VIDE()\n",
    "    ENFILER(f, self)\n",
    "    parcours = []\n",
    "    while not EST_VIDE(f):\n",
    "        noeud_en_cours = DEFILER(f)\n",
    "        \n",
    "        #### A COMPLETER ####\n",
    "        \n",
    "       \n",
    "        \n",
    "            \n",
    "    return parcours\n"
   ]
  },
  {
   "cell_type": "markdown",
   "metadata": {},
   "source": [
    " - Tester ce programme sur les arbres déjà créés, ainsi que sur l'exemple du cours donné ci-dessous :"
   ]
  },
  {
   "cell_type": "code",
   "execution_count": null,
   "metadata": {},
   "outputs": [],
   "source": [
    "f = Noeud(Noeud(Noeud(None,5,None),8,Noeud(None,10, None)),11, Noeud(Noeud(None,13,None),14,Noeud(None,15,None)))"
   ]
  },
  {
   "cell_type": "code",
   "execution_count": null,
   "metadata": {},
   "outputs": [],
   "source": []
  },
  {
   "cell_type": "markdown",
   "metadata": {},
   "source": [
    "<h3>b. Parcours en profondeur préfixe </h3>"
   ]
  },
  {
   "cell_type": "markdown",
   "metadata": {},
   "source": [
    "Dans un parcours en profondeur préfixe, on effectue le parcours de chaque noeud avant d'explorer le sous-arbre correspondant. </br>\n",
    "Ce parcours s'implémente de manière récursive de la façon suivante :\n"
   ]
  },
  {
   "cell_type": "raw",
   "metadata": {},
   "source": [
    "Parcours_Prefixe(Arbre):\n",
    "    Afficher la racine de Arbre\n",
    "    pour tous les enfants e de la racine:\n",
    "        Parcours_Prefixe(sous_Arbre issu de e)"
   ]
  },
  {
   "cell_type": "markdown",
   "metadata": {},
   "source": [
    " - Adapter cet algorithme dans le cas d'un arbre binaire."
   ]
  },
  {
   "cell_type": "raw",
   "metadata": {},
   "source": [
    "Parcours_Prefixe(Noeud):\n",
    "    Afficher la racine de Noeud\n",
    "    si on a un sous-arbre gauche :\n",
    "        ajouter Parcours_Prefixe(sous-arbre gauche)\n",
    "    si on a un sous-arbre droit :\n",
    "        ajouter Parcours_Prefixe(sous-arbre droit)"
   ]
  },
  {
   "cell_type": "markdown",
   "metadata": {},
   "source": [
    " - Implémenter cette méthode en Python."
   ]
  },
  {
   "cell_type": "markdown",
   "metadata": {},
   "source": [
    " - Tester ce programme sur les arbres déjà créés, ainsi que sur l'exemple du cours."
   ]
  },
  {
   "cell_type": "code",
   "execution_count": null,
   "metadata": {},
   "outputs": [],
   "source": []
  },
  {
   "cell_type": "markdown",
   "metadata": {},
   "source": [
    "<h3> c. Parcours postfixe </h3>"
   ]
  },
  {
   "cell_type": "markdown",
   "metadata": {},
   "source": [
    "Dans un parcours en profondeur postfixe, on effectue le parcours de chaque noeud après avoir exploré le sous-arbre correspondant. </br>\n",
    "Ce parcours s'implémente de manière récursive de la façon suivante :"
   ]
  },
  {
   "cell_type": "raw",
   "metadata": {},
   "source": [
    "ParcoursPostfixe(arbre):\n",
    "    Pour tous les enfants e de la racine de arbre:\n",
    "        Parcours_postfixe(Sous-arbre issu de e)\n",
    "    Afficher la racine de arbre"
   ]
  },
  {
   "cell_type": "markdown",
   "metadata": {},
   "source": [
    " - Adapter cet algorithme dans le cas d'un arbre binaire."
   ]
  },
  {
   "cell_type": "raw",
   "metadata": {},
   "source": [
    "Parcours_Postfixe(Noeud):\n",
    "    si on a un sous-arbre gauche :\n",
    "        ajouter Parcours_Postfixe(sous-arbre gauche)\n",
    "    si on a un sous-arbre droit :\n",
    "        ajouter Parcours_Postfixe(sous-arbre droit)\n",
    "    Afficher la racine de Noeud"
   ]
  },
  {
   "cell_type": "markdown",
   "metadata": {},
   "source": [
    " - Implémenter cette méthode."
   ]
  },
  {
   "cell_type": "code",
   "execution_count": null,
   "metadata": {},
   "outputs": [],
   "source": []
  },
  {
   "cell_type": "code",
   "execution_count": null,
   "metadata": {},
   "outputs": [],
   "source": []
  }
 ],
 "metadata": {
  "kernelspec": {
   "display_name": "Python 3",
   "language": "python",
   "name": "python3"
  },
  "language_info": {
   "codemirror_mode": {
    "name": "ipython",
    "version": 3
   },
   "file_extension": ".py",
   "mimetype": "text/x-python",
   "name": "python",
   "nbconvert_exporter": "python",
   "pygments_lexer": "ipython3",
   "version": "3.7.6"
  }
 },
 "nbformat": 4,
 "nbformat_minor": 4
}
