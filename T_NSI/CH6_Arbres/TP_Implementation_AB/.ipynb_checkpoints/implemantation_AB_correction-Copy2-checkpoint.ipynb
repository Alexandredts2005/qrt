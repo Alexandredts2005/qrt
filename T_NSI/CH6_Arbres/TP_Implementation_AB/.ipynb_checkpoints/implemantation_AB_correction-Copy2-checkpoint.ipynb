{
 "cells": [
  {
   "cell_type": "markdown",
   "metadata": {},
   "source": [
    "# TP IMPLEMENTATION DES ARBRES BINAIRES"
   ]
  },
  {
   "cell_type": "markdown",
   "metadata": {},
   "source": [
    "L'objectif de ce TP est d'implémenter, sous forme de classe, les arbres binaires : création, taille, hauteur, parcours ..."
   ]
  },
  {
   "cell_type": "markdown",
   "metadata": {},
   "source": [
    "## Création d'un arbre binaire"
   ]
  },
  {
   "cell_type": "markdown",
   "metadata": {},
   "source": [
    "On  vu dans le cours le principe de la création d'un arbre binaire dont chaque noeud est défini par son sous-arbre gauche, sa valeur et son sous-arbre de droite."
   ]
  },
  {
   "cell_type": "markdown",
   "metadata": {},
   "source": [
    " 1. Compléter le constructeur de la classe ```Noeud``` (ce constructeur crée en réalité un noeud, qui, à la manière des listes chaînées, contient un sous-arbre gauche et un sous-arbre droit) :"
   ]
  },
  {
   "cell_type": "code",
   "execution_count": 25,
   "metadata": {},
   "outputs": [],
   "source": [
    "class Noeud:\n",
    "    \"\"\"\n",
    "    Classe implémentant un arbre binaire dont les noeuds sont caractérisés par\n",
    "    - une valeur (de type quelconque)\n",
    "    - un fils gauche et un fils droit\n",
    "    Les enfants gauche et droit sont eux-mêmes des arbres\n",
    "    \"\"\"\n",
    "    def __init__(self, gauche = None, valeur = None, droit = None):\n",
    "        self.valeur = valeur\n",
    "        self.gauche = gauche\n",
    "        self.droit = droit\n",
    "        \n",
    "## RAJOUT\n",
    "    def affiche(self):\n",
    "        \"\"\" Afficher un arbre \"\"\"\n",
    "        if self.gauche == None and self.droit == None:\n",
    "            return self.valeur\n",
    "        elif self.gauche == None:\n",
    "            return [self.valeur, self.droit.affiche()]\n",
    "        elif self.droit == None:\n",
    "            return [self.gauche.affiche(), self.valeur]\n",
    "        else:\n",
    "            return [self.gauche.affiche(), self.valeur, self.droit.affiche()]\n",
    "\n",
    "    \"\"\"def get_valeur(self):\n",
    "        Accède à la valeur de l'arbre\n",
    "        return self.valeur\"\"\"\n",
    "    def get_gauche(self):\n",
    "        \"\"\" Accesseur du fils gauche \"\"\"\n",
    "        return self.gauche\n",
    "    \n",
    "    def get_droit(self):\n",
    "        \"\"\" Accesseur du fils droit \"\"\"\n",
    "        return self.droit\n",
    "    \n",
    "    def set_valeur(self, valeur):\n",
    "        \"\"\" Mutateur de la valeur du noeud \"\"\"\n",
    "        self.valeur = valeur\n",
    "        \n",
    "    def set_gauche(self, arbre):\n",
    "        \"\"\" Mutateur du fils gauche \"\"\"\n",
    "        self.gauche = arbre\n",
    "        \n",
    "    def set_droit(self, arbre):\n",
    "        \"\"\" Mutateur du fils droit \"\"\"\n",
    "        self.droit = arbre\n",
    "        \n",
    "    def taille(self):\n",
    "        \"\"\" Taille de l'arbre \"\"\"\n",
    "        if self.valeur == None:\n",
    "            return 0\n",
    "        if self.gauche == None and self.droit == None:\n",
    "            return 1\n",
    "        elif self.gauche == None: \n",
    "            return 1 + self.droit.taille()\n",
    "        else:\n",
    "            return 1 + self.gauche.taille()\n",
    "        \n",
    "    def hauteur(self):\n",
    "        \"\"\" hauteur de l'arbre \"\"\"\n",
    "        if self.valeur == None:\n",
    "            return 0\n",
    "        if self.gauche == None and self.droit == None:\n",
    "            return 1\n",
    "        elif self.gauche == None:\n",
    "            return 1 + self.droit.hauteur()\n",
    "        elif self.droit == None:\n",
    "            return 1 + self.gauche.hauteur()\n",
    "        else:\n",
    "            return 1 + max(self.gauche.hauteur() , self.droit.hauteur()) \n",
    "    \n",
    "    def parcours_largeur(self):\n",
    "        f = CREER_FILE_VIDE()\n",
    "        ENFILER(f, self)\n",
    "        parcours = []\n",
    "        while not EST_VIDE(f):\n",
    "            noeud_en_cours = DEFILER(f)\n",
    "            parcours.append(noeud_en_cours.valeur)\n",
    "        \n",
    "            if noeud_en_cours.gauche != None:\n",
    "                ENFILER(f, noeud_en_cours.gauche)\n",
    "            if noeud_en_cours.droit != None:\n",
    "                ENFILER(f, noeud_en_cours.droit)\n",
    "            \n",
    "        return parcours\n",
    "    \n",
    "    def parcours_prefixe(self):\n",
    "        parcours = []\n",
    "        parcours = parcours + [self.valeur]\n",
    "        if self.gauche != None:\n",
    "            parcours = parcours + [self.gauche.parcours_prefixe()]\n",
    "        if self.droit != None:\n",
    "            parcours = parcours + [self.droit.parcours_prefixe()]\n",
    "        return parcours\n",
    "    \n",
    "    def parcours_postfixe(self):\n",
    "        parcours = []\n",
    "        if self.gauche != None:\n",
    "            parcours.append(self.gauche.parcours_postfixe())\n",
    "        if self.droit != None:\n",
    "            parcours.append(self.droit.parcours_postfixe())\n",
    "        parcours.append(self.valeur)\n",
    "        return parcours"
   ]
  },
  {
   "cell_type": "markdown",
   "metadata": {},
   "source": [
    " 2. Tester le constructeur en créant un arbre vide ```a```."
   ]
  },
  {
   "cell_type": "code",
   "execution_count": 26,
   "metadata": {},
   "outputs": [],
   "source": [
    "a = Noeud()"
   ]
  },
  {
   "cell_type": "code",
   "execution_count": 27,
   "metadata": {},
   "outputs": [
    {
     "name": "stdout",
     "output_type": "stream",
     "text": [
      "None\n",
      "None\n",
      "None\n"
     ]
    }
   ],
   "source": [
    "print(a.valeur)\n",
    "print(a.gauche)\n",
    "print(a.droit)"
   ]
  },
  {
   "cell_type": "markdown",
   "metadata": {},
   "source": [
    " 3. Créer un arbre binaire ```b``` de taille 1 dont la racine a pour valeur 3 et un autre arbre binaire ```c``` de taille 1 dont la valeur vaut 2. On a ainsi créé deux **feuilles**."
   ]
  },
  {
   "cell_type": "code",
   "execution_count": 28,
   "metadata": {},
   "outputs": [],
   "source": [
    "b = Noeud(None, 3, None)\n",
    "c = Noeud(None, 2, None)"
   ]
  },
  {
   "cell_type": "code",
   "execution_count": 29,
   "metadata": {},
   "outputs": [
    {
     "data": {
      "text/plain": [
       "2"
      ]
     },
     "execution_count": 29,
     "metadata": {},
     "output_type": "execute_result"
    }
   ],
   "source": [
    "b.valeur\n",
    "c.valeur"
   ]
  },
  {
   "cell_type": "markdown",
   "metadata": {},
   "source": [
    "Vous pouvez visualiser l'arbre à l'aide de la méthode ```affiche()``` ci-dessous, **à rajouter dans la classe ```Noeud```**."
   ]
  },
  {
   "cell_type": "raw",
   "metadata": {},
   "source": [
    "def affiche(self):\n",
    "    \"\"\"permet d'afficher un arbre\"\"\"\n",
    "    if self.gauche == None and self.droit == None:\n",
    "        return self.valeur\n",
    "    elif self.gauche == None:\n",
    "        return [self.valeur, self.droit.affiche()]\n",
    "    elif self.droit == None:\n",
    "        return [self.valeur, self.gauche.affiche()]\n",
    "    else:\n",
    "        return [self.valeur,self.gauche.affiche(),self.droit.affiche()]"
   ]
  },
  {
   "cell_type": "markdown",
   "metadata": {},
   "source": [
    "4. Tester cette méthode sur les arbres créés précédemment."
   ]
  },
  {
   "cell_type": "code",
   "execution_count": null,
   "metadata": {},
   "outputs": [],
   "source": []
  },
  {
   "cell_type": "markdown",
   "metadata": {},
   "source": [
    "5. Créer, à l'aide des deux feuilles précédentes l'arbre binaire ```d``` :\n",
    "<img src =\"images/arbre_c.png\">"
   ]
  },
  {
   "cell_type": "code",
   "execution_count": 30,
   "metadata": {},
   "outputs": [],
   "source": [
    "d = Noeud(c , 1 , b)"
   ]
  },
  {
   "cell_type": "code",
   "execution_count": 31,
   "metadata": {},
   "outputs": [
    {
     "data": {
      "text/plain": [
       "[2, 1, 3]"
      ]
     },
     "execution_count": 31,
     "metadata": {},
     "output_type": "execute_result"
    }
   ],
   "source": [
    "d.affiche()"
   ]
  },
  {
   "cell_type": "markdown",
   "metadata": {},
   "source": [
    "6. Créer l'arbre ```e``` :\n",
    "<img src =\"images/arbre_d.png\">"
   ]
  },
  {
   "cell_type": "code",
   "execution_count": 32,
   "metadata": {},
   "outputs": [
    {
     "data": {
      "text/plain": [
       "[[4, 2, 5], 1, [3, 6]]"
      ]
     },
     "execution_count": 32,
     "metadata": {},
     "output_type": "execute_result"
    }
   ],
   "source": [
    "f4 = Noeud(None, 4, None)\n",
    "f5 = Noeud(None, 5, None)\n",
    "f6 = Noeud(None, 6, None)\n",
    "N2 = Noeud(f4, 2 , f5)\n",
    "N3 = Noeud(None, 3, f6)\n",
    "e = Noeud(N2 , 1, N3)\n",
    "\n",
    "e.affiche()"
   ]
  },
  {
   "cell_type": "markdown",
   "metadata": {},
   "source": [
    "7. Créer les méthodes ```get_gauche(self)``` et ```get_droit(self)``` qui renvoient respectivement les fils gauche et droit du noeud, **à rajouter dans la classe ```Noeud```**."
   ]
  },
  {
   "cell_type": "code",
   "execution_count": 33,
   "metadata": {},
   "outputs": [
    {
     "data": {
      "text/plain": [
       "2"
      ]
     },
     "execution_count": 33,
     "metadata": {},
     "output_type": "execute_result"
    }
   ],
   "source": [
    "gauche = d.get_gauche()\n",
    "gauche.valeur"
   ]
  },
  {
   "cell_type": "code",
   "execution_count": 34,
   "metadata": {},
   "outputs": [
    {
     "data": {
      "text/plain": [
       "3"
      ]
     },
     "execution_count": 34,
     "metadata": {},
     "output_type": "execute_result"
    }
   ],
   "source": [
    "drte = d.get_droit()\n",
    "drte.valeur"
   ]
  },
  {
   "cell_type": "markdown",
   "metadata": {},
   "source": [
    "## Modifier l'arbre"
   ]
  },
  {
   "cell_type": "markdown",
   "metadata": {},
   "source": [
    "1. Créer une méthode ```set_valeur(self)``` qui permet de modifier la valeur du noeud, **à rajouter dans la classe ```Noeud```**."
   ]
  },
  {
   "cell_type": "markdown",
   "metadata": {},
   "source": [
    "Puis modifier la valeur du noeud ```d``` pour qu'elle devienne 12.\n",
    "<img src =\"images/arbre_c.png\">"
   ]
  },
  {
   "cell_type": "code",
   "execution_count": 35,
   "metadata": {},
   "outputs": [],
   "source": [
    "d.set_valeur(12)"
   ]
  },
  {
   "cell_type": "code",
   "execution_count": 36,
   "metadata": {},
   "outputs": [
    {
     "data": {
      "text/plain": [
       "[2, 12, 3]"
      ]
     },
     "execution_count": 36,
     "metadata": {},
     "output_type": "execute_result"
    }
   ],
   "source": [
    "d.affiche()"
   ]
  },
  {
   "cell_type": "markdown",
   "metadata": {},
   "source": [
    "2. Créer de même les méthodes ```set_gauche(self)``` et ```set_droit(self)``` qui modifient les fils gauche ou droit du noeud, **à rajouter dans la classe ```Noeud```**."
   ]
  },
  {
   "cell_type": "markdown",
   "metadata": {},
   "source": [
    "Puis modifier l'arbre d pour qu'il devienne :\n",
    "<img src =\"images/arbre_c_3.png\">"
   ]
  },
  {
   "cell_type": "code",
   "execution_count": 37,
   "metadata": {},
   "outputs": [],
   "source": [
    "c.set_valeur(5)\n",
    "b.set_valeur(7)\n",
    "# on peut aussi modifier les feuilles et refaire l'arbre mais c'est plus long ^^"
   ]
  },
  {
   "cell_type": "code",
   "execution_count": 38,
   "metadata": {},
   "outputs": [
    {
     "name": "stdout",
     "output_type": "stream",
     "text": [
      "12\n",
      "5\n",
      "7\n"
     ]
    }
   ],
   "source": [
    "print(d.valeur)\n",
    "print(d.get_gauche().valeur)\n",
    "print(d.get_droit().valeur)"
   ]
  },
  {
   "cell_type": "markdown",
   "metadata": {},
   "source": [
    "## Caractéristiques de l'arbre"
   ]
  },
  {
   "cell_type": "markdown",
   "metadata": {},
   "source": [
    "<h3> a. taille d'un arbre </h3>"
   ]
  },
  {
   "cell_type": "markdown",
   "metadata": {},
   "source": [
    "On peut déterminer, de manière récursive, la taille de l'arbre."
   ]
  },
  {
   "cell_type": "markdown",
   "metadata": {},
   "source": [
    " - Quelle est la condition d'arrêt ? "
   ]
  },
  {
   "cell_type": "markdown",
   "metadata": {},
   "source": [
    " - Si l'arbre est vide, on retourne 0. Si l'arbre est une feuille, on retourne 1. Quel est l'appel récursif à effectuer (on détaillera les différents cas selon qu'il existe ou non des sous-arbres droit et gauche) ?"
   ]
  },
  {
   "cell_type": "code",
   "execution_count": 39,
   "metadata": {},
   "outputs": [],
   "source": [
    " # taille = 1 + taille(sag) + taille(sag) s'il y a deux sous-arbres, sinon on ne traite que celui qui existe."
   ]
  },
  {
   "cell_type": "markdown",
   "metadata": {},
   "source": [
    " - Ecrire le code de cette méthode ```taille```."
   ]
  },
  {
   "cell_type": "code",
   "execution_count": 40,
   "metadata": {},
   "outputs": [
    {
     "data": {
      "text/plain": [
       "[[4, 2, 5], 1, [3, 6]]"
      ]
     },
     "execution_count": 40,
     "metadata": {},
     "output_type": "execute_result"
    }
   ],
   "source": [
    "e.affiche()"
   ]
  },
  {
   "cell_type": "code",
   "execution_count": 41,
   "metadata": {},
   "outputs": [
    {
     "data": {
      "text/plain": [
       "3"
      ]
     },
     "execution_count": 41,
     "metadata": {},
     "output_type": "execute_result"
    }
   ],
   "source": [
    "e.taille()"
   ]
  },
  {
   "cell_type": "markdown",
   "metadata": {},
   "source": [
    "<h3> b. hauteur </h3>"
   ]
  },
  {
   "cell_type": "markdown",
   "metadata": {},
   "source": [
    " - Ecrire, en procédant de même, la méthode permettant de déterminer la hauteur de l'arbre."
   ]
  },
  {
   "cell_type": "markdown",
   "metadata": {},
   "source": [
    "La condition d'arrêt est : **si l'arbre est une feuille, on retourne 1.**\n",
    "\n",
    "La hauteur d'un arbre vaut 1 + la plus grande des hauteurs de ses sous-arbres gauche et droit sinon.\n"
   ]
  },
  {
   "cell_type": "code",
   "execution_count": 42,
   "metadata": {},
   "outputs": [
    {
     "data": {
      "text/plain": [
       "3"
      ]
     },
     "execution_count": 42,
     "metadata": {},
     "output_type": "execute_result"
    }
   ],
   "source": [
    "e.hauteur()"
   ]
  },
  {
   "cell_type": "markdown",
   "metadata": {},
   "source": [
    "## Parcours d'un arbre "
   ]
  },
  {
   "cell_type": "markdown",
   "metadata": {},
   "source": [
    "<h3> a. Parcours en largeur </h3>"
   ]
  },
  {
   "cell_type": "markdown",
   "metadata": {},
   "source": [
    "Pour déterminer le parcours en largeur d'un arbre, le plus simple est d'utiliser la structure de file."
   ]
  },
  {
   "cell_type": "markdown",
   "metadata": {},
   "source": [
    "- Compléter le code suivant qui implémente la méthode ```parcours_largeur()```"
   ]
  },
  {
   "cell_type": "code",
   "execution_count": 43,
   "metadata": {},
   "outputs": [],
   "source": [
    "from FILE import *\n",
    "\n",
    "def parcours_largeur(self):\n",
    "    f = CREER_FILE_VIDE()\n",
    "    ENFILER(f, self)\n",
    "    parcours = []\n",
    "    while not EST_VIDE(f):\n",
    "        noeud_en_cours = DEFILER(f)\n",
    "        parcours.append(noeud_en_cours.valeur)\n",
    "        \n",
    "        if noeud_en_cours.gauche != None:\n",
    "            ENFILER(f, noeud_en_cours.gauche)\n",
    "        if noeud_en_cours.droit != None:\n",
    "            ENFILER(f, noeud_en_cours.droit)\n",
    "            \n",
    "    return parcours\n"
   ]
  },
  {
   "cell_type": "markdown",
   "metadata": {},
   "source": [
    " - Tester ce programme sur les arbres déjà créés, ainsi que sur l'exemple du cours donné ci-dessous :"
   ]
  },
  {
   "cell_type": "code",
   "execution_count": 44,
   "metadata": {},
   "outputs": [],
   "source": [
    "f = Noeud(Noeud(Noeud(None,5,None),8,Noeud(None,10, None)),11, Noeud(Noeud(None,13,None),14,Noeud(None,15,None)))"
   ]
  },
  {
   "cell_type": "code",
   "execution_count": 45,
   "metadata": {},
   "outputs": [
    {
     "name": "stdout",
     "output_type": "stream",
     "text": [
      "[[5, 8, 10], 11, [13, 14, 15]]\n",
      "[11, 8, 14, 5, 10, 13, 15]\n"
     ]
    }
   ],
   "source": [
    "print(f.affiche())\n",
    "print(f.parcours_largeur())"
   ]
  },
  {
   "cell_type": "markdown",
   "metadata": {},
   "source": [
    "<h3>b. Parcours en profondeur préfixe </h3>"
   ]
  },
  {
   "cell_type": "markdown",
   "metadata": {},
   "source": [
    "Dans un parcours en profondeur préfixe, on effectue le parcours de chaque noeud avant d'explorer le sous-arbre correspondant. </br>\n",
    "Ce parcours s'implémente de manière récursive de la façon suivante :\n"
   ]
  },
  {
   "cell_type": "raw",
   "metadata": {},
   "source": [
    "Parcours_Prefixe(Arbre):\n",
    "    Afficher la racine de Arbre\n",
    "    pour tous les enfants e de la racine:\n",
    "        Parcours_Prefixe(sous_Arbre issu de e)"
   ]
  },
  {
   "cell_type": "markdown",
   "metadata": {},
   "source": [
    " - Adapter cet algorithme dans le cas d'un arbre binaire."
   ]
  },
  {
   "cell_type": "raw",
   "metadata": {},
   "source": [
    "Parcours_Prefixe(Noeud):\n",
    "    Afficher la racine de Noeud\n",
    "    si on a un sous-arbre gauche :\n",
    "        ajouter Parcours_Prefixe(sous-arbre gauche)\n",
    "    si on a un sous-arbre droit :\n",
    "        ajouter Parcours_Prefixe(sous-arbre droit)"
   ]
  },
  {
   "cell_type": "markdown",
   "metadata": {},
   "source": [
    " - Implémenter cette méthode en Python."
   ]
  },
  {
   "cell_type": "markdown",
   "metadata": {},
   "source": [
    " - Tester ce programme sur les arbres déjà créés, ainsi que sur l'exemple du cours."
   ]
  },
  {
   "cell_type": "code",
   "execution_count": 46,
   "metadata": {},
   "outputs": [
    {
     "data": {
      "text/plain": [
       "[11, [8, [5], [10]], [14, [13], [15]]]"
      ]
     },
     "execution_count": 46,
     "metadata": {},
     "output_type": "execute_result"
    }
   ],
   "source": [
    "f.parcours_prefixe()"
   ]
  },
  {
   "cell_type": "markdown",
   "metadata": {},
   "source": [
    "<h3> c. Parcours postfixe </h3>"
   ]
  },
  {
   "cell_type": "markdown",
   "metadata": {},
   "source": [
    "Dans un parcours en profondeur postfixe, on effectue le parcours de chaque noeud après avoir exploré le sous-arbre correspondant. </br>\n",
    "Ce parcours s'implémente de manière récursive de la façon suivante :"
   ]
  },
  {
   "cell_type": "raw",
   "metadata": {},
   "source": [
    "ParcoursPostfixe(arbre):\n",
    "    Pour tous les enfants e de la racine de arbre:\n",
    "        Parcours_postfixe(Sous-arbre issu de e)\n",
    "    Afficher la racine de arbre"
   ]
  },
  {
   "cell_type": "markdown",
   "metadata": {},
   "source": [
    " - Adapter cet algorithme dans le cas d'un arbre binaire."
   ]
  },
  {
   "cell_type": "raw",
   "metadata": {},
   "source": [
    "Parcours_Postfixe(Noeud):\n",
    "    si on a un sous-arbre gauche :\n",
    "        ajouter Parcours_Postfixe(sous-arbre gauche)\n",
    "    si on a un sous-arbre droit :\n",
    "        ajouter Parcours_Postfixe(sous-arbre droit)\n",
    "    Afficher la racine de Noeud"
   ]
  },
  {
   "cell_type": "markdown",
   "metadata": {},
   "source": [
    " - Implémenter cette méthode."
   ]
  },
  {
   "cell_type": "code",
   "execution_count": 48,
   "metadata": {},
   "outputs": [
    {
     "data": {
      "text/plain": [
       "[[[5], [10], 8], [[13], [15], 14], 11]"
      ]
     },
     "execution_count": 48,
     "metadata": {},
     "output_type": "execute_result"
    }
   ],
   "source": [
    "f.parcours_postfixe()"
   ]
  },
  {
   "cell_type": "code",
   "execution_count": null,
   "metadata": {},
   "outputs": [],
   "source": []
  }
 ],
 "metadata": {
  "kernelspec": {
   "display_name": "Python 3",
   "language": "python",
   "name": "python3"
  },
  "language_info": {
   "codemirror_mode": {
    "name": "ipython",
    "version": 3
   },
   "file_extension": ".py",
   "mimetype": "text/x-python",
   "name": "python",
   "nbconvert_exporter": "python",
   "pygments_lexer": "ipython3",
   "version": "3.7.6"
  }
 },
 "nbformat": 4,
 "nbformat_minor": 4
}
