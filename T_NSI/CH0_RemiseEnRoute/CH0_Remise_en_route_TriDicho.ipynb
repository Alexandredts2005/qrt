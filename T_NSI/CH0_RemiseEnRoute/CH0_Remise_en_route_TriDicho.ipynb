{
 "cells": [
  {
   "cell_type": "markdown",
   "metadata": {},
   "source": [
    "<h1 style=\"border:2px solid blue\"> <center> <b> <br>CH 0 : REMISE EN ROUTE <br><br>tableaux, tris, dichotomie</b> </center> </h1>"
   ]
  },
  {
   "cell_type": "markdown",
   "metadata": {},
   "source": [
    "<h2> <b> <center> PARTIE 1 : PARCOURS D'UN TABLEAU </center> </b> </h2>"
   ]
  },
  {
   "cell_type": "markdown",
   "metadata": {},
   "source": [
    "## Parcours séquentiel total ou partiel d'un tableau"
   ]
  },
  {
   "cell_type": "markdown",
   "metadata": {},
   "source": [
    "Julie, fan de cryptographie, souhaite faire une analyse séquentielle sur un tableau de lettres. Un de ses programmes nécessite d'effectuer le comptage d'occurrences d'une lettre particulière dans le tableau."
   ]
  },
  {
   "cell_type": "markdown",
   "metadata": {},
   "source": [
    "1. Julie peut-elle prévoir à l'avance le nombre de cases du tableau à parcourir ? En déduire le type de boucle à privilégier."
   ]
  },
  {
   "cell_type": "code",
   "execution_count": null,
   "metadata": {},
   "outputs": [],
   "source": []
  },
  {
   "cell_type": "markdown",
   "metadata": {},
   "source": [
    "2. Proposer un algorithme, ou un script, de parcours du tableau qui renvoie le nombre d'occurrences de la lettre cherchée dans un tableau donné."
   ]
  },
  {
   "cell_type": "code",
   "execution_count": null,
   "metadata": {},
   "outputs": [],
   "source": [
    "\n"
   ]
  },
  {
   "cell_type": "markdown",
   "metadata": {},
   "source": [
    "3. Julie souhaite à présent rechercher la présence ou l'absence d'une lettre particulière dans le tableau. Le parcours total du tableau est-il toujours nécessaire ? En déduire le type de boucle à privilégier."
   ]
  },
  {
   "cell_type": "code",
   "execution_count": null,
   "metadata": {},
   "outputs": [],
   "source": []
  },
  {
   "cell_type": "markdown",
   "metadata": {},
   "source": [
    "4. Modifier l'algorithme (ou le script) précédent afin de transformer le parcours total en un parcours partiel. L'algorithme doit renvoyer \"Vrai\" si la lettre cherchée est présente dans le tableau, et \"Faux\" sinon."
   ]
  },
  {
   "cell_type": "code",
   "execution_count": null,
   "metadata": {},
   "outputs": [],
   "source": []
  },
  {
   "cell_type": "markdown",
   "metadata": {},
   "source": [
    "5. Montrer que cet algorithme se termine en examinant la condition de fin de la boucle \"tant que\"."
   ]
  },
  {
   "cell_type": "code",
   "execution_count": null,
   "metadata": {},
   "outputs": [],
   "source": []
  },
  {
   "cell_type": "markdown",
   "metadata": {},
   "source": [
    "6. Déterminer la complexité de chacun des deux algorithmes précédents, en vous plaçant dans le pire des cas possibles."
   ]
  },
  {
   "cell_type": "code",
   "execution_count": null,
   "metadata": {},
   "outputs": [],
   "source": []
  },
  {
   "cell_type": "markdown",
   "metadata": {},
   "source": [
    "## Création fonction min/max \n",
    "\n",
    "A partir d'une liste de scores à PacMan, on cherche à extraire l'indice et la valeur du score minimal et maximal.\n",
    "\n",
    "Créer deux fonctions score_min(scores) et scores_max(scores) qui renvoient chacune le tuple (indice, valeur) demandé."
   ]
  },
  {
   "cell_type": "code",
   "execution_count": null,
   "metadata": {},
   "outputs": [],
   "source": []
  },
  {
   "cell_type": "markdown",
   "metadata": {},
   "source": [
    "\n",
    "<br>\n",
    "<h2> <b> <center> PARTIE 2 : ALGORITHMES DE TRI </center> </b> </h2>\n",
    "\n",
    "##  Tri par insertion"
   ]
  },
  {
   "cell_type": "markdown",
   "metadata": {},
   "source": [
    "<b> PRINCIPE </b> : On parcourt les éléments de la liste et on insère chaque élément dans la liste déjà triée (les premiers éléments déjà traités). Ce tri se fait généralement en place. "
   ]
  },
  {
   "cell_type": "markdown",
   "metadata": {},
   "source": [
    "<b> ALGORITHME </b>  <br>\n",
    "n <-- nombre d'éléments de t (où t est la liste à trier) <br>\n",
    "pour i allant de 1 à n-1 <br>\n",
    "&nbsp;&nbsp;&nbsp;&nbsp;si t[i-1]>t[i]<br>\n",
    "&nbsp;&nbsp;&nbsp;&nbsp; temp <-- t[i]<br>\n",
    "&nbsp;&nbsp;&nbsp;&nbsp;j <-- i-1<br>\n",
    "&nbsp;&nbsp;&nbsp;&nbsp;tant que t[j]>temp et j>-1: <br>\n",
    "&nbsp;&nbsp;&nbsp;&nbsp;&nbsp;&nbsp;&nbsp;&nbsp;permuter t[j+1] et t[j] <br>\n",
    "&nbsp;&nbsp;&nbsp;&nbsp;&nbsp;&nbsp;&nbsp;&nbsp;j=j-1 <br>\n",
    "&nbsp;&nbsp;&nbsp;&nbsp;t[j+1] <-- temp<br>\n",
    "&nbsp;&nbsp;&nbsp;&nbsp;fin tant que <br>\n",
    "\n",
    "fin pour"
   ]
  },
  {
   "cell_type": "markdown",
   "metadata": {},
   "source": [
    "<b> SCRIPT </b>"
   ]
  },
  {
   "cell_type": "code",
   "execution_count": 1,
   "metadata": {},
   "outputs": [],
   "source": [
    "def tri_insertion(t):\n",
    "    \"\"\"procédure qui trie la liste t en place\n",
    "    t est une liste d'entiers\n",
    "    Ne renvoie rien (tri en place)\"\"\"\n",
    "   \n",
    "    for i in range(1, len(t)):   # début du tri à l'indice 1\n",
    "        if t[i-1] > t[i]:    # on repère un élément pas à sa place à l'indice i\n",
    "            temp = t[i]   # on stocke la valeur de t[i] dans une variable temporaire\n",
    "            \n",
    "            j = i - 1       # on créée un sous indice j pour travailler sur la liste triée 0, j\n",
    "            \n",
    "            while t[j] > temp and j > -1:\n",
    "                t[j+1] = t[j]  # on décale les valeurs vers la droite\n",
    "                j = j - 1\n",
    "                \n",
    "            t[j+1] = temp   # on place la valeur de l'ancien t[i]\n",
    "    \n",
    "    return t"
   ]
  },
  {
   "cell_type": "markdown",
   "metadata": {},
   "source": [
    "<b> COUT </b> : le coût de l'algorithme de tri par insertion est **O(n²)**."
   ]
  },
  {
   "cell_type": "markdown",
   "metadata": {},
   "source": [
    "## Tri par sélection"
   ]
  },
  {
   "cell_type": "markdown",
   "metadata": {},
   "source": [
    "<b> PRINCIPE </b> : On parcourt les éléments de la liste, on cherche le minimum et on le permute avec le premier élément de la liste. On recommence avec le reste de la liste ..."
   ]
  },
  {
   "cell_type": "markdown",
   "metadata": {},
   "source": [
    "<b> ALGORITHME </b> <br>\n",
    "Le principe est le suivant : <br>\n",
    " - Une boucle qui parcourt les valeurs j des indices de la liste t (de longueur n) à trier <br>\n",
    " - On cherche le minimum de la liste t[j:n-1] <br>\n",
    " - On permute ce minimum avec l'élément t[j] <br>\n"
   ]
  },
  {
   "cell_type": "markdown",
   "metadata": {},
   "source": [
    "<b> SCRIPT </b>"
   ]
  },
  {
   "cell_type": "code",
   "execution_count": 4,
   "metadata": {},
   "outputs": [],
   "source": [
    "def minimum(t ,j):\n",
    "    \"\"\" renvoie l'indice du minimum d'une liste d'entiers\n",
    "        t : une liste d'entiers\n",
    "        j : l'indice de départ de la liste dont on recherche le minimum\"\"\"\n",
    "    indice = j\n",
    "    mini = t[j]\n",
    "    n = len(t)\n",
    "    for i in range (j+1 , n):\n",
    "        if t[i] < mini:\n",
    "            indice = i\n",
    "            mini = t[i]\n",
    "    return indice\n",
    "\n",
    "def tri_selection(t):\n",
    "    \"\"\"procédure qui trie la liste t en place\n",
    "    t : une liste d'entiers\n",
    "    Ne renvoie rien\"\"\"\n",
    "    n = len(t)\n",
    "    for j in range(n-1):\n",
    "        i_min = minimum (t , j)\n",
    "        if i_min != j:\n",
    "            t[i_min], t[j] = t[j], t[i_min]"
   ]
  },
  {
   "cell_type": "markdown",
   "metadata": {},
   "source": [
    "<b> COUT </b> : le coût de l'algorithme de tri par insertion est **O(n²)**."
   ]
  },
  {
   "cell_type": "markdown",
   "metadata": {},
   "source": [
    "## Applications des algorithmes de tri"
   ]
  },
  {
   "cell_type": "markdown",
   "metadata": {},
   "source": [
    "<b> Exercice 1 : vérifier qu'un tableau est trié </b>"
   ]
  },
  {
   "cell_type": "markdown",
   "metadata": {},
   "source": [
    "1. On souhaite écrire un algorithme permettant de déterminer si un tableau est déjà trié ou non. Est-il préférable d'utiliser une boucle bornée ou non bornée ?"
   ]
  },
  {
   "cell_type": "code",
   "execution_count": null,
   "metadata": {},
   "outputs": [],
   "source": []
  },
  {
   "cell_type": "markdown",
   "metadata": {},
   "source": [
    "2. Ecrire une fonction booléenne deja_trie(T) qui renvoie True si le tableau T est déjà trié et False sinon?"
   ]
  },
  {
   "cell_type": "code",
   "execution_count": null,
   "metadata": {},
   "outputs": [],
   "source": []
  },
  {
   "cell_type": "markdown",
   "metadata": {},
   "source": [
    "3. Quelle est la complexité de cette fonction ?"
   ]
  },
  {
   "cell_type": "code",
   "execution_count": null,
   "metadata": {},
   "outputs": [],
   "source": []
  },
  {
   "cell_type": "markdown",
   "metadata": {},
   "source": [
    "<b> Exercice 2 : Tri lexicographique </b>"
   ]
  },
  {
   "cell_type": "markdown",
   "metadata": {},
   "source": [
    "1. Ecrire une fonction Python genere_lettres(n) qui génère une liste aléatoire de n caractères de l'alphabet, entre 'a' et 'z'."
   ]
  },
  {
   "cell_type": "code",
   "execution_count": null,
   "metadata": {},
   "outputs": [],
   "source": []
  },
  {
   "cell_type": "markdown",
   "metadata": {},
   "source": [
    "2. Que renvoie l'instruction 'a' < 'b' dans une console Python ? A quoi pourrait servir ce résutlat ?"
   ]
  },
  {
   "cell_type": "code",
   "execution_count": null,
   "metadata": {},
   "outputs": [],
   "source": []
  },
  {
   "cell_type": "markdown",
   "metadata": {},
   "source": [
    "3. Ecrire une fonction tri_S(liste_lettres) qui renvoie la liste liste_lettres triée dans l'ordre lexicographique, à l'aide d'un tri par sélection."
   ]
  },
  {
   "cell_type": "code",
   "execution_count": null,
   "metadata": {},
   "outputs": [],
   "source": []
  },
  {
   "cell_type": "markdown",
   "metadata": {},
   "source": [
    "4. Ecrire une fonction tri_I(liste_lettres) qui renvoie la liste liste_lettres triée dans l'ordre lexicographique, à l'aide d'un tri par insertion."
   ]
  },
  {
   "cell_type": "code",
   "execution_count": null,
   "metadata": {},
   "outputs": [],
   "source": []
  },
  {
   "cell_type": "markdown",
   "metadata": {},
   "source": [
    "<b> Exercice 3 : fusion de deux tableaux déjà triés </b>"
   ]
  },
  {
   "cell_type": "markdown",
   "metadata": {},
   "source": [
    "Soient deux tableaux L1 et L2 déjà triés séparément selon l'ordre croissant. Ecrire une fonction Python fusion(L1, L2) qui renvoie une nouvelle liste comportant tous les éléments issus de L1 et de L2 triés selon l'ordre croissant."
   ]
  },
  {
   "cell_type": "code",
   "execution_count": 4,
   "metadata": {},
   "outputs": [
    {
     "ename": "IndentationError",
     "evalue": "expected an indented block (<ipython-input-4-6ec5ee8ed7c2>, line 7)",
     "output_type": "error",
     "traceback": [
      "\u001b[0;36m  File \u001b[0;32m\"<ipython-input-4-6ec5ee8ed7c2>\"\u001b[0;36m, line \u001b[0;32m7\u001b[0m\n\u001b[0;31m    fusion([1 , 5 , 6], [2 , 4 , 8 , 12 , 20])\u001b[0m\n\u001b[0m         ^\u001b[0m\n\u001b[0;31mIndentationError\u001b[0m\u001b[0;31m:\u001b[0m expected an indented block\n"
     ]
    }
   ],
   "source": [
    "def fusion(L1, L2):\n",
    "\n",
    "    \n",
    "    \n",
    "   \n",
    "\n",
    "fusion([1 , 5 , 6], [2 , 4 , 8 , 12 , 20])"
   ]
  },
  {
   "cell_type": "markdown",
   "metadata": {},
   "source": [
    "<h2> <b> <center> PARTIE 3 : ALGORITHME DE DICHOTOMIE </center> </b> </h2>"
   ]
  },
  {
   "cell_type": "markdown",
   "metadata": {},
   "source": [
    "<b> Principe </b>\n",
    "L’algorithme de dichotomie s’applique à un tableau trié. <br>\n",
    "A chaque étape, <br>\n",
    "•\tDiviser le tableau en deux parties égales. <br>\n",
    "•\tPrendre la valeur du milieu et comparer avec la valeur cherchée. <br>\n",
    "•\tSupprimer la partie du tableau dans laquelle ne se trouve pas la valeur cherchée.\n"
   ]
  },
  {
   "cell_type": "markdown",
   "metadata": {},
   "source": [
    "<b> Exercice 4 : utiliser la dichotomie </b>"
   ]
  },
  {
   "cell_type": "markdown",
   "metadata": {},
   "source": [
    "Le code ci-dessous donne la vitesse v(m) après t secondes de chute libre d'un objet de masse m, de section A et de coefficient de frottement Cd."
   ]
  },
  {
   "cell_type": "code",
   "execution_count": 1,
   "metadata": {},
   "outputs": [
    {
     "ename": "NameError",
     "evalue": "name 'm' is not defined",
     "output_type": "error",
     "traceback": [
      "\u001b[0;31m---------------------------------------------------------------------------\u001b[0m",
      "\u001b[0;31mNameError\u001b[0m                                 Traceback (most recent call last)",
      "\u001b[0;32m<ipython-input-1-88ec3e8942a5>\u001b[0m in \u001b[0;36m<module>\u001b[0;34m\u001b[0m\n\u001b[1;32m      1\u001b[0m \u001b[0;32mfrom\u001b[0m \u001b[0mmath\u001b[0m \u001b[0;32mimport\u001b[0m \u001b[0msqrt\u001b[0m\u001b[0;34m,\u001b[0m \u001b[0mtanh\u001b[0m\u001b[0;34m\u001b[0m\u001b[0;34m\u001b[0m\u001b[0m\n\u001b[0;32m----> 2\u001b[0;31m \u001b[0mvf\u001b[0m \u001b[0;34m=\u001b[0m \u001b[0msqrt\u001b[0m\u001b[0;34m(\u001b[0m\u001b[0;36m2\u001b[0m\u001b[0;34m*\u001b[0m\u001b[0mm\u001b[0m\u001b[0;34m*\u001b[0m\u001b[0mg\u001b[0m\u001b[0;34m/\u001b[0m\u001b[0;34m(\u001b[0m\u001b[0mp\u001b[0m\u001b[0;34m*\u001b[0m\u001b[0mCd\u001b[0m\u001b[0;34m*\u001b[0m\u001b[0mA\u001b[0m\u001b[0;34m)\u001b[0m\u001b[0;34m)\u001b[0m\u001b[0;34m\u001b[0m\u001b[0;34m\u001b[0m\u001b[0m\n\u001b[0m\u001b[1;32m      3\u001b[0m \u001b[0;32mdef\u001b[0m \u001b[0mv\u001b[0m\u001b[0;34m(\u001b[0m\u001b[0mt\u001b[0m\u001b[0;34m)\u001b[0m\u001b[0;34m:\u001b[0m\u001b[0;34m\u001b[0m\u001b[0;34m\u001b[0m\u001b[0m\n\u001b[1;32m      4\u001b[0m     \u001b[0mvitesse\u001b[0m \u001b[0;34m=\u001b[0m \u001b[0mvf\u001b[0m \u001b[0;34m*\u001b[0m \u001b[0mtan\u001b[0m\u001b[0;34m(\u001b[0m\u001b[0mg\u001b[0m\u001b[0;34m*\u001b[0m\u001b[0mt\u001b[0m\u001b[0;34m/\u001b[0m\u001b[0mvf\u001b[0m\u001b[0;34m)\u001b[0m\u001b[0;34m\u001b[0m\u001b[0;34m\u001b[0m\u001b[0m\n\u001b[1;32m      5\u001b[0m     \u001b[0;32mreturn\u001b[0m \u001b[0mvitesse\u001b[0m\u001b[0;34m\u001b[0m\u001b[0;34m\u001b[0m\u001b[0m\n",
      "\u001b[0;31mNameError\u001b[0m: name 'm' is not defined"
     ]
    }
   ],
   "source": [
    "from math import sqrt, tanh\n",
    "          \n",
    "def v(m):\n",
    "    vf = sqrt(2*m*g/(p*Cd*A))\n",
    "    vitesse = vf * tanh(g*t/vf)\n",
    "    return vitesse"
   ]
  },
  {
   "cell_type": "markdown",
   "metadata": {},
   "source": [
    "où g = 9,81 est la gravité et p = 1,225 la densité de l'air. On suppose que p * Cd * A = 0,6. <br>\n",
    "Déterminer à 1 kg près la masse m qui donne au parachutiste la vitesse de 35 m/s après 6 s de chute libre."
   ]
  },
  {
   "cell_type": "code",
   "execution_count": null,
   "metadata": {},
   "outputs": [],
   "source": []
  },
  {
   "cell_type": "markdown",
   "metadata": {},
   "source": [
    "<b> Exercice 5 : utiliser la dichotomie en 2D</b>"
   ]
  },
  {
   "cell_type": "markdown",
   "metadata": {},
   "source": [
    "Un trésor est caché à des coordonnées entières (x1,y1), chacune comprise entre 0 et 999. On souhaite trouver le trésor le plus rapidement possible."
   ]
  },
  {
   "cell_type": "markdown",
   "metadata": {},
   "source": [
    "1. Ecrire une fonction f(x,y) qui renvoie une paire (vx,vy) telle que vx vaut 1 si x>x1, -1 si x<x1 et 0 si x=x1, et similairement pour vy avec y et y1."
   ]
  },
  {
   "cell_type": "code",
   "execution_count": null,
   "metadata": {},
   "outputs": [],
   "source": []
  },
  {
   "cell_type": "markdown",
   "metadata": {},
   "source": [
    "2. Adapter la recherche dichotomique pour trouver le trésor en un minimum d'appels à la fonction f."
   ]
  },
  {
   "cell_type": "code",
   "execution_count": null,
   "metadata": {},
   "outputs": [],
   "source": []
  }
 ],
 "metadata": {
  "kernelspec": {
   "display_name": "Python 3",
   "language": "python",
   "name": "python3"
  },
  "language_info": {
   "codemirror_mode": {
    "name": "ipython",
    "version": 3
   },
   "file_extension": ".py",
   "mimetype": "text/x-python",
   "name": "python",
   "nbconvert_exporter": "python",
   "pygments_lexer": "ipython3",
   "version": "3.7.6"
  }
 },
 "nbformat": 4,
 "nbformat_minor": 4
}
