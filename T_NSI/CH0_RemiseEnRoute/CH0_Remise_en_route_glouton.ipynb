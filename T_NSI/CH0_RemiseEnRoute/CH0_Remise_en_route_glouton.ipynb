{
 "cells": [
  {
   "cell_type": "markdown",
   "metadata": {},
   "source": [
    "<h1 style=\"border:2px solid blue\"> <center> <b> <br>CH 0 : REMISE EN ROUTE <br><br>gloutons</b> </center> </h1>"
   ]
  },
  {
   "cell_type": "markdown",
   "metadata": {},
   "source": [
    "<h2> <b> <center> PARTIE 4 : ALGORITHMES GLOUTONS </center> </b> </h2>"
   ]
  },
  {
   "cell_type": "markdown",
   "metadata": {},
   "source": [
    "## Principe et exemple"
   ]
  },
  {
   "cell_type": "markdown",
   "metadata": {},
   "source": [
    "Résoudre un problème d’optimisation consiste à trouver la meilleure solution parmis un grand nombre de possibilité.\n",
    "Par exemple, la recherche d'itinéraires routiers pour un ensemble de livraisons est un problème d'optimisation.\n",
    "\n",
    "Il y a deux façon de le résoudre :\n",
    " - la **méthode exhaustive** où l'on cherche toutes les solutions existantes et on ne garde que la meilleure.\n",
    " - la **méthode gloutonne** où l'on cherche pas-à-pas la solution optimale à chaque étape.\n",
    " \n",
    "Bien évidemment, l'approche exhaustive sur des cas réels dépasse très vite les capacités de calculs !   \n",
    "C'est pourquoi un algorithme glouton (*greedy algorithm*) est souvent privilégié : la solution n'est pas la meilleure globalement, mais elle est trouvée en un temps raisonnable.\n",
    "\n",
    "\n",
    "**Exemple du rendu de monnaie**\n",
    "\n",
    "Dans cet exemple classique, on imagine que l'on doive rendre la somme de 49 € avec un minimum de pièces.\n",
    "\n",
    "On dispose d'un système de pièces de la forme ``S = [1, 2, 5, 10]`` et chaque pièce est disponible en quantité nécessaire.\n"
   ]
  },
  {
   "cell_type": "markdown",
   "metadata": {},
   "source": [
    "1. Essayer de détailler \"à la main\" toutes les combinaisons possibles pour faire la somme de 49 €... Est-ce raisonnable ?"
   ]
  },
  {
   "cell_type": "code",
   "execution_count": null,
   "metadata": {},
   "outputs": [],
   "source": []
  },
  {
   "cell_type": "markdown",
   "metadata": {},
   "source": [
    "2. Ecrire \"à la main\" un raisonnement glouton pour trouver une solution. Est-ce satisfaisant ?"
   ]
  },
  {
   "cell_type": "code",
   "execution_count": null,
   "metadata": {},
   "outputs": [],
   "source": []
  },
  {
   "cell_type": "markdown",
   "metadata": {},
   "source": [
    "3. Créer une fonction gloutonne ``rendu(somme, systeme)`` qui renvoie une liste des pièces à fournir pour rendre la monnaie sur 49 €."
   ]
  },
  {
   "cell_type": "code",
   "execution_count": null,
   "metadata": {},
   "outputs": [],
   "source": [
    "S = [1, 2, 5, 10]   # système : liste composée des pièces disponibles\n",
    "\n",
    "def rendu(somme, systeme):\n",
    "    \"\"\"renvoie un tuple des pièces à rendre et de leur nombre\n",
    "    somme --> la somme à rendre (entier positif)\n",
    "    systeme --> liste de valeurs de pièces possibles (triée croissante)\"\"\"\n",
    "    \n",
    "    systeme.reverse()   # renverse la liste (plus pratique...)\n",
    "   \n",
    "print(rendu(49, S))"
   ]
  },
  {
   "cell_type": "markdown",
   "metadata": {},
   "source": [
    "4. Montrer que cet algorithme se termine."
   ]
  },
  {
   "cell_type": "code",
   "execution_count": null,
   "metadata": {},
   "outputs": [],
   "source": []
  },
  {
   "cell_type": "markdown",
   "metadata": {},
   "source": [
    "5. Tester cette fonction sur un autre système, comme ``S2 = [1,3,6,12,24,30]``. Le système a-t-il une importance ?"
   ]
  },
  {
   "cell_type": "code",
   "execution_count": null,
   "metadata": {},
   "outputs": [],
   "source": []
  },
  {
   "cell_type": "markdown",
   "metadata": {},
   "source": [
    "6. Que peut-on dire de la complexité d'un algorithme glouton par rapport à un algorithme exhaustif pour un même problème ?"
   ]
  },
  {
   "cell_type": "code",
   "execution_count": null,
   "metadata": {},
   "outputs": [],
   "source": []
  },
  {
   "cell_type": "markdown",
   "metadata": {},
   "source": [
    "## Application : Chemin entre les scènes du Hellfest \n",
    "\n",
    "Dans ce problème, on cherche le **chemin minimal pour passer une fois et une seule par chaque scène.**\n",
    "\n",
    "Le Hellfest possède 6 scènes : Mainstage01, Mainstage02, Altar, Temple, Valley, Warzone, \n",
    "dans l'ordre dans la liste ``scenes``.\n",
    "\n",
    "Un \"rapide\" calcul nous trouve 720 possibilités de parcours en fonction des différents points de départ possibles, avec un temps de calcul de plusieurs secondes... !\n",
    "\n",
    "Un algorithme glouton peut-il être plus efficace ?\n"
   ]
  },
  {
   "cell_type": "markdown",
   "metadata": {},
   "source": [
    "### Positionnement et données\n",
    "\n",
    "Par rapport à la carte, on prendra 1 unité = 200 m."
   ]
  },
  {
   "cell_type": "code",
   "execution_count": null,
   "metadata": {},
   "outputs": [],
   "source": [
    "# Positionnement des 6 scènes [\"nom\", [Xscene_i, Yscene_i]]\n",
    "scenes = [[\"mainstage01\",[1.5, 5.5]],\\\n",
    "          [\"mainstage02\", [0.5, 5.5]],\\\n",
    "          [\"altar\", [4.5, 7]],\\\n",
    "          [\"temple\", [5.5, 7]],\\\n",
    "          [\"valley\", [7, 6]],\\\n",
    "          [\"warzone\", [3, 0.5]]]\n",
    "print(scenes)"
   ]
  },
  {
   "cell_type": "code",
   "execution_count": null,
   "metadata": {},
   "outputs": [],
   "source": [
    "# Affichage des scènes\n",
    "from matplotlib import pyplot as plt\n",
    "def affichage(liste_coordonnees):\n",
    "    \"\"\" Affiche un point par couple de coordonnées x, y de la liste \n",
    "        liste_coordonnees est la liste des coordonnées \"\"\"\n",
    "    for i in range(len(liste_coordonnees)):\n",
    "        plt.scatter(liste_coordonnees[i][1][0], liste_coordonnees[i][1][1], color = \"blue\" )\n",
    "    plt.grid()\n",
    "    plt.show()\n",
    "    \n",
    "affichage(scenes)"
   ]
  },
  {
   "cell_type": "markdown",
   "metadata": {},
   "source": [
    "### Fonctions utiles"
   ]
  },
  {
   "cell_type": "code",
   "execution_count": null,
   "metadata": {},
   "outputs": [],
   "source": [
    "# Calcul de la distance entre 2 scènes\n",
    "from math import sqrt\n",
    "def distance(A,B):\n",
    "    \"\"\" Calcul la distance en mètre entre deux points A et B de coordonnées A[xA, yA] et B[xB, yB] \n",
    "            --> A[0] et B[0] sont xA et xB\n",
    "            --> A[1] et B[1] sont yA et yB\n",
    "    \"\"\"\n",
    "\n",
    "    return round(sqrt((A[0]-B[0])**2 + (A[1]-B[1])**2)*200, 2)\n",
    "\n",
    "print(distance(scenes[0][1],scenes[1][1]), \"m\")   # calcul de la distance en m entre la scène 0 et la scène 1 "
   ]
  },
  {
   "cell_type": "code",
   "execution_count": null,
   "metadata": {},
   "outputs": [],
   "source": [
    "# Calcul de la longueur du chemin parcouru sur une liste de scènes \n",
    "def longueur_chemin(coordonnees):\n",
    "    \"\"\" Calcul de la longueur du trajet total sur une liste de scenes \n",
    "        de type [[\"nom1\", [xA, yA], [\"nom2\", [xB, yB]], ...] \"\"\"\n",
    "    \n",
    "    chemin = 0\n",
    "    for i in range(len(coordonnees)-1):\n",
    "        chemin = chemin + distance(coordonnees[i][1], coordonnees[i+1][1])\n",
    "    \n",
    "    return chemin\n",
    "\n",
    "print(longueur_chemin(scenes), \"m\")   # calcul du chemin total sur la liste des scènes dans l'ordre initial"
   ]
  },
  {
   "cell_type": "markdown",
   "metadata": {},
   "source": [
    "### Algorithme glouton\n",
    "\n",
    "1. A partir des données et en s'aidant des fonctions proposées, écrire une fonction ``chemin_glouton(scenes)`` qui renvoie la longueur du chemin possible en glouton."
   ]
  },
  {
   "cell_type": "code",
   "execution_count": null,
   "metadata": {},
   "outputs": [],
   "source": [
    "def chemin_glouton(scenes):\n",
    "    \"\"\" Renvoie le parcours \"au mieux\" à partir de la scene de départ. \"\"\"\n",
    "    \n",
    "    \n",
    "    \n",
    "    \n",
    "\n",
    "chemin_min = chemin_glouton(scenes)\n",
    "\n",
    "print(chemin_min)\n",
    "print(longueur_chemin(chemin_min), \"m\")"
   ]
  },
  {
   "cell_type": "markdown",
   "metadata": {},
   "source": [
    "2. L'algorithme exhaustif donne le chemin minimal en 3 s environ : \n",
    " [['valley', [7, 6]], ['temple', [5.5, 7]], ['altar', [4.5, 7]], ['mainstage01', [1.5, 5.5]], ['mainstage02', [0.5, 5.5]], ['warzone', [3, 0.5]]] de longueur  2549.41  m.\n",
    " \n",
    "Calculer le temps nécessaire avec l'algorithme glouton et conclure. \n"
   ]
  },
  {
   "cell_type": "code",
   "execution_count": null,
   "metadata": {},
   "outputs": [],
   "source": []
  }
 ],
 "metadata": {
  "kernelspec": {
   "display_name": "Python 3",
   "language": "python",
   "name": "python3"
  },
  "language_info": {
   "codemirror_mode": {
    "name": "ipython",
    "version": 3
   },
   "file_extension": ".py",
   "mimetype": "text/x-python",
   "name": "python",
   "nbconvert_exporter": "python",
   "pygments_lexer": "ipython3",
   "version": "3.7.6"
  }
 },
 "nbformat": 4,
 "nbformat_minor": 4
}
