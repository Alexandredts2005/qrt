{
 "cells": [
  {
   "cell_type": "markdown",
   "metadata": {},
   "source": [
    "<h1 style=\"border:2px solid blue;padding:20px\">CH1  FONCTIONS ET MODULES EN PYTHON</h1>"
   ]
  },
  {
   "cell_type": "markdown",
   "metadata": {},
   "source": [
    "________  \n",
    "\n",
    "## I. FAMILLES DE PROGRAMMATION\n",
    " \n",
    "### Un premier exemple   \n",
    "\n",
    "On cherche à trouver le coût total TTC de 2 achats de 18 et 21 €, la TVA étant de 20%.  \n",
    "\n",
    "Une première solution basique serait :"
   ]
  },
  {
   "cell_type": "code",
   "execution_count": null,
   "metadata": {},
   "outputs": [],
   "source": [
    "# Solution N°1\n",
    "prix1HT = 18 \n",
    "prix2HT = 21 \n",
    "tva = 0.2 \n",
    "prix1TTC = prix1HT*(1 + tva)  \n",
    "prix2TTC = prix2HT*(1 + tva) \n",
    "totalTTC = prix1TTC + prix2TTC \n",
    "print(\"Prix total TTC : \", totalTTC, \"€\") "
   ]
  },
  {
   "cell_type": "markdown",
   "metadata": {},
   "source": [
    "Cette formulation est tout à fait correcte, mais on remarque que l'on fait 2 fois la même opération...   \n",
    "Sur un grand nombre de prix, ré-écrire les mêmes lignes est fastidieux et deviendrait très \"lourd\" à la lecture, d'où la simplification à l'aide d'une *fonction* :"
   ]
  },
  {
   "cell_type": "code",
   "execution_count": null,
   "metadata": {},
   "outputs": [],
   "source": [
    "# Solution N°2\n",
    "def calcul_TTC(prix, taxe):\n",
    "    return prix*(1 + taxe)\n",
    "\n",
    "prix1HT = 18 \n",
    "prix2HT = 21 \n",
    "tva = 0.2 \n",
    "totalTTC = calcul_TTC(prix1HT, tva) + calcul_TTC(prix2HT, tva)\n",
    "\n",
    "print(\"Prix total TTC : \", totalTTC, \"€\")"
   ]
  },
  {
   "cell_type": "markdown",
   "metadata": {},
   "source": [
    "La lisibilité est meilleure et la fonction créée une fois pour toutes pourra être ré-utilisée un grand nombre de fois.  \n",
    "Nous sommes passé d'une programmation dites **impérative** (solution N°1) à une programmation **fonctionnelle** (solution N°2)."
   ]
  },
  {
   "cell_type": "markdown",
   "metadata": {},
   "source": [
    "### Le paradigme impératif - les bases\n",
    "\n",
    ">Le paradigme sinon le plus ancien, tout au moins le plus traditionnel, est le paradigme **impératif**. Les premiers programmes ont été conçus sur le principe suivant : une suite d’instructions qui s’exécutent séquentiellement, les unes après les autres, comme des affectations, des boucles, des conditions ou des sauts (*break*).\n",
    "\n",
    "Ce paradigme est le modèle le plus simple pour donner à la machine les instructions élémentaires sur comment effectuer les aller-retours entre la mémoire et le CPU. Le *langage machine* est donc basé sur la programmation imérative.\n",
    "D'autres langages plus anciens utilisent exclusivement ce paradigme, comme le FORTRAN ou le BASIC.\n",
    "\n",
    "### Les langages de programmation\n",
    "Un langage informatique est proche de la pensée du programmeur qui l'a conçu et l'utilise. Comme il existe une multitude d'êtres humains différents, il existe donc une multitude de paradigmes possibles !\n",
    "<img src=\"https://www.geekarts.fr/wp-content/uploads/2016/11/ProgrammingLanguage1-1-1024x591.jpg\" alt=\"images de langages\" width=\"50%\">\n",
    "\n",
    "Un langage est conçu pour être efficace dans certaines situations, et il répond aux critères suivants :  \n",
    " - Expressivité : simmplification de l'écriture\n",
    " - Lisibilité : faciliter lecture et raisonnement\n",
    " - Efficacité : programmes rapides et code optimisé\n",
    " - Portabilité : exécution possible dans différents systèmes\n",
    " - Sûreté : aider à l'écriture correcte, sans bugs\n",
    " - Maintenabilité : maintenance facilité\n",
    "\n",
    "\n",
    "### Le paradigme fonctionnel - faciliter les traitements\n",
    "\n",
    "\n",
    "La tendance actuelle n'est pas d'attacher un langage à un paradigme : utiliser plusieurs paradigmes au sein d'un même langage permet de s'adapter aux situations. Les langages Python ou C++ sont des langages de haut niveau très utilisés permettant cette multiplication des paradigmes.\n",
    "\n",
    ">Le paradigme **fonctionnel** permet ainsi une grande souplesse d'utilisation en différenciant 2 entités distinctes dans un programme : les *données* et les *fonctions*. Les *fonctions* peuvent ainsi être utilisées hors de leur contexte initial. Cette conception donne la primauté aux traitements. On parle de *briques logicielles*, morceaux de code ré-utilisables n'intégrant pas de données."
   ]
  },
  {
   "cell_type": "markdown",
   "metadata": {},
   "source": [
    "_____\n",
    "## II. PRINCIPE DE LA PROGRAMMATION FONCTIONNELLE\n",
    "\n",
    "\n",
    "### Rappels sur les fonctions\n",
    "\n",
    "Une fonction applique à des arguments une succession d'instructions pour obtenir un résultat qu'elle renvoie.  \n",
    "Elle se déclare à l'aide du mot-clé `def` et renvoie un résultat avec `return`. Si elle ne renvoie rien, c'est une **procédure**."
   ]
  },
  {
   "cell_type": "code",
   "execution_count": null,
   "metadata": {},
   "outputs": [],
   "source": [
    "def somme(x, y):\n",
    "    s = x + y\n",
    "    return s"
   ]
  },
  {
   "cell_type": "markdown",
   "metadata": {},
   "source": [
    "Les arguments peuvent avoir une valeur par défaut précisée."
   ]
  },
  {
   "cell_type": "code",
   "execution_count": null,
   "metadata": {},
   "outputs": [],
   "source": [
    "def somme(x=0, y=0):\n",
    "    s = x + y\n",
    "    return s\n",
    "print(somme())   # par défaut\n",
    "print(somme(1, 2))"
   ]
  },
  {
   "cell_type": "markdown",
   "metadata": {},
   "source": [
    "On peut passer un nombre de valeurs non précisées en argument."
   ]
  },
  {
   "cell_type": "code",
   "execution_count": null,
   "metadata": {},
   "outputs": [],
   "source": [
    "def somme(*args):\n",
    "    s = 0\n",
    "    for x in args:\n",
    "        s = s + x\n",
    "    return s\n",
    "print(somme(1, 2))\n",
    "print(somme(1, 2, 3, 4))"
   ]
  },
  {
   "cell_type": "markdown",
   "metadata": {},
   "source": [
    "Enfin, on peut préciser les types (arguments, résultats), mais cela reste seulement informatif pour l'utilisateur."
   ]
  },
  {
   "cell_type": "code",
   "execution_count": null,
   "metadata": {},
   "outputs": [],
   "source": [
    "def somme(x: int, y: int)-> int:   # renvoie un entier\n",
    "    s = x + y\n",
    "    return s\n",
    "print(somme(1, 2))\n",
    "print(somme([1], [2]))   # ... ça marche qd même pour les listes !!"
   ]
  },
  {
   "cell_type": "markdown",
   "metadata": {},
   "source": [
    "### Caractéristiques du paradigme fonctionnel\n",
    "La programmation fonctionnelle possède certaines caractéristiques, dont : \n",
    "\n",
    "> **Pas \"comment\", mais \"quoi\" ?**  *un programme fonctionnel consiste à décrire le rapport entre les données et le résultat à obtenir (ce que l'on fait), mais pas la séquence d'instructions nécessaires (comment cela doit être fait)*  \n",
    "> **La transparence référentielle**   *en programmation fonctionnelle, il n'y a pas d'affectation : une fonction mathématique renvoie un résultat uniquement suivant ses variables/paramètres d'entrée, mais ne modifie pas de variables*  \n",
    "> **Une fonction est un objet comme un autre** *une fonction peut être stockée dans une variable avant d'être utilisée* \n",
    "\n",
    "**<u> Exemples : </u>**"
   ]
  },
  {
   "cell_type": "code",
   "execution_count": null,
   "metadata": {},
   "outputs": [],
   "source": [
    "# Exemple 1\n",
    "\n",
    "def calcul_TTC(prix, taxe):\n",
    "    return prix*(1 + taxe)\n",
    "\n",
    "prix1HT = 18 \n",
    "prix2HT = 21 \n",
    "tva = 0.2 \n",
    "totalTTC = calcul_TTC(prix1HT, tva) + calcul_TTC(prix2HT, tva)"
   ]
  },
  {
   "cell_type": "code",
   "execution_count": null,
   "metadata": {},
   "outputs": [],
   "source": [
    "# Exemple 2\n",
    "def oss_117_1():   \n",
    "    nom = \"Hubert\"\n",
    "    nom = nom + \" Bonnisseur de la Bath\"\n",
    "    return nom\n",
    "\n",
    "def oss_117_2():   \n",
    "    prenom = \"Hubert\"\n",
    "    nom = \" Bonnisseur de la Bath\"\n",
    "    appelation = prenom + nom\n",
    "    return appelation\n"
   ]
  },
  {
   "cell_type": "code",
   "execution_count": null,
   "metadata": {},
   "outputs": [],
   "source": [
    "# Exemple 3\n",
    "def somme(a, b):\n",
    "    return a + b\n",
    "a = 2\n",
    "resultat = somme(a, 2) + somme(a, 3)"
   ]
  },
  {
   "cell_type": "code",
   "execution_count": null,
   "metadata": {},
   "outputs": [],
   "source": [
    "# Exemple 4\n",
    "def ma_fonction(x):\n",
    "    return x + 1\n",
    "\n",
    "f = ma_fonction\n",
    "f(3) \n"
   ]
  },
  {
   "cell_type": "code",
   "execution_count": null,
   "metadata": {},
   "outputs": [],
   "source": [
    "# Exemple 5\n",
    "def build_ma_fonction(a):\n",
    "    def ma_fonction(x):\n",
    "        return a * x\n",
    "    return ma_fonction\n",
    "\n",
    "f = build_ma_fonction(2)  \n",
    "f(3) "
   ]
  },
  {
   "cell_type": "markdown",
   "metadata": {},
   "source": [
    "**<u> Exercice 1 </u>**  \n",
    "On donne le code suivant qui calcul le pgcd de 2 nombres:"
   ]
  },
  {
   "cell_type": "code",
   "execution_count": null,
   "metadata": {},
   "outputs": [],
   "source": [
    "def pgcd(a, b):\n",
    "    while b != 0:\n",
    "        reste = a % b\n",
    "        a = b\n",
    "        b = reste\n",
    "    return a    \n",
    "pgcd(24, 12)"
   ]
  },
  {
   "cell_type": "markdown",
   "metadata": {},
   "source": [
    "1. Expliquer pourquoi ce code n'est pas dans la famille de la programmation fonctionnelle.\n",
    "2. Le transformer afin de l'adapter au paradigme fonctionnel."
   ]
  },
  {
   "cell_type": "code",
   "execution_count": null,
   "metadata": {},
   "outputs": [],
   "source": []
  },
  {
   "cell_type": "markdown",
   "metadata": {},
   "source": [
    "**<u> Exercice 2 </u>**  \n",
    "A partir des définitions des 2 fonction suivantes, écrire la valeur de `f1(f2(x))` pour x = 3.  \n",
    "(on parle de composition de fonction *f1 o f2*)"
   ]
  },
  {
   "cell_type": "code",
   "execution_count": null,
   "metadata": {},
   "outputs": [],
   "source": [
    "def f1(x):\n",
    "    return x + 3\n",
    "def f2(x):\n",
    "    return x**2"
   ]
  },
  {
   "cell_type": "markdown",
   "metadata": {},
   "source": [
    "<div style=\"border:solid 2px blue;padding:10px\"><h2>A retenir :</h2> <br>Le paradigme de programmation fonctionnel comporte plusieurs concepts. Le premier est celui d'un calcul qui se fait sans modifier les valeurs déjà construites (variables, structures de données) mais en construisant plutôt de nouvelles valeurs. Le second est celui d'une programmation dans laquelle les fonctions sont des valeurs comme les autres, passées en argument, renvoyées en résultat ou encore stockées comme des données.</div>\n",
    "    "
   ]
  },
  {
   "cell_type": "markdown",
   "metadata": {},
   "source": [
    "### Fonction anonyme\n",
    "\n",
    "Soit les fonctions `calcul` et  `carre` qui s'écrivent comme ci-dessous.  \n",
    "La fonction `calcul` prend la fonction `carre` comme argument. On peut alors utiliser la formulation suivante :"
   ]
  },
  {
   "cell_type": "code",
   "execution_count": null,
   "metadata": {},
   "outputs": [],
   "source": [
    "def calcul(f, variable):\n",
    "    return f(variable)\n",
    "def carre(x):\n",
    "    return x*x\n",
    "calcul(carre, 12)   # calcul le carré de 12"
   ]
  },
  {
   "cell_type": "markdown",
   "metadata": {},
   "source": [
    "Cette fonction `carre` n'a pas besoin d'une définition comme on le fait usuellement. On peut utiliser les fonctions $\\lambda$.   \n",
    "Ces fonctions reposent sur le $\\lambda$-calcul, inventé par Alonzo Church dans les années 1930.  \n",
    "La fonction mathématique $x\\rightarrow x^2$ s'écrit $\\lambda x.(x²)$ en $\\lambda$-calcul, et se code `lambda x : x*x` en Python.  \n",
    "On peut donc écrire plus simplement l'expression précédente sans écrire la fonction `carre` :"
   ]
  },
  {
   "cell_type": "code",
   "execution_count": null,
   "metadata": {},
   "outputs": [],
   "source": [
    "def calcul(f, variable):\n",
    "    return f(variable)\n",
    "calcul(lambda x : x*x, 12)"
   ]
  },
  {
   "cell_type": "markdown",
   "metadata": {},
   "source": [
    "Les $\\lambda$-expressions (fonctions $\\lambda$) sont notamment utilisées lorsque l'usage en est local, et que donc la fonction n'est pas réutilisée par ailleurs : les constructions lambda sont des **fonctions anonymes**.  \n",
    "\n",
    "**<u> Exemple : </u>**"
   ]
  },
  {
   "cell_type": "code",
   "execution_count": null,
   "metadata": {},
   "outputs": [],
   "source": [
    "def calcul_TTC(taxe):\n",
    "    return lambda x : x*(1 + taxe)\n",
    "\n",
    "prix1HT = 18  \n",
    "tva = 0.2 \n",
    "totalTTC = calcul_TTC(tva)  # la variable totalTTC devient la fonction lambda avec taxe = tva\n",
    "totalTTC(prix1HT)   # calcul de la valeur pour le prix1HT"
   ]
  },
  {
   "cell_type": "markdown",
   "metadata": {},
   "source": [
    "_____\n",
    "## III. APPROCHE DE LA MODULARITE EN PYTHON\n",
    "\n",
    " Voir **ACT Modules**\n",
    " \n",
    "### Principes généraux\n",
    "Un *module* est un ensemble de fonctions suffisamment générales pour être réutilisables dans plusieurs projets. Ces fonctions sont regroupées dans un fichier de type `module.py`. Pour plus de clarté, on ne regroupera dans un même module que les fonctions relatives à une même fonctionnalité.\n",
    "\n",
    "Pour pouvoir accéder à ces fonctions contenues dans un module, il faut les importer. Pour cela, on inscrit en en-tête du fichier le nom du module qui est le nom du fichier python privé de l'extension `.py` et on importe la ou les fonctions demandées."
   ]
  },
  {
   "cell_type": "code",
   "execution_count": null,
   "metadata": {},
   "outputs": [],
   "source": [
    "# Exemple de syntaxe de base pour l'import depuis un fichier module.py\n",
    "from module import ma_fonction1, ma_fonction2"
   ]
  },
  {
   "cell_type": "markdown",
   "metadata": {},
   "source": [
    "Un module est une **boîte noire** - on n'a pas en général le code des fonctions sous les yeux - celui-ci doit pouvoir être accessible de manière claire au développeur. Pour cela, un formalisme particulier existe sous python - les *docstrings* - qui permet de décrire précisément ces informations. Ainsi, un développeur pourra accéder à l'interface du module pour savoir comment utiliser chacune des fonctions avec les infos :\n",
    " - la liste des fonctions et leur rôle\n",
    " - ce que chaque fonction prend en entrée\n",
    " - ce que chaque fonction renvoie en résultat"
   ]
  },
  {
   "cell_type": "code",
   "execution_count": null,
   "metadata": {},
   "outputs": [],
   "source": [
    "# fonction définie dans module.py\n",
    "def carre(x):\n",
    "    \"\"\" Renvoie le carré d'un nombre\n",
    "        x est un nombre quelconque \"\"\"\n",
    "    return x*x\n",
    "\n",
    "# demande d'info sur la fonction\n",
    "help(carre)"
   ]
  },
  {
   "cell_type": "markdown",
   "metadata": {},
   "source": [
    "Pour en savoir plus sur les docstrings, on peut se référer au guide de préconisations python PEP-257 : [https://www.python.org/dev/peps/pep-0257/](https://www.python.org/dev/peps/pep-0257/)"
   ]
  },
  {
   "cell_type": "markdown",
   "metadata": {},
   "source": [
    "### Les modules déjà disponibles (ou bibliothèques)\n",
    "\n",
    "Dans python, il existe un nombre considérable de modules (ou bibliothèques), dont certaines sont très usuelles, comme par exemple :\n",
    " - `math` : regroupe les fonctions mathématiques courantes (sqrt, tanh, ...)\n",
    " - `matplotlib`: regroupe les fonctions de traitements de données graphiques (pyplot, ...)\n",
    " - `random` : regroupe des fonctions en lien avec l'aléatoire (randint, choice, shuffle, ...)\n",
    " - ...\n",
    " \n",
    "L'ensemble des ces modules (officiels ou non) sont disponibles sur [https://pypi.org/](https://pypi.org/)\n",
    "\n",
    "La méthode `help()` est disponible pour avoir une description générale des fonctions disponibles dans le module."
   ]
  },
  {
   "cell_type": "code",
   "execution_count": null,
   "metadata": {},
   "outputs": [],
   "source": [
    "from random import randint\n",
    "help(randint)"
   ]
  },
  {
   "cell_type": "markdown",
   "metadata": {},
   "source": [
    "Pour importer les modules \"déjà construits\", il faut être prudent car on ne sait pas toujours tout ce qu'ils contiennent. \n",
    "\n",
    "La méthode de base (vu plus haut):  \n",
    "`from module import fonction_1, fonction_2`\n",
    "\n",
    "Avec cette syntaxe, on indique **explicitement** les fonctions que l'on souhaite utiliser. C'est très clair pour le lecteur et le développeur. Il n'y a pas de risques de confusions ou de conflits de noms car on voit les fonctions que l'on importe.\n",
    "\n",
    "Pour utiliser les fonctions, il suffit de les invoquer simplement par leur nom : `fonction1(arguments)`.  "
   ]
  },
  {
   "cell_type": "code",
   "execution_count": null,
   "metadata": {},
   "outputs": [],
   "source": [
    "# Exemple avec randint\n",
    "from random import randint\n",
    "a = randint(1,100)"
   ]
  },
  {
   "cell_type": "markdown",
   "metadata": {},
   "source": [
    "On peut aussi simplifier l'écriture en ne précisant pas la fonction souhaitée :  \n",
    "`import module`\n",
    "\n",
    "Cette syntaxe - plus concise à l'import - perd en précision et va imposer que chaque appel de fonction soit précédé du module en préfixe.\n",
    "\n",
    "Pour utiliser des fonctions, on invoquera alors `module.fonction_1(argument)`\n",
    "\n",
    "\n",
    "> **A éviter !**  Ne pas faire `from module import *` ( = *importe toutes les fonctions*) car on ne sait pas exactement ce que l'on importe. De plus, il peut y avoir conflit de nom de fonction si on importe depuis d'autres modules. **__C'est mal !!__**"
   ]
  },
  {
   "cell_type": "code",
   "execution_count": null,
   "metadata": {},
   "outputs": [],
   "source": [
    "import random\n",
    "a = random.randint(1,100)"
   ]
  },
  {
   "cell_type": "code",
   "execution_count": null,
   "metadata": {},
   "outputs": [],
   "source": [
    "# Si le nom de module trop est compliqué, on peutlui donner un alias plus court par commodité :\n",
    "import random as rnd\n",
    "a = rnd.randint(1,100)"
   ]
  },
  {
   "cell_type": "markdown",
   "metadata": {},
   "source": [
    "**<u> Exercice 3 : </u>**  \n",
    "\n",
    "On cherche à écrire un module permettant de calculer les aires de figures géométriques usuelles :  \n",
    "***triangle, disque, carré, rectangle, parallélogramme, losange***\n",
    "\n",
    "On veillera à respecter les consignes suivantes :\n",
    " - à chaque figure correspondra une fonction du même nom  \n",
    " - décider des paramètres pertinents à communiquer à chaque fonction pour le calcul de l'aire  \n",
    " - le module et chaque fonction seront correctement documentées afin qu'un développeur tiers puisse l'utiliser facilement grâce à la fonction `help`.  \n",
    "\n",
    "1. Écrire un module `aires.py` répondant au problème.\n",
    "\n",
    "2. Ecrire un petit programme afin de tester le fonctionnement de ce module."
   ]
  },
  {
   "cell_type": "markdown",
   "metadata": {},
   "source": [
    "____\n",
    "##  ANNEXE : Compléments sur l'utilisation de $\\lambda$-fonctions\n",
    "\n",
    "En programmation fonctionnelle, on travaille souvent avec des flux de données. Ces flux sont gérés avec des __itérateurs__, pour répondre aux questions \"y a-t-il une donnée suivante ?\" et \"donne moi la donnée suivante\".\n",
    "\n",
    "On s'intéresse dans la suite à 3 fonction spécifiques : `map`, `filter` et `reduce`\n",
    "\n",
    "### `map`\n",
    "La fonction `map` permet de donner les résultats d'une fonction appliquée à tous les éléments d'un itérable."
   ]
  },
  {
   "cell_type": "code",
   "execution_count": null,
   "metadata": {},
   "outputs": [],
   "source": [
    "def ma_fonction(a):\n",
    "    return len(a)\n",
    "x = map(ma_fonction, (\"Vous\", \"ne\", \"passerez\", \"pas !\"))\n",
    "print(x)\n",
    "print(list(x))  # convertit le map en liste pour plus de lisibilité"
   ]
  },
  {
   "cell_type": "code",
   "execution_count": null,
   "metadata": {},
   "outputs": [],
   "source": [
    "# avec la fonction lambda\n",
    "y = map(lambda x : x**2, [i for i in range(10)])\n",
    "print(y)\n",
    "print(list(y))"
   ]
  },
  {
   "cell_type": "markdown",
   "metadata": {},
   "source": [
    "### `filter`\n",
    "La fonction `filter` filtre les résultats (on aurait pu s'en douter)."
   ]
  },
  {
   "cell_type": "code",
   "execution_count": null,
   "metadata": {},
   "outputs": [],
   "source": [
    "parite = filter(lambda n : n%2 == 0, [i for i in range(10)])\n",
    "print(list(parite))"
   ]
  },
  {
   "cell_type": "code",
   "execution_count": null,
   "metadata": {},
   "outputs": [],
   "source": [
    "phrase =[\"Chuck\", \"Norris\", \"peut\", \"diviser\", \"par\", \"zéro\"]\n",
    "lettre = filter(lambda mot : \"rr\" in mot, phrase)\n",
    "print(list(lettre))"
   ]
  },
  {
   "cell_type": "markdown",
   "metadata": {},
   "source": [
    "### `reduce`\n",
    "La fonction `reduce` permet de renvoyer un résultat calculé à partir de tous les éléments d'un itérable."
   ]
  },
  {
   "cell_type": "code",
   "execution_count": null,
   "metadata": {},
   "outputs": [],
   "source": [
    "from functools import reduce\n",
    "prod = reduce(lambda x, y : x*y, [i for i in range(2,5)])\n",
    "print(prod)"
   ]
  },
  {
   "cell_type": "code",
   "execution_count": null,
   "metadata": {},
   "outputs": [],
   "source": [
    "# pour calculer une moyenne\n",
    "notes = [1, 2.5, 4, 5.5]\n",
    "somme = reduce(lambda x, y : x + y, notes)\n",
    "print(\"moyenne =\", somme / len(notes))"
   ]
  }
 ],
 "metadata": {
  "kernelspec": {
   "display_name": "Python 3",
   "language": "python",
   "name": "python3"
  },
  "language_info": {
   "codemirror_mode": {
    "name": "ipython",
    "version": 3
   },
   "file_extension": ".py",
   "mimetype": "text/x-python",
   "name": "python",
   "nbconvert_exporter": "python",
   "pygments_lexer": "ipython3",
   "version": "3.7.6"
  }
 },
 "nbformat": 4,
 "nbformat_minor": 4
}
