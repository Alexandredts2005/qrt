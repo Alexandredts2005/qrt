{
 "cells": [
  {
   "cell_type": "markdown",
   "metadata": {},
   "source": [
    "## Performance d'un tri fusion\n",
    "\n",
    "Comparaison des tri_fusion : \"plus grands devant\" et \"plus petits devant\""
   ]
  },
  {
   "cell_type": "code",
   "execution_count": 5,
   "metadata": {},
   "outputs": [],
   "source": [
    "def fusion1(L1, L2):\n",
    "    if L1 == []:\n",
    "        return L2\n",
    "    if L2 == []:\n",
    "        return L1\n",
    "    if L1[0] < L2[0]:  # plus petits devant\n",
    "        return [ L1[0]] + fusion1(L1[1:], L2)\n",
    "    else:\n",
    "        return [ L2[0]] + fusion1(L1, L2[1:])\n",
    "    \n",
    "def tri_fusion1(L):\n",
    "    nb = len(L)\n",
    "    if nb <= 1:\n",
    "        return L  \n",
    "    return fusion1(tri_fusion1(L[:nb//2]), tri_fusion1(L[nb//2:]))"
   ]
  },
  {
   "cell_type": "code",
   "execution_count": 6,
   "metadata": {},
   "outputs": [],
   "source": [
    "def fusion2(L1, L2):\n",
    "    \n",
    "    # plus grands devant\n",
    "    \n",
    "    \n",
    "    "
   ]
  },
  {
   "cell_type": "markdown",
   "metadata": {},
   "source": [
    "On compare les 2 algorithmes avec "
   ]
  },
  {
   "cell_type": "code",
   "execution_count": 7,
   "metadata": {},
   "outputs": [
    {
     "name": "stdout",
     "output_type": "stream",
     "text": [
      "[0, 1]\n",
      "[1, 0, 2, 3]\n",
      "[2, 7, 0, 3, 4, 5, 6, 1]\n",
      "[5, 7, 8, 13, 4, 15, 10, 6, 0, 11, 2, 3, 14, 1, 9, 12]\n"
     ]
    }
   ],
   "source": [
    "from numpy.random import permutation\n",
    "\n",
    "# 4 listes permutées\n",
    "for k in range(1, 5):\n",
    "    print(list(permutation(2**k)))"
   ]
  },
  {
   "cell_type": "code",
   "execution_count": 8,
   "metadata": {},
   "outputs": [
    {
     "name": "stdout",
     "output_type": "stream",
     "text": [
      "4.55 µs ± 19.7 ns per loop (mean ± std. dev. of 7 runs, 100000 loops each)\n",
      "7.44 µs ± 129 ns per loop (mean ± std. dev. of 7 runs, 100000 loops each)\n",
      "14.3 µs ± 188 ns per loop (mean ± std. dev. of 7 runs, 100000 loops each)\n",
      "32 µs ± 575 ns per loop (mean ± std. dev. of 7 runs, 10000 loops each)\n"
     ]
    }
   ],
   "source": [
    "for k in range(1, 5):\n",
    "    %timeit tri_fusion1(list(permutation(2**k)))\n",
    "    # timeit pour faire des stats sur le temps de calculs"
   ]
  },
  {
   "cell_type": "code",
   "execution_count": 4,
   "metadata": {},
   "outputs": [
    {
     "name": "stdout",
     "output_type": "stream",
     "text": [
      "12.2 µs ± 32.1 ns per loop (mean ± std. dev. of 7 runs, 100000 loops each)\n",
      "21.6 µs ± 1.96 µs per loop (mean ± std. dev. of 7 runs, 10000 loops each)\n",
      "30.6 µs ± 3.31 µs per loop (mean ± std. dev. of 7 runs, 10000 loops each)\n",
      "61.2 µs ± 967 ns per loop (mean ± std. dev. of 7 runs, 10000 loops each)\n",
      "127 µs ± 1.97 µs per loop (mean ± std. dev. of 7 runs, 10000 loops each)\n",
      "292 µs ± 1.47 µs per loop (mean ± std. dev. of 7 runs, 1000 loops each)\n",
      "722 µs ± 48.9 µs per loop (mean ± std. dev. of 7 runs, 1000 loops each)\n",
      "1.78 ms ± 59.3 µs per loop (mean ± std. dev. of 7 runs, 1000 loops each)\n",
      "4.68 ms ± 165 µs per loop (mean ± std. dev. of 7 runs, 100 loops each)\n"
     ]
    }
   ],
   "source": [
    "for k in range(1,5):\n",
    "    %timeit tri_fusion2(list(permutation(2**k)))"
   ]
  },
  {
   "cell_type": "markdown",
   "metadata": {},
   "source": [
    "Concaténer à gauche ou à droite sur une liste n'a pas la même complexité\n",
    "\n",
    "En python, les listes sont des tableaux dynamiques.\n",
    "On effectue des ré-allocation de mémoire pour agrandir le tableau, c'est à dire qu'il faut recréer une copie du tableau existant à un autre endroit physique de la mémoire !!\n",
    "\n",
    "--> __Concaténation à gauche  == on change tous les indices, alors que concaténation à droite, on ajoute les indices...__\n",
    "\n",
    "\n",
    "Selon l'implémentation des listes, on prendra ce qui a le moindre coût : mettre devant ou mettre derrière une liste, avoir accès au premier ou au dernier élément. "
   ]
  },
  {
   "cell_type": "markdown",
   "metadata": {},
   "source": [
    "## Parlons mémoire\n"
   ]
  },
  {
   "cell_type": "markdown",
   "metadata": {},
   "source": [
    "Lorsque nous fusionnons les listes, on crée plein de petites listes intermédiaires (cf [pythontutor](http://pythontutor.com/visualize.html#code=def%20fusion%28xs%3A%20list,%20ys%3A%20list%29%20-%3E%20list%3A%0A%20%20%20%20%20%20%20%20if%20xs%20%3D%3D%20%5B%5D%20or%20ys%20%3D%3D%20%5B%5D%3A%0A%20%20%20%20%20%20%20%20%20%20%20%20return%20xs%20%2B%20ys%0A%20%20%20%20%20%20%20%20elif%20xs%5B0%5D%20%3C%20ys%5B0%5D%3A%0A%20%20%20%20%20%20%20%20%20%20%20%20return%20fusion%28xs%5B1%3A%5D,ys%29%20%2B%20%5Bxs%5B0%5D%5D%0A%20%20%20%20%20%20%20%20else%3A%0A%20%20%20%20%20%20%20%20%20%20%20%20return%20fusion%28xs,ys%5B1%3A%5D%29%20%2B%20%5Bys%5B0%5D%5D%0A%0Afusion%28%5B1,3,5%5D,%20%5B2,4,6%5D%29&cumulative=false&curInstr=0&heapPrimitives=nevernest&mode=display&origin=opt-frontend.js&py=3&rawInputLstJSON=%5B%5D&textReferences=false))\n",
    "\n",
    "On peut essayer de remédier à ce problème en utilisant un *buffer* (tampon).\n",
    "On voudrait disposer d'un tampon dans lequel on va fusionner petit à petit les éléments du tableau à trier :"
   ]
  },
  {
   "cell_type": "code",
   "execution_count": 1,
   "metadata": {},
   "outputs": [
    {
     "name": "stdout",
     "output_type": "stream",
     "text": [
      "[1, 5, 2, 4, 9, 3, 2, 5, 47, 56, 12, 23, 65, 54]\n",
      "[1, 2, 2, 3, 4, 5, 5, 9, 12, 23, 47, 54, 56, 65]\n"
     ]
    }
   ],
   "source": [
    "# Pour éviter les listes intermédiaires, le buffer\n",
    "\n",
    "def fusion_en_place(L, tampon, lo, hi):\n",
    "    mid = (lo + hi) // 2\n",
    "    i, j = lo, mid # le tableau gauche s'arrête au milieu et celui de droite commence au milieu\n",
    "    \n",
    "    for pos in range(lo, hi):\n",
    "        if j >= hi: # on a rangé toute la partie droite\n",
    "            tampon[pos] = L[i] # on met le prochain élément de la partie gauche restante\n",
    "            i += 1 # on avance dans la partie gauche d'un cran\n",
    "            \n",
    "        elif i >= mid: # on a rangé toute la partie gauche\n",
    "            tampon[pos] = L[j] # on met met le prochain élément de la partie droite restante\n",
    "            j += 1  # on avance dans la partie droite d'un cran\n",
    "            \n",
    "        elif L[i] <= L[j]: # il en reste des 2 côtés : qui est le plus petit ?\n",
    "            tampon[pos] = L[i] # on place le plus petit\n",
    "            i += 1 # on avance dans la partie gauche d'un cran\n",
    "            \n",
    "        else: \n",
    "            tampon[pos] = L[j]\n",
    "            j += 1 # on a placé xs[j] donc on avance à droite\n",
    "            \n",
    "    for pos in range(lo, hi):\n",
    "        L[pos] = tampon[pos] # xs trié entre les indices lo et hi\n",
    "\n",
    "def tri_fusion_en_place(L):\n",
    "    def aux(tampon, lo, hi):\n",
    "        if hi - lo >= 2:\n",
    "            mid = (lo + hi) // 2\n",
    "            aux(tampon, lo, mid)\n",
    "            aux(tampon, mid, hi)\n",
    "            fusion_en_place(L, tampon, lo, hi)\n",
    "    aux([0]*len(L), 0, len(L))\n",
    "\n",
    "L = [1, 5, 2, 4, 9, 3, 2, 5, 47, 56, 12, 23, 65, 54]\n",
    "print(L)\n",
    "tri_fusion_en_place(L)\n",
    "print(L)"
   ]
  },
  {
   "cell_type": "code",
   "execution_count": null,
   "metadata": {},
   "outputs": [],
   "source": [
    "import os\n",
    "os.sys.setrecursionlimit(100000)\n",
    "\n",
    "# afficher les timeit\n",
    "\n"
   ]
  },
  {
   "cell_type": "markdown",
   "metadata": {},
   "source": [
    "Comparaispon graphique :"
   ]
  },
  {
   "cell_type": "code",
   "execution_count": 1,
   "metadata": {},
   "outputs": [
    {
     "ename": "NameError",
     "evalue": "name 'tri_fusion1' is not defined",
     "output_type": "error",
     "traceback": [
      "\u001b[1;31m---------------------------------------------------------------------------\u001b[0m",
      "\u001b[1;31mNameError\u001b[0m                                 Traceback (most recent call last)",
      "\u001b[1;32m<ipython-input-1-17c6dc7b89b6>\u001b[0m in \u001b[0;36m<module>\u001b[1;34m\u001b[0m\n\u001b[0;32m     17\u001b[0m     \u001b[1;32mreturn\u001b[0m \u001b[0mn\u001b[0m\u001b[1;33m,\u001b[0m \u001b[0mtemps\u001b[0m\u001b[1;33m\u001b[0m\u001b[1;33m\u001b[0m\u001b[0m\n\u001b[0;32m     18\u001b[0m \u001b[1;33m\u001b[0m\u001b[0m\n\u001b[1;32m---> 19\u001b[1;33m \u001b[0mtest1\u001b[0m \u001b[1;33m=\u001b[0m \u001b[0mtemps\u001b[0m\u001b[1;33m(\u001b[0m\u001b[0mtri_fusion1\u001b[0m\u001b[1;33m)\u001b[0m\u001b[1;33m\u001b[0m\u001b[1;33m\u001b[0m\u001b[0m\n\u001b[0m\u001b[0;32m     20\u001b[0m \u001b[0mtest2\u001b[0m \u001b[1;33m=\u001b[0m \u001b[0mtemps\u001b[0m\u001b[1;33m(\u001b[0m\u001b[0mtri_fusion2\u001b[0m\u001b[1;33m)\u001b[0m\u001b[1;33m\u001b[0m\u001b[1;33m\u001b[0m\u001b[0m\n\u001b[0;32m     21\u001b[0m \u001b[1;33m\u001b[0m\u001b[0m\n",
      "\u001b[1;31mNameError\u001b[0m: name 'tri_fusion1' is not defined"
     ]
    }
   ],
   "source": [
    "from matplotlib import pyplot as plt\n",
    "from time import perf_counter\n",
    "import os\n",
    "os.sys.setrecursionlimit(100000)\n",
    "\n",
    "def temps(tri):\n",
    "    n = []\n",
    "    temps =[]\n",
    "    for k in range(1, 12):\n",
    "        L = list(permutation(2**k))\n",
    "        n.append(len(L))\n",
    "        start = perf_counter()\n",
    "        tri(L)\n",
    "        stop = perf_counter()\n",
    "        temps.append(stop - start)\n",
    "    return n, temps\n",
    "\n",
    "#graphique\n",
    "\n"
   ]
  },
  {
   "cell_type": "markdown",
   "metadata": {},
   "source": [
    "# Les tris en Python\n",
    "\n",
    "Python a deux fonctions permettant de trier des collections : `sorted` et `sort`. La première effectue un tri sur un `iterable` et crée une *nouvelle* liste sans modifier l'itérable donné en argument.  \n",
    "`sort` au contraire est une *méthode* de la classe `list` et effectue un tri *en place* de la liste de départ : celle-ci est donc modifiée par une suite d'opérations à effet de bord. Dans les premières versions de Python, ces fonctions étaient dérivées du tri rapide mais finalement l'algorithme utilisé actuellement est dérivé du tri fusion (il s'appelle [`timsort`](https://fr.wikipedia.org/wiki/Timsort) du nom de son auteur). \n",
    "Il est ainsi important de noter que l'idée du tri fusion de John Von Neumann est toujours utilisée. Son introduction dans les années 50 a marqué lémergence de l'analyse des algorithmes dont plus tard Don Knuth sera le héraut. C'est aussi l'exemple phare du principe de *diviser pour régner* qui sera l'objet du prochain chapitre..."
   ]
  },
  {
   "cell_type": "markdown",
   "metadata": {},
   "source": [
    "# Illustrations\n",
    "\n",
    "Voici deux illustrations du tri fusion : \n",
    "\n",
    "\n",
    "<figure class=\"video_container\">\n",
    "  <video controls=\"true\" allowfullscreen=\"true\" autoplay=\"true\">\n",
    "    <source src=\"merge.mp4\" type=\"video/mp4\">\n",
    "  </video>\n",
    "</figure>\n",
    "\n",
    "[illustration du tri fusion...à coder](https://i.imgur.com/MAusQ25.mp4)\n",
    "\n",
    "\n",
    "[et bien d'autres tris](https://imgur.com/gallery/voutF)"
   ]
  }
 ],
 "metadata": {
  "kernelspec": {
   "display_name": "Python 3",
   "language": "python",
   "name": "python3"
  },
  "language_info": {
   "codemirror_mode": {
    "name": "ipython",
    "version": 3
   },
   "file_extension": ".py",
   "mimetype": "text/x-python",
   "name": "python",
   "nbconvert_exporter": "python",
   "pygments_lexer": "ipython3",
   "version": "3.7.6"
  }
 },
 "nbformat": 4,
 "nbformat_minor": 4
}
