{
 "cells": [
  {
   "cell_type": "markdown",
   "metadata": {},
   "source": [
    "# ACT  LES CLASSES"
   ]
  },
  {
   "cell_type": "markdown",
   "metadata": {},
   "source": [
    "<h1> I. Approche des classes </h1>"
   ]
  },
  {
   "cell_type": "markdown",
   "metadata": {},
   "source": [
    "Jusqu'ici, nous avons fait de la programmation impérative (suite d'instructions) ou procédurale (décomposition en fonctions).\n",
    "Un autre type de programmation, que nous allons aborder ici est la Programmation Orientée Objet (POO)."
   ]
  },
  {
   "cell_type": "markdown",
   "metadata": {},
   "source": [
    "<h2>1. Un exemple concret de POO </h2>"
   ]
  },
  {
   "cell_type": "markdown",
   "metadata": {},
   "source": [
    "<h3> Premières définitions </h3>"
   ]
  },
  {
   "cell_type": "markdown",
   "metadata": {},
   "source": [
    "Un chien domestique peut être vu comme un représentant de l'espèce <i> canis lupus familiaris </i>"
   ]
  },
  {
   "cell_type": "markdown",
   "metadata": {},
   "source": [
    "Médor, Fido ou Pupuce sont des représentants de cette espèce."
   ]
  },
  {
   "cell_type": "markdown",
   "metadata": {},
   "source": [
    "Les chiens domestiques diffèrent pourtant les uns des autres : il existe des éléments variables qui permettent de les caractériser. Par exemple, la race, l'âge, la taille, la masse, la couleur du pelage, la longueur du pelage, le propriétaire ..."
   ]
  },
  {
   "cell_type": "markdown",
   "metadata": {},
   "source": [
    "Sur chaque chien, on peut également appliquer des actions : vacciner, tatouer, tondre ..."
   ]
  },
  {
   "cell_type": "markdown",
   "metadata": {},
   "source": [
    "L'espèce <i> Canis lupus familiaris </i> est appelée <b> CLASSE </b>"
   ]
  },
  {
   "cell_type": "markdown",
   "metadata": {},
   "source": [
    "Chaque chien est appelé un <b> OBJET </b> de la classe."
   ]
  },
  {
   "cell_type": "markdown",
   "metadata": {},
   "source": [
    "Les caractéristiques s'appellent des <b> ATTRIBUTS </b> d'un chien."
   ]
  },
  {
   "cell_type": "markdown",
   "metadata": {},
   "source": [
    "Enfin, il est possible de connaître ou modifier certains attributs. Par exemple \"tatouer\" permettra de retrouver le propriétaire d'un chien, \"tondre\" revient à modifier l'attribut \"longueur du pelage\",\n",
    "Ces actions possibles sur n'importe quel objet de la classe s'appellent des <b> METHODES</b>."
   ]
  },
  {
   "cell_type": "markdown",
   "metadata": {},
   "source": [
    "Une classe est donc une structure abstraite de données regroupant :\n",
    "    <ol>\n",
    "        <li>les caractéristiques de ces données, appelées attributs (ou variable d'instance)</li>\\\n",
    "        <li> les actions applicables, appelées méthodes </li>\n",
    "    </ol>"
   ]
  },
  {
   "cell_type": "markdown",
   "metadata": {},
   "source": [
    "La création d'un objet d'une classe s'appelle une <b> INSTANCIATION </b> de cette classe."
   ]
  },
  {
   "cell_type": "markdown",
   "metadata": {},
   "source": [
    "La \"création\" d'un nouveau chien revient à une nouvelle instanciation de la classe Chien. Ce nouveau chien est une instance de cette classe. Cela nécessite de préciser ses attributs (race, taille, âge ...)."
   ]
  },
  {
   "cell_type": "markdown",
   "metadata": {},
   "source": [
    "Il existe trois principaux types de méthodes différentes :\n",
    "    <ol>\n",
    "        <li> celles qui permettent de construire un objet </li>\n",
    "        <li> celles qui permettent d'accéder à un attribut </li>\n",
    "        <li> celles qui permettent de modifier un objet (via ses attributs)</li>\n",
    "    </ol>"
   ]
  },
  {
   "cell_type": "markdown",
   "metadata": {},
   "source": [
    "Un <b> CONSTRUCTEUR </b> est une méthode qui permet l'instanciation. Cette méthode initialise l'ensemble des attributs de l'objet."
   ]
  },
  {
   "cell_type": "markdown",
   "metadata": {},
   "source": [
    "<h2> 2. Création d'une première classe </h2>"
   ]
  },
  {
   "cell_type": "markdown",
   "metadata": {},
   "source": [
    "Un jeu vidéo doit gérer des personnages. Ceux-ci peuvent être gérer en programmation objet."
   ]
  },
  {
   "cell_type": "markdown",
   "metadata": {},
   "source": [
    "<h3> Le constructeur </h3>"
   ]
  },
  {
   "cell_type": "markdown",
   "metadata": {},
   "source": [
    "Une classe est définie en Python par le mot-clé **class** suivi du NomDeLaClasse, ainsi que d'une documentation succinte."
   ]
  },
  {
   "cell_type": "code",
   "execution_count": null,
   "metadata": {},
   "outputs": [],
   "source": [
    "class NomDeLaClasse:\n",
    "       \"\"\"documentation\"\"\""
   ]
  },
  {
   "cell_type": "markdown",
   "metadata": {},
   "source": [
    "Voici le début de la classe Personnage, avec une succincte documentation :"
   ]
  },
  {
   "cell_type": "code",
   "execution_count": 1,
   "metadata": {},
   "outputs": [],
   "source": [
    "class Personnage:\n",
    "       \"\"\"Un personnage du jeu video\"\"\""
   ]
  },
  {
   "cell_type": "markdown",
   "metadata": {},
   "source": [
    "On suppose que chaque personnage a deux attributs :\n",
    "        <ol>\n",
    "        <li> le genre : \"féminin\", \"masculin\", \"autre\"</li>\n",
    "        <li> l'expérience (donnée par un nombre entier) </li>\n",
    "        </ol>"
   ]
  },
  {
   "cell_type": "markdown",
   "metadata": {},
   "source": [
    "Pour constuire un personnage, il va falloir utiliser un <b> constructeur </b>.\n",
    "En Python, le constructeur est :\n",
    "    <ol>\\\n",
    "        <li> toujours notée __init__ (deux tirets bas de chaque côté)</li>\\\n",
    "        <li> définie par le mot-clé def </li>\\\n",
    "        <li> les paramètres seront toujours :\n",
    "            <ul>\n",
    "               <li> le paramètre self (qui désigne l'objet auquel s'appliquera la méthode : self représente l'objet dans la méthode en attendant qu'il soit créé. </li>\n",
    "               <li> suivi des paramètres correspondant aux différentes valeurs assignées aux attributs lors de l'instanciation de l'objet</li>\n",
    "            </ul>\n",
    "    </ol>"
   ]
  },
  {
   "cell_type": "code",
   "execution_count": 2,
   "metadata": {},
   "outputs": [],
   "source": [
    "class Personnage:\n",
    "        \"\"\"un personnage du jeu video\"\"\"\n",
    "        def __init__(self, genre, experience):\n",
    "            self.genre = genre\n",
    "            self.experience = experience"
   ]
  },
  {
   "cell_type": "markdown",
   "metadata": {},
   "source": [
    "Pour l'instant, aucun personnage n'est créé. Il faut pour créer un personnage (soit une instance de la classe Personnage), faire appel au constructeur de la classe :"
   ]
  },
  {
   "cell_type": "code",
   "execution_count": 3,
   "metadata": {},
   "outputs": [],
   "source": [
    "Alex = Personnage(\"masculin\" , 0)"
   ]
  },
  {
   "cell_type": "markdown",
   "metadata": {},
   "source": [
    "Alex est désormais créé !"
   ]
  },
  {
   "cell_type": "code",
   "execution_count": 4,
   "metadata": {},
   "outputs": [
    {
     "data": {
      "text/plain": [
       "<__main__.Personnage at 0x7faa14533910>"
      ]
     },
     "execution_count": 4,
     "metadata": {},
     "output_type": "execute_result"
    }
   ],
   "source": [
    "Alex"
   ]
  },
  {
   "cell_type": "markdown",
   "metadata": {},
   "source": [
    "Alex est bien un objet de la classe Personnage stocké à l'adresse mémoire indiquée."
   ]
  },
  {
   "cell_type": "markdown",
   "metadata": {},
   "source": [
    "On peut accéder à ses attributs :"
   ]
  },
  {
   "cell_type": "code",
   "execution_count": 5,
   "metadata": {},
   "outputs": [
    {
     "data": {
      "text/plain": [
       "'masculin'"
      ]
     },
     "execution_count": 5,
     "metadata": {},
     "output_type": "execute_result"
    }
   ],
   "source": [
    "Alex.genre"
   ]
  },
  {
   "cell_type": "code",
   "execution_count": 6,
   "metadata": {},
   "outputs": [
    {
     "data": {
      "text/plain": [
       "0"
      ]
     },
     "execution_count": 6,
     "metadata": {},
     "output_type": "execute_result"
    }
   ],
   "source": [
    "Alex.experience"
   ]
  },
  {
   "cell_type": "markdown",
   "metadata": {},
   "source": [
    "Créer deux autres personnages :\n",
    "        <ol>\n",
    "        <li> Berenice, une femme d'expérience 1250</li>\n",
    "        <li> Bob de genre autre et d'expérience 500000 </li>"
   ]
  },
  {
   "cell_type": "code",
   "execution_count": null,
   "metadata": {},
   "outputs": [],
   "source": []
  },
  {
   "cell_type": "markdown",
   "metadata": {},
   "source": [
    "<h3> Un exemple de méthode </h3>"
   ]
  },
  {
   "cell_type": "markdown",
   "metadata": {},
   "source": [
    "L'expérience d'un personnage évolue en fonction des rencontres.\n",
    "On peut donc créer une méthode rencontre qui fait progresser l'expérience du personnage (une rencontre permet de gagner aléatoirement entre 10 et 20 points d'expérience)."
   ]
  },
  {
   "cell_type": "code",
   "execution_count": 7,
   "metadata": {},
   "outputs": [],
   "source": [
    "from random import *\n",
    "\n",
    "class Personnage:\n",
    "        \"\"\"un personnage du jeu video\"\"\"\n",
    "     \n",
    "        def __init__(self, genre, experience):\n",
    "            self.genre = genre\n",
    "            self.experience = experience\n",
    "        def rencontre(self):\n",
    "            n = randint (10,20)\n",
    "            self.experience = self.experience + n"
   ]
  },
  {
   "cell_type": "code",
   "execution_count": 8,
   "metadata": {},
   "outputs": [
    {
     "data": {
      "text/plain": [
       "15"
      ]
     },
     "execution_count": 8,
     "metadata": {},
     "output_type": "execute_result"
    }
   ],
   "source": [
    "Alex = Personnage (\"masculin\",0)\n",
    "Alex.rencontre()\n",
    "Alex.experience"
   ]
  },
  {
   "cell_type": "markdown",
   "metadata": {},
   "source": [
    "Ecrire de même une méthode niveau, qui permet de déterminer le niveau du personnage, sachant qu'il gagne un niveau tous les 1000 points d'expérience."
   ]
  },
  {
   "cell_type": "code",
   "execution_count": null,
   "metadata": {},
   "outputs": [],
   "source": [
    "from random import *\n",
    "\n",
    "class Personnage:\n",
    "        \"\"\"un personnage du jeu video\"\"\"\n",
    "     \n",
    "        def __init__(self, genre, experience):\n",
    "            self.genre = genre\n",
    "            self.experience = experience\n",
    "        def rencontre(self):\n",
    "            n = randint (10,20)\n",
    "            self.experience = self.experience + n\n",
    "        def niveau(self):"
   ]
  },
  {
   "cell_type": "code",
   "execution_count": null,
   "metadata": {},
   "outputs": [],
   "source": []
  },
  {
   "cell_type": "markdown",
   "metadata": {},
   "source": [
    "<h2> LA PILE ET LA FILE </h2>"
   ]
  },
  {
   "cell_type": "markdown",
   "metadata": {},
   "source": [
    "Voici la classe définissant une pile :"
   ]
  },
  {
   "cell_type": "code",
   "execution_count": 24,
   "metadata": {},
   "outputs": [],
   "source": [
    "class Pile:\n",
    "        \"\"\"Structure de pile\"\"\"\n",
    "        def __init__(self):\n",
    "            self.contenu = []\n",
    "            \n",
    "        def est_vide(self):\n",
    "            return len(self.contenu) == 0\n",
    "    \n",
    "        def empiler(self, v):\n",
    "            self.contenu.append(v)\n",
    "            \n",
    "        def depiler(self):\n",
    "            if self.est_vide():\n",
    "                raise IndexError (\"depiler sur une file vide !!\")\n",
    "            return self.contenu.pop()"
   ]
  },
  {
   "cell_type": "markdown",
   "metadata": {},
   "source": [
    "Créer de même la classe correspondant à la file."
   ]
  },
  {
   "cell_type": "code",
   "execution_count": null,
   "metadata": {},
   "outputs": [],
   "source": []
  }
 ],
 "metadata": {
  "kernelspec": {
   "display_name": "Python 3",
   "language": "python",
   "name": "python3"
  },
  "language_info": {
   "codemirror_mode": {
    "name": "ipython",
    "version": 3
   },
   "file_extension": ".py",
   "mimetype": "text/x-python",
   "name": "python",
   "nbconvert_exporter": "python",
   "pygments_lexer": "ipython3",
   "version": "3.7.6"
  }
 },
 "nbformat": 4,
 "nbformat_minor": 4
}
