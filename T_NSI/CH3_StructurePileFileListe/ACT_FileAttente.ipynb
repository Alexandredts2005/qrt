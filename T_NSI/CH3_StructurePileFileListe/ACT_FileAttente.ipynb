{
 "cells": [
  {
   "cell_type": "markdown",
   "metadata": {},
   "source": [
    "# ACT Gestion d'une file d'attente"
   ]
  },
  {
   "cell_type": "markdown",
   "metadata": {},
   "source": [
    "On cherche à optimiser le temps d'attente à un ensemble de guichet.\n",
    "L'idée étant de **comparer les temps d'attente pour une file unique ou une file par guichet**.\n",
    "\n",
    "\n",
    "Le temps est la variable globale ```T``` qui est incrémenté à chaque tour de boucle : \n",
    "- Un client arrive : il est placé dans une file sous la forme d'un entier égal à la valeur de l'horloge (c'est à dire son horaire d'arrivée).\n",
    "- Un client est servi : son temps d'attente est la différence entre la valeur courante de ```T``` et la valeur de ce client\n",
    " \n",
    "En faisant tourner cette simulation longtemps, on peut totaliser le nombre de clients servis et leurs temps d'attente pour en extraire le temps d'attente moyen.\n",
    "\n",
    "On pourra comparer plusieurs stratégies :\n",
    " - Choix d'une file au hasard\n",
    " - Choix de la file qui a le moins de clients\n",
    " - Une seule file\n",
    "\n",
    "Le nombre de guichets est ```N``` (par ex. N = 10) et on simule la disponibilité d'un guichet par la file ```dispo``` où la valeur ```dispo[i]``` indique le nombre de tours d'horloge pour lequel le guichet ```i``` sera occupé.\n",
    "Si ```dispo[i]``` vaut 0, alors le guichet ```i``` est libre et peut servir un nouveau client. A chaque fois qu'un client est à un guichet, le temps d'attente de ce guichet devient un entier aléatoire entre 1 et 10.\n",
    "\n",
    "A chaque tour d'horloge, on effectue 2 opérations :\n",
    "1. Un nouveau client apparait\n",
    "2. Pour chaque guichet ```i``` : \n",
    " - Si il est disponible, on sert un nouveau client (soit de sa file, soit de l'unique file suivant le cas.)\n",
    " - Sinon, on décrémente ```dispo[i]```\n",
    " \n"
   ]
  },
  {
   "cell_type": "markdown",
   "metadata": {},
   "source": [
    " ## Ecrire le programme qui permettra de comparer les 3 stratégies proposées."
   ]
  },
  {
   "cell_type": "markdown",
   "metadata": {},
   "source": [
    "<h2>1. Cas d'une seule file d'attente </h2>"
   ]
  },
  {
   "cell_type": "markdown",
   "metadata": {},
   "source": [
    "Quelle structure de données peut permettre de gérer la file des clients en attente ? On va donc importer le module comportant les fonctions concernant cette structure. On aura également besoin de la bibliothèque random."
   ]
  },
  {
   "cell_type": "code",
   "execution_count": null,
   "metadata": {},
   "outputs": [],
   "source": [
    "import random\n",
    "from    ...          import *\n",
    "\n",
    "nguichets = 10\n",
    "horloge = 0 \n",
    "dispo = .... #liste des temps d'attente des guichets\n",
    "atttotale = 0\n",
    "...... # structure initialisant la liste des clients en attente"
   ]
  },
  {
   "cell_type": "markdown",
   "metadata": {},
   "source": [
    "Ecrire une fonction ```nouveauclient()``` qui ajoute un nouveau client dans cette file d'attente "
   ]
  },
  {
   "cell_type": "code",
   "execution_count": null,
   "metadata": {},
   "outputs": [],
   "source": [
    "def nouveauclient():\n",
    "    \"\"\"ajoute un nouveau client dans la file d'attente\"\"\"\n",
    "    "
   ]
  },
  {
   "cell_type": "markdown",
   "metadata": {},
   "source": [
    "Ecrire une fonction ```servirclient(i)```, où i représente le numéro du guichet. Cette fonction doit actualiser la liste d'attente, déterminer le temps d'attente du client servi, et réinitialiser le temps d'attente du guichet i à un entier aléatoire entre 1 et 10.\n",
    "Elle doit également mettre à jour le nombre de clients servis et le temps d'attente total."
   ]
  },
  {
   "cell_type": "code",
   "execution_count": 1,
   "metadata": {},
   "outputs": [],
   "source": [
    "def servirclient(i):\n",
    "    \"\"\"détermine le temps d'attente du client servi, l'enlève de la file \n",
    "    des clients et réinitialise le guichet i\"\"\"\n",
    "    "
   ]
  },
  {
   "cell_type": "markdown",
   "metadata": {},
   "source": [
    "Ecrire le programme principal, qui gère l'horloge, fait apparaître un nouveau client, regarde si un guichet est disponible et sert un client si c'est le cas.\n",
    "Ce programme doit afficher le temps attente moyen par client servi."
   ]
  },
  {
   "cell_type": "code",
   "execution_count": null,
   "metadata": {},
   "outputs": [],
   "source": [
    "for j in range(10000):  #on fait une simulation sur 10 000 tours d'horloge\n",
    "    "
   ]
  },
  {
   "cell_type": "markdown",
   "metadata": {},
   "source": [
    "<h2> 2. Cas du choix aléatoire d'une file (avec une file par guichet) </h2>"
   ]
  },
  {
   "cell_type": "markdown",
   "metadata": {},
   "source": [
    "Modifier le programme précédent dans le cas où le client qui arrive choisit une file au hasard.\n",
    "A chaque tour d'horloge, chaque guichet disponible sert le premier client en attente dans sa file."
   ]
  },
  {
   "cell_type": "code",
   "execution_count": null,
   "metadata": {},
   "outputs": [],
   "source": []
  },
  {
   "cell_type": "markdown",
   "metadata": {},
   "source": [
    "<h2>3. Cas du choix de la file la plus courte (avec une file par guichet) </h2>"
   ]
  },
  {
   "cell_type": "markdown",
   "metadata": {},
   "source": [
    "Modifier le programme dans le cas où le client choisit cette fois la file d'attente la plus courte."
   ]
  },
  {
   "cell_type": "code",
   "execution_count": null,
   "metadata": {},
   "outputs": [],
   "source": []
  }
 ],
 "metadata": {
  "kernelspec": {
   "display_name": "Python 3",
   "language": "python",
   "name": "python3"
  },
  "language_info": {
   "codemirror_mode": {
    "name": "ipython",
    "version": 3
   },
   "file_extension": ".py",
   "mimetype": "text/x-python",
   "name": "python",
   "nbconvert_exporter": "python",
   "pygments_lexer": "ipython3",
   "version": "3.7.6"
  }
 },
 "nbformat": 4,
 "nbformat_minor": 4
}
