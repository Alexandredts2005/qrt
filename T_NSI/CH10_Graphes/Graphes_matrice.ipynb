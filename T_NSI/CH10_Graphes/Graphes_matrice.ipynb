{
 "cells": [
  {
   "cell_type": "markdown",
   "metadata": {},
   "source": [
    "<h1> <center> GRAPHES : Implémentation python à l'aide d'une matrice </center></h1>"
   ]
  },
  {
   "cell_type": "markdown",
   "metadata": {},
   "source": [
    "<h1> 1.  Interface </h1>\n",
    "Il existe de multiples façons de représenter un graphe en machine, selon la nature du graphe ou des opérations et des algorithmes à effectuer sur ce graphe.\n",
    "\n",
    "\n",
    "Quoi qu'il en soit, on implémentera :\n",
    "  * Des opérations de constructions (création d'un graphe vide, ajout de sommets, ajout d'arcs, ...)\n",
    "  * Des opérations de parcours de graphe (par les sommets, par les arcs,...)\n",
    "\n",
    "\n",
    "On commencera par les graphes orientés dans lesquels les sommets contiennent des entiers."
   ]
  },
  {
   "cell_type": "markdown",
   "metadata": {},
   "source": [
    "<h1> 2. Matrice d'adjacence </h1>\n",
    "<img src='grapheoriente.png' style='float:right;' width=200>\n",
    "\n",
    "\n",
    "* On considère le graphe orienté ci-contre, qui comporte 4 sommets a, b, c, d.\n",
    "\n",
    "\n",
    "* Nous allons représenter ce graphe en Python sous forme d'une liste de listes, qui ne contiendra que des booléens. Ce tableau est la représentation de la matrice d'adjacence.\n",
    "\n",
    "\n",
    "* Cette matrice est :\n",
    "$\\begin{pmatrix} 0 & 1 & 0 & 1 \\\\ 0 & 0 & 1 & 1  \\\\ 0 & 0 & 0 & 1 \\\\ 0 & 1 & 0 & 0\\end{pmatrix}$\n",
    "\n",
    "\n",
    "* En python, cela peut donner la variable  adj suivante :\n",
    "\n",
    "```\n",
    "adj=[[0,1,0,1],\n",
    "     [0,0,1,1],\n",
    "     [0,0,0,1],\n",
    "     [0,1,0,0]]\n",
    "```\n",
    "\n",
    "\n",
    "* Ainsi par exemple ```adj[0][3]``` contient 1, ce qui correspond  à l'arc a-d   "
   ]
  },
  {
   "cell_type": "markdown",
   "metadata": {},
   "source": [
    "<h1> 3. Création d'une classe graphe </h1>\n",
    "\n",
    "La classe ```Graphe_M``` ci-dessous contient déjà les méthodes suivantes :\n",
    "\n",
    "  * Une méthode constructeur qui prend en argument le nombre de sommets et qui initialise la matrice avec des $0$.\n",
    "  * Une méthode ```afficher(self)``` qui permet de visualiser la matrice d'adjacence du graphe.\n",
    "  * Une méthode ```arc(self,s1,s2)``` qui renvoie 1 s'il y a un arc de s1 vers s2 et 0 sinon."
   ]
  },
  {
   "cell_type": "code",
   "execution_count": 2,
   "metadata": {},
   "outputs": [],
   "source": [
    "class Graphe_M:\n",
    "    '''Graphe représenté par une matrice d'adjacence'''\n",
    "    def __init__(self, n):\n",
    "        self.n = n\n",
    "        self.adj = [[0]*n for i in range(n)]\n",
    "        \n",
    "    def affiche(self):\n",
    "        for i in range(self.n):\n",
    "            print(self.adj[i])\n",
    "    \n",
    "    def arc(self,s1,s2):\n",
    "        return self.adj[s1][s2]\n",
    "    \n",
    "    #Ex1\n",
    "    def ajoute_arc(self, s1, s2):\n",
    "        pass\n",
    "\n",
    "        \n",
    "    #Ex2\n",
    "    def voisins(self,s):\n",
    "        voisins = []\n",
    "        pass\n",
    "        return voisins\n",
    "    \n",
    "    ##Ex3\n",
    "    def nb_arcs(self):\n",
    "        a = 0\n",
    "        pass\n",
    "        return a\n",
    "\n",
    "            "
   ]
  },
  {
   "cell_type": "code",
   "execution_count": 3,
   "metadata": {},
   "outputs": [
    {
     "name": "stdout",
     "output_type": "stream",
     "text": [
      "[0, 0, 0, 0]\n",
      "[0, 0, 0, 0]\n",
      "[0, 0, 0, 0]\n",
      "[0, 0, 0, 0]\n"
     ]
    }
   ],
   "source": [
    "g1=Graphe_M(4)\n",
    "g1.affiche() # Affiche la matrice du graphe vide   \n"
   ]
  },
  {
   "cell_type": "markdown",
   "metadata": {},
   "source": [
    "<b>Exercice 1 : </b>\n",
    "Dans la classe ```Graphe_M```, ajouter la méthode ```ajouter_arc(self,s1,s2)``` qui crée l'arc de s1 vers s2 (c'est à dire qui modifie la matrice en remplaçant 0 par 1 au bon endroit). <br>\n",
    "Vérifier sur le graphe présenté en exemple ci-dessus."
   ]
  },
  {
   "cell_type": "code",
   "execution_count": 4,
   "metadata": {},
   "outputs": [
    {
     "name": "stdout",
     "output_type": "stream",
     "text": [
      "[0, 1, 0, 1]\n",
      "[0, 0, 0, 0]\n",
      "[0, 0, 0, 0]\n",
      "[0, 0, 0, 0]\n"
     ]
    },
    {
     "ename": "AssertionError",
     "evalue": "",
     "output_type": "error",
     "traceback": [
      "\u001b[1;31m---------------------------------------------------------------------------\u001b[0m",
      "\u001b[1;31mAssertionError\u001b[0m                            Traceback (most recent call last)",
      "\u001b[1;32m<ipython-input-4-717cd809ba02>\u001b[0m in \u001b[0;36m<module>\u001b[1;34m\u001b[0m\n\u001b[0;32m      5\u001b[0m \u001b[0mg1\u001b[0m\u001b[1;33m.\u001b[0m\u001b[0maffiche\u001b[0m\u001b[1;33m(\u001b[0m\u001b[1;33m)\u001b[0m\u001b[1;33m\u001b[0m\u001b[1;33m\u001b[0m\u001b[0m\n\u001b[0;32m      6\u001b[0m \u001b[1;33m\u001b[0m\u001b[0m\n\u001b[1;32m----> 7\u001b[1;33m \u001b[1;32massert\u001b[0m\u001b[1;33m(\u001b[0m\u001b[0mg1\u001b[0m\u001b[1;33m.\u001b[0m\u001b[0marc\u001b[0m\u001b[1;33m(\u001b[0m\u001b[1;36m3\u001b[0m\u001b[1;33m,\u001b[0m\u001b[1;36m1\u001b[0m\u001b[1;33m)\u001b[0m\u001b[1;33m==\u001b[0m\u001b[1;36m1\u001b[0m\u001b[1;33m)\u001b[0m\u001b[1;33m\u001b[0m\u001b[1;33m\u001b[0m\u001b[0m\n\u001b[0m",
      "\u001b[1;31mAssertionError\u001b[0m: "
     ]
    }
   ],
   "source": [
    "#test ajoute_arc()\n",
    "g1.ajoute_arc(0,1)\n",
    "g1.ajoute_arc(0,3)\n",
    "# ....\n",
    "g1.affiche() \n",
    "\n",
    "assert(g1.arc(3,1)==1)"
   ]
  },
  {
   "cell_type": "markdown",
   "metadata": {},
   "source": [
    "<b>Exercice 2 :</b>\n",
    "Compléter la méthode ```voisins(self, s)``` qui prend en paramètre un sommet s et qui renvoie la liste de ses voisins, c'est-à-dire la liste des sommets vers lesquels il existe un arc partant de s."
   ]
  },
  {
   "cell_type": "code",
   "execution_count": 9,
   "metadata": {},
   "outputs": [],
   "source": [
    "### tests voisins\n",
    "\n"
   ]
  },
  {
   "cell_type": "markdown",
   "metadata": {},
   "source": [
    "<b> Exercice 3 : </b>\n",
    "Ecrire la méthode ```nb_arcs(self)``` qui renvoie le nombre d'arcs existant dans le graphe passé en argument."
   ]
  },
  {
   "cell_type": "code",
   "execution_count": 10,
   "metadata": {},
   "outputs": [],
   "source": [
    "# test nb_arcs\n",
    "\n"
   ]
  }
 ],
 "metadata": {
  "kernelspec": {
   "display_name": "Python 3",
   "language": "python",
   "name": "python3"
  },
  "language_info": {
   "codemirror_mode": {
    "name": "ipython",
    "version": 3
   },
   "file_extension": ".py",
   "mimetype": "text/x-python",
   "name": "python",
   "nbconvert_exporter": "python",
   "pygments_lexer": "ipython3",
   "version": "3.7.6"
  }
 },
 "nbformat": 4,
 "nbformat_minor": 4
}
