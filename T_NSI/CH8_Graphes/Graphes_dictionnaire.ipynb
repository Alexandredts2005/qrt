{
 "cells": [
  {
   "cell_type": "markdown",
   "metadata": {},
   "source": [
    "<h1> <center> GRAPHES : Implémentation à l'aide d'un dictionnaire </center></h1>"
   ]
  },
  {
   "cell_type": "markdown",
   "metadata": {},
   "source": [
    "<b><h2>Représenter un graphe à l'aide d'un dictionnaire </b></h2> <br>\n",
    "<img src='grapheoriente.PNG' style='float:right;' width=200>\n",
    "Dans le graphe ci-contre, pour chacun des sommets, on peut lister ses successeurs (ses voisins). <br>\n",
    "Sa représentation est alors :\n",
    "\n",
    "```\n",
    "{ 'a' : ['b','d'],\n",
    "  'b' : ['c','d'],\n",
    "  'c' : ['d'],\n",
    "  'd' : ['b']\n",
    "}\n",
    "```"
   ]
  },
  {
   "cell_type": "markdown",
   "metadata": {},
   "source": [
    "La nouvelle classe ```Graphe_D``` ci-dessous contient désormais les méthodes suivantes :\n",
    "\n",
    "  * Une méthode constructeur qui ne prend pas d'argument mais qui initialise le graphe avec un dictionnaire vide.\n",
    "  * Une méthode ```afficher(self)``` qui permet de visualiser le dictionnaire d'adjacence du graphe.\n",
    "  * Une méthode ```ajouter_sommet(self,s)``` qui ajoute la clé s dans le dictionnaire d'adjacence si elle n'est pas déjà présente.\n",
    "  * Une méthode ```sommets(self)``` qui renvoie la liste des sommets du graphe."
   ]
  },
  {
   "cell_type": "code",
   "execution_count": 2,
   "metadata": {},
   "outputs": [],
   "source": [
    "class Graphe_D:\n",
    "    '''Graphe représenté par un dictionnaire d'adjacence'''\n",
    "    def __init__(self):\n",
    "        self.adj={}\n",
    "    \n",
    "    def affiche(self):\n",
    "        for k in self.adj:\n",
    "            print (k,self.adj[k])\n",
    "    \n",
    "    def ajouter_sommet(self,s):\n",
    "        if s not in self.adj:\n",
    "            self.adj[s]=[]\n",
    "   \n",
    "    #Ex 4\n",
    "    def ajouter_arc(self, s1, s2):\n",
    "        pass\n",
    "    \n",
    "    #Ex 5\n",
    "    def arc(self,s1,s2):\n",
    "        pass\n",
    "    \n",
    "    def sommets(self):\n",
    "        s=[]\n",
    "        for k in self.adj:\n",
    "            s.append(k)\n",
    "        return s\n",
    "    \n",
    "    #Ex 6\n",
    "    def voisins(self, s):\n",
    "        pass\n",
    "    \n"
   ]
  },
  {
   "cell_type": "code",
   "execution_count": 3,
   "metadata": {},
   "outputs": [
    {
     "name": "stdout",
     "output_type": "stream",
     "text": [
      "['a', 'b', 'c', 'd']\n",
      "a []\n",
      "b []\n",
      "c []\n",
      "d []\n"
     ]
    }
   ],
   "source": [
    "#Création d'un graphe avec un dictionnaire d'adjacence\n",
    "g2=Graphe_D()\n",
    "for s in ['a','b','c','d']:\n",
    "    g2.ajouter_sommet(s)\n",
    "print(g2.sommets())\n",
    "g2.affiche()"
   ]
  },
  {
   "cell_type": "markdown",
   "metadata": {},
   "source": [
    "<b>Exercice 4 : </b> <br>\n",
    "Dans la classe ```Graphe_D```, écrire la méthode ```ajouter_arc(self, s1, s2)``` qui créé l'arc du sommet s1 vers le sommet s2 en ajoutant s2 à la liste des voisins de s1 dans le dictionnaire d'adjacence. <br>\n",
    "Remarque : On créera les sommets s'ils n'existent pas encore.<br>\n",
    "Les tests se font sur le graphe donné en exemple précédemment.<br>"
   ]
  },
  {
   "cell_type": "code",
   "execution_count": 4,
   "metadata": {},
   "outputs": [
    {
     "name": "stdout",
     "output_type": "stream",
     "text": [
      "a []\n",
      "b []\n",
      "c []\n",
      "d []\n"
     ]
    }
   ],
   "source": [
    "#tests ajouter_arc sur le graphe donné en exemple\n",
    "g2.ajouter_arc('a','b')\n",
    "g2.ajouter_arc('a','d')\n",
    "g2.ajouter_arc('b','c')\n",
    "g2.ajouter_arc('b','d')\n",
    "g2.ajouter_arc('c','d')\n",
    "g2.ajouter_arc('d','b')\n",
    "g2.affiche()"
   ]
  },
  {
   "cell_type": "markdown",
   "metadata": {},
   "source": [
    "<b>Exercice 5 : </b> <br>\n",
    "Ajouter la méthode ```arc(self, s1,s2)``` qui renvoie True si l'arc de s2 vers s1 existe , et False sinon."
   ]
  },
  {
   "cell_type": "code",
   "execution_count": 1,
   "metadata": {},
   "outputs": [],
   "source": [
    "#tests arcs\n"
   ]
  },
  {
   "cell_type": "markdown",
   "metadata": {},
   "source": [
    "<b>Exercice 6 :</b>\n",
    "Ajouter la méthode ```voisins(self, s)``` qui renvoie la liste des successeurs  de s(ses voisins)."
   ]
  },
  {
   "cell_type": "code",
   "execution_count": 26,
   "metadata": {},
   "outputs": [],
   "source": [
    "#tests voisins\n"
   ]
  },
  {
   "cell_type": "markdown",
   "metadata": {},
   "source": [
    "<h1><b>Représenter un graphe non orienté </b></h1><br>\n",
    "Une façon simple de représenter un graphe non orienté consiste à le représenter exactement comme un graphe orienté et s'assurant en permanence de la propriété suivante : *Il y a un arc de A vers B si et seulement si il y a un arc de B vers A.<br>\n",
    "\n",
    "Autrement dit, on considère que l'on a toujours un double arc, orienté dans les deux sens. <br>\n",
    "\n",
    "Cela revient à modifier en particulier la méthode d'ajout d'arcs dans la matrice d'adjacence, et dans le dictionnaire d'adjacence.\n"
   ]
  },
  {
   "cell_type": "markdown",
   "metadata": {},
   "source": [
    "<b> Exercice 7 </b> : Implémenter une nouvelle classe ```Graph_Dno``` pour les graphes non orientés en tenant compte de ces remarques."
   ]
  },
  {
   "cell_type": "code",
   "execution_count": null,
   "metadata": {},
   "outputs": [],
   "source": []
  }
 ],
 "metadata": {
  "kernelspec": {
   "display_name": "Python 3",
   "language": "python",
   "name": "python3"
  },
  "language_info": {
   "codemirror_mode": {
    "name": "ipython",
    "version": 3
   },
   "file_extension": ".py",
   "mimetype": "text/x-python",
   "name": "python",
   "nbconvert_exporter": "python",
   "pygments_lexer": "ipython3",
   "version": "3.7.6"
  }
 },
 "nbformat": 4,
 "nbformat_minor": 4
}
