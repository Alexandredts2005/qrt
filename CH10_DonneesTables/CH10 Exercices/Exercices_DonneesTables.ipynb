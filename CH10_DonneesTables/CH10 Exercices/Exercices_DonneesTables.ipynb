{
 "cells": [
  {
   "cell_type": "markdown",
   "metadata": {},
   "source": [
    "# Exercices d'application        CH10 Traitement des tables CSV\n",
    "\n",
    "\n"
   ]
  },
  {
   "cell_type": "markdown",
   "metadata": {},
   "source": [
    "\n",
    "## Exercice 1 : Les gagnants de l'Eurovision\n",
    "\n",
    "1. Ouvrir *à la main* le fichier **eurovision.csv** qui contient l'ensemble des vainqueurs du concours Eurovision depuis 1956. Préciser quels sont les attributs utilisés.\n"
   ]
  },
  {
   "cell_type": "markdown",
   "metadata": {},
   "source": [
    "2. Créer un programme qui permet d'accéder au contenu de ce fichier :\n",
    " - Quel artiste a gagné en 1996 ?\n",
    " - Quelle est la nationalité du groupe \"Lordi\" ?\n",
    " - Quelle ville organisait le concours en 1969 ?"
   ]
  },
  {
   "cell_type": "code",
   "execution_count": null,
   "metadata": {},
   "outputs": [],
   "source": []
  },
  {
   "cell_type": "markdown",
   "metadata": {},
   "source": [
    "3. Il manque quelques lignes : à partir de ce <a href=\"https://www.rtl.fr/culture/medias-people/eurovision-2019-qui-est-duncan-laurence-le-grand-vainqueur-de-cette-64e-edition-7797660602\">lien</a> et d'un programme python, ajouter une ligne à la table. \n",
    "\n",
    "(si des informations manquent, prévoir une valeur vide)"
   ]
  },
  {
   "cell_type": "code",
   "execution_count": null,
   "metadata": {},
   "outputs": [],
   "source": []
  },
  {
   "cell_type": "markdown",
   "metadata": {},
   "source": [
    "\n",
    "## Exercice 2 : SNCF\n",
    "\n",
    "\n",
    "Sur <a href=\"https://data.sncf.com/pages/accueil/\"> data.sncf.com</a>, on trouve le fichier **gares.csv** qui regroupe un grand nombre d'informations sur les gares desservies pas la SNCF. \n",
    "\n",
    "1. Ecrire un programme python qui demande la gare et renvoie les coordonnées GPS. Il faudra utiliser un séparateur différent dans la commande csv.DictReader() :  *delimiter=\";\"*\n",
    "\n"
   ]
  },
  {
   "cell_type": "code",
   "execution_count": null,
   "metadata": {},
   "outputs": [],
   "source": []
  },
  {
   "cell_type": "markdown",
   "metadata": {},
   "source": [
    "2. Ecrire un programme python qui demande un département et affiche la liste des gares de celui-ci."
   ]
  },
  {
   "cell_type": "code",
   "execution_count": null,
   "metadata": {},
   "outputs": [],
   "source": []
  },
  {
   "cell_type": "markdown",
   "metadata": {},
   "source": [
    "## Exercice 3 : Trier des films\n",
    "\n",
    "\n",
    "Un cinéphile dispose du fichier **films_audience.csv** qui regroupe les 200 films ayant fait le plus grand nombre d'entrées dans l'histoire du cinéma.\n",
    "Pour l'exercice, <u>IL EST INTERDIT D'OUVRIR DIRECTEMENT</u> le fichier !\n",
    "\n",
    "1. Déterminer à l'aide d'un programme python les attributs et les types de valeurs de cette table.\n"
   ]
  },
  {
   "cell_type": "code",
   "execution_count": null,
   "metadata": {},
   "outputs": [],
   "source": []
  },
  {
   "cell_type": "markdown",
   "metadata": {},
   "source": [
    "\n"
   ]
  },
  {
   "cell_type": "markdown",
   "metadata": {},
   "source": [
    "2. Toujours sans ouvrir le fichier, extraire dans une variable **top_ten** les 10 premiers films en terme d'entrées."
   ]
  },
  {
   "cell_type": "code",
   "execution_count": null,
   "metadata": {},
   "outputs": [],
   "source": []
  },
  {
   "cell_type": "markdown",
   "metadata": {},
   "source": [
    "3. Afficher sous forme d'histogramme les entrées du top_ten en fonction des titres."
   ]
  },
  {
   "cell_type": "code",
   "execution_count": null,
   "metadata": {},
   "outputs": [],
   "source": [
    "from matplotlib import pyplot as plt\n",
    "# en utilisant :\n",
    "#plt.barh(x, y)\n",
    "#plt.show()"
   ]
  },
  {
   "cell_type": "code",
   "execution_count": null,
   "metadata": {},
   "outputs": [],
   "source": []
  },
  {
   "cell_type": "markdown",
   "metadata": {},
   "source": [
    "## Exercice 4 :  Anniversaire de Pearl\n",
    "\n",
    "\n",
    "L'anniversaire de Pearl approche et Bob a bien récupéré les participants, mais suit à une erreur de manipulation, il y a en fait deux tables : **pearl1.csv** et **pearl2.csv**\n",
    "\n",
    "1. Ecrire un programme qui fusionne ces tables en une seule **pearl.csv**"
   ]
  },
  {
   "cell_type": "code",
   "execution_count": null,
   "metadata": {},
   "outputs": [],
   "source": []
  },
  {
   "cell_type": "markdown",
   "metadata": {},
   "source": [
    "2. Vérifier qu'il n'y a pas de doublons. Le cas échéant, les supprimer."
   ]
  },
  {
   "cell_type": "markdown",
   "metadata": {},
   "source": [
    "## Exercice 5 :  Pour aller plus loin...\n",
    "\n",
    "On dispose de 2 fichiers csv, **fichier1.csv** et **fichier2.csv**.\n",
    "L'objectif est de fusionner ces deux tables, uniquement si les noms et prenoms sont identiques, dans un seul fichier fusion.csv.\n",
    "\n",
    "Le fichier fusion.csv doit ressembler à :\n",
    "\n",
    "|nom|prenom|age|musique|support|\n",
    "|:-:|:-:|:-:|:-:|:-:|\n",
    "|Archi|Jacques|28|classique|CD|\n",
    "|Urien|Antoine|16|Metal|streaming|\n",
    "|Perpro|Joan|22|Funk|streaming|\n",
    "\n"
   ]
  },
  {
   "cell_type": "code",
   "execution_count": null,
   "metadata": {},
   "outputs": [],
   "source": []
  }
 ],
 "metadata": {
  "kernelspec": {
   "display_name": "Python 3",
   "language": "python",
   "name": "python3"
  },
  "language_info": {
   "codemirror_mode": {
    "name": "ipython",
    "version": 3
   },
   "file_extension": ".py",
   "mimetype": "text/x-python",
   "name": "python",
   "nbconvert_exporter": "python",
   "pygments_lexer": "ipython3",
   "version": "3.7.6"
  }
 },
 "nbformat": 4,
 "nbformat_minor": 4
}
