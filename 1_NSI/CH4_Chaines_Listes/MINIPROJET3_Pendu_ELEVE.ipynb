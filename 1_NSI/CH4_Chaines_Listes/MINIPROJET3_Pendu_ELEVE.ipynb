{
 "cells": [
  {
   "cell_type": "markdown",
   "metadata": {},
   "source": [
    "# MINIPROJET3 : Pour jouer avec les lettres, le jeu du pendu"
   ]
  },
  {
   "cell_type": "markdown",
   "metadata": {},
   "source": [
    "Nous allons utiliser les connaissances sur les chaînes de caractères en python pour coder pas-à-pas un programme de jeu de type \"pendu\". <br>\n",
    "Le principe est que nous allons choisir un mot arbitrairement au début. Ensuite nous définirons des fonctions pour effectuer les actions souhaitées.\n",
    "\n",
    "\n",
    "\n"
   ]
  },
  {
   "cell_type": "code",
   "execution_count": 1,
   "metadata": {},
   "outputs": [],
   "source": [
    "mot = \"eponge\""
   ]
  },
  {
   "cell_type": "markdown",
   "metadata": {},
   "source": [
    "### Compétences évaluées :\n",
    "\n",
    " - <b>REA</b> : Imaginer et concevoir une solution, décomposer en blocs, se ramener à des sous-problèmes simples et indépendants, adopter une stratégie appropriée.\n",
    " - <b>COM</b> : Communiquer à l'écrit en utilisant un langage rigoureux et des outils pertinents (commentaires et docstrings)"
   ]
  },
  {
   "cell_type": "markdown",
   "metadata": {},
   "source": [
    "## 1. Fonction de saisie d'une lettre\n",
    "\n",
    "Demande à l'utilisateur de saisir une lettre.\n",
    "On considère que l'utilisateur fait correctement ce qu'on lui dit..."
   ]
  },
  {
   "cell_type": "code",
   "execution_count": null,
   "metadata": {},
   "outputs": [],
   "source": [
    "def Saisie_lettre():\n",
    "    \"\"\"Saisie d'une lettre par l'utilisateur\"\"\"\n",
    "    \n",
    "    \n",
    "    \n",
    "    \n",
    "    "
   ]
  },
  {
   "cell_type": "markdown",
   "metadata": {},
   "source": [
    "## 2. Fonction de test si la lettre est dans le mot\n",
    "### (REA niveau C)\n",
    "Fonction qui renvoie 'True' si la lettre appartient au mot, et 'False' sinon."
   ]
  },
  {
   "cell_type": "code",
   "execution_count": null,
   "metadata": {},
   "outputs": [],
   "source": [
    "def Lettre_mot(lettre):\n",
    "    \"\"\"Teste si la lettre demandée est dans le mot\"\"\"\n",
    "\n",
    "    \n",
    "    \n",
    "    "
   ]
  },
  {
   "cell_type": "markdown",
   "metadata": {},
   "source": [
    "## 3. Mise en place du corps du programme\n",
    "\n",
    "### (REA niveau B minimum)\n",
    "\n",
    "La saisie des lettres doit se faire un nombre de fois limité, 'nbre_coups_max'. Si la lettre est dans le mot, on continue, sinon, on décompte un coup."
   ]
  },
  {
   "cell_type": "code",
   "execution_count": null,
   "metadata": {},
   "outputs": [],
   "source": [
    "# Corps du programme du pendu\n",
    "\n",
    "nbre_coups_max = 2   # Nombre de coups max et en cours de jeu\n",
    "nbre_coups = 0\n",
    "\n",
    "while nbre_coups < nbre_coups_max :\n",
    "    \n",
    "    \n",
    "    \n",
    "    "
   ]
  },
  {
   "cell_type": "markdown",
   "metadata": {},
   "source": [
    "## 4. Fonction qui créée le mot en cours\n",
    "On va maintenant écrire au fur et à mesure le mot que l'on forme en cas de bonne réponse dans la variable ```mot_bis```.\n",
    "<br> Cette variable est de type ```str```. <br>Pour la commodité du codage, on va la passer en liste : ```mot_bis = list(mot_bis)``` <br> Et une fois le programme effectué, on reviendra à une chaine avec : ```mot_bis = \"\".join(mot_bis)```"
   ]
  },
  {
   "cell_type": "code",
   "execution_count": null,
   "metadata": {},
   "outputs": [],
   "source": [
    "mot_bis = \"\"       # création du mot_bis sous forme \"------\"\n",
    "for lettre in mot:\n",
    "    mot_bis = mot_bis + \"-\"\n",
    "\n",
    "def Mot_encours(lettre):\n",
    "    \"\"\"Créée le mot en cours de jeu nommé mot_bis\"\"\"\n",
    "   \n",
    "    global mot_bis   # permet l'utilisation des variables globales dans la fonction\n",
    "    global mot\n",
    "    \n",
    "    mot_bis = list(mot_bis)   # transforme mot_bis en liste\n",
    "    \n",
    "  \n",
    "\n",
    "\n",
    "        \n",
    "    mot_bis = \"\".join(mot_bis)    # transforme mot_bis en str\n",
    "    \n",
    "    return mot_bis\n"
   ]
  },
  {
   "cell_type": "markdown",
   "metadata": {},
   "source": [
    "Utiliser cette fonction dans le corps du programme afin d'afficher à chaque tour le mot en cours de remplissage."
   ]
  },
  {
   "cell_type": "code",
   "execution_count": null,
   "metadata": {},
   "outputs": [],
   "source": [
    "# Corps du programme du pendu\n",
    "\n",
    "nbre_coups_max = 2   # Nombre de coups max et en cours de jeu\n",
    "nbre_coups = 0\n",
    "\n",
    "\n",
    "\n",
    "while nbre_coups < nbre_coups_max :\n",
    "    \n",
    "    \n",
    "    \n",
    "    "
   ]
  },
  {
   "cell_type": "markdown",
   "metadata": {},
   "source": [
    "## 5. Condition de fin de jeu\n",
    "On ajoute maintenant la condition de victoire ou non dans la boucle **while** : il faut afficher si c'est gagné.\n",
    "Et en cas de défaite, on affiche le mot exact.\n",
    "<br> *Gagné* signifie *trouver le mot exact en moins d'un certain nombre de coups*."
   ]
  },
  {
   "cell_type": "code",
   "execution_count": null,
   "metadata": {},
   "outputs": [],
   "source": [
    "# Corps du programme du pendu\n",
    "\n",
    "nbre_coups_max = 2   # Nombre de coups max et en cours de jeu\n",
    "nbre_coups = 0\n",
    "\n",
    "\n",
    "    \n",
    "while nbre_coups < nbre_coups_max:   \n",
    "   \n",
    "\n",
    "\n",
    "\n",
    "\n"
   ]
  },
  {
   "cell_type": "markdown",
   "metadata": {},
   "source": [
    "## 6. Afficher la liste des lettres déjà jouées\n",
    "Créer une fonction ```Stock()``` qui ajoute au mot ```deja_joue``` la lettre saisie, et affiche un message dans le cas où la lettre a déjà été jouée."
   ]
  },
  {
   "cell_type": "code",
   "execution_count": null,
   "metadata": {
    "scrolled": true
   },
   "outputs": [],
   "source": [
    "deja_joue = \"\"\n",
    "\n",
    "def Stock(lettre):\n",
    "    \"\"\"Ajoute la lettre à un mot qui représente les lettres déjà jouées.\"\"\"\n",
    "    \n",
    "    global deja_joue   # permet l'utilisation de la variable (globale) deja_joue dans la fonction\n",
    "    \n",
    "    "
   ]
  },
  {
   "cell_type": "markdown",
   "metadata": {},
   "source": [
    "A l'aide de la fonction ```Stock()``` définie ci-dessus, afficher les lettres déjà jouées à chaque tour.\n"
   ]
  },
  {
   "cell_type": "code",
   "execution_count": 1,
   "metadata": {},
   "outputs": [
    {
     "ename": "SyntaxError",
     "evalue": "unexpected EOF while parsing (<ipython-input-1-bb4f3eb71864>, line 10)",
     "output_type": "error",
     "traceback": [
      "\u001b[0;36m  File \u001b[0;32m\"<ipython-input-1-bb4f3eb71864>\"\u001b[0;36m, line \u001b[0;32m10\u001b[0m\n\u001b[0;31m    \u001b[0m\n\u001b[0m    ^\u001b[0m\n\u001b[0;31mSyntaxError\u001b[0m\u001b[0;31m:\u001b[0m unexpected EOF while parsing\n"
     ]
    }
   ],
   "source": [
    "# Corps du programme du pendu\n",
    "\n",
    "nbre_coups_max = 2   # Nombre de coups max et en cours de jeu\n",
    "nbre_coups = 0\n",
    "\n",
    "\n",
    "\n",
    "while nbre_coups < nbre_coups_max:   \n",
    "   \n",
    " "
   ]
  },
  {
   "cell_type": "code",
   "execution_count": null,
   "metadata": {},
   "outputs": [],
   "source": []
  }
 ],
 "metadata": {
  "kernelspec": {
   "display_name": "Python 3",
   "language": "python",
   "name": "python3"
  },
  "language_info": {
   "codemirror_mode": {
    "name": "ipython",
    "version": 3
   },
   "file_extension": ".py",
   "mimetype": "text/x-python",
   "name": "python",
   "nbconvert_exporter": "python",
   "pygments_lexer": "ipython3",
   "version": "3.7.6"
  }
 },
 "nbformat": 4,
 "nbformat_minor": 4
}
