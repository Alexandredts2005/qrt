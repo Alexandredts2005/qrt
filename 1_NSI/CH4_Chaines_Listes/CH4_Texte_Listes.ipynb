{
 "cells": [
  {
   "cell_type": "markdown",
   "metadata": {},
   "source": [
    "# CH4 Chaînes et listes\n",
    "\n",
    "Après les données de type ```bool```, ```int``` ou encore ```float```, nous allons étudier dans cette partie  deux autres types de données que l'on rencontre en programmation.\n",
    "\n",
    "\n",
    "## 1. Les chaînes de caractères (données de type ```str```)\n",
    "\n",
    "### *1.1. Structures des chaînes* \n",
    "\n",
    ">On appelle chaîne de caractères en python toute donnée formée par une succession de caractères alphanumériques dans un encodage particulier (voir plus loin pour ces encodages).\n",
    "Elle est notée entre guillemets.\n",
    "\n",
    "Les caractères sont \"rangés\" suivant un indice croissant. On accède au caractère en demandant la valeur de l'objet d'indice visé de la chaîne.\n"
   ]
  },
  {
   "cell_type": "code",
   "execution_count": null,
   "metadata": {},
   "outputs": [],
   "source": [
    "mot = \"bonjour\"   # la variable mot est de type str\n",
    "type(mot)"
   ]
  },
  {
   "cell_type": "code",
   "execution_count": null,
   "metadata": {},
   "outputs": [],
   "source": [
    "print(mot[0])    # affiche le caractère d'indice 0 (le premier)\n",
    "print(mot[2])    # affiche le caractère d'indice 2 (le troisième)"
   ]
  },
  {
   "cell_type": "markdown",
   "metadata": {},
   "source": [
    "Quelques mot-clés et méthodes utiles :\n",
    "\n",
    "|||\n",
    "|:-:|:-:|\n",
    "|**\\n**|Caractère spécial de saut de ligne|\n",
    "|**\\t**|Caractère spécial de tabulation (4 espaces)|\n",
    "|**mot1 + mot2**|Concaténation : on ajoute mot2 à la chaîne mot1|\n",
    "|**len(chaine)**|Nombre de caractères de la chaîne|\n",
    "|**chaine[-1]**|Dernier caractère de la chaîne ([-2] avant-dernier, etc...)|\n",
    "|**chaine[i:j]**|Caractères de la chaîne indexés de i à j-1 inclus|"
   ]
  },
  {
   "cell_type": "markdown",
   "metadata": {},
   "source": [
    "Pour afficher tous les caractères, on peut utiliser une boucle ```for```: "
   ]
  },
  {
   "cell_type": "code",
   "execution_count": null,
   "metadata": {
    "scrolled": true
   },
   "outputs": [],
   "source": [
    "for lettre in mot:\n",
    "    print(lettre)"
   ]
  },
  {
   "cell_type": "markdown",
   "metadata": {},
   "source": [
    "***Exemples :***\n",
    "1. Tester les différentes propriétés sur les chaînes.\n",
    "2. Ecrire d'une autre façon l'affichage de tous les caractères d'une chaîne."
   ]
  },
  {
   "cell_type": "code",
   "execution_count": null,
   "metadata": {},
   "outputs": [],
   "source": []
  },
  {
   "cell_type": "markdown",
   "metadata": {},
   "source": [
    "Tester le code suivant :"
   ]
  },
  {
   "cell_type": "code",
   "execution_count": null,
   "metadata": {},
   "outputs": [],
   "source": [
    "chaine = \"pithon\"    # on veux remplacer la lettre \"i\" d'indice 1 par \"y\"\n",
    "chaine[1] = \"y\"\n",
    "\n",
    "# Comment faire alors ... ?"
   ]
  },
  {
   "cell_type": "markdown",
   "metadata": {},
   "source": [
    "> IMPORTANT : les chaînes de caractères sont dites *NON MUTABLES*.\n",
    "\n",
    "**ACT1 Lettres**\n",
    "\n",
    "\n",
    "\n",
    " \n",
    "### *1.2. Le code ASCII*\n",
    "\n",
    "Aujourd’hui, les ordinateurs ne sont plus, loin de là, de simples calculateurs. Il est donc important de pouvoir également coder facilement du texte.\n",
    "Pour cela, on utilise notamment le **code ASCII** (American Standard Code for Information Interchange) ; une norme informatique du codage de caractère apparue dans les années 1960.\n",
    "\n",
    "La norme ASCII définit 128 codes (numérotés de 0 à 127 et codés sur 7 bits).Ceci comprend 95 caractères imprimables (chiffres de 0 à 9, lettres minuscules et majuscules de A à Z, des symboles mathématiques et de la ponctuation) : <a href=\"http://cosmos2000.chez.com/Nombres/ASCII.html\">table ASCII</a>\n",
    "\n",
    "Même si 7 bits suffisent pour représenter 128 caractères, en pratique chaque caractère occupe un octet en mémoire. Le bit de poids fort est utilisé pour une somme de contrôle afin de détecter d’éventuelles erreurs de transmission : sa valeur est fixée de façon à ce que le nombre de bits à 1 dans l’octet soit toujours pair. On parle de bit de parité.\n",
    "\n",
    "***Exemple :***\n",
    "On veut trouver l’écriture binaire en norme ASCII du mot « Info ».\n",
    " - On lit dans la table que \"I\" correspond à 73, soit 01001001 en binaire.\n",
    " - De même \"n\" correspond à 01101110, f correspond à 01100110, et o correspond à 01101111.\n",
    " - Info s’écrit donc sur 4 octets : 01001001 01101110 01100110 01101111\n",
    " \n",
    " \n",
    "***Applications :***\n",
    "1.  A l’aide de la table ASCII, coder en binaire la phrase suivante : « Je m’amuse en NSI »\n",
    "2. Voici maintenant une exclamation codée en binaire :\n",
    "01000010  01110010  01100001 01110110 01101111 00100001\n",
    "Retrouver cette exclamation. \n",
    "3. Peut-on coder en binaire la phrase « Un âne est passé par là. » à l’aide de la table ASCII ? Justifier."
   ]
  },
  {
   "cell_type": "markdown",
   "metadata": {},
   "source": [
    " > La méthode ```ord``` de Python renvoie le code ASCII correspondant à un caractère. L’entier est renvoyé en base 10, que l’on peut convertir en hexadécimal avec la méthode ```hex```.\n",
    "\n",
    "Inversement la méthode ```chr``` renvoie le caractère correspondant à la valeur (binaire ou hexa)."
   ]
  },
  {
   "cell_type": "code",
   "execution_count": null,
   "metadata": {},
   "outputs": [],
   "source": [
    "ord(\"a\")\n",
    "hex(ord(\"a\"))\n",
    "chr(0b1011011)\n",
    "chr(0x26)"
   ]
  },
  {
   "cell_type": "markdown",
   "metadata": {},
   "source": [
    "\n",
    "### *1.3. Les normes ISO et UNICODE*\n",
    "\n",
    "Nous avons tous reçu un jour un courrier étrange ou lu une page web telle que celle-ci :\n",
    "<img src=\"texte.png\">\n",
    "Comment cela se fait-il ? Pourquoi peut-on comprendre mais pas complètement ?\n",
    "\n",
    "Il a donc fallu étendre la table ASCII pour pouvoir coder de nouveaux caractères. Les mémoires devenant plus fiables, on a utilisé le 8ème bit pour coder plus de caractères (il était utilisé auparavant pour contrôle). Elle permet l’affichage des caractères accentués de plusieurs langues et de symboles courants. \n",
    "\n",
    "> La norme ISO 8859 permet ainsi de coder tous les caractères des langues européennes. Elle utilise 8 bits et permet donc de coder 256 caractères. Elle compte 16 tables.\n",
    "\n",
    "Cette norme ne permet pas de coder d’autres langues que les langues européennes, par exemple le chinois ou l’arabe.\n",
    "Il est donc devenu essentiel de proposer une version unifiée internationale des différents encodages de caractères. Ceci a été permis en complétant l’ASCII et en permettant l’encodage de caractères autres que ceux de l’alphabet latin. Unicode définit à cet effet des dizaines de milliers de codes, Les 128 premiers codes restent compatibles avec ASCII.\n",
    "\n",
    "> L’UTF-8 est l’encodage le plus utilisé. Les navigateurs Internet utilisent ce codage et les concepteurs de sites utilisent à présent presque tous cette même norme. C’est pourquoi il y a de moins en moins de problèmes de compatibilité.\n",
    "\n",
    "\n",
    "***Exemple :***\n",
    "\n",
    "1. Coder le mot « défi », en UTF-8    (utiliser le site <a href=\"https://www.utf8-chartable.de/\">https://www.utf8-chartable.de/</a>\n",
    "\n",
    "\n",
    "2. On ajoute en en-tête de tout code python la ligne :\n",
    "\n",
    "**A VERIFIER !!**\n"
   ]
  },
  {
   "cell_type": "code",
   "execution_count": null,
   "metadata": {},
   "outputs": [],
   "source": [
    "# -*- coding:Utf-8 -*-"
   ]
  },
  {
   "cell_type": "markdown",
   "metadata": {},
   "source": [
    "\n",
    "Enregistrer le script python ci-dessous dans un fichier ```mon_script.py``` et le démarrer avec python ```python3 mon_script.py```\n",
    "Essayer avec ou sans l'en-tête...\n"
   ]
  },
  {
   "cell_type": "code",
   "execution_count": null,
   "metadata": {},
   "outputs": [],
   "source": [
    "# mon_script.py\n",
    "print(\"bonjour, où vont les ânes... , nom les âmes ?\")"
   ]
  },
  {
   "cell_type": "markdown",
   "metadata": {},
   "source": [
    "3. Tester également le fichier ```unicode.html```."
   ]
  },
  {
   "cell_type": "markdown",
   "metadata": {},
   "source": [
    "## 2. Les listes (données de type ```list```)\n",
    "\n",
    "Les chaînes sont pratiques et légères à manipuler, mais ce sont des objets *NON MUTABLES*.\n",
    "\n",
    "En reprenant l'exemple précédent pour changer une lettre dans un mot, il aurait fallu le définir non pas en chaîne de caractères, mais en liste :"
   ]
  },
  {
   "cell_type": "code",
   "execution_count": null,
   "metadata": {},
   "outputs": [],
   "source": [
    "chaine = \"pithon\"    # on veux remplacer la lettre \"i\" d'indice 1 par \"y\"\n",
    "# on écrira plutôt :\n",
    "chaine = [\"p\", \"i\", \"t\", \"h\", \"o\", \"n\"]\n",
    "print(chaine)\n",
    "\n",
    "chaine[1] = \"y\"\n",
    "print(chaine)"
   ]
  },
  {
   "cell_type": "markdown",
   "metadata": {},
   "source": [
    "> Les **listes** (appelées aussi tableaux) vont nous permettre de stocker plusieurs valeurs (chaîne, nombre) dans une structure unique.\n",
    "Cette structure est cependant assez lourde à mettre en place, mais la liste formée est un objet *MUTABLE* (on peut changer la valeur d'un élément).\n",
    "\n",
    "L'accès aux valeurs des élément de la liste se fait de la même manière que pour les chaînes de caractères : liste[0] pour le 1er élément à l'indice 0, liste[1] pour le 2ème élément à l'indice 1, etc..."
   ]
  },
  {
   "cell_type": "code",
   "execution_count": null,
   "metadata": {},
   "outputs": [],
   "source": [
    "tableau = [1, 7, 9, -4, 3, 2]\n",
    "print(type(tableau))"
   ]
  },
  {
   "cell_type": "markdown",
   "metadata": {},
   "source": [
    "Une liste peut contenir toutes sortes d'objets :"
   ]
  },
  {
   "cell_type": "code",
   "execution_count": null,
   "metadata": {},
   "outputs": [],
   "source": [
    "liste1 = [1, 2, 3]    # entiers\n",
    "liste2 = [ 11.2, 4.3, 12.6]    # flottants\n",
    "liste3 = [[1, 2], [12, 56], [3, 5]]    # d'autres listes\n",
    "liste4 = [\"banane\", 12.3, 5, [\"serpent\", \"A\"] ]   # mixte"
   ]
  },
  {
   "cell_type": "markdown",
   "metadata": {},
   "source": [
    "Quelques mot-clés et méthodes utiles :\n",
    "\n",
    "|||\n",
    "|:-:|:-:|\n",
    "|**len(liste)**|Nombre d'éléments de la liste|la liste\n",
    "|**liste[i] = a**|Affecte la valeur a à l'élément d'indice i de |\n",
    "|**liste1 + liste2**|Concaténation : on ajoute les éléments de liste2 à liste1|\n",
    "|**liste.append(elt)**|Ajoute elt à la liste (dernière position)|\n",
    "|**liste.insert(elt, 2)**|Insère elt à la position d'indice 2|\n",
    "|**del liste[2]**|Supprime elt à la position d'indice 2|\n",
    "|**liste.sort()**|Trie la liste|\n",
    "|**liste[i:j]**|Considère la sous-liste formée des éléments indexés de i à j-1 inclus|\n",
    "|**list(\"bonjour\")**|Transforme la chaîne \"bonjour\" en liste (un élément/un caractère)|\n",
    "|**5 in liste**|Renvoie True si 5 est dans la liste, False sinon|\n",
    "\n",
    "***Exemples :***\n",
    "Tester ces différentes méthodes sur des listes."
   ]
  },
  {
   "cell_type": "code",
   "execution_count": null,
   "metadata": {},
   "outputs": [],
   "source": []
  },
  {
   "cell_type": "markdown",
   "metadata": {},
   "source": [
    "Il est parfois fastidieux d'écrire des listes de grande taille, voire humainement impossible ... !\n",
    "\n",
    "> On peut créer des listes par **compréhension** en définissant ses éléments de façon itérative une boucle ```for```."
   ]
  },
  {
   "cell_type": "code",
   "execution_count": null,
   "metadata": {},
   "outputs": [],
   "source": [
    "liste = [i for i in range(100)]    # liste des entiers de 0 à 99\n",
    "\n",
    "carres = [i**2 for i in range(10)]    # liste des 10 premiers carrés\n",
    "\n",
    "zeros = [0 for i in range(1000)]    # liste de 1000 zéros"
   ]
  },
  {
   "cell_type": "markdown",
   "metadata": {},
   "source": [
    "***Exemple :***\n",
    "\n",
    "Créer par compréhension une liste contenant toutes les lettres de l'alphabet. (utiliser la fonction ```ord()``` et le code ASCII)"
   ]
  },
  {
   "cell_type": "code",
   "execution_count": null,
   "metadata": {},
   "outputs": [],
   "source": []
  },
  {
   "cell_type": "markdown",
   "metadata": {},
   "source": [
    "Il est possible d'utiliser des fonctions dans les compréhensions de listes :"
   ]
  },
  {
   "cell_type": "code",
   "execution_count": null,
   "metadata": {},
   "outputs": [],
   "source": [
    "def poly(x):\n",
    "    return x**2 - 3*x + 2\n",
    "\n",
    "liste1 = list(range(-6, 10))    # transforme l'intervalle en liste\n",
    "liste2 = [poly(nbr) for nbr in liste1]   # crée la liste des valeurs de poly() pour chaque éléments de l'intervalle"
   ]
  }
 ],
 "metadata": {
  "kernelspec": {
   "display_name": "Python 3",
   "language": "python",
   "name": "python3"
  },
  "language_info": {
   "codemirror_mode": {
    "name": "ipython",
    "version": 3
   },
   "file_extension": ".py",
   "mimetype": "text/x-python",
   "name": "python",
   "nbconvert_exporter": "python",
   "pygments_lexer": "ipython3",
   "version": "3.7.6"
  }
 },
 "nbformat": 4,
 "nbformat_minor": 4
}
