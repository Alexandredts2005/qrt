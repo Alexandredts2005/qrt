{
 "cells": [
  {
   "cell_type": "markdown",
   "metadata": {},
   "source": [
    "# Exercice : UNO !\n",
    "\n",
    "On se propose de créer un jeu de Uno en gérant les cartes comme des tuples en python.\n",
    "<img src=\"https://sosoir.lesoir.be/sites/default/files/styles/image_1050x460/public/gallery/capture_decran_2019-05-07_a_15.27.28.png?itok=6EO723Kp\" width=\"20%\" alt=\"jeu de Uno\">\n",
    "\n",
    "Le jeu est constitué de :\n",
    "108 cartes réparties comme suit :\n",
    "\n",
    "    19 cartes rouges numérotées de 0 à 9 (en deux exemplaires sauf le 0, en un seul exemplaire) ;\n",
    "    19 cartes vertes numérotées de 0 à 9 (en deux exemplaires sauf le 0, en un seul exemplaire) ;\n",
    "    19 cartes jaunes numérotées de 0 à 9 (en deux exemplaires sauf le 0, en un seul exemplaire) ;\n",
    "    19 cartes bleues numérotées de 0 à 9 (en deux exemplaires sauf le 0, en un seul exemplaire) ;\n",
    "    8 cartes +2 (2 de chaque couleur : rouge, vert, jaune, bleu) ;\n",
    "    8 cartes inversion (2 de chaque couleur : rouge, vert, jaune, bleu) présentant deux flèches entrelacées ;\n",
    "    8 cartes « passer / passe ton tour » (2 de chaque couleur : rouge, vert, jaune, bleu) présentant un cercle rayé en bande, symbole d'interdiction en signalisation routière;\n",
    "    4 cartes « Joker » (présentant un ovale écartelé multicolore sur fond noir) ;\n",
    "    4 cartes « +4 » ou « Super Joker » (présentant une carte de chaque couleur, sur fond noir).\n"
   ]
  },
  {
   "cell_type": "markdown",
   "metadata": {},
   "source": [
    "## 1.  Constituer un jeu de cartes\n",
    "\n",
    "Pour simplifier, nous travaillerons dans un premier temps sur les 19 x 4 cartes de couleurs, laissant de côté les cartes spéciales.\n",
    "\n",
    "- Constituez deux listes : **(1pt)**\n",
    "\n",
    "La liste **couleurs** [\"R\", \"V\", \"B\", \"J\"]\n",
    "\n",
    "La liste **valeurs** constituée de valeur entières entre 0 et 9. [0, 1, 2, ..., 9]\n",
    "\n",
    "- Ecrire une fonction **donne()** qui renvoie le jeu complet de 76 cartes **(4pts)**\n",
    "\n",
    "Le jeu obtenu est une liste de tuple de la forme : [(\"R\", 0), (\"V\", 1), ... (\"J\", 0)]\n"
   ]
  },
  {
   "cell_type": "code",
   "execution_count": null,
   "metadata": {},
   "outputs": [],
   "source": [
    "couleurs_uno = \n",
    "\n",
    "valeurs_uno = \n",
    "\n",
    "print(valeurs_uno)\n",
    "print(couleurs_uno)\n",
    "\n",
    "\n",
    "# réponse attendue\n",
    "#[0, 1, 2, 3, 4, 5, 6, 7, 8, 9]\n",
    "#['R', 'V', 'B', 'J']"
   ]
  },
  {
   "cell_type": "code",
   "execution_count": null,
   "metadata": {},
   "outputs": [],
   "source": [
    "def donne(couleurs, valeurs):\n",
    "    \"\"\" Renvoi une liste de tuple (\"couleur\", valeur) représentant les 76 cartes du jeu de Uno \"\"\"\n",
    "    \n",
    "    \n",
    "    \n",
    "    \n",
    "    # A COMPLETER\n",
    "    \n",
    "    \n",
    "    \n",
    "\n",
    "\n",
    "jeu = donne(couleurs_uno, valeurs_uno)\n",
    "\n",
    "print(jeu, len(jeu))       # pour vérifier le contenu du jeu et le nombre de cartes\n",
    "\n",
    "\n",
    "# réponse attendue :\n",
    "# jeu = [('R', 0), ('V', 0), ('B', 0), ('J', 0), ('R', 1), ('R', 2), ('R', 3), ('R', 4), ('R', 5), ('R', 6), ('R', 7), ('R', 8), ('R', 9), ('V', 1), ('V', 2), ('V', 3), ('V', 4), ('V', 5), ('V', 6), ('V', 7), ('V', 8), ('V', 9), ('B', 1), ('B', 2), ('B', 3), ('B', 4), ('B', 5), ('B', 6), ('B', 7), ('B', 8), ('B', 9), ('J', 1), ('J', 2), ('J', 3), ('J', 4), ('J', 5), ('J', 6), ('J', 7), ('J', 8), ('J', 9), ('R', 1), ('R', 2), ('R', 3), ('R', 4), ('R', 5), ('R', 6), ('R', 7), ('R', 8), ('R', 9), ('V', 1), ('V', 2), ('V', 3), ('V', 4), ('V', 5), ('V', 6), ('V', 7), ('V', 8), ('V', 9), ('B', 1), ('B', 2), ('B', 3), ('B', 4), ('B', 5), ('B', 6), ('B', 7), ('B', 8), ('B', 9), ('J', 1), ('J', 2), ('J', 3), ('J', 4), ('J', 5), ('J', 6), ('J', 7), ('J', 8), ('J', 9)]"
   ]
  },
  {
   "cell_type": "markdown",
   "metadata": {},
   "source": [
    "## 2. Distribuer le jeu mélangé à deux joueurs\n",
    "\n",
    "**jeu** est une liste de tuples bien ordonnés (comme un jeu neuf...).\n",
    "\n",
    "Nous allons constituer deux mains de 7 cartes distribuée aléatoirement.\n",
    "\n",
    "Pour mélanger aléatoirement les éléments d'une liste, on utilise la bibliothèque **random** et l'instruction **random.shuffle(jeu)**.\",\n",
    "\n",
    "- Écrire une fonction **distribution()** programme qui mélange les cartes de **jeu** puis les séparent en 3 listes :  **(4pts)**\n",
    "\n",
    "--> listes de de 7 cartes, **jeu1** et **jeu2**, les mains des joueurs 1 et 2.\n",
    "\n",
    "--> 1 liste des cartes restantes **pioche**\n",
    "\n",
    "- Quelle est l'instruction pour faire afficher la valeur de la 3ème carte de la main du joueur 2 ?  **(1pt)**"
   ]
  },
  {
   "cell_type": "code",
   "execution_count": null,
   "metadata": {},
   "outputs": [],
   "source": [
    "import random\n",
    "\n",
    "random.shuffle(jeu)\n",
    "\n",
    "print(jeu)   # Affiche le jeu mélangé de 76 cartes"
   ]
  },
  {
   "cell_type": "code",
   "execution_count": null,
   "metadata": {},
   "outputs": [],
   "source": [
    "def distribution(cartes):\n",
    "    \"\"\" distribution des cartes à 2 joueurs constitution de la pioche\n",
    "        renvoie 3 listes joueur1, joueur2 et reste \"\"\"\n",
    "    \n",
    "    joueur1 = []\n",
    "    joueur2 = []\n",
    "    reste = []\n",
    "    \n",
    "   # A COMPLETER\n",
    "\n",
    "\n",
    "\n",
    "    \n",
    "    return joueur1, joueur2, reste  # la fonction renvoie un tuple\n",
    "\n",
    "jeu1, jeu2, pioche = distribution(jeu)\n",
    "\n",
    "print(\"JOUEUR 1 : \", jeu1)\n",
    "print(\"JOUEUR 2 : \", jeu2)\n",
    "print(\"pioche : \", pioche)\n",
    "\n",
    "# réponse attendue possible (en fonction du shuffle) :\n",
    "# JOUEUR 1 :  [('R', 5), ('B', 1), ('V', 2), ('R', 7), ('V', 2), ('V', 4), ('V', 5)]\n",
    "# JOUEUR 2 :  [('R', 2), ('B', 9), ('J', 2), ('V', 3), ('B', 2), ('B', 0), ('R', 9)]\n",
    "# pioche :  [('V', 1), ('V', 3), ('J', 7), ('B', 8), ('V', 6), ('J', 8), ('R', 4), ('V', 0), ('V', 9), ('V', 6), ('V', 7), ('J', 2), ('J', 6), ('B', 1), ('J', 9), ('J', 1), ('B', 7), ('R', 7), ('B', 3), ('B', 9), ('J', 9), ('V', 8), ('B', 5), ('R', 8), ('J', 3), ('R', 3), ('V', 5), ('V', 8), ('J', 8), ('J', 5), ('J', 4), ('J', 4), ('B', 6), ('R', 1), ('J', 0), ('J', 6), ('R', 8), ('J', 7), ('B', 2), ('R', 6), ('R', 0), ('R', 4), ('V', 9), ('B', 3), ('V', 1), ('B', 4), ('B', 4), ('B', 5), ('V', 4), ('B', 6), ('R', 6), ('V', 7), ('J', 1), ('J', 3), ('R', 9), ('J', 5), ('R', 2), ('B', 8), ('R', 3), ('B', 7), ('R', 1), ('R', 5)]"
   ]
  },
  {
   "cell_type": "code",
   "execution_count": null,
   "metadata": {},
   "outputs": [],
   "source": [
    "# Instruction pour accéder à la valeur de la 3ème carte de la main du joueur 2\n",
    "print(\"le \", jeu2[2][1], \" de couleur \", jeu2[2][0])"
   ]
  },
  {
   "cell_type": "markdown",
   "metadata": {},
   "source": [
    "## 3. Jeu de Uno simplifié à 2 joueurs\n",
    "\n",
    "Les règles :\n",
    "\n",
    "*A partir de la 1ère carte dévoilée de la pioche, les joueurs jouent à tour de rôle de la façon suivante :*\n",
    "\n",
    "- *Si le joueur a une carte avec la même valeur et/ou la même couleur, il la pose.*\n",
    "- *Sinon, il tire la première carte de la pioche :*\n",
    "- *Si cette nouvelle carte a la même valeur et/ou la même couleur que demandé, il la pose.*\n",
    "- *Sinon, il la met dans son jeu.*\n",
    "\n",
    "*Le vainqueur est celui qui n'a plus de cartes.*\n",
    "*Pour simplifier, on considère que le jeu s'arrête lorsque la pioche est vide.*\n",
    "\n",
    "Compléter et commenter aux endroits demandés le code de cette version simplifiée du jeu de Uno. **(5pts)**"
   ]
  },
  {
   "cell_type": "code",
   "execution_count": null,
   "metadata": {},
   "outputs": [],
   "source": [
    "# DEBUT : on distruibue, dévoile la première carte de la pioche et on la retire de la pioche\n",
    "\n",
    "jeu1, jeu2, pioche = distribution(jeu)\n",
    "carte_en_jeu = pioche[0]\n",
    "del pioche[0]  \n",
    "\n",
    "print(\"Carte posée : \", carte_en_jeu)\n",
    "print(\"JOUEUR 1 : \", jeu1, len(jeu1))\n",
    "print(\"JOUEUR 2 : \", jeu2, len(jeu2))\n",
    "print(\"pioche : \", pioche, len(pioche))"
   ]
  },
  {
   "cell_type": "code",
   "execution_count": null,
   "metadata": {},
   "outputs": [],
   "source": [
    "# FONCTION DE JEU : on vérifie pour un joueur si il peut jouer \n",
    "# --> on pose la carte en conséquence\n",
    "# --> on met à jour sa main et la pioche\n",
    "\n",
    "def jouer(joueur, pioche, carte):\n",
    "    \"\"\" fonction qui renvoie l'état de la main du joueur et de la pioche pendant le tour de jeu \"\"\"\n",
    "    \n",
    "    carte_posee = carte   # la carte_posee est la carte retournée\n",
    "    fin_du_tour = False   # variable qui détermine quand le tour est fini (False au début)\n",
    "    \n",
    "    \n",
    "    # Etape 1 : on cherche si une carte de la main peut être posée\n",
    "    #----------\n",
    "    \n",
    "    i = 0  \n",
    "    \n",
    "    \n",
    "    while i < len(joueur):     # on balaye les cartes en main\n",
    "        \n",
    "# A COMPLETER : carte_main ? (1pt)         \n",
    "        carte_main = joueur[i] \n",
    "         \n",
    "# A COMPLETER : ECRIRE LA CONDITION LIGNE 24 (2pt)    \n",
    "        if \n",
    "            \n",
    "# A COMPLETER : QUE FAIT LA LIGNE 27 ? (1pt)\n",
    "            del joueur[i]   \n",
    "            carte_posee = carte_main  # on pose la carte\n",
    "            fin_du_tour = True   # le tour est terminé\n",
    "            i = len(joueur)  # on sort de la boucle while\n",
    "        else:\n",
    "            i = i + 1\n",
    "            \n",
    "      # Etape 2 : Si on a pas trouvé de carte dans la main (fin_du_tour = False), on pioche une carte\n",
    "      #----------\n",
    "    \n",
    "            \n",
    "    if fin_du_tour == False:\n",
    "        carte_pioche = pioche[0]   # on tire la 1ere carte de la pioche\n",
    "        del pioche[0]   # on enlève la 1ère carte de la pioche\n",
    "        \n",
    "# A COMLETER : ECRIRE LA CONDITION LIGNE 43 (1pt)\n",
    "        if\n",
    "            carte_posee = carte_pioche  # on pose la carte            \n",
    "         \n",
    "         # si elle ne correspond pas, on l'ajoute à la main du joueur et le tour est terminé\n",
    "        else:\n",
    "            joueur = joueur + [carte_pioche]\n",
    "        \n",
    "    return joueur, pioche, carte_posee"
   ]
  },
  {
   "cell_type": "code",
   "execution_count": null,
   "metadata": {},
   "outputs": [],
   "source": [
    "# TOUR 1\n",
    "# joueur 1 joue son tour\n",
    "jeu1, pioche, carte_en_jeu = jouer(jeu1, pioche, carte_en_jeu)\n",
    "\n",
    "print(\"Carte posée : \", carte_en_jeu)\n",
    "print(\"JOUEUR 1 : \", jeu1, len(jeu1))\n",
    "print(\"JOUEUR 2 : \", jeu2, len(jeu2))\n",
    "print(\"pioche : \", pioche, len(pioche))"
   ]
  },
  {
   "cell_type": "code",
   "execution_count": null,
   "metadata": {},
   "outputs": [],
   "source": [
    "# TOUR 2\n",
    "# joueur 2 joue son tour           \n",
    "\n",
    "# A COMPLETER : ECRIRE LE TOUR 2 (1pt)\n",
    "\n",
    "print(\"Carte posée : \", carte_en_jeu)\n",
    "print(\"JOUEUR 1 : \", jeu1, len(jeu1))\n",
    "print(\"JOUEUR 2 : \", jeu2, len(jeu2))\n",
    "print(\"pioche : \", pioche, len(pioche))"
   ]
  },
  {
   "cell_type": "code",
   "execution_count": null,
   "metadata": {},
   "outputs": [],
   "source": [
    "# TOUR 3\n",
    "# joueur 1 joue son tour           \n",
    "\n",
    "# A COMPLETER : ECRIRE LE TOUR 3\n",
    "\n",
    "print(\"Carte posée : \", carte_en_jeu)\n",
    "print(\"JOUEUR 1 : \", jeu1, len(jeu1))\n",
    "print(\"JOUEUR 2 : \", jeu2, len(jeu2))\n",
    "print(\"pioche : \", pioche, len(pioche))"
   ]
  },
  {
   "cell_type": "code",
   "execution_count": null,
   "metadata": {},
   "outputs": [],
   "source": [
    "# Et ainsi de suite ..."
   ]
  },
  {
   "cell_type": "markdown",
   "metadata": {},
   "source": [
    "## 4. Extension possible FACULTATIF\n",
    "\n",
    "Au choix, pour aller plus loin :\n",
    "- Ecrire une fonction qui affiche le tour-par-tour à 2 joueurs.\n",
    "- Intégrer une des cartes spéciales (change de sens, +4, +2, passe ton tour)\n"
   ]
  },
  {
   "cell_type": "code",
   "execution_count": null,
   "metadata": {},
   "outputs": [],
   "source": []
  }
 ],
 "metadata": {
  "kernelspec": {
   "display_name": "Python 3",
   "language": "python",
   "name": "python3"
  },
  "language_info": {
   "codemirror_mode": {
    "name": "ipython",
    "version": 3
   },
   "file_extension": ".py",
   "mimetype": "text/x-python",
   "name": "python",
   "nbconvert_exporter": "python",
   "pygments_lexer": "ipython3",
   "version": "3.7.6"
  }
 },
 "nbformat": 4,
 "nbformat_minor": 2
}
