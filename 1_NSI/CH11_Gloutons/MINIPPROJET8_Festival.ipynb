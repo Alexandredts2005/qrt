{
 "cells": [
  {
   "cell_type": "markdown",
   "metadata": {},
   "source": [
    "<h1>MINIPROJET8 - Calcul du parcours festival en fonction des souhaits\n",
    "Approche exhaustive\n",
    "</h1>"
   ]
  },
  {
   "cell_type": "markdown",
   "metadata": {},
   "source": [
    "\n",
    "Dans cet algorithme, on cherche le meilleur chemin parmi les chemins possibles pour satisfaire les souhaits du festivalier. \n",
    "Il s'agit d'une approche eshaustive, c'est à dire que l'on effectue le calcul pour tous les cas, et on sélectionne le chemin le plus court.\n"
   ]
  },
  {
   "cell_type": "markdown",
   "metadata": {},
   "source": [
    "<h2>1. Entrées de l'algorithme</h2>"
   ]
  },
  {
   "cell_type": "markdown",
   "metadata": {},
   "source": [
    "<u><i>Les cordonnées des scènes</i></u>\n",
    "\n",
    "Toujours les mêmes scènes : Mainstage01, Mainstage02, Altar, Temple, Valley, Warzone\n",
    "\n",
    "avec 1 unité = 200 mètres."
   ]
  },
  {
   "cell_type": "code",
   "execution_count": 14,
   "metadata": {},
   "outputs": [],
   "source": [
    "scenes = [[\"mainstage01\",[1.5, 5.5]],\\\n",
    "          [\"mainstage02\", [0.5, 5.5]],\\\n",
    "          [\"altar\", [4.5, 7]],\\\n",
    "          [\"temple\", [5.5, 7]],\\\n",
    "          [\"valley\", [7, 6]],\\\n",
    "          [\"warzone\", [3, 0.5]]]"
   ]
  },
  {
   "cell_type": "markdown",
   "metadata": {},
   "source": [
    "<u><i>Le running order</i></u>\n",
    "\n",
    "Pour chaque scène, on a un ordre de passage. On considère que chaque artiste se produit la même durée, 1h.\n"
   ]
  },
  {
   "cell_type": "code",
   "execution_count": 15,
   "metadata": {},
   "outputs": [],
   "source": [
    "running_order = [[\"mainstage01\", \"hardrock1\", \"hardrock2\", \"hardrock3\", \"hardrock4\", \"hardrock5\"],\\\n",
    "                  [\"mainstage02\", \"hardrock6\", \"hardrock7\", \"hardrock8\", \"hardrock9\", \"hardrock10\"],\\\n",
    "                  [\"altar\", \"violent1\", \"violent2\", \"violent3\", \"violent4\", \"violent5\"],\\\n",
    "                  [\"temple\", \"black1\", \"black2\", \"black3\", \"black4\", \"black5\"],\\\n",
    "                  [\"valley\", \"stoner1\", \"stoner2\", \"stoner3\", \"stoner4\", \"stoner5\"],\\\n",
    "                  [\"warzone\", \"punk1\", \"punk2\", \"punk3\", \"punk4\", \"punk5\"]]"
   ]
  },
  {
   "cell_type": "markdown",
   "metadata": {},
   "source": [
    "<u><i>Les souhaits</i></u>\n",
    "\n",
    "Le festivalier s'est fait une liste des groupes qu'il souhaite voir ; il est conscient que tout ne sera pas possible !\n",
    "\n",
    "On considère que sur un même créneau horaire, les choix sont à préférences égales.\n"
   ]
  },
  {
   "cell_type": "code",
   "execution_count": 2,
   "metadata": {},
   "outputs": [],
   "source": [
    "souhaits = [[\"The Inspector Cluzo\", \"Necrophobic\"],\\\n",
    "            [\"Opeth\",\"Black Mountain\"],\\\n",
    "            [\"Grave\"],\\\n",
    "            [\"Mastodon\", \"Abbath\", \"High On Fire\"],\\\n",
    "            [\"At The Gates\", \"Cro-Mags\"]]"
   ]
  },
  {
   "cell_type": "markdown",
   "metadata": {},
   "source": [
    "<h2>2. Fonctions utiles pour le calcul du parcours</h2>"
   ]
  },
  {
   "cell_type": "markdown",
   "metadata": {},
   "source": [
    "<u><i>Trouver la scène à partir de l'artiste</i></u>\n"
   ]
  },
  {
   "cell_type": "code",
   "execution_count": 17,
   "metadata": {},
   "outputs": [
    {
     "name": "stdout",
     "output_type": "stream",
     "text": [
      "La scène par rapport au nom de l'artiste choisi est ['mainstage01', [1.5, 5.5]]\n"
     ]
    }
   ],
   "source": [
    "def artiste_scene(artiste):\n",
    "    \"\"\" Renvoi la scène pour un nom d'artiste.\n",
    "    \"\"\"\n",
    "    \n",
    "        \n",
    "print(\"La scène par rapport au nom de l'artiste choisi est\", artiste_scene(\"hardrock1\"))    # Test pour \"hardrock01\""
   ]
  },
  {
   "cell_type": "markdown",
   "metadata": {},
   "source": [
    "<u><i>La distance entre deux scènes</i></u>"
   ]
  },
  {
   "cell_type": "code",
   "execution_count": 18,
   "metadata": {},
   "outputs": [
    {
     "name": "stdout",
     "output_type": "stream",
     "text": [
      "La distance entre les scènes 1 et 2 est de 200.0 mètres\n"
     ]
    }
   ],
   "source": [
    "from math import sqrt\n",
    "\n",
    "def distance(A,B):\n",
    "    \"\"\" Renvoie la distance en m entre deux scènes A et B. \n",
    "    \"\"\"\n",
    "\n",
    "\n",
    "\n",
    "print(\"La distance entre les scènes 1 et 2 est de\",distance(scenes[0][1],scenes[1][1]), \"mètres\")   # Test calcul de la distance en m entre la scène 0 et la scène 1 "
   ]
  },
  {
   "cell_type": "markdown",
   "metadata": {},
   "source": [
    "<u><i>Le calcul de la longueur totale du parcours d'une liste de scènes</u></i>"
   ]
  },
  {
   "cell_type": "code",
   "execution_count": 25,
   "metadata": {},
   "outputs": [
    {
     "name": "stdout",
     "output_type": "stream",
     "text": [
      "La longueur totale du parcours d'une liste de scènes est de 2975.11 mètres\n"
     ]
    }
   ],
   "source": [
    "def longueur_chemin(coordonnees):\n",
    "    \"\"\" \n",
    "    \"\"\"\n",
    "\n",
    "\n",
    "print(\"La longueur totale du parcours d'une liste de scènes est de\",longueur_chemin(scenes), \"mètres\")   # Essai de la distance parcourue pour les scènes dans l'ordre initial"
   ]
  },
  {
   "cell_type": "markdown",
   "metadata": {},
   "source": [
    "<h2>3. Calcul du meilleur parcours minimal</h2>\n",
    "\n",
    "Au vu des souhaits donnés plus haut, il y aurait 486 parcours possibles... \n",
    "\n",
    "Après calculs, on trouve le meilleur parcours des scènes : \n",
    "\n",
    "```[['temple', [5.5, 7]], ['temple', [5.5, 7]], ['temple', [5.5, 7]], ['valley', [7, 6]], ['valley', [7, 6]]]```\n",
    "Pour une distance totale de **360.56 mètres.**\n",
    "\n"
   ]
  },
  {
   "cell_type": "markdown",
   "metadata": {},
   "source": [
    "## Approche gloutonne \n",
    "Plutôt que de tout explorer pour trouver le minimum, nous allons partir de la 1ère scène ```\"mainstage01\" à 17h```.\n",
    "\n",
    "1. Calculer la distance la plus courte pour la scène suivante, et ainsi de suite...\n",
    "\n",
    "2. Afficher le parcours obtenu."
   ]
  },
  {
   "cell_type": "code",
   "execution_count": 1,
   "metadata": {},
   "outputs": [],
   "source": [
    "def parcours_glouton(souhaits, depart):\n",
    "    \"\"\" Renvoie le parcours \"au mieux\" à partir de l'artiste de départ. \"\"\"\n",
    "    \n",
    "    resultat = [artiste_scene(depart)]    # Scène point de départ à partir de l'artiste\n",
    "    \n",
    "    scene_prec = resultat[0]   # On initialise la scène précédente à la scène point de départ\n",
    "    \n",
    "    \n",
    "    \n",
    "    pass"
   ]
  },
  {
   "cell_type": "code",
   "execution_count": null,
   "metadata": {},
   "outputs": [],
   "source": []
  }
 ],
 "metadata": {
  "kernelspec": {
   "display_name": "Python 3",
   "language": "python",
   "name": "python3"
  },
  "language_info": {
   "codemirror_mode": {
    "name": "ipython",
    "version": 3
   },
   "file_extension": ".py",
   "mimetype": "text/x-python",
   "name": "python",
   "nbconvert_exporter": "python",
   "pygments_lexer": "ipython3",
   "version": "3.7.6"
  }
 },
 "nbformat": 4,
 "nbformat_minor": 4
}
