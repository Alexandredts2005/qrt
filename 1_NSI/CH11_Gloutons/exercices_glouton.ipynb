{
 "cells": [
  {
   "cell_type": "markdown",
   "metadata": {},
   "source": [
    "# Exercices d'applications : ALGORITHMES GLOUTONS"
   ]
  },
  {
   "cell_type": "markdown",
   "metadata": {},
   "source": [
    "<h2> Exercice 1 : le problème du sac à dos </h2>"
   ]
  },
  {
   "cell_type": "markdown",
   "metadata": {},
   "source": [
    "Ecrire une fonction Python répondant au problème de l'activité 1."
   ]
  },
  {
   "cell_type": "code",
   "execution_count": 1,
   "metadata": {},
   "outputs": [],
   "source": [
    "def sac_a_dos(liste_objets, liste_masses, liste_valeurs , masse_maximale):\n",
    "    \"\"\"renvoie la liste des objets à prendre dans le sac à dos\n",
    "    liste_objets : la liste des objets possibles\n",
    "    liste_masses : la liste de leur masse\n",
    "    liste_valeurs : la liste de leur valeur\n",
    "    masse_maximale : la masse maximale que peut contenir le sac à dos\"\"\""
   ]
  },
  {
   "cell_type": "code",
   "execution_count": 2,
   "metadata": {},
   "outputs": [],
   "source": [
    "# Autre approche possible ...\n",
    "\n",
    "def sacados(objets, masse_max):\n",
    "    \"\"\" renvoie la liste des objets à prendre dans le sac à dos\n",
    "    - objets: dictionnaire des objets disponibles de type { nom : nom_objet, masse : valeur_masse, ...}\n",
    "    - masse_max : la masse maximale que peut contenir le sac à dos\"\"\""
   ]
  },
  {
   "cell_type": "markdown",
   "metadata": {},
   "source": [
    "<h2> Exercice 2 : le rendu de monnaie"
   ]
  },
  {
   "cell_type": "markdown",
   "metadata": {},
   "source": [
    "Ecrire une fonction Python répondant au problème de l'activité 2."
   ]
  },
  {
   "cell_type": "code",
   "execution_count": 5,
   "metadata": {},
   "outputs": [],
   "source": [
    "def rendu_monnaie(somme, systeme):\n",
    "    \"\"\"renvoie la liste des pièces et/ou billets à rendre\n",
    "    somme : la somme à rendre (entier positif)\n",
    "    système : p-uplet composé des pièces et billets disponibles\"\"\"\n"
   ]
  },
  {
   "cell_type": "markdown",
   "metadata": {},
   "source": [
    "<h2> Exercice 3 : nombre de pièces limité </h2>"
   ]
  },
  {
   "cell_type": "markdown",
   "metadata": {},
   "source": [
    "On travaille à la caisse d'un magasin lors des fêtes de Noël. On doit rendre 99 euros au premier client. Pour cela on dispose des pièces et billets suivants (en euros) dans la caisse :"
   ]
  },
  {
   "cell_type": "code",
   "execution_count": 1,
   "metadata": {},
   "outputs": [],
   "source": [
    "pieces = [50 , 20 , 10 , 5 , 2 , 1]"
   ]
  },
  {
   "cell_type": "markdown",
   "metadata": {},
   "source": [
    "La caisse ne contient que deux exemplaires de chaque. On doit ensuite rendre 19 euros au cliaent suivant."
   ]
  },
  {
   "cell_type": "markdown",
   "metadata": {},
   "source": [
    "Indiquer quelles pièces/billets rendre aux deux clients et s'il y a un souci. On utilisera pour cela un algorithme glouton du type rendu de monnaie."
   ]
  },
  {
   "cell_type": "code",
   "execution_count": null,
   "metadata": {},
   "outputs": [],
   "source": []
  },
  {
   "cell_type": "markdown",
   "metadata": {},
   "source": [
    "<h2> Exercice 4 : vacances !!! </h2>"
   ]
  },
  {
   "cell_type": "markdown",
   "metadata": {},
   "source": [
    "Avant de partir en vacances pour les Caraïbes, on doit remplir sa valise. Seulement la compagnie d'aviation n'accepte pas les bagages de plus de 23 kg. Voici la liste des bagages :"
   ]
  },
  {
   "cell_type": "code",
   "execution_count": 7,
   "metadata": {},
   "outputs": [],
   "source": [
    "objets = [[6.0 , 5.0 , \"chaussures\"] , [5.0 , 5.0 , \"habits\"] , [4.5 , 2.0 , \"trousse toilette\"] ,\n",
    "[4.0 , 2.0 , \"crèmes\"] , [3.0 , 8.0 , \"livres\"] , [1.0 , 2.0, \"palmes tuba\"] , [0.5 , 3.0 , \"parasol\"]]"
   ]
  },
  {
   "cell_type": "markdown",
   "metadata": {},
   "source": [
    "Elle est du type [[valeur, poids, 'nom objet\"] , [ ....]]"
   ]
  },
  {
   "cell_type": "markdown",
   "metadata": {},
   "source": [
    "Ainsi les chaussures ont la valeur 6.0 et pèsent 5 kg."
   ]
  },
  {
   "cell_type": "markdown",
   "metadata": {},
   "source": [
    "Remplir la valise avec en priorité les articles de plus grande valeur. On utilisera pour cela un algorithme glouton du type sac à dos."
   ]
  },
  {
   "cell_type": "code",
   "execution_count": null,
   "metadata": {},
   "outputs": [],
   "source": []
  },
  {
   "cell_type": "markdown",
   "metadata": {},
   "source": [
    "<h2> Exercice 5 : mais faut bosser ! </h2>"
   ]
  },
  {
   "cell_type": "markdown",
   "metadata": {},
   "source": [
    "On considère qu'un après-midi actif dure 6 h. On souhaite effectuer un maximum de choses dans cet après-midi. Ces choses sont classées par ordre croissant de durée dans la liste suivante :"
   ]
  },
  {
   "cell_type": "code",
   "execution_count": 9,
   "metadata": {},
   "outputs": [],
   "source": [
    "durees = [1 , 2 , 3 , 4 , 5]"
   ]
  },
  {
   "cell_type": "markdown",
   "metadata": {},
   "source": [
    "La première chose à faire dure 1 h, la seconde 2 h ..."
   ]
  },
  {
   "cell_type": "markdown",
   "metadata": {},
   "source": [
    "Construire une fonction renvoyant le nombre maximal de choses que l'on peut effectuer en 6 h, sachant qu'une chose ne doit être effectuée qu'une seule fois."
   ]
  },
  {
   "cell_type": "markdown",
   "metadata": {},
   "source": [
    "<h2> Exercice 6 : avec un bon emploi du temps ! </h2>"
   ]
  },
  {
   "cell_type": "markdown",
   "metadata": {},
   "source": [
    "On suppose que l'on a une liste d'activités, chacune associée à un créneau horaire défini par une heure de début et une heure de fin. Deux activités sont compatibles si leurs créneaux horaires ne se recouvrent pas. On souhaite sélectionner un nombre maximal d'activités toutes compatibles entre elles."
   ]
  },
  {
   "cell_type": "markdown",
   "metadata": {},
   "source": [
    "1. On se donne des activités avec les créneaux suivants : 8h-13h, 12h-17h, 9h-11h, 14h-16h, 11h-12h. Combien de ces activités peuvent-elles conciliées sur une seule journée ? \n",
    "   "
   ]
  },
  {
   "cell_type": "code",
   "execution_count": null,
   "metadata": {},
   "outputs": [],
   "source": []
  },
  {
   "cell_type": "markdown",
   "metadata": {},
   "source": [
    "2. On propose une stratégie gloutonne pour sélectionner des activités en commençant par le début de la journée : choisir l'activité dont l'heure de fin arrive le plus tôt (parmi les activités dont l'heure de début est bien postérieure aux créneaux des activités déjà choisies). Appliquer cette stratégie à la situation précédente."
   ]
  },
  {
   "cell_type": "code",
   "execution_count": null,
   "metadata": {},
   "outputs": [],
   "source": []
  },
  {
   "cell_type": "markdown",
   "metadata": {},
   "source": [
    "3. On reprend le problème de l'exercice précédent et on suppose avoir n activités numérotées de 0 à n-1, et deux tableaux debut et fin de taille n tels que ``debut[i]``  et ``fin[i]`` contiennent respectivement l'heure de début et l'heure de fin de l'activité numéro i."
   ]
  },
  {
   "cell_type": "markdown",
   "metadata": {},
   "source": [
    "a. Ecrire une fonction ``prochaine(debut, fin, h)`` qui sélectionne, parmi les activités dont l'heure de début n'est pas antérieure à h, celle s'arrêtant le plus tôt. La fonction doit renvoyer ``None`` s'il n'y a aucun créneau compatible. "
   ]
  },
  {
   "cell_type": "code",
   "execution_count": null,
   "metadata": {},
   "outputs": [],
   "source": []
  },
  {
   "cell_type": "markdown",
   "metadata": {},
   "source": [
    "b. En déduire une fonction ``selection(debut, fin)`` qui, en supposant que toutes les heures sont positives, sélectionne autant d'activités que possible en suivant la stratégie gloutonne. La fonction doit afficher les numéros des activités sélectionnées."
   ]
  },
  {
   "cell_type": "code",
   "execution_count": null,
   "metadata": {},
   "outputs": [],
   "source": []
  }
 ],
 "metadata": {
  "kernelspec": {
   "display_name": "Python 3",
   "language": "python",
   "name": "python3"
  },
  "language_info": {
   "codemirror_mode": {
    "name": "ipython",
    "version": 3
   },
   "file_extension": ".py",
   "mimetype": "text/x-python",
   "name": "python",
   "nbconvert_exporter": "python",
   "pygments_lexer": "ipython3",
   "version": "3.7.6"
  }
 },
 "nbformat": 4,
 "nbformat_minor": 4
}
