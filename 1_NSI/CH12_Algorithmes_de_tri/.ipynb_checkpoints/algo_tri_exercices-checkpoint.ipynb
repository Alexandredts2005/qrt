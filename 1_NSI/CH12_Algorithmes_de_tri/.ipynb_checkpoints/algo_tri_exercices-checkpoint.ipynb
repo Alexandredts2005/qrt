{
 "cells": [
  {
   "cell_type": "markdown",
   "metadata": {},
   "source": [
    "<h1>CH12  ALGORITHMES DE TRI : APPLICATIONS </h1>"
   ]
  },
  {
   "cell_type": "markdown",
   "metadata": {},
   "source": [
    "<h2> Exercice 1 </h2>"
   ]
  },
  {
   "cell_type": "markdown",
   "metadata": {},
   "source": [
    "On donne le code suivant :"
   ]
  },
  {
   "cell_type": "code",
   "execution_count": null,
   "metadata": {},
   "outputs": [],
   "source": [
    "def tri(t):\n",
    "    n = len(t)\n",
    "    for i in range(1, n):\n",
    "        while i > 0 and t[i] < t[i+1]:\n",
    "            \n",
    "            "
   ]
  },
  {
   "cell_type": "markdown",
   "metadata": {},
   "source": [
    "Le compléter afin de trier la liste [10 , 11 , 24 , -2] par **insertion** et effectuer le tri."
   ]
  },
  {
   "cell_type": "markdown",
   "metadata": {},
   "source": [
    "<h2> Exercice 2</h2>"
   ]
  },
  {
   "cell_type": "markdown",
   "metadata": {},
   "source": [
    "On souhaite trier la liste de listes ``Pers`` selon le numéro situé en deuxième position dans les sous-listes que contient ``Pers``  :"
   ]
  },
  {
   "cell_type": "code",
   "execution_count": null,
   "metadata": {},
   "outputs": [],
   "source": [
    "Pers = [['Protillon' , 4] , ['Sam', 3] , ['Julie' , 1] , ['Tom' , 2], ['Charlie' , 5]]"
   ]
  },
  {
   "cell_type": "markdown",
   "metadata": {},
   "source": [
    "Proposer une fonction mettant en oeuvre un algorithme de tri au choix permettant de trier la liste ``Pers`` ."
   ]
  },
  {
   "cell_type": "code",
   "execution_count": null,
   "metadata": {},
   "outputs": [],
   "source": []
  },
  {
   "cell_type": "markdown",
   "metadata": {},
   "source": [
    "<h2> Exercice 3 </h2>"
   ]
  },
  {
   "cell_type": "markdown",
   "metadata": {},
   "source": [
    "Au lieu de modifier le contenu d'un tableau pour le trier, on peut aussi renvoyer le résultat du tri dans un nouveau tableau. Ecrire une fonction ``tri_par_insertion_externe()`` qui réalise cette idée avec le tri par insertion."
   ]
  },
  {
   "cell_type": "code",
   "execution_count": null,
   "metadata": {},
   "outputs": [],
   "source": []
  },
  {
   "cell_type": "markdown",
   "metadata": {},
   "source": [
    "<h2> Exercice 4 </h2>"
   ]
  },
  {
   "cell_type": "markdown",
   "metadata": {},
   "source": [
    "En supposant que le tri par sélection prend un temps directement proportionnel à n² (où n est la longueur de la liste à trier) et qu'il prend 6,8 secondes pour trier 16 000 valeurs, calculer le temps qu'il faudrait pour trier un million de valeurs avec ce même tri par sélection."
   ]
  },
  {
   "cell_type": "code",
   "execution_count": null,
   "metadata": {},
   "outputs": [],
   "source": []
  },
  {
   "cell_type": "markdown",
   "metadata": {},
   "source": [
    "<h2> Exercice 5 </h2>"
   ]
  },
  {
   "cell_type": "markdown",
   "metadata": {},
   "source": [
    "Pour mesurer le temps d'exécution d'un programme, on importe la fontion time du module time. Cette fonction renvoie le temps en secondes écoulé depuis le 1er janvier 1970.\n",
    "Le code qui suit permet par exemple d'afficher le temps pris par l'exécution du tri d'une liste :"
   ]
  },
  {
   "cell_type": "code",
   "execution_count": null,
   "metadata": {},
   "outputs": [],
   "source": [
    "from time import time\n",
    "start = time()\n",
    "tri(liste)\n",
    "end = time()\n",
    "print (end - start)"
   ]
  },
  {
   "cell_type": "markdown",
   "metadata": {},
   "source": [
    "On souhaite comparer les temps d'exécution des tri sélection et insertion sur deux types de listes : une liste de nombres au hasard et une liste de nombres déjà triée. On reprend le code des fonctions de tri du cours."
   ]
  },
  {
   "cell_type": "markdown",
   "metadata": {},
   "source": [
    "<b> 1. </b> Construire une liste de 3 000 entiers pris au hasard entre 1 et 10 000. Mesurer le temps d'exécution du programme du tri sélection et du programme du tri insertion pour trier cette liste. Quel commentaire peut-on faire concernant les deux résultats ?"
   ]
  },
  {
   "cell_type": "code",
   "execution_count": null,
   "metadata": {},
   "outputs": [],
   "source": []
  },
  {
   "cell_type": "markdown",
   "metadata": {},
   "source": [
    "<b>2. </b> Construire la liste des 3 000 entiers de 0 à 2 999. Mesurer le temps d'exécution du programme du tri sélection et du programme du tri insertion pour trier cette liste. Quel commentaire peut-on faire concernant les deux résultats ?"
   ]
  },
  {
   "cell_type": "code",
   "execution_count": null,
   "metadata": {},
   "outputs": [],
   "source": []
  },
  {
   "cell_type": "markdown",
   "metadata": {},
   "source": [
    "<b>3. </b> Mesurer sur une liste de 3 000 entiers, choisis de manière aléatoire entre 1 et 10 000, le temps d'exécution de la méthode ``sort()``."
   ]
  },
  {
   "cell_type": "code",
   "execution_count": null,
   "metadata": {},
   "outputs": [],
   "source": []
  },
  {
   "cell_type": "markdown",
   "metadata": {},
   "source": [
    "<h2> Exercice 6 </h2>"
   ]
  },
  {
   "cell_type": "markdown",
   "metadata": {},
   "source": [
    "Ecrire une fonction ``ordre()`` qui prend un argument une liste de mots et modifie la liste en ordonnant les mots en fonction du nombre de lettres. La fonction ne renvoie rien."
   ]
  },
  {
   "cell_type": "code",
   "execution_count": null,
   "metadata": {},
   "outputs": [],
   "source": []
  },
  {
   "cell_type": "markdown",
   "metadata": {},
   "source": [
    "<h2> Exercice 7 </h2>"
   ]
  },
  {
   "cell_type": "markdown",
   "metadata": {},
   "source": [
    "L'objectif est d'écrire un programme qui trie une liste de mots et les range suivant l'ordre lexicographique."
   ]
  },
  {
   "cell_type": "markdown",
   "metadata": {},
   "source": [
    "On définit la variable alphabet :"
   ]
  },
  {
   "cell_type": "code",
   "execution_count": null,
   "metadata": {},
   "outputs": [],
   "source": [
    "alphabet = \"AaàBbCcDdEeéèFfGgHhIiJjKkLlMmOoPpQqRrSsTtUuùVvWwXxYyZz\""
   ]
  },
  {
   "cell_type": "markdown",
   "metadata": {},
   "source": [
    "<b>1.</b> Ecrire une fonction ``ordre_alphabetique()`` qui prend en arguments deux caractères alphabétiques c1 et c2 et renvoie : <br>\n",
    " - **-1** si c1 est avant c2 <br>\n",
    " - **1** si c2 est avant c1 <br>\n",
    " - **0** si c1=c2.  <br>\n",
    " \n",
    "On pourra utiliser la méthode ``index()`` qui renvoie l'indice d'un élément dans une chaîne de caractères."
   ]
  },
  {
   "cell_type": "code",
   "execution_count": null,
   "metadata": {},
   "outputs": [],
   "source": []
  },
  {
   "cell_type": "markdown",
   "metadata": {},
   "source": [
    "<b> 2. </b> Ecrire une fonction ``ordre_lexicographique()`` qui prend en arguments deux mots m1 et m2 et renvoie : <br>\n",
    " - **-1** si m1 < m2 pour l'ordre lexicographique <br>\n",
    " - **1** si m2 > m1 <br>\n",
    " - **0** si m1 = m2 <br>\n",
    " \n",
    "On utilisera la fonction ``ordre_alphabetique()`` définie précédemment."
   ]
  },
  {
   "cell_type": "code",
   "execution_count": null,
   "metadata": {},
   "outputs": [],
   "source": []
  },
  {
   "cell_type": "markdown",
   "metadata": {},
   "source": [
    "<b> 3. </b> Ecrire une fonction ``tri_lexicographique()`` qui prend en argument une de mots et trie cette liste."
   ]
  },
  {
   "cell_type": "code",
   "execution_count": null,
   "metadata": {},
   "outputs": [],
   "source": []
  }
 ],
 "metadata": {
  "kernelspec": {
   "display_name": "Python 3",
   "language": "python",
   "name": "python3"
  },
  "language_info": {
   "codemirror_mode": {
    "name": "ipython",
    "version": 3
   },
   "file_extension": ".py",
   "mimetype": "text/x-python",
   "name": "python",
   "nbconvert_exporter": "python",
   "pygments_lexer": "ipython3",
   "version": "3.7.6"
  }
 },
 "nbformat": 4,
 "nbformat_minor": 4
}
