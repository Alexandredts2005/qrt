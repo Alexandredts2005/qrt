{
 "cells": [
  {
   "cell_type": "markdown",
   "metadata": {},
   "source": [
    "<h1> CH12 LES ALGORITHMES DE TRI </h1>"
   ]
  },
  {
   "cell_type": "markdown",
   "metadata": {},
   "source": [
    "<h2><u> I. Nécessité de trier </u></h2>"
   ]
  },
  {
   "cell_type": "markdown",
   "metadata": {},
   "source": [
    "Comme nous l'avons vu dans les chapitres précédents, il est souvent utile (voire indispensable) de travailler sur des listes d'objets triés.\n",
    "Il existe d'innombrables algorithmes de tri, les premiers ayant été élaborés dès 1951 par Betty Holberton, et de nouveaux sont toujours en cours d'invention.\n",
    "L'efficacité de ces algorithmes est liée à :\n",
    " <li>\n",
    "    <ol> leur complexité temporelle (coût en temps)</ol>\n",
    "    <ol> leur complexité spatiale (espace mémoire occupé) : il est possible de trier en place, en modifiant directement la liste à trier, ou de créer une copie triée de la liste de départ. Le tri en place économise de l'espace mémoire, mais on \"perd\" la liste initiale. (Penser au ``list.sort``   ou ``sorted(liste)`` sur les listes)</ol>\n",
    "    </li>\n"
   ]
  },
  {
   "cell_type": "markdown",
   "metadata": {},
   "source": [
    "Les algorithmes de tri étudiés en première sont des algorithmes de tri par comparaison : l'algorithme de **tri par insertion**, et l'algorithme de **tri par sélection**."
   ]
  },
  {
   "cell_type": "markdown",
   "metadata": {},
   "source": [
    "<h2> <u>II. Le tri par insertion </u></h2>"
   ]
  },
  {
   "cell_type": "markdown",
   "metadata": {},
   "source": [
    "<h3> 1. Principe du tri par insertion </h3>"
   ]
  },
  {
   "cell_type": "markdown",
   "metadata": {},
   "source": [
    "On parcourt les éléments de la liste et on insère chaque élément dans la liste déjà triée (les premiers éléments déjà traités).\n",
    "Ce tri se fait généralement en place.\n",
    "![Illustration tri_insertion](img/tri_insertion.png)"
   ]
  },
  {
   "cell_type": "markdown",
   "metadata": {},
   "source": [
    "![Illustration tri_insertion2](img/tri_insertion_2.png)"
   ]
  },
  {
   "cell_type": "markdown",
   "metadata": {},
   "source": [
    "<h3> 2. Algorithme du tri par insertion </h3>"
   ]
  },
  {
   "cell_type": "markdown",
   "metadata": {},
   "source": [
    "Ecrire en langage naturel ou en pseudo code un algorithme de tri par insertion."
   ]
  },
  {
   "cell_type": "code",
   "execution_count": null,
   "metadata": {},
   "outputs": [],
   "source": []
  },
  {
   "cell_type": "markdown",
   "metadata": {},
   "source": [
    "Et codez-le en Python !"
   ]
  },
  {
   "cell_type": "code",
   "execution_count": 1,
   "metadata": {},
   "outputs": [],
   "source": [
    "def tri_insertion(t):\n",
    "    \"\"\"procédure qui trie la liste t en place\n",
    "    t est une liste d'entiers\n",
    "    Ne renvoie rien (tri en place)\"\"\"\n",
    "    "
   ]
  },
  {
   "cell_type": "markdown",
   "metadata": {},
   "source": [
    "Testez votre procédure sur quelques exemples. Pensez à [Pythontutor](http://pythontutor.com/) si ça ne fonctionne pas comme vous le souhaitez !"
   ]
  },
  {
   "cell_type": "code",
   "execution_count": null,
   "metadata": {},
   "outputs": [],
   "source": []
  },
  {
   "cell_type": "markdown",
   "metadata": {},
   "source": [
    "<h3> 3. correction de l'algorithme </h3"
   ]
  },
  {
   "cell_type": "markdown",
   "metadata": {},
   "source": [
    "La boucle for se termine forcément (nombre d'itération finie).\n",
    "La boucle while se termine dès que  i = 0, or i est décrémenté de 1 à chaque tour de boucle, donc finira par atteindre 0."
   ]
  },
  {
   "cell_type": "markdown",
   "metadata": {},
   "source": [
    "Vérifier la validité de l'algorithme à l'aide de l'invariant de boucle : **\"la liste t[0:i+1] est triée par ordre croissant à l'issue de l'itération i\"**"
   ]
  },
  {
   "cell_type": "markdown",
   "metadata": {},
   "source": [
    "<b> Initialisation </b>"
   ]
  },
  {
   "cell_type": "code",
   "execution_count": null,
   "metadata": {},
   "outputs": [],
   "source": []
  },
  {
   "cell_type": "markdown",
   "metadata": {},
   "source": [
    "<b> Hérédité </b>"
   ]
  },
  {
   "cell_type": "code",
   "execution_count": null,
   "metadata": {},
   "outputs": [],
   "source": []
  },
  {
   "cell_type": "markdown",
   "metadata": {},
   "source": [
    "<b> Terminaison </b>"
   ]
  },
  {
   "cell_type": "code",
   "execution_count": null,
   "metadata": {},
   "outputs": [],
   "source": []
  },
  {
   "cell_type": "markdown",
   "metadata": {},
   "source": [
    "<h3> 4. Coût de l'algorithme de tri par insertion</h3>"
   ]
  },
  {
   "cell_type": "markdown",
   "metadata": {},
   "source": [
    "Vérifier que le coût de cet algorithme est au maximum quadratique (de l'ordre de n²): **O(n²)**"
   ]
  },
  {
   "cell_type": "code",
   "execution_count": null,
   "metadata": {},
   "outputs": [],
   "source": []
  },
  {
   "cell_type": "markdown",
   "metadata": {},
   "source": [
    "<h2> <u>III. Tri par sélection</u> </h2>"
   ]
  },
  {
   "cell_type": "markdown",
   "metadata": {},
   "source": [
    "<h3> 1. Principe </h3>"
   ]
  },
  {
   "cell_type": "markdown",
   "metadata": {},
   "source": [
    "On parcourt les éléments de la liste, on cherche le minimum et on le permute avec le premier élément de la liste. On recommence avec le reste de la liste ..."
   ]
  },
  {
   "cell_type": "markdown",
   "metadata": {},
   "source": [
    "![Illustration tri_selection](img/tri_insertion.png)"
   ]
  },
  {
   "cell_type": "markdown",
   "metadata": {},
   "source": [
    "![Illustration tri_selection2](img/tri_insertion_2.png)"
   ]
  },
  {
   "cell_type": "markdown",
   "metadata": {},
   "source": [
    "<h3> 2. Algorithme du tri par sélection </h3>"
   ]
  },
  {
   "cell_type": "markdown",
   "metadata": {},
   "source": [
    "Le principe est le suivant : <br>\n",
    " - Une boucle qui parcourt les valeurs j des indices de la liste t (de longueur n) à trier <br>\n",
    " - On cherche le minimum de la liste t[j:n-1] <br>\n",
    " - On permute ce minimum avec l'élément t[j] <br>\n",
    " \n",
    " \n",
    "Le tri se fait en place.                        \n"
   ]
  },
  {
   "cell_type": "markdown",
   "metadata": {},
   "source": [
    "<h4> 1ère étape </h4>"
   ]
  },
  {
   "cell_type": "markdown",
   "metadata": {},
   "source": [
    "Ecrire une fonction ``minimum (t,j)`` qui recherche l'indice du minimum dans une liste d'entiers t, à partir de l'indice j de la liste."
   ]
  },
  {
   "cell_type": "code",
   "execution_count": 5,
   "metadata": {},
   "outputs": [],
   "source": [
    "def minimum(t ,j):\n",
    "    \"\"\" renvoie l'indice du minimum d'une liste d'entiers\n",
    "        t : une liste d'entiers\n",
    "        j : l'indice de départ de la liste dont on recherche le minimum\"\"\"\n",
    "    "
   ]
  },
  {
   "cell_type": "markdown",
   "metadata": {},
   "source": [
    "<h4> 2ème étape </h4>"
   ]
  },
  {
   "cell_type": "markdown",
   "metadata": {},
   "source": [
    "Ecrire en langage naturel ou en pseudo-code l'algorithme du tri par sélection."
   ]
  },
  {
   "cell_type": "markdown",
   "metadata": {},
   "source": [
    "\n"
   ]
  },
  {
   "cell_type": "markdown",
   "metadata": {},
   "source": [
    "<h4> 3ème étape </h4>"
   ]
  },
  {
   "cell_type": "markdown",
   "metadata": {},
   "source": [
    "Ecrire ce code en Python"
   ]
  },
  {
   "cell_type": "code",
   "execution_count": null,
   "metadata": {},
   "outputs": [],
   "source": []
  },
  {
   "cell_type": "markdown",
   "metadata": {},
   "source": [
    "Testez votre procédure sur quelques exemples. Pensez à [Pythontutor](http://pythontutor.com/) si ça ne fonctionne pas comme vous le souhaitez !"
   ]
  },
  {
   "cell_type": "markdown",
   "metadata": {},
   "source": [
    "<h3> 3. Validité de l'algorithme </h3>"
   ]
  },
  {
   "cell_type": "markdown",
   "metadata": {},
   "source": [
    "Prouver la validité de cet algorithme à l'aide de l'invariant de boucle : **\"la liste t[0:i+1] est triée par ordre croissant à l'issue de l'itération i\".**"
   ]
  },
  {
   "cell_type": "markdown",
   "metadata": {},
   "source": [
    "<b> Initialisation </b>"
   ]
  },
  {
   "cell_type": "code",
   "execution_count": null,
   "metadata": {},
   "outputs": [],
   "source": []
  },
  {
   "cell_type": "markdown",
   "metadata": {},
   "source": [
    "<b> Hérédité </b>"
   ]
  },
  {
   "cell_type": "code",
   "execution_count": null,
   "metadata": {},
   "outputs": [],
   "source": []
  },
  {
   "cell_type": "markdown",
   "metadata": {},
   "source": [
    "<b>Terminaison</b>"
   ]
  },
  {
   "cell_type": "code",
   "execution_count": null,
   "metadata": {},
   "outputs": [],
   "source": []
  },
  {
   "cell_type": "markdown",
   "metadata": {},
   "source": [
    "<h3> 4. Coût de l'algorithme de tri par sélection </h3>"
   ]
  },
  {
   "cell_type": "markdown",
   "metadata": {},
   "source": [
    "Montrer que le coût de cet algorithme est également quadratique: **O(n²)**"
   ]
  },
  {
   "cell_type": "code",
   "execution_count": null,
   "metadata": {},
   "outputs": [],
   "source": []
  },
  {
   "cell_type": "markdown",
   "metadata": {},
   "source": [
    "<h2><u> IV. Bilan</u> </h2>"
   ]
  },
  {
   "cell_type": "markdown",
   "metadata": {},
   "source": [
    "Ces 2 méthodes de tri sont assez simples mais peu efficaces : en effet, la complexité étant **O(n) = n²**, si on double le nombre de données, on quadruple le temps de calcul !!\n",
    "\n",
    "Pour s'en rendre compte on peu les comparer à d'autres méthodes à l'aide de cette [simulation.](https://www.toptal.com/developers/sorting-algorithms) \n",
    "\n",
    "Mais le tri par **insertion** reste assez efficace par rapport au tri par par **sélection** lorsque qu'on est sur un tableau déjà \"presque\" trié.\n",
    "\n",
    "Quelle est l'explication ? ..."
   ]
  },
  {
   "cell_type": "code",
   "execution_count": null,
   "metadata": {},
   "outputs": [],
   "source": []
  }
 ],
 "metadata": {
  "kernelspec": {
   "display_name": "Python 3",
   "language": "python",
   "name": "python3"
  },
  "language_info": {
   "codemirror_mode": {
    "name": "ipython",
    "version": 3
   },
   "file_extension": ".py",
   "mimetype": "text/x-python",
   "name": "python",
   "nbconvert_exporter": "python",
   "pygments_lexer": "ipython3",
   "version": "3.7.6"
  }
 },
 "nbformat": 4,
 "nbformat_minor": 4
}
