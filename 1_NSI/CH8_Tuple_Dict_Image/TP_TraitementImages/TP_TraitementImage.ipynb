{
 "cells": [
  {
   "cell_type": "markdown",
   "metadata": {},
   "source": [
    "<h1> TP Traitement d'image en Python</h1>\n",
    "<br> <img align = \"right\" src = \"https://www.python.org/static/opengraph-icon-200x200.png\">\n",
    "<br> <img align = \"left\" src = \"https://www.cbsaction.tv/pictures/programs/small/walker_texas_ranger.jpg\" height=\"20%\" width=\"20%\">\n",
    "<br>\n",
    "<br>\n",
    "<br>\n",
    "<br>\n",
    "<a href=\"https://www.cbsaction.tv/pictures/programs/small/walker_texas_ranger.jpg\"> https://www.cbsaction.tv/pictures/programs/small/walker_texas_ranger.jpg</a>\n"
   ]
  },
  {
   "cell_type": "markdown",
   "metadata": {},
   "source": [
    "<h1> <u>1. Mise en place de l'image</u></h1>\n",
    "\n"
   ]
  },
  {
   "cell_type": "markdown",
   "metadata": {},
   "source": [
    "Pour traiter l'image avec python, on utilisera le module <b> PIL </b> dont les fonctions et explications sont disponibles ici :<br> <a href=\"https://pillow.readthedocs.io/en/stable/reference/Image.html\"> https://pillow.readthedocs.io/en/stable/reference/Image.html</a> (en anglais !)\n"
   ]
  },
  {
   "cell_type": "code",
   "execution_count": null,
   "metadata": {},
   "outputs": [],
   "source": [
    "from PIL import Image    # module Image de la bibliothèque PIL"
   ]
  },
  {
   "cell_type": "markdown",
   "metadata": {},
   "source": [
    "L'image téléchargée est dite <i> sérialisée </i>, c'est à dire sous un format compressé (ici .jpg) et representé en langage binaire par une suite de 0 et de 1.<br>\n",
    "On créée une variable image **PIL** utilisable dans le code python avec la méthode *Image.open()*."
   ]
  },
  {
   "cell_type": "code",
   "execution_count": null,
   "metadata": {},
   "outputs": [],
   "source": [
    "img = Image.open(\"cn.jpg\")    # Ouverture de l'image et affichage de l'image PIL\n",
    "\n",
    "img   # Affiche la variable "
   ]
  },
  {
   "cell_type": "markdown",
   "metadata": {},
   "source": [
    "## Exploitation\n",
    "Télécharger et ouvrir une image de votre choix pour tester."
   ]
  },
  {
   "cell_type": "markdown",
   "metadata": {},
   "source": [
    "<h1> <u>2. Informations sur l'image</u></h1>\n",
    "\n",
    "\n",
    "Voici des commandes utiles pour obtenir des informations sur l'image :  <br>\n"
   ]
  },
  {
   "cell_type": "code",
   "execution_count": null,
   "metadata": {},
   "outputs": [],
   "source": [
    "# Couleur\n",
    "\n",
    "mon_pix = img.getpixel((0, 0))   \n",
    "\n",
    "mon_pix"
   ]
  },
  {
   "cell_type": "code",
   "execution_count": null,
   "metadata": {},
   "outputs": [],
   "source": [
    "# Dimensions\n",
    "\n",
    "largeur, hauteur = img.size\n",
    "\n",
    "print(\"la largeur (nb de colonnes) est : \", largeur)\n",
    "print(\"la hauteur (nb de lignes) est : \", hauteur)"
   ]
  },
  {
   "cell_type": "code",
   "execution_count": null,
   "metadata": {},
   "outputs": [],
   "source": [
    "# Données exif\n",
    "\n",
    "data = img._getexif()\n",
    "data"
   ]
  },
  {
   "cell_type": "markdown",
   "metadata": {},
   "source": [
    "## Exploitation\n",
    "1. Quelle est la couleur de (0, 0). Tester d'autres pixels.\n",
    "2. Quel est le type de la variable ```mon_pix``` ?\n",
    "3. Concrétement, expliquer comment est définie une image PIL.\n",
    "4. Donner la taille de l'image en pixels, puis en octets.\n",
    "5. Quel est le type de la variable ```data``` ? Quelles informations peut-on y trouver ?"
   ]
  },
  {
   "cell_type": "markdown",
   "metadata": {},
   "source": [
    "<h1> <u>3. Conversion de l'image en tableau</u> </h1>\n",
    "\n",
    "Avant de modifier l'image, on la transforme en tableau 2D, une liste-de-listes, donc modifiable. "
   ]
  },
  {
   "cell_type": "markdown",
   "metadata": {},
   "source": [
    "On pourra utiliser l'image de son choix."
   ]
  },
  {
   "cell_type": "code",
   "execution_count": null,
   "metadata": {},
   "outputs": [],
   "source": [
    "img = Image.open(\"cn.jpg\") \n",
    "largeur, hauteur = img.size"
   ]
  },
  {
   "cell_type": "markdown",
   "metadata": {},
   "source": [
    "On convertit l'image en tableau PGM :\n"
   ]
  },
  {
   "cell_type": "code",
   "execution_count": null,
   "metadata": {},
   "outputs": [],
   "source": [
    "def convertir(image):\n",
    "    \"\"\"Fabrique un tableau de type Portable gray Map (pgm) \n",
    "       tableau à la dimension de l'image composé de pixels\n",
    "       de l'image.    \"\"\"\n",
    "\n",
    "    tab = [ [0]*largeur for i in range(hauteur)]\n",
    "        # Créée un tableau de 0 avec hauteur lignes et largeur colonnes \n",
    "    \n",
    "    # Parcours du tableau\n",
    "    for i in range(largeur):  # boucle sur le nbre de colonnes\n",
    "        for j in range(hauteur):  # boucle sur le nbre de lignes\n",
    "\n",
    "            pixel = image.getpixel((i, j))  # valeur du tuple du pixel jème ligne ième colonne\n",
    "           \n",
    "            tab[j][i] = pixel[0]     # récupère la valeur R du tuple R, G, B\n",
    "\n",
    "    return tab\n",
    "\n",
    "\n",
    "im_convertie = convertir(img)   # Image convertie en pgm [ligne][colonne]"
   ]
  },
  {
   "cell_type": "markdown",
   "metadata": {},
   "source": [
    "On affiche l'image côte à côte avec l'image originale pour comparer :"
   ]
  },
  {
   "cell_type": "code",
   "execution_count": null,
   "metadata": {},
   "outputs": [],
   "source": [
    "import matplotlib.pyplot as plt\n",
    "\n",
    "def affichage(image):\n",
    "    \"\"\" Affiche côte à côte l'image originale et transformée\"\"\"\n",
    "    plt.subplot(121)\n",
    "    plt.title(\"image originale\")\n",
    "    plt.imshow(img, cmap = \"gray\")\n",
    "    plt.subplot(122)\n",
    "    plt.title(\"image modifiée\")\n",
    "    plt.imshow(image, cmap = \"gray\")\n",
    "    plt.show()\n",
    "    \n",
    "affichage(im_convertie)"
   ]
  },
  {
   "cell_type": "markdown",
   "metadata": {},
   "source": [
    "## Exploitation\n",
    "1. Cette conversion transforme l'image en PGM (voir plus haut) : comment a été convertie l'image originale ?\n",
    "2. Modifier la fonction ```convertir()``` afin d'intégrer les autres composantes de couleur."
   ]
  },
  {
   "cell_type": "markdown",
   "metadata": {},
   "source": [
    "<h1>  <u> 4. Transformations</u></h1>\n",
    "<h2> Rotation à 180° </h2>\n",
    "\n",
    "On retourne horizontalement l'image convertie.\n"
   ]
  },
  {
   "cell_type": "code",
   "execution_count": null,
   "metadata": {},
   "outputs": [],
   "source": [
    "def Rotation180(image):\n",
    "    \"\"\" Fait une rotation 180°\"\"\"\n",
    "    tab = [ [0]*largeur for i in range(hauteur)] \n",
    "           # Créée un tableau de 0 avec hauteur lignes et largeur colonnes \n",
    "        \n",
    "    # bcle sur le nbre de colonnes\n",
    "    # et bcle sur le nbre de lignes\n"
   ]
  },
  {
   "cell_type": "markdown",
   "metadata": {},
   "source": [
    "<h2>  Gestion des couleurs</h2>\n",
    "Maintenant, on travaille sur la gestion des couleurs de l'image.<br>\n",
    "On affiche dans un premier temps la distributions des pixels en fonction des couleurs, soit <b>l'histogramme</b> de l'image : "
   ]
  },
  {
   "cell_type": "code",
   "execution_count": null,
   "metadata": {},
   "outputs": [],
   "source": [
    "def histogramme(image):\n",
    "    \"\"\"Trace l'histogramme de l'image (nombre de pix en fonction de couleur)\"\"\"\n",
    "    couleurs = [0 for i in range(256)]\n",
    "        # Créée une liste de 256 zéros pour mettre en abscisse les valeurs de couleur\n",
    "        \n",
    "    for i in range(largeur):  # bcle nbre de colonnes\n",
    "        for j in range(hauteur):  # bcle nbre de lignes\n",
    "            pixel = int(image[j][i])\n",
    "            couleurs[pixel] = couleurs[pixel] + 1\n",
    "    \n",
    "    # on ne compte pas les noirs / blancs purs\n",
    "    couleurs[0] = 0\n",
    "    couleurs[255]= 0\n",
    "    plt.plot(couleurs)\n",
    "\n",
    "    \n",
    "histogramme(im_convertie)"
   ]
  },
  {
   "cell_type": "markdown",
   "metadata": {},
   "source": [
    "Quelle est la teinte dominante dans cette image ?"
   ]
  },
  {
   "cell_type": "markdown",
   "metadata": {},
   "source": [
    "On effectue maintenant un détourage par une fonction ```seuil()``` qui passe en noir les pixels de valeur inférieure au seuil et en blanc les pixels de valeur supérieure."
   ]
  },
  {
   "cell_type": "code",
   "execution_count": null,
   "metadata": {},
   "outputs": [],
   "source": [
    "# Seuil et détourage\n",
    "\n",
    "def seuil(image, limite):\n",
    "    \"\"\" A partir d'une image pgm\n",
    "        Si pixel < seuil (int) alors blanc et > seuil alors noir\"\"\"\n",
    "    tab = [ [0]*largeur for i in range(hauteur)]\n",
    "    \n",
    "    for i in range(largeur):  # bcle nbre de colonnes\n",
    "        for j in range(hauteur):  # bcle nbre de lignes\n",
    "            pixel = image[j][i]\n",
    "           \n",
    "        # A COMPLETER\n",
    "        \n",
    "    return tab\n",
    "\n",
    "im_seuil = seuil(im_convertie, 60)\n",
    "affichage(im_seuil)"
   ]
  },
  {
   "cell_type": "markdown",
   "metadata": {},
   "source": [
    "On peut aussi travailler sur le négatif :"
   ]
  },
  {
   "cell_type": "code",
   "execution_count": null,
   "metadata": {},
   "outputs": [],
   "source": [
    "# Négatif \n",
    "\n",
    "def negatif(image):\n",
    "    \"\"\" A partir d'une image pgm créée le négatif\"\"\"\n",
    "    tab = [ [0]*largeur for i in range(hauteur)]\n",
    "    "
   ]
  },
  {
   "cell_type": "markdown",
   "metadata": {
    "collapsed": true
   },
   "source": [
    "## Application : le fond vert\n",
    "\n",
    "Le \"fond vert\" est utiliser au cinéma pour détourer plus facilement et insérer en temps réel dans une séquence vidéo d'autres images.\n",
    "\n",
    "A partir de l'image suivante <a href=\"http://referentiel.nouvelobs.com/file/13679836.jpg\"> JC Van Damme </a> :\n",
    "1. Proposer une fonction python qui permet de détourer en s'aidant du fond vert.\n",
    "2. Insérer un paysage ou tout autre fond de votre choix. (Attention , les dimensions sont de 833x413)"
   ]
  },
  {
   "cell_type": "code",
   "execution_count": null,
   "metadata": {},
   "outputs": [],
   "source": []
  }
 ],
 "metadata": {
  "kernelspec": {
   "display_name": "Python 3",
   "language": "python",
   "name": "python3"
  },
  "language_info": {
   "codemirror_mode": {
    "name": "ipython",
    "version": 3
   },
   "file_extension": ".py",
   "mimetype": "text/x-python",
   "name": "python",
   "nbconvert_exporter": "python",
   "pygments_lexer": "ipython3",
   "version": "3.7.6"
  }
 },
 "nbformat": 4,
 "nbformat_minor": 4
}
