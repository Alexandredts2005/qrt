{
 "cells": [
  {
   "cell_type": "markdown",
   "metadata": {},
   "source": [
    "# ACT 1  Efficacité et performance d'un algorithme"
   ]
  },
  {
   "cell_type": "markdown",
   "metadata": {},
   "source": [
    "# 1. Validité d'un algorithme\n",
    "\n",
    "Quand un programme contient une boucle, il convient de savoir si il fait bien ce qui est attendu. On parle de s'assurer de la ***validité*** de l'algorithme en répondant aux questions : \n",
    "1. Va-t-on bien sortir de la boucle au bout d'un certain temps ? **TERMINAISON**\n",
    "2. Les valeurs obtenues au final sont-elles celles attendues ?  **INVARIANT DE BOUCLE**\n",
    "\n",
    "\n",
    "##  Invariant de boucle\n",
    "Un invariant de boucle est une **propriété attachée à la boucle, qui est vraie initialement, avant de commencer à exécuter la boucle, et maintenue vraie pour toute itération de la boucle** (d'où son nom). Elle sera en particulier vraie à la sortie de la boucle.\n",
    "\n",
    "***Exemple :***\n",
    "Voici un algorithme de calcul du produit de deux nombres avec un boucle conditionnelle et deux variables a et b ayant pour valeur un entier naturel."
   ]
  },
  {
   "cell_type": "raw",
   "metadata": {},
   "source": [
    "m = 0\n",
    "p = 0\n",
    "tant que m < a\n",
    "    m = m + 1\n",
    "    p = p + b\n",
    "fin tant que"
   ]
  },
  {
   "cell_type": "markdown",
   "metadata": {},
   "source": [
    "On peut montrer que *\"p = m x b\" est un invariant de cette boucle.*\n",
    "\n",
    " - Avant le premier passage, p = 0 et m = 0, donc on a bien p = m x b.\n",
    "\n",
    "- Supposons que p = m x b avant un passage dans la boucle : \n",
    "\n",
    "Les nouvelles de m et p après une boucle sont m' = m + 1 et p' = p + b. \n",
    "\n",
    "On a m' x b = (m + 1) x b = m x b + b = p + b = p'.\n",
    "\n",
    "- La propriété est donc vérifiée après passage dans la boucle.\n",
    "\n",
    "**Cette propriété est bien un invariant de boucle**, donc elle est vraie à la sortie de la boucle. Or à la sortie de la boucle, on a m = a , donc p = a x b.\n",
    "Cette boucle permet donc le calcul des produit a et b (stocké dans p)."
   ]
  },
  {
   "cell_type": "markdown",
   "metadata": {},
   "source": [
    "## Terminaison\n",
    "\n",
    "Un algorithme ne doit toujours comporter qu'un nombre fini d'étapes. Dans le cas de boucles non conditionnelles (boucle ```for```), le nombre d'étapes est déterminé, donc fini.\n",
    "\n",
    "Dans le cas de boucles conditionnelles (boucle ```while```), on utilise la notion de **variant** : on choisit un variant, c'est-à-dire une expression (souvent une variable) telle que la suite des valeurs de cette expression au cours des itérations prend, à un moment donné, une valeur satisfaisant la condition d'arrêt.\n",
    "\n",
    "***Exemple :***\n",
    "Considérons le code suivant"
   ]
  },
  {
   "cell_type": "code",
   "execution_count": null,
   "metadata": {},
   "outputs": [],
   "source": [
    "a = 10\n",
    "x = 0\n",
    "while x**2 < a:\n",
    "    x = x + 1"
   ]
  },
  {
   "cell_type": "markdown",
   "metadata": {},
   "source": [
    "Si la valeur de a est négative ou nulle, il n'y a aucun passage dans la boucle.\n",
    "Sinon, la suite des valeurs de la variable x est 0 , 1 , 2 ... , n, où n est la première valeur supérieure ou égale à la racine carrée de la valeur de a. En considérant le variant x, on peut donc conclure que le nombre de passages dans la boucle est bien fini."
   ]
  },
  {
   "cell_type": "markdown",
   "metadata": {},
   "source": [
    "## Application\n",
    "\n",
    "1) Reprendre l'exemple du produit de deux nombres étudié plus haut et montrer la terminaison de la boucle.\n",
    "\n",
    "2) On effectue la **division euclidienne de a par b**, ou a et b sont deux entiers strictement positifs. Il s'agit donc de déterminer deux entiers q et r tels que : \n",
    "a = bq + r avec 0 <= r < b, dont on donne l'algorithme ci-dessous :"
   ]
  },
  {
   "cell_type": "code",
   "execution_count": null,
   "metadata": {},
   "outputs": [],
   "source": [
    "def euclid(a, b):\n",
    "    q = 0 \n",
    "    r = a\n",
    "    while r >= b:\n",
    "        q = q + 1\n",
    "        r = r - b\n",
    "    return q, r"
   ]
  },
  {
   "cell_type": "markdown",
   "metadata": {},
   "source": [
    " - Prouver que a = bq + r est un invariant de boucle.\n",
    " - Prouver la terminaison de l'algorithme.\n",
    " \n",
    "<i> Vous pouvez utiliser <a href =\"http://pythontutor.com/visualize.html#mode=display\"> Pythontutor </a> pour visualiser les opérations </i>"
   ]
  },
  {
   "cell_type": "markdown",
   "metadata": {},
   "source": [
    "# 2. Comparaisons\n",
    "\n",
    "Pour calculer la valeur de **x^n** on dispose des deux fonctions suivantes :"
   ]
  },
  {
   "cell_type": "code",
   "execution_count": null,
   "metadata": {},
   "outputs": [],
   "source": [
    "def puissance1(x, n):\n",
    "    \"\"\" Renvoie x^n, pour n entier \"\"\"\n",
    "    p = 1\n",
    "    for i in range(1, n+1):\n",
    "        p = p * x\n",
    "    return p"
   ]
  },
  {
   "cell_type": "code",
   "execution_count": null,
   "metadata": {},
   "outputs": [],
   "source": [
    "def puissance2(x, n):\n",
    "    \"\"\" Renvoie x^n, pour n entier \"\"\"\n",
    "    p = 1\n",
    "    while n > 0:\n",
    "        if n%2 != 0:\n",
    "            p = p * x\n",
    "        x = x * x\n",
    "        n = n // 2\n",
    "    return p"
   ]
  },
  {
   "cell_type": "markdown",
   "metadata": {},
   "source": [
    "## Questions :\n",
    "\n",
    "1) Tester les programmes pour des valeurs connues.\n",
    "\n",
    "2) Mettre en place un compteur pour afficher le nombre de boucles et le tester dans les cas ci-dessous :\n",
    "\n",
    "|Valeur x|Valeur n|Nombre de boucles puissance1|Nombre de boucles puissance2|\n",
    "|:-:|:-:|:-:|:-:|\n",
    "|2|10|||\n",
    "|2|100|||\n",
    "|2|1000|||\n",
    "|2|10000|||\n",
    "\n",
    "3) Que peut-on dire de la *performance* de ces deux algorithmes ?\n",
    "\n",
    "4) Pourquoi peut-on parler d'évaluer le ***coût mémoire*** pour comparer ces deux alogorithmes ?"
   ]
  },
  {
   "cell_type": "markdown",
   "metadata": {},
   "source": [
    "# 2. Coût temporel et complexité\n",
    "\n",
    "Pour choisir un algorithme plutôt qu'un autre on peut évaluer ses performances temporelles. On parle alors de ***coût temporel*** d'un algorithme.\n",
    "\n",
    "## Temps de calcul\n",
    "On étudie ici l'exemple de la multiplication de 2 nombres :"
   ]
  },
  {
   "cell_type": "code",
   "execution_count": null,
   "metadata": {
    "scrolled": true
   },
   "outputs": [],
   "source": [
    "from time import time\n",
    "\n",
    "start = time() # temps au début de l'exécution\n",
    "\n",
    "# Exécution du programme\n",
    "a = 10\n",
    "b = 10\n",
    "m = 0\n",
    "p = 0\n",
    "while m < a:\n",
    "    m = m + 1\n",
    "    p = p + b\n",
    "    \n",
    "end = time() # temps à la fin de l'exécution\n",
    "end - start  # Affiche la durée d'exécution"
   ]
  },
  {
   "cell_type": "markdown",
   "metadata": {},
   "source": [
    "Voici un exemple de résultats obtenus pour ```b = 10``` :\n",
    "\n",
    "|Valeur a|Durée en s|\n",
    "|:-:|:-:|\n",
    "|10|0.00022|\n",
    "|100|0.00022|\n",
    "|1000|0.00039|\n",
    "|10000|0.00260|\n",
    "|100000|0.02013|\n",
    "|100000|0.20372|\n",
    "\n",
    "On constate que la durée d'exécution évolue en fonction de la taille du nombre à multiplier : **plus le nombre et grand, plus le temps de calcul est important !**\n"
   ]
  },
  {
   "cell_type": "markdown",
   "metadata": {},
   "source": [
    "## Calcul de complexité temporelle\n",
    "\n",
    "On reprend le programme précédent et on y ajoute un compteur d'affectations :"
   ]
  },
  {
   "cell_type": "code",
   "execution_count": null,
   "metadata": {},
   "outputs": [],
   "source": [
    "N = 0  # compteur d'affectations initialisé\n",
    "a = 100000\n",
    "b = 10\n",
    "m = 0\n",
    "p = 0\n",
    "N = N + 4  # 4 affectations à ce niveau\n",
    "while m < a:\n",
    "    m = m + 1\n",
    "    p = p + b\n",
    "    N = N + 2  # 2 affectations par passage dans la boucle\n",
    "print(N)"
   ]
  },
  {
   "cell_type": "markdown",
   "metadata": {},
   "source": [
    "Après quelques tests, on trouve que ```N = 2a + 4```\n",
    "\n",
    "La boucle est effectuée exactement **a** fois, et il y a 2 affectations par boucle, donc **2a** affectations en tout et on initialise avec 4 affectations.\n",
    "\n",
    "Le nombre d'opérations est donc encore proportionnel à **a** : on dit que le cout est <b>LINEAIRE</b>.\n",
    "\n",
    "On parlera de coût linéaire dès lors que le nombre d'opérations est représenté par une fonction affine en fonction de la taille des données.\n",
    "\n",
    "Le coût temporel est représenté par l'ordre de grandeur de la complexité s'écrit alors **O(a)**.\n",
    "\n",
    "***Remarque :***\n",
    "Ce coût dit *linéaire* est en réalité un fonction affine... L'ordre de grandeur de la complexité ne prend en compte que le terme de plus haut degré du polynôme :\n",
    "```N = 2a + 4 ~  2a ~ a```"
   ]
  },
  {
   "cell_type": "markdown",
   "metadata": {},
   "source": [
    "<h1> 2. Coût d'un algorithme </h1>"
   ]
  },
  {
   "cell_type": "markdown",
   "metadata": {},
   "source": [
    "Quand on écrit un algorithme, on doit réfléchir pour qu'il soit le plus efficace possible. On doit notamment se poser la question de son temps d'exécution. Si on traite une liste de 10^7 valeurs, puis une liste de 10^8 valeurs, le temps de traitement sera-t-il multiplié par 10 ? Ce coût dépend de l'algorithme, de la liste, de la machine, et même du langage utilisé.\n",
    "\n",
    "Pour comparer deux algorithmes, on cherche à déterminer l'ordre de grandeur de ce coût en fonction de la taille des données. On parle de **complexité d'un algorithme**.\n",
    "Pour évaluer cette complexité, **on se place toujours dans le \"pire des cas\"**, c'est-à-dire qu'on compte le nombre maximum d'opérations."
   ]
  },
  {
   "cell_type": "markdown",
   "metadata": {},
   "source": [
    "Reprenons l'exemple de la multiplication, dont le code est donné ci-dessous. On y a ajouté un \"timer\" pour déterminer le **temps d'exécution** du programme."
   ]
  },
  {
   "cell_type": "markdown",
   "metadata": {},
   "source": [
    "Tester ce programme pour différentes valeurs de a. Que remarquez-vous ?"
   ]
  },
  {
   "cell_type": "markdown",
   "metadata": {},
   "source": [
    "Le temps de calcul est proportionnel à a : on dit alors que le coût est <b>LINEAIRE</b>. "
   ]
  },
  {
   "cell_type": "markdown",
   "metadata": {},
   "source": [
    "Le coût en temps est accessible également par le **nombre d'affectations** car c'est *ce qui coûte* en ressources pour la machine (les tests étant négligeables). On peut estimer son ordre de grandeur en insérant un compteur :"
   ]
  },
  {
   "cell_type": "markdown",
   "metadata": {},
   "source": [
    "## Applications\n",
    "\n",
    "1) Ecrire un programme permettant de calculer la somme des entiers de 1 à n. Le tester pour différentes valeurs de n. Vérifier que son coût est linéaire en comptant les opérations effectuées.\n",
    "\n",
    "2) On considère le programme ci-dessous. \n"
   ]
  },
  {
   "cell_type": "code",
   "execution_count": null,
   "metadata": {},
   "outputs": [],
   "source": [
    "x = 0\n",
    "n = 100\n",
    "for i in range(n):\n",
    "    x = x + i\n",
    "    for j in range(n):\n",
    "        x = x + j"
   ]
  },
  {
   "cell_type": "markdown",
   "metadata": {},
   "source": [
    " - Le tester pour différentes valeurs de n. Noter ces valeurs et le temps correspondant.\n",
    " - Utiliser le programme ci-dessous pour visualiser le nuage de points ```(n, durée(n))```. \n",
    " - On parle ici de coût quadratique (fonction du second degré) : est-ce correct ?\n",
    " - Ajouter un compteur d'affectations pour avoir le nombre d'opérations en fonction de n."
   ]
  },
  {
   "cell_type": "code",
   "execution_count": null,
   "metadata": {
    "scrolled": true
   },
   "outputs": [],
   "source": [
    "from matplotlib import pyplot as plt\n",
    "\n",
    "# Exemple d'affichage Y en fct de X\n",
    "X = [1, 2, 3]\n",
    "Y = [2.5, 3.6, 5.4]\n",
    "plt.scatter(X, Y, marker=\"+\", color=\"red\")\n",
    "plt.show()"
   ]
  },
  {
   "cell_type": "markdown",
   "metadata": {},
   "source": [
    "# 3. Cas du parcours \n",
    "\n",
    "On va étudier ici quelques algorithmes nécessitant de parcourir une liste (on peut également parcourir un tuple). Le parcours séquentiel consiste à parcourir la liste élément par élément, en suivant l'ordre des éléments."
   ]
  },
  {
   "cell_type": "markdown",
   "metadata": {},
   "source": [
    "<h3> exemple 1 : calcul d'une moyenne </h3>\n",
    "\n",
    "1) Ecrire une fonction permettant de calculer la moyenne d'une liste de nombres.\n",
    "\n",
    "2) Tracer la courbe représentant la durée d'exécution en fonction du nombre d'éléments de la liste.\n",
    "\n",
    "3) En déduire la complexité temporelle **O()**."
   ]
  },
  {
   "cell_type": "code",
   "execution_count": null,
   "metadata": {},
   "outputs": [],
   "source": []
  },
  {
   "cell_type": "markdown",
   "metadata": {},
   "source": [
    "<h3> exemple 2 : recherche d'une occurence </h3>\n",
    "On cherche ici à rechercher de manière séquentielle la présence d'une valeur dans un tableau, qui peut être une liste, un tuple, ou une chaîne de caractères. \n",
    "On cherche une valeur ou un carctère précis, en le comparant à toutes les valeurs du tableau."
   ]
  },
  {
   "cell_type": "code",
   "execution_count": null,
   "metadata": {},
   "outputs": [],
   "source": [
    "def recherche(x , tab):\n",
    "    n = len(tab)\n",
    "    i = 0\n",
    "    while i < n and x != tab[i]:\n",
    "        i = i + 1\n",
    "    if i < n:\n",
    "        return i"
   ]
  },
  {
   "cell_type": "code",
   "execution_count": null,
   "metadata": {},
   "outputs": [],
   "source": [
    "def recherche2(x ,tab):\n",
    "    for i in range(len(tab)):\n",
    "        if tab[i] == x:\n",
    "            return i"
   ]
  },
  {
   "cell_type": "markdown",
   "metadata": {},
   "source": [
    "1) Etudier ces deux programmes, et déterminer leur coût temporel ainsi que leur complexité **O()**. \n",
    "\n",
    "2) En déduire celui le plus performant."
   ]
  },
  {
   "cell_type": "markdown",
   "metadata": {},
   "source": [
    "# 4. Exercices d'application \n",
    "\n",
    "<b> Exercice 1 </b> : \n",
    "On attribue un numéro à divers personnages. Ceci se traduit par la liste Pers = [['Julie' , 1] , ['Tom' , 2] , ['Sam' , 3] , ['Lea' , 4] , ['Charlie' , 5]].\n",
    "Ecrire une fonction qui permet de rechercher de manière séquentielle si un personnage de numéro x (entier) quelconque est présent dans la liste. Cette fonction doit renvoyer le nom du personnage en question s'il est présent dans la liste, False sinon."
   ]
  },
  {
   "cell_type": "code",
   "execution_count": null,
   "metadata": {},
   "outputs": [],
   "source": []
  },
  {
   "cell_type": "markdown",
   "metadata": {},
   "source": [
    "<b> Exercice 2 </b> : On veut écrire une fonction verifie_tri qui prend en paramètres une liste d'entiers et qui renvoie True si la liste est correctement triée dans l'ordre croissant et False sinon.\n",
    "Proposer des tests pour cette fonction, puis écrire son code."
   ]
  },
  {
   "cell_type": "code",
   "execution_count": null,
   "metadata": {},
   "outputs": [],
   "source": []
  },
  {
   "cell_type": "markdown",
   "metadata": {},
   "source": [
    "<b> Exercice 3 </b> : Ecrire une fonction permute qui prend en argument une liste de mots et modifie la liste en permutant le mot le plus court en nombre de lettres  avec le premier mot de la liste. La fonction ne renvoie rien."
   ]
  },
  {
   "cell_type": "code",
   "execution_count": null,
   "metadata": {},
   "outputs": [],
   "source": []
  },
  {
   "cell_type": "markdown",
   "metadata": {},
   "source": [
    "<b> Exercice 4 </b> : Ecrire un programme pour rechercher un mot dans un texte. Le mot et le texte sont des variables de type str. Etudier le coût de l'algorithme en fonction de la longueur du texte et de celle du mot.\n",
    "    "
   ]
  },
  {
   "cell_type": "code",
   "execution_count": null,
   "metadata": {},
   "outputs": [],
   "source": []
  }
 ],
 "metadata": {
  "kernelspec": {
   "display_name": "Python 3",
   "language": "python",
   "name": "python3"
  },
  "language_info": {
   "codemirror_mode": {
    "name": "ipython",
    "version": 3
   },
   "file_extension": ".py",
   "mimetype": "text/x-python",
   "name": "python",
   "nbconvert_exporter": "python",
   "pygments_lexer": "ipython3",
   "version": "3.7.6"
  }
 },
 "nbformat": 4,
 "nbformat_minor": 4
}
