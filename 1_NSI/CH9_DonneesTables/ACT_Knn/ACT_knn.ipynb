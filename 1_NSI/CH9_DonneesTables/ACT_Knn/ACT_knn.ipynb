{
 "cells": [
  {
   "attachments": {},
   "cell_type": "markdown",
   "metadata": {},
   "source": [
    "# ACT  / TP \n",
    "# L'algorithme KNN  : Les voisins pour classifier\n"
   ]
  },
  {
   "cell_type": "markdown",
   "metadata": {},
   "source": [
    "L'algorithme des _K Plus Proches Voisins_, _K Nearest Neighbours_ (_KNN_), fait partie des algorithmes de [classification](https://en.wikipedia.org/wiki/Category:Classification_algorithms).\n",
    "\n",
    "L'algorihtme a été décrit en 1951 mais est encore utilisé aujourd'hui. Magré sa simplicité technique, il est particulièrement efficace.\n"
   ]
  },
  {
   "cell_type": "markdown",
   "metadata": {},
   "source": [
    "## 1. Principe de l'algorithme knn"
   ]
  },
  {
   "attachments": {},
   "cell_type": "markdown",
   "metadata": {},
   "source": [
    "### 1.1 Apprentissage\n",
    "L'algorithme des K plus proches voisins (KNN) est un **algorithme de classification**.\n",
    "\n",
    "Il devient opérationnel par une phase d'**apprentissage supervisé** simple et facile à mettre en œuvre.\n",
    "\n",
    "\n",
    " - Un algorithme d'**apprentissage supervisé** est un algorithme qui repose sur des données d'entrée  étiquetées qui permettent de définir une fonction par apprentissage, fonction qui va fournir une réponse appropriée lorsque de nouvelles données non étiquetées sont fournies.\n",
    " \n",
    " - Un algorithme d’**apprentissage non supervisé** utilise des données d’entrée sans étiquette. Contrairement à l'apprentissage supervisé qui essaie d'apprendre une fonction qui nous permettra de faire des prédictions à l'aide de nouvelles données non étiquetées, l'apprentissage non supervisé essaie d'apprendre de la structure des données pour nous donner plus d'informations sur celle-ci.\n",
    "\n",
    "\n",
    "**<u>Exemple :</u>** \n",
    "\n",
    "Nous voulons apprendre à une machine à quoi ressemble une fleur.\n",
    "\n",
    "Pour cela, nous allons lui montrer un (très !) grand nombre images différentes, en lui indiquant lesquelles sont des fleurs et lesquelles ne le sont pas !\n",
    "\n",
    "![apprentissage](img/flower.png)\n",
    "\n",
    "Quand il voit une fleur, l'image est étiquetée ```fleur```, et quand ce n'est pas une fleur, l'image est étiquetée ```pas fleur```.\n",
    "Cela correspond à un apprentissage supervisé.\n",
    "Après cette phase d'apprentissage la machine doit normalement être capable si on lui montre une photo inédite de fleur de la classifier ```fleur```.\n",
    "\n",
    "\n",
    "### 1.2 Mise en place\n",
    "\n",
    "Le but de cet algorithme est d'attribuer une catégorie (une *classe*) à un individu \"mystère\". \n",
    "On se donne pour cela une base de données d'individus connus pour lesquels on dispose des **descripteurs numériques** et **leur catégorie**.\n",
    "\n",
    "Graphiquement, la position de l'individu \"mystère\" sur le graphique des individus connus nous renseigne déjà sur la catégorie possible.\n",
    "\n",
    "**Principe de la méthode**\n",
    "\n",
    "La démarche est donc la suivante :\n",
    "1. On calcule toutes les distances entre l'individu \"mystère\" et les individus de la base\n",
    "2. On trie la base dans l'ordre croissant des distances à l'individu \"mystère\"\n",
    "3. On observe les K premiers voisins : la catégorie la plus représentée parmi ceux-ci est attribuée à l'individu mystère"
   ]
  },
  {
   "cell_type": "markdown",
   "metadata": {},
   "source": [
    "Le principe est illustré sur la figure ci-dessous :\n",
    "\n",
    "![Illustration KNN](img/knn_algo.png)"
   ]
  },
  {
   "cell_type": "markdown",
   "metadata": {},
   "source": [
    "La démarche est donc plutôt simple... L'un des facteurs limitant de cette méthode est la taille de la base : beaucoup d'individus, donc beaucoup de descripteurs !!"
   ]
  },
  {
   "cell_type": "markdown",
   "metadata": {},
   "source": [
    "Le résultat est aussi lié au nombre de voisins pris en compte comme l'illustre la figure ci-dessous :\n",
    "\n",
    "![Nombre de voisins](img/knn.png)"
   ]
  },
  {
   "cell_type": "markdown",
   "metadata": {},
   "source": [
    "Il n'est pas toujours intéressant de prendre en compte un grand nombre de voisins... "
   ]
  },
  {
   "cell_type": "markdown",
   "metadata": {},
   "source": [
    "## 2. Application aux iris"
   ]
  },
  {
   "attachments": {},
   "cell_type": "markdown",
   "metadata": {},
   "source": [
    "Nous allons travailler avec le dataset *archi-connu* des Iris. Ce n'est pas très original mais il faut l'avoir fait au moins une fois !\n",
    "\n",
    "Ce dataset présente les données de fleurs de trois espèces d'Iris (50 par espèce). Chaque fleur est décrite par quatre données :\n",
    "1. longueur des pétales\n",
    "2. largeur des pétales\n",
    "3. longueur des sépales\n",
    "4. largeur des sépales\n",
    "\n",
    "Le but de l'algorithme *k*-NN est de déterminer l'espèce d'une fleur d'iris \"mystère\" à partir des données des individus connus.\n",
    "\n",
    "\n",
    "*(pour information, ce jeu de données date de 1936 et a même sa page [wikipedia](https://en.wikipedia.org/wiki/Iris_flower_data_set))*"
   ]
  },
  {
   "cell_type": "markdown",
   "metadata": {},
   "source": [
    "![Iris](img/iris.png)"
   ]
  },
  {
   "attachments": {},
   "cell_type": "markdown",
   "metadata": {},
   "source": [
    "### 2.1 Préparation des données\n",
    "\n",
    "- Créer une table ``iris`` à partire des données à l'aide du module ``csv`` de python. Le fichier se nomme ``iris.csv`` et encodé en utf-8."
   ]
  },
  {
   "cell_type": "code",
   "execution_count": 1,
   "metadata": {},
   "outputs": [],
   "source": [
    "# liste d'iris à partir du csv\n",
    "import csv\n",
    "\n",
    "\n"
   ]
  },
  {
   "attachments": {},
   "cell_type": "markdown",
   "metadata": {},
   "source": [
    "- Valider la table ``iris``. Les valeurs numériques sont des nombre *flottants*."
   ]
  },
  {
   "cell_type": "code",
   "execution_count": 3,
   "metadata": {},
   "outputs": [],
   "source": [
    "# Validation de la table iris (validation en place)\n",
    "\n",
    "\n",
    "\n"
   ]
  },
  {
   "attachments": {},
   "cell_type": "markdown",
   "metadata": {},
   "source": [
    "### 2.2 Affichage graphique\n",
    "\n",
    "Un iris possède des pétales de dimensions : 0,5 cm de large et 2 cm de long.\n",
    "\n",
    " - Représenter graphiquement la largeur des pétales ``PetalWidthCm`` en fonction  de leur longueur ``PetalLengthCm``.\n",
    " *( ce sont les caractéristiques les plus flagrantes...)*\n",
    "\n",
    " - Placer le point représentant cet iris sur le même graphique en utilisant la commande ``plt.plot()``.\n",
    " - Estimer l'espèce de cet iris.\n",
    " \n",
    " On utilisera le code fourni ci-dessous."
   ]
  },
  {
   "cell_type": "code",
   "execution_count": null,
   "metadata": {},
   "outputs": [],
   "source": [
    "from matplotlib import pyplot as plt\n",
    "\n",
    "def stats_fleur(liste_fleurs, type_fleur):\n",
    "    \"\"\" Extrait les statistiques d'un iris sous forme de tuple.  \n",
    "     (Longueur des sépales, Largeur des sépales, Longueur des pétales, largeur des pétales)  \"\"\"\n",
    "    \n",
    "    SL = []\n",
    "    SW = []\n",
    "    PL = []\n",
    "    PW = []   \n",
    "    for fleur in liste_fleurs:\n",
    "        if fleur[\"Species\"] == type_fleur:\n",
    "            SL.append(fleur[\"SepalLengthCm\"])\n",
    "            SW.append(fleur[\"SepalWidthCm\"])\n",
    "            PL.append(fleur[\"PetalLengthCm\"])\n",
    "            PW.append(fleur[\"PetalWidthCm\"])\n",
    "    return SL, SW, PL, PW \n",
    "\n",
    "# extraction des valeurs des 3 espèces d'iris\n",
    "setosa = stats_fleur(iris,\"Iris-setosa\")\n",
    "versi = stats_fleur(iris,\"Iris-versicolor\")\n",
    "virgi = stats_fleur(iris,\"Iris-virginica\")\n",
    "\n",
    "# Affichage graphique \n",
    "plt.plot(virgi[2], virgi[3], \"ro\", color=\"red\", label=\"Virginica\")\n",
    "plt.plot(setosa[2], setosa[3], \"ro\", color=\"blue\", label=\"Setosa\")\n",
    "plt.plot(versi[2], versi[3], \"ro\", color=\"green\", label=\"Versicolor\")\n",
    "plt.axis(\"equal\") # repère orthonormé\n",
    "plt.xlabel(\"Longueur des pétales (en cm)\")\n",
    "plt.ylabel(\"Largeur des pétales (en cm)\")\n",
    "plt.legend()\n",
    "\n",
    "# Point à poser\n",
    "### A COMPLETER ICI \n",
    "\n",
    "plt.show()"
   ]
  },
  {
   "attachments": {},
   "cell_type": "markdown",
   "metadata": {},
   "source": [
    "- Un nouvel iris \"mystère\" est mesuré et ses dimensions sont cette fois : largeur du pétale = 0,75 cm et longueur du pétale = 2,5 cm.\n",
    "Quel est l'espèce de cet iris ?"
   ]
  },
  {
   "cell_type": "code",
   "execution_count": null,
   "metadata": {},
   "outputs": [],
   "source": [
    "plt.plot(virgi[2], virgi[3], \"ro\", color=\"red\", label=\"Virginica\")\n",
    "plt.plot(setosa[2], setosa[3], \"ro\", color=\"blue\", label=\"Setosa\")\n",
    "plt.plot(versi[2], versi[3], \"ro\", color=\"green\", label=\"Versicolor\")\n",
    "plt.axis(\"equal\")\n",
    "plt.xlabel(\"Longueur des pétales (en cm)\")\n",
    "plt.ylabel(\"Largeur des pétales (en cm)\")\n",
    "plt.legend()\n",
    "\n",
    "# Nouveau point à poser\n",
    "### A COMPLETER ICI \n",
    "\n",
    "plt.show()"
   ]
  },
  {
   "attachments": {},
   "cell_type": "markdown",
   "metadata": {},
   "source": [
    "### 2.3 Algorithme k-NN : les distances\n",
    "\n",
    "On considère l'iris \"mystère\" précédent : \n"
   ]
  },
  {
   "cell_type": "code",
   "execution_count": 7,
   "metadata": {},
   "outputs": [],
   "source": [
    "# largeur du pétale = 0,75 cm et longueur du pétale = 2,5 cm\n",
    "myst = (2.5, 0.75)"
   ]
  },
  {
   "attachments": {},
   "cell_type": "markdown",
   "metadata": {},
   "source": [
    "- A l'aide du code suivant, déterminer combien de voisins il y a dans le cercle tracé autour de l'iris \"mystère\".\n",
    "Quelle est son espèce possible ?"
   ]
  },
  {
   "cell_type": "code",
   "execution_count": null,
   "metadata": {},
   "outputs": [],
   "source": [
    "# le graphe avec la fleur inconnue\n",
    "plt.plot(virgi[2], virgi[3], \"ro\", color=\"red\", label=\"Virginica\")\n",
    "plt.plot(setosa[2], setosa[3], \"ro\", color=\"blue\", label=\"Setosa\")\n",
    "plt.plot(versi[2], versi[3], \"ro\", color=\"green\", label=\"Versicolor\")\n",
    "plt.axis(\"equal\")\n",
    "plt.xlabel(\"Longueur des pétales (en cm)\")\n",
    "plt.ylabel(\"Largeur des pétales (en cm)\")\n",
    "plt.legend()\n",
    "plt.plot(2.5, 0.75, \"ro\", color=\"black\")\n",
    "\n",
    "# cercle rayon autour de l'iris \"mystère\" avec 4 voisins\n",
    "plt.scatter( 2.5 , 0.75 , s=7500 ,  facecolors=\"none\", edgecolors=\"black\" )  \n",
    "\n",
    "plt.show()"
   ]
  },
  {
   "cell_type": "markdown",
   "metadata": {},
   "source": [
    "Pour systématiser le processus, on va calculer les distances des voisins de l'iris \"mystère\"."
   ]
  },
  {
   "attachments": {},
   "cell_type": "markdown",
   "metadata": {},
   "source": [
    "- Ecrire une fonction ``distance()`` qui renvoie la distance euclidienne entre 2 points A et B du graphique étudié."
   ]
  },
  {
   "cell_type": "code",
   "execution_count": 12,
   "metadata": {},
   "outputs": [],
   "source": [
    "from math import sqrt\n",
    "\n",
    "def distance(A, B):\n",
    "    \"\"\" Distance est un nombre float\n",
    "        A et B sont des tuples des coordonnées A(xA, yA) et B(yA, yB)\"\"\"\n",
    "    assert (len(A) == len(B) and len(A) == 2), \"Les deux points doivent avoir chacun 2 coordonnées\"\n",
    "    \n"
   ]
  },
  {
   "attachments": {},
   "cell_type": "markdown",
   "metadata": {},
   "source": [
    "- Créer une nouvelle table ``iris_distance`` qui contient toutes les fleurs de la table ``iris`` avec un descripteur de plus ``{\"distance\": -- }``, la distance entre chacune des fleurs à la fleur \"mystère\"."
   ]
  },
  {
   "cell_type": "code",
   "execution_count": null,
   "metadata": {},
   "outputs": [],
   "source": [
    "iris_distance = []\n",
    "\n",
    "\n",
    "\n"
   ]
  },
  {
   "attachments": {},
   "cell_type": "markdown",
   "metadata": {},
   "source": [
    "### 2.4. Algorithme k-NN : utiliser les plus proches voisins\n",
    "\n",
    "La table ``iris_distance`` étant préparée, il suffit de la trier et de ne récupérer que les *k* espèces qui nous intéressent."
   ]
  },
  {
   "attachments": {},
   "cell_type": "markdown",
   "metadata": {},
   "source": [
    "- Trier la table ``iris_distance`` selon la clé ``distance``."
   ]
  },
  {
   "cell_type": "code",
   "execution_count": 14,
   "metadata": {},
   "outputs": [],
   "source": [
    "# on utilise la méthode de tri suivante\n",
    "\n",
    "def tri_distance(tab) :\n",
    "    return tab[\"distance\"]\n",
    "\n",
    "iris_distance_tri = sorted(iris_distance, key=tri_distance)"
   ]
  },
  {
   "attachments": {},
   "cell_type": "markdown",
   "metadata": {},
   "source": [
    "- Ecrire une fonction qui affiche les *k* premiers éléments de la liste ``iris_distance_tri`` et l'utiliser pour estimer l'espèce de la fleur mystère. Noter la valeur de *k* pertinente pour optimiser les calculs.\n",
    "\n",
    "On utilisera la méthode simple de \"slice\" : pour afficher seulement les 10 premiers termes d'une liste L, on écrit ``L[:10]``."
   ]
  },
  {
   "cell_type": "code",
   "execution_count": null,
   "metadata": {},
   "outputs": [],
   "source": [
    "\n",
    "\n",
    "\n"
   ]
  },
  {
   "attachments": {},
   "cell_type": "markdown",
   "metadata": {},
   "source": [
    "- Quelle est l'espèce la plus probable de la fleur mystère ?"
   ]
  },
  {
   "cell_type": "markdown",
   "metadata": {},
   "source": [
    "### Sources :\n",
    "\n",
    " [site pixees](https://pixees.fr/informatiquelycee/n_site/nsi_prem_knn.html)\n",
    " \n",
    " [site isn breizh](https://www.isnbreizh.fr/nsi/activity/algoRefKnn/index.html)\n",
    " \n",
    " [Approche classes chevaliers et fantassins](http://www.monlyceenumerique.fr/nsi_premiere/algo_a/a4_algo_knn.php)\n",
    " \n",
    " "
   ]
  },
  {
   "cell_type": "code",
   "execution_count": null,
   "metadata": {},
   "outputs": [],
   "source": []
  }
 ],
 "metadata": {
  "kernelspec": {
   "display_name": "Python 3",
   "language": "python",
   "name": "python3"
  },
  "language_info": {
   "codemirror_mode": {
    "name": "ipython",
    "version": 3
   },
   "file_extension": ".py",
   "mimetype": "text/x-python",
   "name": "python",
   "nbconvert_exporter": "python",
   "pygments_lexer": "ipython3",
   "version": "3.7.6"
  }
 },
 "nbformat": 4,
 "nbformat_minor": 2
}
