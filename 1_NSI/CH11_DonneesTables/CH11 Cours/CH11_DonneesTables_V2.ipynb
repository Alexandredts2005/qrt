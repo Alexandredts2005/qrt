{
 "cells": [
  {
   "cell_type": "markdown",
   "metadata": {},
   "source": [
    "# CH11       LE TRAITEMENT DE DONNEES EN TABLE\n",
    "\n",
    "Il existe une multitude de façon de représenter les données produites par l'homme : graphiquement, sous forme d'image, de texte, de listes, de tableaux, ... etc. \n",
    "Voir cette vidéo sur le *big data* : https://youtu.be/ye-DsD_EHKk\n",
    "\n",
    "Une façon simple de représenter les données sont les **tables de données** au format CSV, que l’on peut facilement manipuler.\n",
    "\n",
    "## 1. Structure des données CSV\n",
    "\n",
    "\n",
    "Les fichiers CSV (ou Comma separator Value) sont des fichiers textes dont des collections d’éléments (ou données)  séparées les une des autres par un séparateur (« ; » ou « , » ou « tabulation » ou autre...). **Chaque ligne du fichier contient une donnée** (ou jeu de données).  Ainsi, les données sont représentées par des lignes et des colonne définies par le séparateur et les retours à la ligne. \n",
    "De nombreux logiciels permettent d’éditer, d'exporter et importer des fichiers CSV, comme Excel / Calc, Notepad++, etc.\n",
    "\n",
    "**Exemple :** \tUn top 10, vu sur deux éditeurs\n",
    "<table><tr>\n",
    "        <td><img src=\"img/mousepad.png\"></td>\n",
    "        <td><img src=\"img/calc.png\" width=\"80%\"></td>\n",
    "</tr></table>\n",
    "\n",
    "  - Chaque ligne représente un ensemble des **valeurs** de la donnée, c’est à dire un *p-uplet*.\n",
    "  - Chaque colonne représente un **attribut** de la donnée ; le type est le même sur toute la colonne.\n",
    "  - La **table** de données est formée par l’ensemble des lignes. Au croisement ligne/colonne, on a donc la valeur d’un attribut pour une donnée.\n",
    "    \n",
    "La 1ère ligne contient les en-têtes, c’est à dire les *descripteurs* de chaque attribut. \n",
    "\n",
    "**Exemple :** \n",
    "<table><tr>\n",
    "        <td><img src=\"img/mousepad.png\"></td>\n",
    "        <td>A la lecture de la ligne N°1, on attend 4 colonnes, donc 4 attributs :\n",
    "\n",
    "            « Album » et « groupe » → type texte\n",
    "            « année » et « classement » → type int\n",
    "La donnée est donc constituée du nom de l’album, du nom du groupe, de l’année de sortie et du classement.\n",
    "           \n",
    "Pour la ligne N° 3 : \n",
    "            \n",
    "        La donnée est le tuple (\"Paranoid\",\"Black Sabbath\",1970,2)\n",
    "            \n",
    "        La valeur de l’attribut « année » est 1970.\n",
    "            \n",
    "\n"
   ]
  },
  {
   "cell_type": "markdown",
   "metadata": {},
   "source": [
    "**Remarque :**\n",
    "\n",
    "Chaque ligne est séparée par un saut de ligne **« \\n »** qui n’apparaît pas ici.\n",
    "\n",
    "Pour que le fichier soit valable et exploitable, il faut impérativement que chaque valeur soit séparée par une **« , »** et que toutes les données aient le même nombre de valeurs."
   ]
  },
  {
   "cell_type": "markdown",
   "metadata": {},
   "source": [
    "\n",
    "## 2. Lire / Ecrire des données CSV\n",
    "\n",
    "### Accéder au contenu\n",
    "Pour lire dans un fichier de données valide (cf. remarque au-dessus), on peut utiliser le langage python :"
   ]
  },
  {
   "cell_type": "code",
   "execution_count": 13,
   "metadata": {},
   "outputs": [],
   "source": [
    "import csv\n",
    "fichier = open(\"exemple1.csv\", encoding=\"utf-8\")\n",
    "table = list(csv.reader(fichier))"
   ]
  },
  {
   "cell_type": "code",
   "execution_count": 14,
   "metadata": {},
   "outputs": [],
   "source": [
    "# -*- coding: utf-8 -*-"
   ]
  },
  {
   "cell_type": "markdown",
   "metadata": {},
   "source": [
    "Cette méthode n'est pas satisfaisante pour deux raisons : \n",
    "- la 1ère ligne apparaît alors que ce ne sont pas des données, mais seulement les *descripteurs* des attributs.\n",
    "- Chaque ligne est représentée par un tableau (liste) : pour obtenir l'année de sortie de l'album \"Paranoid\", il faut saisir l'instruction :"
   ]
  },
  {
   "cell_type": "code",
   "execution_count": 15,
   "metadata": {},
   "outputs": [
    {
     "data": {
      "text/plain": [
       "'1970'"
      ]
     },
     "execution_count": 15,
     "metadata": {},
     "output_type": "execute_result"
    }
   ],
   "source": [
    "table[2][2]\n",
    "# cette instruction manque de lisibilité"
   ]
  },
  {
   "cell_type": "markdown",
   "metadata": {},
   "source": [
    "### Organiser le contenu\n",
    "\n",
    "Une alternative courante pour organiser le contenu d'une table est la méthode **csv.DictReader()** qui permet d'obtenir un tableau de dictionnaires ordonnés :"
   ]
  },
  {
   "cell_type": "code",
   "execution_count": 16,
   "metadata": {},
   "outputs": [
    {
     "data": {
      "text/plain": [
       "[OrderedDict([('Album', 'Master of Puppets'),\n",
       "              ('groupe', 'Metallica'),\n",
       "              ('année', '1986'),\n",
       "              ('classement', '1')]),\n",
       " OrderedDict([('Album', 'Paranoid'),\n",
       "              ('groupe', 'Black Sabbath'),\n",
       "              ('année', '1970'),\n",
       "              ('classement', '2')]),\n",
       " OrderedDict([('Album', 'Rage against the machine'),\n",
       "              ('groupe', 'Rage against the machine'),\n",
       "              ('année', '1992'),\n",
       "              ('classement', '3')]),\n",
       " OrderedDict([('Album', 'Ride the lightning'),\n",
       "              ('groupe', 'Metallica'),\n",
       "              ('année', '1984'),\n",
       "              ('classement', '4')]),\n",
       " OrderedDict([('Album', 'Rust in peace'),\n",
       "              ('groupe', 'Megadeth'),\n",
       "              ('année', '1990'),\n",
       "              ('classement', '5')]),\n",
       " OrderedDict([('Album', 'Metallica'),\n",
       "              ('groupe', 'Metallica'),\n",
       "              ('année', '1991'),\n",
       "              ('classement', '6')]),\n",
       " OrderedDict([('Album', 'Toxicity'),\n",
       "              ('groupe', 'System of a down'),\n",
       "              ('année', '2001'),\n",
       "              ('classement', '7')]),\n",
       " OrderedDict([('Album', 'reign in blood'),\n",
       "              ('groupe', 'Slayer'),\n",
       "              ('année', '1986'),\n",
       "              ('classement', '8')]),\n",
       " OrderedDict([('Album', 'the number of the beast'),\n",
       "              ('groupe', 'Iron maiden'),\n",
       "              ('année', '1982'),\n",
       "              ('classement', '9')]),\n",
       " OrderedDict([('Album', 'From mars to sirius'),\n",
       "              ('groupe', 'Gojira'),\n",
       "              ('année', '2005'),\n",
       "              ('classement', '10')])]"
      ]
     },
     "execution_count": 16,
     "metadata": {},
     "output_type": "execute_result"
    }
   ],
   "source": [
    "fichier = open(\"exemple1.csv\", encoding=\"utf-8\")\n",
    "table = list(csv.DictReader(fichier))"
   ]
  },
  {
   "cell_type": "markdown",
   "metadata": {},
   "source": [
    "Les en-têtes n'apparaissent plus et ont été utilisés pour créer des clés de dictionnaire.\n",
    "Ici, \"Album\" est la 1ère clé du dictionnaire, \"groupe\" la 2nde, et ainsi de suite...\n",
    "\n",
    "Pour obtenir l'année de sortie de l'album \"Paranoid\", il faut donc maintenant saisir l'instruction plus parlante :\n"
   ]
  },
  {
   "cell_type": "code",
   "execution_count": 17,
   "metadata": {},
   "outputs": [
    {
     "data": {
      "text/plain": [
       "'1970'"
      ]
     },
     "execution_count": 17,
     "metadata": {},
     "output_type": "execute_result"
    }
   ],
   "source": [
    "table[1][\"année\"]"
   ]
  },
  {
   "cell_type": "markdown",
   "metadata": {},
   "source": [
    "**Remarque :**  On peut utiliser d'autres séparateurs, comme **\" \"** ou **\";\"**, en ajoutant la commande suivante :"
   ]
  },
  {
   "cell_type": "code",
   "execution_count": 18,
   "metadata": {},
   "outputs": [],
   "source": [
    "table = list(csv.DictReader(fichier, delimiter=\";\"))   # pour le ;\n",
    "table = list(csv.DictReader(fichier, delimiter=\" \"))   # pour l'espace"
   ]
  },
  {
   "cell_type": "markdown",
   "metadata": {},
   "source": [
    "### Valider la table\n",
    "\n",
    "Un problème subsiste cependant :\n",
    "\n",
    "\n",
    "**OrderedDict([('Album', 'Master of Puppets'),('groupe', 'Metallica'),('année', '1986'), ('classement', '1')])**\n",
    "\n",
    "\n",
    "On constate que \"année\" et \"classement\" sont traités comme des chaînes de caractères, et non des nombres entiers.\n",
    "\n",
    "Pour valider la table, nous avons une transformation à effectuer : "
   ]
  },
  {
   "cell_type": "code",
   "execution_count": 22,
   "metadata": {},
   "outputs": [],
   "source": [
    "def valide(element):\n",
    "    \"\"\" Fonction de validation : transforme les chaînes en int si besoin \"\"\"\n",
    "    album = element[\"Album\"]      # on ne change rien sur les 1er et 2dn attributs\n",
    "    groupe = element[\"groupe\"]\n",
    "    \n",
    "    annee = int(element[\"année\"])  # on change le type sur le 3ème et 4ème attributs\n",
    "    classement = int(element[\"classement\"])\n",
    "    \n",
    "    # on renvoie le dictionnaire modifié\n",
    "    return {\"Album\": album, \"groupe\": groupe, \"année\": annee, \"classement\": classement}\n",
    "\n",
    "table_valide = [valide(element) for element in table]"
   ]
  },
  {
   "cell_type": "markdown",
   "metadata": {},
   "source": [
    "Cette méthode permet de conserver la table originale **table** et de créer une sconde table validée **table_valide**\n",
    "\n",
    "On peut également modifier *en place* la table originale. Cette est plus rapide, mais l'inconvénient est que les modifications écrasent les données précédentes :"
   ]
  },
  {
   "cell_type": "code",
   "execution_count": 19,
   "metadata": {},
   "outputs": [],
   "source": [
    "for element in table:\n",
    "    element[\"année\"] = int(element[\"année\"])\n",
    "    element[\"classement\"] = int(element[\"classement\"])"
   ]
  },
  {
   "cell_type": "markdown",
   "metadata": {},
   "source": [
    "### Ecrire dans une table\n",
    "\n",
    "Le module CSV permet également d'écrire simplement dans une table."
   ]
  },
  {
   "cell_type": "code",
   "execution_count": 23,
   "metadata": {},
   "outputs": [],
   "source": [
    "sortie = open(\"nouveau.csv\", \"w\", encoding=\"utf-8\")   # ouverture & création d'un nouveau fichier CSV en mode écriture (\"w\")\n",
    "\n",
    "fichier = csv.DictWriter(sortie, fieldnames=[\"Album\", \"groupe\", \"année\", \"classement\"])\n",
    "fichier.writeheader()\n",
    "\n",
    "# écriture de chaque élément de la table dans une ligne du fichier CSV\n",
    "for element in table_valide:    \n",
    "    fichier.writerow(element)\n",
    "\n",
    "sortie.close()"
   ]
  },
  {
   "cell_type": "markdown",
   "metadata": {},
   "source": [
    "La méthode *writeheader()* permet de saisir les attributs et le méthode *writerow()* va compléter les lignes unes à unes. \n",
    "Par défaut, le séparateur est \",\".\n",
    "\n",
    "On peut donc rajouter des lignes dans une table déjà créée avec : "
   ]
  },
  {
   "cell_type": "code",
   "execution_count": 24,
   "metadata": {},
   "outputs": [],
   "source": [
    "sortie = open(\"nouveau.csv\", \"a\", encoding=\"utf-8\")   # ouverture du fichier CSV en mode ajout (\"a\")\n",
    "\n",
    "fichier = csv.DictWriter(sortie, fieldnames=[\"Album\", \"groupe\", \"année\", \"classement\"])\n",
    "\n",
    "# ajout d'une ligne dans le fichier CSV\n",
    "fichier.writerow({'Album': 'Ripley From Mars', 'groupe': 'Ripley From Mars', 'année': 2021, 'classement': 1 })\n",
    "\n",
    "sortie.close()"
   ]
  },
  {
   "cell_type": "markdown",
   "metadata": {},
   "source": [
    "## 3. Recherche dans une table\n",
    "\n",
    "<img src=\"img/table.jpg\">\n",
    "\n",
    "**Recherches simples**\n",
    "\n",
    "\n",
    "Stocker et organiser les données a comme intérêt de pouvoir y accéder efficacement.\n",
    "En python, nous pouvons lire les données d'une table avec les méthodes précédentes, et y rechercher une information particulière :"
   ]
  },
  {
   "cell_type": "code",
   "execution_count": null,
   "metadata": {},
   "outputs": [],
   "source": [
    "# Est-ce que \"Metallica\" appartient à la table ?\n",
    "def appartient(objet, tab):\n",
    "    \"\"\" True si objet est une valeur de la clé \"groupe\" de la table tab \n",
    "        False sinon\"\"\"\n",
    "    for x in tab:\n",
    "        if x[\"groupe\"] == objet:\n",
    "            return True\n",
    "        return False"
   ]
  },
  {
   "cell_type": "code",
   "execution_count": null,
   "metadata": {},
   "outputs": [],
   "source": [
    "# Quelle est le classement de l'album \"From mars to sirius\" ?\n",
    "def classement_de(objet, tab):\n",
    "    \"\"\" Renvoie le classement de l'album objet de la table tab\"\"\"\n",
    "    for x in tab:\n",
    "        if x[\"Album\"] == objet:\n",
    "            return x[\"classement\"]"
   ]
  },
  {
   "cell_type": "code",
   "execution_count": null,
   "metadata": {},
   "outputs": [],
   "source": [
    "# Combien de fois \"Metallica\" revient-il dans la table ?\n",
    "def comptage(objet, tab):\n",
    "    \"\"\" renvoie le nombre de fois qu'une valeur de la clé \"groupe\" vaut objet de la table tab \"\"\"\n",
    "    compteur = 0\n",
    "    for x in tab:\n",
    "        if x[\"groupe\"] == objet:\n",
    "            compteur = compteur + 1\n",
    "    return compteur"
   ]
  },
  {
   "cell_type": "markdown",
   "metadata": {},
   "source": [
    "<img src=\"https://ih0.redbubble.net/image.371730022.8106/flat,550x550,075,f.u1.jpg\" width=\"20%\" >"
   ]
  },
  {
   "cell_type": "markdown",
   "metadata": {},
   "source": [
    "**<u>Application :</u>** Voir Exercices 1 et 2"
   ]
  },
  {
   "cell_type": "markdown",
   "metadata": {},
   "source": [
    "**Recherche de doublons** \n",
    "\n",
    "On dit qu'il y a doublon lorsque l'on trouve *plusieurs fois la même ligne dans un fichier CSV*, c'est à dire que la donnée apparait 2 fois au mmoins.\n",
    "\n",
    "Cela peut être plus ou moins gênant suivant l'utilisation de la table. Par exemple, si il s'agit d'une table contenant les albums musicaux écoutés par un utilisateur, il n'y a pas de gros risque en cas de doublon. Par contre, si il s'agit d'une table de transaction bancaire, une opération comptée deux fois peut avoir de lourdes conséquences...\n",
    "\n",
    "Si il y en a, le plus simple est donc de le supprimer :   ***seek and destroy !***"
   ]
  },
  {
   "cell_type": "code",
   "execution_count": 26,
   "metadata": {},
   "outputs": [],
   "source": [
    "# Recherche de doublon\n",
    "def doublon(tab):\n",
    "    \"\"\" renvoie True si il existe plus d'un fois la même ligne dans la table (doublon) \"\"\"\n",
    "    \n",
    "    for i in range(len(tab)):  # balaye l'ensemble des lignes de la table\n",
    "        \n",
    "        double = tab[i]       \n",
    "        for j in range(i+1, len(tab)):   # balaye les lignes suivantes\n",
    "            \n",
    "            if tab[j] == double:    # si une ligne est égale à la première, c'est un doublon\n",
    "                return True\n",
    "    return False"
   ]
  },
  {
   "cell_type": "markdown",
   "metadata": {},
   "source": [
    "*(l'algo de recherche de doublon doit être connue, mais vous n'avez pas à savoir le faire)*"
   ]
  },
  {
   "cell_type": "markdown",
   "metadata": {},
   "source": [
    "Y a-t-il des doublons dans la table *exemple1.csv* ??"
   ]
  },
  {
   "cell_type": "code",
   "execution_count": 27,
   "metadata": {},
   "outputs": [
    {
     "data": {
      "text/plain": [
       "False"
      ]
     },
     "execution_count": 27,
     "metadata": {},
     "output_type": "execute_result"
    }
   ],
   "source": [
    "doublon(table)"
   ]
  },
  {
   "cell_type": "markdown",
   "metadata": {},
   "source": [
    "... Et dans la table *exemple2.csv* ?"
   ]
  },
  {
   "cell_type": "code",
   "execution_count": 28,
   "metadata": {},
   "outputs": [
    {
     "data": {
      "text/plain": [
       "True"
      ]
     },
     "execution_count": 28,
     "metadata": {},
     "output_type": "execute_result"
    }
   ],
   "source": [
    "fichier = open(\"exemple2.csv\", encoding=\"utf-8\")\n",
    "table2 = list(csv.DictReader(fichier))\n",
    "doublon(table2)"
   ]
  },
  {
   "cell_type": "markdown",
   "metadata": {},
   "source": [
    "... Et dans la table *exemple3.csv* ?"
   ]
  },
  {
   "cell_type": "code",
   "execution_count": 29,
   "metadata": {},
   "outputs": [
    {
     "data": {
      "text/plain": [
       "True"
      ]
     },
     "execution_count": 29,
     "metadata": {},
     "output_type": "execute_result"
    }
   ],
   "source": [
    "fichier = open(\"exemple3.csv\", encoding=\"utf-8\")    \n",
    "table3 = list(csv.DictReader(fichier))\n",
    "doublon(table3)"
   ]
  },
  {
   "cell_type": "markdown",
   "metadata": {},
   "source": [
    "Lorsque qu'un doublon est trouvé, on peur le supprimer dans la foulée : "
   ]
  },
  {
   "cell_type": "code",
   "execution_count": 30,
   "metadata": {
    "scrolled": true
   },
   "outputs": [
    {
     "data": {
      "text/plain": [
       "[OrderedDict([('Album', 'Master of Puppets'),\n",
       "              ('groupe', 'Metallica'),\n",
       "              ('année', '1986'),\n",
       "              ('classement', '1')]),\n",
       " OrderedDict([('Album', 'Paranoid'),\n",
       "              ('groupe', 'Black Sabbath'),\n",
       "              ('année', '1970'),\n",
       "              ('classement', '2')]),\n",
       " OrderedDict([('Album', 'Rage against the machine'),\n",
       "              ('groupe', 'Rage against the machine'),\n",
       "              ('année', '1992'),\n",
       "              ('classement', '3')]),\n",
       " OrderedDict([('Album', 'Ride the lightning'),\n",
       "              ('groupe', 'Metallica'),\n",
       "              ('année', '1984'),\n",
       "              ('classement', '4')]),\n",
       " OrderedDict([('Album', 'Rust in peace'),\n",
       "              ('groupe', 'Megadeth'),\n",
       "              ('année', '1990'),\n",
       "              ('classement', '5')]),\n",
       " OrderedDict([('Album', 'Metallica'),\n",
       "              ('groupe', 'Metallica'),\n",
       "              ('année', '1991'),\n",
       "              ('classement', '6')]),\n",
       " OrderedDict([('Album', 'Toxicity'),\n",
       "              ('groupe', 'System of a down'),\n",
       "              ('année', '2001'),\n",
       "              ('classement', '7')]),\n",
       " OrderedDict([('Album', 'reign in blood'),\n",
       "              ('groupe', 'Slayer'),\n",
       "              ('année', '1986'),\n",
       "              ('classement', '8')]),\n",
       " OrderedDict([('Album', 'the number of the beast'),\n",
       "              ('groupe', 'Iron maiden'),\n",
       "              ('année', '1982'),\n",
       "              ('classement', '9')]),\n",
       " OrderedDict([('Album', 'From mars to sirius'),\n",
       "              ('groupe', 'Gojira'),\n",
       "              ('année', '2005'),\n",
       "              ('classement', '10')])]"
      ]
     },
     "execution_count": 30,
     "metadata": {},
     "output_type": "execute_result"
    }
   ],
   "source": [
    "# Recherche & destruction d'un doublon\n",
    "def doublon_nettoyage(tab):\n",
    "    \"\"\" supprime la ligne si elle existe deux fois dans la table (doublon) \"\"\"\n",
    "\n",
    "    liste_doublons = []   # liste des doublons et de leur indice\n",
    "    indices_doublons = []\n",
    "\n",
    "    for i in range(len(tab)):  # balaye l'ensemble des lignes de la table\n",
    "        for j in range(i+1, len(tab)):   # balaye les lignes suivantes de la ligne en cours\n",
    "            if tab[j] == tab[i]: ## si une ligne est égale à la première, c'est un doublon\n",
    "                liste_doublons.append(tab[j])\n",
    "                indices_doublons.append(j)\n",
    "\n",
    "    # boucle de suppression\n",
    "    liste_propre = []\n",
    "    for i in range(len(tab)):\n",
    "        if not(i in indices_doublons):\n",
    "            liste_propre.append(tab[i])\n",
    "\n",
    "    return liste_propre\n",
    "\n",
    "doublon_nettoyage(table3)   # on détruit les doublons de table3"
   ]
  },
  {
   "cell_type": "markdown",
   "metadata": {},
   "source": [
    "Mais attention : les objet *table* utilisés dans ces programmes python sont des listes de dictionnaires (= des dictionnaires ordonnés), ce ne sont pas des fichiers CSV.\n",
    "\n",
    "Autrement dit, **supprimer un doublon dans *table* ne le supprime pas du fichier CSV !**"
   ]
  },
  {
   "cell_type": "code",
   "execution_count": 31,
   "metadata": {},
   "outputs": [],
   "source": [
    "# on créée un nouveau fichier à partir de table3 qui ne contient plus les doublons\n",
    "sortie = open(\"exemple4.csv\", \"w\", encoding=\"utf-8\" )   \n",
    "\n",
    "fichier = csv.DictWriter(sortie, fieldnames=[\"Album\", \"groupe\", \"année\", \"classement\"])\n",
    "fichier.writeheader()\n",
    "for element in table3:\n",
    "    fichier.writerow(element)\n",
    "\n",
    "sortie.close()"
   ]
  },
  {
   "cell_type": "markdown",
   "metadata": {},
   "source": [
    "**Remarque :**\n",
    "\n",
    "Un doublon peut se produire lors de la fusion de deux fichiers CSV. Il peut aussi y avoir doublon sur certains attributs uniquement, mais ce sont des cas plus spécifiques."
   ]
  },
  {
   "cell_type": "markdown",
   "metadata": {},
   "source": [
    "## 4. Tri et fusion de tables\n",
    "\n",
    "Il est fréquent de travailler avec plusieurs tables : comment combiner ces tables en une seule ?\n",
    "On parle alors de **fusion de tables**. Mais cette opération est facilement applicable si auparavant les tables sont triées suivant la même clé.\n",
    "\n",
    "### Tri d'une table\n",
    "\n",
    "La fonction *sorted()* de python renvoie un tableau (ou une liste) trié. On peut l'appliquer dans notre cas :\n"
   ]
  },
  {
   "cell_type": "code",
   "execution_count": 32,
   "metadata": {},
   "outputs": [],
   "source": [
    "table_trie = sorted(table)"
   ]
  },
  {
   "cell_type": "markdown",
   "metadata": {},
   "source": [
    "... C'est une une erreur car **table** est une liste de dictionnaires qui ne sont pas *comparables* entre eux comme peuvent l'être des entiers par exemple.\n",
    "Il faut donc indiquer quelles valeurs la fonction *sorted()* doit comparer, c'est à dire les *valeurs* d'une clé des dictionnaires.\n",
    "\n",
    "Si on veut trier par date de sortie par exemple :"
   ]
  },
  {
   "cell_type": "code",
   "execution_count": null,
   "metadata": {},
   "outputs": [],
   "source": [
    "# ETAPE 1 : création d'une fonction qui renvoie la valeur de la clé \"année\"\n",
    "def date_sortie(tab):   \n",
    "    return tab[\"année\"]"
   ]
  },
  {
   "cell_type": "code",
   "execution_count": null,
   "metadata": {},
   "outputs": [],
   "source": [
    "# ETAPE 2 : application du tri sorted() à la table avec l'argument key pointant la valeur souhaitée\n",
    "table_trie = sorted(table, key=date_sortie)   # key vaut le nom de la fonction"
   ]
  },
  {
   "cell_type": "markdown",
   "metadata": {},
   "source": [
    "Dans la même idée, si on veut trier par date puis par classement, on créé une fonction qui renvoie un tuple :"
   ]
  },
  {
   "cell_type": "code",
   "execution_count": null,
   "metadata": {},
   "outputs": [],
   "source": [
    "def date_puis_classement(tab):   \n",
    "    return tab[\"année\"], tab[\"classement\"]\n",
    "\n",
    "table_trie2 = sorted(table, key=date_puis_classement)   # key vaut le nom de la fonction"
   ]
  },
  {
   "cell_type": "markdown",
   "metadata": {},
   "source": [
    "**<u>Application :</u>** Voir Exercice 3"
   ]
  },
  {
   "cell_type": "markdown",
   "metadata": {},
   "source": [
    "### Fusion\n",
    "\n",
    "<img src=\"https://static0.cbrimages.com/wordpress/wp-content/uploads/2018/04/Fusion-Dragon-Ball-Z-Goten-Trunks-Fusion-Dance.jpg\" width=\"30%\" >\n",
    "\n",
    "Lors de la fusion de table, le cas le plus simple est que les 2 tables possèdent les mêmes attributs.\n",
    "\n",
    "Par exemple, la liste des prénoms de naissance donnés à Nantes en 2020 et 2019.\n",
    "(tiré de <a href=\"https://www.data.gouv.fr/fr/datasets/prenoms-des-enfants-nes-a-nantes-1/#_\">ce lien</a>)\n",
    "\n",
    "Soit **prenom2020.csv** et **prenom2019.csv** nos deux tables à regrouper en une seule :"
   ]
  },
  {
   "cell_type": "code",
   "execution_count": 36,
   "metadata": {},
   "outputs": [],
   "source": [
    "# On ouvre les fichiers\n",
    "fichier1 = open(\"prenom2019.csv\", encoding=\"utf-8\")   \n",
    "fichier2 = open(\"prenom2020.csv\", encoding=\"utf-8\") \n",
    "pr_2019 = list(csv.DictReader(fichier1))\n",
    "pr_2020 = list(csv.DictReader(fichier2))\n",
    "\n",
    "# On regroupe simplement par une somme (= concaténation):\n",
    "prenom = pr_2019 + pr_2020"
   ]
  },
  {
   "cell_type": "code",
   "execution_count": 37,
   "metadata": {},
   "outputs": [],
   "source": [
    "#  et on écrit dans prenom.csv\n",
    "sortie = open(\"prenom.csv\", \"w\", encoding=\"utf-8\")   # création du nouveau fichier\n",
    "fichier = csv.DictWriter(sortie, fieldnames=[\"prenom\", \"sexe\", \"annee_naissance\", \"occurrence\"])\n",
    "fichier.writeheader()\n",
    "\n",
    "# écriture de chaque élément de la table dans une ligne du fichier CSV\n",
    "for element in prenom:   \n",
    "    fichier.writerow(element)\n",
    "sortie.close()"
   ]
  },
  {
   "cell_type": "markdown",
   "metadata": {},
   "source": [
    "**<u>Application :</u>** Voir Exercices 4 et 5"
   ]
  },
  {
   "cell_type": "code",
   "execution_count": null,
   "metadata": {},
   "outputs": [],
   "source": []
  },
  {
   "cell_type": "code",
   "execution_count": null,
   "metadata": {},
   "outputs": [],
   "source": []
  }
 ],
 "metadata": {
  "kernelspec": {
   "display_name": "Python 3",
   "language": "python",
   "name": "python3"
  },
  "language_info": {
   "codemirror_mode": {
    "name": "ipython",
    "version": 3
   },
   "file_extension": ".py",
   "mimetype": "text/x-python",
   "name": "python",
   "nbconvert_exporter": "python",
   "pygments_lexer": "ipython3",
   "version": "3.7.6"
  }
 },
 "nbformat": 4,
 "nbformat_minor": 4
}
