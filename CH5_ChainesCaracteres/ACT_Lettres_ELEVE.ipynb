{
 "cells": [
  {
   "cell_type": "markdown",
   "metadata": {},
   "source": [
    "# ACT 1 : Manipuler les chaînes de caractères\n",
    "\n"
   ]
  },
  {
   "cell_type": "markdown",
   "metadata": {},
   "source": [
    "## Des méthodes utiles\n",
    "Voici quelques méthodes utiles pour les chaînes en python."
   ]
  },
  {
   "cell_type": "markdown",
   "metadata": {},
   "source": [
    ">**Changer la casse**\n",
    "\n",
    "Les méthodes .lower() et .upper() renvoient un texte en minuscule et en majuscule respectivement. On remarque que l'utilisation de ces méthodes n'altère pas la chaîne de caractères de départ mais renvoie une chaîne de caractères transformée."
   ]
  },
  {
   "cell_type": "code",
   "execution_count": null,
   "metadata": {},
   "outputs": [],
   "source": [
    "mot = \"girafe\"\n",
    "mot.upper()"
   ]
  },
  {
   "cell_type": "code",
   "execution_count": null,
   "metadata": {},
   "outputs": [],
   "source": [
    "\"TIGRE\".lower()"
   ]
  },
  {
   "cell_type": "code",
   "execution_count": null,
   "metadata": {},
   "outputs": [],
   "source": [
    "# ou encore \n",
    "\"elephant\".capitalize()"
   ]
  },
  {
   "cell_type": "markdown",
   "metadata": {},
   "source": [
    ">**Compter**\n",
    "\n",
    "La méthode .count() compte le nombre d’occurrences d'une chaîne de caractères passée en argument :"
   ]
  },
  {
   "cell_type": "code",
   "execution_count": null,
   "metadata": {},
   "outputs": [],
   "source": [
    "animaux = \"girafe tigre\"\n",
    "animaux.count(\"i\")\n",
    "#animaux.count(\"z\")\n",
    "#animaux.count(\"tigre\")"
   ]
  },
  {
   "cell_type": "markdown",
   "metadata": {},
   "source": [
    ">**Couper une chaîne**\n",
    "\n",
    "La méthode .split() découpe une chaîne de caractères en plusieurs éléments appelés champs, en utilisant comme séparateur n'importe quelle combinaison « d'espace(s) blanc(s) ».\n",
    "Chaque élément découpé devient un élément d'une liste."
   ]
  },
  {
   "cell_type": "code",
   "execution_count": null,
   "metadata": {},
   "outputs": [],
   "source": [
    "animaux = \"girafe tigre singe souris\"\n",
    "animaux.split()"
   ]
  },
  {
   "cell_type": "markdown",
   "metadata": {},
   "source": [
    "Il est possible de modifier le séparateur :"
   ]
  },
  {
   "cell_type": "code",
   "execution_count": null,
   "metadata": {},
   "outputs": [],
   "source": [
    "animaux = \"girafe,tigre,singe,,souris\"\n",
    "animaux.split(\",\")\n",
    "\n",
    "# que remarque-t-on ?"
   ]
  },
  {
   "cell_type": "markdown",
   "metadata": {},
   "source": [
    "Il est également intéressant d'indiquer à .split() le nombre de fois qu'on souhaite découper la chaîne de caractères avec l'argument maxsplit."
   ]
  },
  {
   "cell_type": "code",
   "execution_count": null,
   "metadata": {},
   "outputs": [],
   "source": [
    "animaux = \"girafe,tigre,singe,souris\"\n",
    "animaux.split(\",\", maxsplit=2)"
   ]
  },
  {
   "cell_type": "markdown",
   "metadata": {},
   "source": [
    ">**Trouver & remplacer**\n",
    "\n",
    "La méthode .find()recherche une chaîne de caractères passée en argument.\n",
    "\n",
    "- Si l'élément recherché est trouvé, alors l'indice du début de l'élément dans la chaîne de caractères est renvoyé. \n",
    "- Si l'élément n'est pas trouvé, alors la valeur -1 est renvoyée.\n",
    "- Si l'élément recherché est trouvé plusieurs fois, l'indice de la première occurence est renvoyé."
   ]
  },
  {
   "cell_type": "code",
   "execution_count": null,
   "metadata": {},
   "outputs": [],
   "source": [
    "animal = \"girafe et tigre\"\n",
    "animal.find(\"f\")\n",
    "# tester \"afe\" puis \"z\" par exemple"
   ]
  },
  {
   "cell_type": "markdown",
   "metadata": {},
   "source": [
    "La méthode .replace() qui substitue une chaîne de caractères par une autre :"
   ]
  },
  {
   "cell_type": "code",
   "execution_count": null,
   "metadata": {},
   "outputs": [],
   "source": [
    "animaux = \"girafe tigre\"\n",
    "animaux.replace(\"tigre\", \"singe\")\n",
    "#  animaux.replace(\"i\", \"o\")"
   ]
  },
  {
   "cell_type": "markdown",
   "metadata": {},
   "source": [
    "## Application 1 : Extraire des valeurs numériques\n",
    "\n",
    "On dispose d'une chaîne de caractère qui contient des informations sur des éléments chimiques, notamment les valeurs numériques dont nous avons besoin :\n",
    "- le numéro atomique Z\n",
    "- la masse molaire M\n",
    "\n",
    ">**Chaîne simple**\n",
    "\n",
    "Avec un seul élément chimique."
   ]
  },
  {
   "cell_type": "code",
   "execution_count": null,
   "metadata": {},
   "outputs": [],
   "source": [
    "val = \"18 argon 39.9\""
   ]
  },
  {
   "cell_type": "code",
   "execution_count": null,
   "metadata": {},
   "outputs": [],
   "source": [
    "# on découpe la chaîne\n",
    "\n"
   ]
  },
  {
   "cell_type": "code",
   "execution_count": null,
   "metadata": {},
   "outputs": [],
   "source": [
    "# on transforme en valeurs numériques\n",
    "\n",
    "# Z est un int\n",
    "# M est un float\n"
   ]
  },
  {
   "cell_type": "markdown",
   "metadata": {},
   "source": [
    ">**Chaîne plus complexe**\n",
    "\n",
    "Avec plusieurs éléments chimiques."
   ]
  },
  {
   "cell_type": "code",
   "execution_count": null,
   "metadata": {},
   "outputs": [],
   "source": [
    "val = \"40 zirconium 91.3\\n41 niobium 92.9\\n43 technecium 99.0\"\n",
    "print(val)     # \\n est un saut de ligne"
   ]
  },
  {
   "cell_type": "code",
   "execution_count": null,
   "metadata": {},
   "outputs": [],
   "source": [
    "# On découpe la chaîne en 2 parties (séparateur de saut de ligne \"\\n\" )\n",
    "\n"
   ]
  },
  {
   "cell_type": "code",
   "execution_count": null,
   "metadata": {},
   "outputs": [],
   "source": [
    "# On découpe chaque élément de la liste\n",
    "\n",
    "liste2 = []    # nouvelle liste d'éléments\n",
    "\n",
    "\n",
    "\n",
    "\n",
    "# liste2[0][0] est le Z du zirconium\n",
    "# liste2[1][0] est le Z du niobium\n",
    "# liste2[0][1] est le nom \"zirconium\"\n",
    "# ... etc\n"
   ]
  },
  {
   "cell_type": "code",
   "execution_count": null,
   "metadata": {},
   "outputs": [],
   "source": [
    "# On range dans 3 listes : Z, nom et M\n",
    "\n",
    "Z = []\n",
    "nom = []\n",
    "M =[]\n",
    "\n",
    "\n",
    "print(\"Les numéros atomiques sont : \", Z)\n",
    "print(\"Pour les atomes : \", nom)\n",
    "print(\"Avec les masse molaires : \", M)"
   ]
  },
  {
   "cell_type": "markdown",
   "metadata": {},
   "source": [
    "## Application 2 : Afficher les occurence d'une chaîne dans un texte\n",
    "\n",
    "L'objectif est de créer une fonction qui affiche la proportion d'occurence d'une lettre ou d'un mot dans un texte.\n",
    "\n",
    "Ce texte est celui d'un extrait de la chanson ***fighting the world*** du groupe **manowar** : \n",
    "\n",
    "\n",
    "*Fight, fight, fight*\n",
    "    \n",
    "*Fighting the world every single day*\n",
    "    \n",
    "*Fighting the world for the right to play*\n",
    "    \n",
    "*Heavy metal in my brain*\n",
    "    \n",
    "*I'm fighting for metal cause it's here to stay*\n",
    "    \n",
    "*Fighting, fighting, fighting the world*\n",
    "    \n",
    "*I've been fighting the world*\n",
    "    \n",
    "*Fighting, fighting, fighting the world*\n",
    "    \n",
    "*I've been fighting*\n",
    "    \n",
    "*Fight for a living, fighting the world*\n",
    "    \n",
    "*Fight for a living, fighting the world*\n",
    "    \n",
    "*Fight for a living, fighting the world*\n",
    "    \n",
    "*Now people keep asking if we're going to change*\n",
    "    \n",
    "*I look them in the eye, tell them*\n",
    "    \n",
    "*No way*\n",
    "    \n",
    "*Stripes on a tiger don't wash away*\n",
    "    \n",
    "*Manowar's made of steel, not clay*\n"
   ]
  },
  {
   "cell_type": "markdown",
   "metadata": {},
   "source": [
    ">**Préparation du texte**\n",
    "\n",
    "A partir du texte brut, on prépare un texte nettoyé :"
   ]
  },
  {
   "cell_type": "code",
   "execution_count": null,
   "metadata": {},
   "outputs": [],
   "source": [
    "texte_brut =\"Fight, fight, fight\\nFighting the world every single day\\nFighting the world for the right to play\\nHeavy metal in my brain\\nI'm fighting for metal cause it's here to stay\\nFighting, fighting, fighting the world\\nI've been fighting the world\\nFighting, fighting, fighting the world\\nI've been fighting\\nFight for a living, fighting the world\\nFight for a living, fighting the world\\nFight for a living, fighting the world\\nNow people keep asking if we're going to change\\nI look them in the eye, tell them\\nNo way\\nStripes on a tiger don't wash away\\nManowar's made of steel, not clay\"\n",
    "\n",
    "# \\n représente un saut de ligne"
   ]
  },
  {
   "cell_type": "code",
   "execution_count": null,
   "metadata": {},
   "outputs": [],
   "source": [
    "# Nettoie et prépare le texte\n",
    "\n",
    "def nettoyage(texte):\n",
    "    \"\"\" lettres capitales + élimine les virgules + remplace sauts de ligne par espaces \"\"\"\n",
    "\n",
    "    "
   ]
  },
  {
   "cell_type": "markdown",
   "metadata": {},
   "source": [
    ">**Fréquence d'une lettre**\n"
   ]
  },
  {
   "cell_type": "code",
   "execution_count": null,
   "metadata": {},
   "outputs": [],
   "source": [
    "# Compte le nombre de lettres, hors caractères spéciaux et espaces\n",
    "\n",
    "def nombre_lettres(texte):\n",
    "    \"\"\" compte les lettres alphabétiques d'un texte\"\"\"\n",
    "    \n",
    "    alpha = \"ABCDEFGHIJKLMNOPQRSTUVWXYZ\"   # lettres possibles\n",
    "    nb_lettres = 0\n",
    "\n",
    "   "
   ]
  },
  {
   "cell_type": "code",
   "execution_count": null,
   "metadata": {},
   "outputs": [],
   "source": [
    "# Calcule la fréquence d'apparition d'une lettre (en %)\n",
    "\n",
    "def frequence_lettre(lettre_visee, texte):\n",
    "    \"\"\" fréquence d'apparition d'une lettre dans un texte \"\"\"\n",
    "    \n",
    "    total = nombre_lettres(texte)\n",
    "    nb_lettre_visee = 0\n",
    " "
   ]
  },
  {
   "cell_type": "markdown",
   "metadata": {},
   "source": [
    ">**Fréquence d'un mot**\n",
    "\n",
    "Déterminer de la même manière la fréquence d'apparition du mot *fight* dans ce texte :"
   ]
  },
  {
   "cell_type": "code",
   "execution_count": null,
   "metadata": {},
   "outputs": [],
   "source": [
    "# on remplace les apostrophes par des espaces et on split\n",
    "texte_temporaire = \n",
    "\n",
    "# Calcule la fréquence d'apparition d'un mot (en %)\n",
    "def frequence_mot(mot_vise, texte):\n",
    "    \"\"\" fréquence d'apparition d'un mot dans un texte déjà sous forme de liste de mots \"\"\"\n",
    "\n",
    "  "
   ]
  },
  {
   "cell_type": "markdown",
   "metadata": {},
   "source": [
    ">**Fréquence de toutes les lettres**\n",
    "\n",
    "On utilisera le module de représentation graphique **matplotlib** dont voici un exemple d'utilisation qui pourrait nous servir :"
   ]
  },
  {
   "cell_type": "code",
   "execution_count": null,
   "metadata": {},
   "outputs": [],
   "source": [
    "import matplotlib.pyplot as plt\n",
    "\n",
    "lettres = [\"a\", \"b\", \"c\"]\n",
    "frequences_observees = [0.4, 0.6, 0.1]\n",
    "\n",
    "plt.bar(lettres, frequences_observees, color = 'red', width = 0.2, alpha = 0.6, label = \"frequences observees\")\n",
    "plt.title(\"Fréquence d'apparition de lettres\")\n",
    "plt.legend()\n",
    "plt.show()"
   ]
  },
  {
   "cell_type": "markdown",
   "metadata": {},
   "source": [
    "Utiliser cette représentation pour afficher toutes les fréquences de toutes les lettres :"
   ]
  },
  {
   "cell_type": "code",
   "execution_count": null,
   "metadata": {},
   "outputs": [],
   "source": [
    "# lettres possibles\n",
    "alpha = \"ABCDEFGHIJKLMNOPQRSTUVWXYZ\"  \n",
    "\n",
    "\n",
    "# fréquences observées des chaque lettres de alpha\n",
    "\n",
    "\n",
    "# Tracé du graphique\n"
   ]
  },
  {
   "cell_type": "code",
   "execution_count": null,
   "metadata": {},
   "outputs": [],
   "source": []
  }
 ],
 "metadata": {
  "kernelspec": {
   "display_name": "Python 3",
   "language": "python",
   "name": "python3"
  },
  "language_info": {
   "codemirror_mode": {
    "name": "ipython",
    "version": 3
   },
   "file_extension": ".py",
   "mimetype": "text/x-python",
   "name": "python",
   "nbconvert_exporter": "python",
   "pygments_lexer": "ipython3",
   "version": "3.7.6"
  }
 },
 "nbformat": 4,
 "nbformat_minor": 4
}
