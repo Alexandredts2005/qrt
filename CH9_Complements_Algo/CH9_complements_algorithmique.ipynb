{
 "cells": [
  {
   "cell_type": "markdown",
   "metadata": {},
   "source": [
    "# CH9 COMPLEMENTS D'ALGORITHMIQUE"
   ]
  },
  {
   "cell_type": "markdown",
   "metadata": {},
   "source": [
    "## 1. Concevoir et tester ses programmes"
   ]
  },
  {
   "cell_type": "markdown",
   "metadata": {},
   "source": [
    "<h3> a. Les jeux de tests </h3>"
   ]
  },
  {
   "cell_type": "markdown",
   "metadata": {},
   "source": [
    "Il arrive très souvent (même aux meilleurs ! ) de faire des erreurs en écrivant un code. Pour détecter ces éventuelles erreurs, on peut utiliser le programme (ou partie de programme) sur quelques cas concrets et vérifier qu'il produit effectivement les résultats attendus. "
   ]
  },
  {
   "cell_type": "markdown",
   "metadata": {},
   "source": [
    "On souhaite par exemple coder et tester une fonction nommée indice_maximum_tableau qui renvoie l'indice du plus grand élément de la liste. On peut la tester et vérifier que **indice_maximal_tableau([2 , 3 , 1])** vaut bien 1. Si le résultat est erroné, on sait qu'il y a une erreur dans le code, si le résultat est juste, cela ne signifie pas que tout est correct pour autant. Il faut donc essayer de créer un \"jeu de tests\" avec plusieurs tests les plus pertinents possibles (valeurs limites, cas particuliers ...)."
   ]
  },
  {
   "cell_type": "markdown",
   "metadata": {},
   "source": [
    "Plutôt que d'effectuer les tests \"à la main\", on peut les inclure dans le programme, grâce à l'instruction **assert** et un test d'égalité. "
   ]
  },
  {
   "cell_type": "code",
   "execution_count": 16,
   "metadata": {},
   "outputs": [
    {
     "ename": "AssertionError",
     "evalue": "non plus, l'indice max n'est pas 0",
     "output_type": "error",
     "traceback": [
      "\u001b[0;31m---------------------------------------------------------------------------\u001b[0m",
      "\u001b[0;31mAssertionError\u001b[0m                            Traceback (most recent call last)",
      "\u001b[0;32m<ipython-input-16-aeb6b04d5f0f>\u001b[0m in \u001b[0;36m<module>\u001b[0;34m\u001b[0m\n\u001b[1;32m     10\u001b[0m \u001b[0;34m\u001b[0m\u001b[0m\n\u001b[1;32m     11\u001b[0m \u001b[0;32massert\u001b[0m \u001b[0mindice_maximum_tableau\u001b[0m\u001b[0;34m(\u001b[0m\u001b[0;34m[\u001b[0m\u001b[0;36m2\u001b[0m \u001b[0;34m,\u001b[0m \u001b[0;36m3\u001b[0m \u001b[0;34m,\u001b[0m \u001b[0;36m1\u001b[0m\u001b[0;34m]\u001b[0m\u001b[0;34m)\u001b[0m \u001b[0;34m==\u001b[0m \u001b[0;36m1\u001b[0m\u001b[0;34m,\u001b[0m \u001b[0;34m\"non, l'indice max n'est pas 1\"\u001b[0m\u001b[0;34m\u001b[0m\u001b[0;34m\u001b[0m\u001b[0m\n\u001b[0;32m---> 12\u001b[0;31m \u001b[0;32massert\u001b[0m \u001b[0mindice_maximum_tableau\u001b[0m\u001b[0;34m(\u001b[0m\u001b[0;34m[\u001b[0m\u001b[0;36m2\u001b[0m \u001b[0;34m,\u001b[0m \u001b[0;36m3\u001b[0m \u001b[0;34m,\u001b[0m \u001b[0;36m1\u001b[0m\u001b[0;34m]\u001b[0m\u001b[0;34m)\u001b[0m \u001b[0;34m==\u001b[0m \u001b[0;36m0\u001b[0m\u001b[0;34m,\u001b[0m \u001b[0;34m\"non plus, l'indice max n'est pas 0\"\u001b[0m\u001b[0;34m\u001b[0m\u001b[0;34m\u001b[0m\u001b[0m\n\u001b[0m",
      "\u001b[0;31mAssertionError\u001b[0m: non plus, l'indice max n'est pas 0"
     ]
    }
   ],
   "source": [
    "def indice_maximum_tableau(tableau):\n",
    "    \"\"\" Renvoie l'indice du maximum d'un tableau (tableau) ou None s'il est vide\"\"\"\n",
    "    \n",
    "    max = tableau[0]\n",
    "    for i in range(1, len(tableau)):\n",
    "        if tableau[i] > max:\n",
    "            max = tableau[i]\n",
    "            indice_max = i\n",
    "    return indice_max\n",
    "\n",
    "assert indice_maximum_tableau([2 , 3 , 1]) == 1, \"non, l'indice max n'est pas 1\"\n",
    "assert indice_maximum_tableau([2 , 3 , 1]) == 0, \"non plus, l'indice max n'est pas 0\""
   ]
  },
  {
   "cell_type": "markdown",
   "metadata": {},
   "source": [
    "Si l'un des tests échoue, il faut bien sur relancer tous les tests.\n",
    "Ajoutez quelques tests au programme précédent et vérifier que la fonction effectue bien ce qui est demandé (que se passe-t-il notamment si plusieurs éléments correspondent au maximum ? si le tableau est vide ? ). Modifier la fonction en conséquence."
   ]
  },
  {
   "cell_type": "markdown",
   "metadata": {},
   "source": [
    "<i> <b> Exercices d'application </b> </i>"
   ]
  },
  {
   "cell_type": "markdown",
   "metadata": {},
   "source": [
    "On prétend que les fonctions suivantes testent l'appartenance de la valeur v au tableau t. \n",
    "\n",
    "1) Donner des tests pour ces fonctions, et en particulier un test montrant qu'elle sont incorrectes."
   ]
  },
  {
   "cell_type": "code",
   "execution_count": 11,
   "metadata": {},
   "outputs": [],
   "source": [
    "def appartient1(v, t):\n",
    "    i = 0\n",
    "    while i < len(t)-1 and t[i] != v:\n",
    "        i = i + 1\n",
    "    return i < lent(t)"
   ]
  },
  {
   "cell_type": "code",
   "execution_count": null,
   "metadata": {},
   "outputs": [],
   "source": [
    "def appartient2(v, t):\n",
    "    for i in range(len(t)):\n",
    "        if t[i] == v:\n",
    "            trouvee = True\n",
    "        else:\n",
    "            trouvee = False\n",
    "    return trouvee"
   ]
  },
  {
   "cell_type": "markdown",
   "metadata": {},
   "source": [
    "2) A partir de la fonction ci-dessous, on souhaite vérifier que l'utilisation se fait avec les bons paramètres, c'est à dire que t est bien une liste et que v est bien un entier. Intégrer des jeux de tests cette fois dans la fonction."
   ]
  },
  {
   "cell_type": "code",
   "execution_count": 8,
   "metadata": {},
   "outputs": [],
   "source": [
    "def appartient3(v, t):\n",
    "    \"\"\" Fct correcte \n",
    "        Renvoie True si v appartient à t, False sinon \"\"\"\n",
    "    i = 0\n",
    "    trouvee = False\n",
    "    while i < len(t)-1:\n",
    "        if t[i] == v:\n",
    "            i = len(t)\n",
    "            trouvee = True\n",
    "        else:\n",
    "            i = i + 1\n",
    "    return trouvee"
   ]
  },
  {
   "cell_type": "markdown",
   "metadata": {},
   "source": [
    "<h3> b. Validité d'un algorithme : invariant de boucle et terminaison </h3>"
   ]
  },
  {
   "cell_type": "markdown",
   "metadata": {},
   "source": [
    "Quand un programme contient une boucle, il convient de se poser plusieurs questions : les variables sont-elles correctement initialisées avant la boucle ? Le nombre de tours de la boucle est-il le bon ? Va-t-on bien sortir de la boucle au bout d'un certain temps ? Les valeurs obtenues au final sont-elles celles attendues ?"
   ]
  },
  {
   "cell_type": "markdown",
   "metadata": {},
   "source": [
    "<h3> invariant de boucle </h3>"
   ]
  },
  {
   "cell_type": "markdown",
   "metadata": {},
   "source": [
    "Un invariant de boucle est une **propriété attachée à la boucle, qui est vraie initialement, avant de commencer à exécuter la boucle, et maintenue vraie pour toute itération de la boucle** (d'où son nom). Elle sera en particulier vraie à la sortie de la boucle."
   ]
  },
  {
   "cell_type": "markdown",
   "metadata": {},
   "source": [
    "Voici un algorithme de calcul avec un boucle conditionnelle et deux variables a et b ayant pour valeur un entier naturel."
   ]
  },
  {
   "cell_type": "raw",
   "metadata": {},
   "source": [
    "m = 0\n",
    "p = 0\n",
    "tant que m < a\n",
    "    m = m + 1\n",
    "    p = p + b\n",
    "fin tant que"
   ]
  },
  {
   "cell_type": "markdown",
   "metadata": {},
   "source": [
    "On peut montrer que *\"p = m x b\" est un invariant de cette boucle.*\n",
    "\n",
    " - Avant le premier passage, p = 0 et m = 0, donc on a bien p = m x b.\n",
    "\n",
    "- Supposons que p = m x b avant un passage dans la boucle : \n",
    "\n",
    "Les nouvelles de m et p après une boucle sont m' = m + 1 et p' = p + b. \n",
    "\n",
    "On a m' x b = (m + 1) x b = m x b + b = p + b = p'.\n",
    "\n",
    "- La propriété est donc vérifiée après passage dans la boucle.\n",
    "\n",
    "**Cette propriété est bien un invariant de boucle**, donc elle est vraie à la sortie de la boucle. Or à la sortie de la boucle, on a m = a , donc p = a x b.\n",
    "Cette boucle permet donc le calcul des produit a et b (stocké dans p)."
   ]
  },
  {
   "cell_type": "markdown",
   "metadata": {},
   "source": [
    "<h3> Terminaison </h3>"
   ]
  },
  {
   "cell_type": "markdown",
   "metadata": {},
   "source": [
    "Un algorithme ne doit toujours comporter qu'un nombre fini d'étapes. Dans le cas de boucles non conditionnelles (boucle for), le nombre d'étapes est déterminé, donc fini.\n",
    "Dans le cas de boucles conditionnelles (boucle while), on utilise la notion de **variant** : on choisit un variant, c'est-à-dire une expression (souvent une variable) telle que la suite des valeurs de cette expression au cours des itérations prend, à un moment donné, une valeur satisfaisant la condition d'arrêt."
   ]
  },
  {
   "cell_type": "markdown",
   "metadata": {},
   "source": [
    "Considérons le code suivant :"
   ]
  },
  {
   "cell_type": "code",
   "execution_count": 1,
   "metadata": {},
   "outputs": [],
   "source": [
    "a = 10\n",
    "x = 0\n",
    "while x**2 < a:\n",
    "    x = x + 1"
   ]
  },
  {
   "cell_type": "markdown",
   "metadata": {},
   "source": [
    "Si la valeur de a est négative ou nulle, il n'y a aucun passage dans la boucle.\n",
    "Sinon, la suite des valeurs de la variable x est 0 , 1 , 2 ... , n, où n est la première valeur supérieure ou égale à la racine carrée de la valeur de a. En considérant le variant x, on peut donc conclure que le nombre de passages dans la boucle est bien fini."
   ]
  },
  {
   "cell_type": "markdown",
   "metadata": {},
   "source": [
    "<i> <b> Exercices d'application </b> </i>"
   ]
  },
  {
   "cell_type": "markdown",
   "metadata": {},
   "source": [
    "1) Reprendre l'exemple du produit de deux nombres étudié plus haut et montrer la terminaison de la boucle."
   ]
  },
  {
   "cell_type": "markdown",
   "metadata": {},
   "source": [
    "2) On effectue la division euclidienne de a par b, ou a et b sont deux entiers strictement positifs. Il s'agit donc de déterminer deux entiers q et r tels que : \n",
    "a = bq + r avec 0 <= r < b, dont on donne l'algorithme ci-dessous :\n",
    "    \n",
    " - Prouver que a = bq + r est un invariant de boucle.\n",
    " - Prouver la terminaison de l'algorithme.\n",
    " \n",
    "<i> Vous pouvez utiliser <a href =\"http://pythontutor.com/visualize.html#mode=display\"> Pythontutor </a> pour visualiser les opérations </i>"
   ]
  },
  {
   "cell_type": "code",
   "execution_count": null,
   "metadata": {},
   "outputs": [],
   "source": [
    "q = 0 \n",
    "r = a\n",
    "while r >= b:\n",
    "    q = q + 1\n",
    "    r = r - b"
   ]
  },
  {
   "cell_type": "markdown",
   "metadata": {},
   "source": [
    "<h3> c. Coût d'un algorithme </h3>"
   ]
  },
  {
   "cell_type": "markdown",
   "metadata": {},
   "source": [
    "Quand on écrit un algorithme, on doit réfléchir pour qu'il soit le plus efficace possible. On doit notamment se poser la question de son temps d'exécution. Si on traite une liste de 10^7 valeurs, puis une liste de 10^8 valeurs, le temps de traitement sera-t-il multiplié par 10 ? Ce coût dépend de l'algorithme, de la liste, de la machine, et même du langage utilisé.\n",
    "\n",
    "Pour comparer deux algorithmes, on cherche à déterminer l'ordre de grandeur de ce coût en fonction de la taille des données. On parle de **complexité d'un algorithme**.\n",
    "Pour évaluer cette complexité, **on se place toujours dans le \"pire des cas\"**, c'est-à-dire qu'on compte le nombre maximum d'opérations."
   ]
  },
  {
   "cell_type": "markdown",
   "metadata": {},
   "source": [
    "Reprenons l'exemple de la multiplication, dont le code est donné ci-dessous. On y a ajouté un \"timer\" pour déterminer le **temps d'exécution** du programme."
   ]
  },
  {
   "cell_type": "code",
   "execution_count": 11,
   "metadata": {},
   "outputs": [
    {
     "name": "stdout",
     "output_type": "stream",
     "text": [
      "0.023723840713500977\n"
     ]
    }
   ],
   "source": [
    "import time\n",
    "start = time.time() #on récupère le temps au début de l'exécution\n",
    "a = 100000\n",
    "b = 10\n",
    "m = 0\n",
    "p = 0\n",
    "while m < a:\n",
    "    m = m + 1\n",
    "    p = p + b\n",
    "end = time.time() # on récupère le temps à la fin de l'exécution\n",
    "duree = end - start\n",
    "print(duree)"
   ]
  },
  {
   "cell_type": "markdown",
   "metadata": {},
   "source": [
    "Tester ce programme pour différentes valeurs de a. Que remarquez-vous ?"
   ]
  },
  {
   "cell_type": "markdown",
   "metadata": {},
   "source": [
    "Le temps de calcul est proportionnel à a : on dit alors que le coût est <b>LINEAIRE</b>. "
   ]
  },
  {
   "cell_type": "markdown",
   "metadata": {},
   "source": [
    "Le coût en temps est accessible également par le **nombre d'affectations** car c'est *ce qui coûte* en ressources pour la machine (les tests étant négligeables). On peut estimer son ordre de grandeur en insérant un compteur :"
   ]
  },
  {
   "cell_type": "code",
   "execution_count": 10,
   "metadata": {},
   "outputs": [
    {
     "name": "stdout",
     "output_type": "stream",
     "text": [
      "100004\n"
     ]
    }
   ],
   "source": [
    "N = 0  # compteur d'affectations\n",
    "a = 100000\n",
    "b = 10\n",
    "m = 0\n",
    "p = 0\n",
    "N = N + 4  # 4 affectations\n",
    "while m < a:\n",
    "    m = m + 1\n",
    "    N = N + 1  # 1 affectation par passage dans la boucle\n",
    "print(N)"
   ]
  },
  {
   "cell_type": "markdown",
   "metadata": {},
   "source": [
    "On trouve que N = 2a + 4\n",
    "\n",
    "La boucle est effectuée exactement a fois, et il y a 2 affectations par boucle, donc 2a affectations en tout et on initialise avec 4 affectations.\n",
    "\n",
    "Le nombre d'opérations est donc encore proportionnel à a : on dit que le cout est <b>LINEAIRE</b>.\n",
    "\n",
    "On parlera de coût linéaire dès lors que le nombre d'opérations est représenté par une fonction affine en fonction de la taille des données.\n",
    "\n",
    "L'ordre de grandeur de la complexité s'écrit alors **O(a)**."
   ]
  },
  {
   "cell_type": "markdown",
   "metadata": {},
   "source": [
    "<i> <b> D'autres exemples </b> </i>"
   ]
  },
  {
   "cell_type": "markdown",
   "metadata": {},
   "source": [
    "1) Ecrire un programme permettant de calculer la somme des entiers de 1 à n. Le tester pour différentes valeurs de n. \n",
    "Vérifier que son coût est linéaire en comptant les opérations effectuées."
   ]
  },
  {
   "cell_type": "code",
   "execution_count": null,
   "metadata": {},
   "outputs": [],
   "source": []
  },
  {
   "cell_type": "markdown",
   "metadata": {},
   "source": [
    "<p> 2) On considère le programme ci-dessous. Le tester pour différentes valeurs de n. Noter ces valeurs, puis utiliser un tableur pour visualiser le nuage de points (n, durée(n)). Que remarquez-vous ? On parle ici de coût quadratique (fonction du second degré). </p>\n",
    "<p> Ajouter un compteur d'opération, et reprendre les questions précédentes pour avoir le nombre d'opérations en fonction de n.</p>"
   ]
  },
  {
   "cell_type": "code",
   "execution_count": 12,
   "metadata": {},
   "outputs": [
    {
     "name": "stdout",
     "output_type": "stream",
     "text": [
      "0.001049041748046875\n"
     ]
    }
   ],
   "source": [
    "import time\n",
    "start = time.time()\n",
    "x = 0\n",
    "n = 100\n",
    "for i in range(n):\n",
    "    x = x + i\n",
    "    for j in range(n):\n",
    "        x = x + j\n",
    "end = time.time()\n",
    "duree = end - start\n",
    "print(duree)"
   ]
  },
  {
   "cell_type": "markdown",
   "metadata": {},
   "source": [
    "<h2> 2. Parcours séquentiel </h2>"
   ]
  },
  {
   "cell_type": "markdown",
   "metadata": {},
   "source": [
    "On va étudier ici quelques algorithmes nécessitant de parcourir une liste (on peut également parcourir un tuple). Le parcours séquentiel consiste à parcourir la liste élément par élément, en suivant l'ordre des éléments."
   ]
  },
  {
   "cell_type": "markdown",
   "metadata": {},
   "source": [
    "<h3> exemple 1 : calcul d'une moyenne </h3>"
   ]
  },
  {
   "cell_type": "markdown",
   "metadata": {},
   "source": [
    "Ecrire une fonction permettant de calculer la moyenne d'une liste de nombres. Pensez à toutes les vérifications vues ci-dessus. Déterminer le coût de cette fonction."
   ]
  },
  {
   "cell_type": "code",
   "execution_count": null,
   "metadata": {},
   "outputs": [],
   "source": []
  },
  {
   "cell_type": "markdown",
   "metadata": {},
   "source": [
    "<h3> exemple 2 : recherche d'une occurence </h3>"
   ]
  },
  {
   "cell_type": "markdown",
   "metadata": {},
   "source": [
    "On cherche ici à rechercher de manière séquentielle la présence d'une valeur dans un tableau, qui peut être une lite, un tuple, ou une chaîne de caractères. \n",
    "On cherche une valeur ou un carctère précis, en le comparant à toutes les valeurs du tableau.\n",
    "On donne ci-dessous deux scripts Python répondant à cette question."
   ]
  },
  {
   "cell_type": "code",
   "execution_count": 13,
   "metadata": {},
   "outputs": [],
   "source": [
    "def recherche(x , t):\n",
    "    n = len(t)\n",
    "    i = 0\n",
    "    while i < n and x != t[i]:\n",
    "        i = i + 1\n",
    "    if i < n:\n",
    "        return i"
   ]
  },
  {
   "cell_type": "code",
   "execution_count": 14,
   "metadata": {},
   "outputs": [],
   "source": [
    "def recherche2(x ,t):\n",
    "    for i in range(len(t)):\n",
    "        if t[i] == x:\n",
    "            return i"
   ]
  },
  {
   "cell_type": "markdown",
   "metadata": {},
   "source": [
    "Etudier ces deux programmes, et déterminer leur coût."
   ]
  },
  {
   "cell_type": "markdown",
   "metadata": {},
   "source": [
    "<h3> exemple 3 : recherche d'un extremum </h3>"
   ]
  },
  {
   "cell_type": "markdown",
   "metadata": {},
   "source": [
    "On dispose d'un ensemble de nombres (liste, tuple) dont on cherche un extremum (maximum, minimum ou les deux).\n",
    "L'algorithme est le suivant :\n",
    "- si la liste est non vide, on suppose que le maximum est le premier élément\n",
    "- on parcourt la liste et chaque fois qu'on rencontre un élément plus grand, on dit que c'est le nouveau maximum provisoire."
   ]
  },
  {
   "cell_type": "markdown",
   "metadata": {},
   "source": [
    "Ecrire une fonction **maxmin(liste)** qui prend une liste de nombres en paramètres et renvoie son maximum et son minimum. Quel est son coût ?"
   ]
  },
  {
   "cell_type": "code",
   "execution_count": null,
   "metadata": {},
   "outputs": [],
   "source": []
  },
  {
   "cell_type": "markdown",
   "metadata": {},
   "source": [
    "S'inspirer de cet algorithme pour écrire une fonction **max(f, a, b)** qui permet de déterminer une valeur approchée du maximum d'une fonction f sur un intervalle [a,b]."
   ]
  },
  {
   "cell_type": "code",
   "execution_count": null,
   "metadata": {},
   "outputs": [],
   "source": []
  },
  {
   "cell_type": "markdown",
   "metadata": {},
   "source": [
    "<h2> <b> 3. Exercices d'application </b> </h2>"
   ]
  },
  {
   "cell_type": "markdown",
   "metadata": {},
   "source": [
    "<b> Exercice 1 </b> : \n",
    "On attribue un numéro à divers personnages. Ceci se traduit par la liste Pers = [['Julie' , 1] , ['Tom' , 2] , ['Sam' , 3] , ['Lea' , 4] , ['Charlie' , 5]].\n",
    "Ecrire une fonction qui permet de rechercher de manière séquentielle si un personnage de numéro x (entier) quelconque est présent dans la liste. Cette fonction doit renvoyer le nom du personnage en question s'il est présent dans la liste, False sinon."
   ]
  },
  {
   "cell_type": "code",
   "execution_count": null,
   "metadata": {},
   "outputs": [],
   "source": []
  },
  {
   "cell_type": "markdown",
   "metadata": {},
   "source": [
    "<b> Exercice 2 </b> : On veut écrire une fonction verifie_tri qui prend en paramètres une liste d'entiers et qui renvoie True si la liste est correctement triée dans l'ordre croissant et False sinon.\n",
    "Proposer des tests pour cette fonction, puis écrire son code."
   ]
  },
  {
   "cell_type": "code",
   "execution_count": null,
   "metadata": {},
   "outputs": [],
   "source": []
  },
  {
   "cell_type": "markdown",
   "metadata": {},
   "source": []
  },
  {
   "cell_type": "markdown",
   "metadata": {},
   "source": [
    "<b> Exercice 3 </b> : Ecrire une fonction permute qui prend en argument une liste de mots et modifie la liste en permutant le mot le plus court en nombre de lettres  avec le premier mot de la liste. La fonction ne renvoie rien."
   ]
  },
  {
   "cell_type": "code",
   "execution_count": null,
   "metadata": {},
   "outputs": [],
   "source": []
  },
  {
   "cell_type": "markdown",
   "metadata": {},
   "source": [
    "<b> Exercice 4 </b> : Ecrire un programme pour rechercher un mot dans un texte. Le mot et le texte sont des variables de type str. Etudier le coût de l'algorithme en fonction de la longueur du texte et de celle du mot.\n",
    "    "
   ]
  },
  {
   "cell_type": "code",
   "execution_count": null,
   "metadata": {},
   "outputs": [],
   "source": []
  },
  {
   "cell_type": "code",
   "execution_count": null,
   "metadata": {},
   "outputs": [],
   "source": []
  }
 ],
 "metadata": {
  "kernelspec": {
   "display_name": "Python 3",
   "language": "python",
   "name": "python3"
  },
  "language_info": {
   "codemirror_mode": {
    "name": "ipython",
    "version": 3
   },
   "file_extension": ".py",
   "mimetype": "text/x-python",
   "name": "python",
   "nbconvert_exporter": "python",
   "pygments_lexer": "ipython3",
   "version": "3.7.6"
  }
 },
 "nbformat": 4,
 "nbformat_minor": 4
}
