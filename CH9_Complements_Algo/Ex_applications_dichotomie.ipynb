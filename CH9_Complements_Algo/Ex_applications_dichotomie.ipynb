{
 "cells": [
  {
   "cell_type": "markdown",
   "metadata": {},
   "source": [
    "<h1>EXERCICES D'APPLICATION SUR LA DICHOTOMIE </h1>"
   ]
  },
  {
   "cell_type": "markdown",
   "metadata": {},
   "source": [
    "<h2> Exercice 1 : recherche dichotomique dans une liste triée</h2>"
   ]
  },
  {
   "cell_type": "markdown",
   "metadata": {},
   "source": [
    "On propose la fonction suivante :"
   ]
  },
  {
   "cell_type": "code",
   "execution_count": 5,
   "metadata": {},
   "outputs": [],
   "source": [
    "def appartient (liste , element):\n",
    "    \"\"\"indique si element est dans liste\n",
    "    liste doit être triée dans l'ordre croissant\"\"\"\n",
    "    gauche = 0 \n",
    "    trouve = False\n",
    "    droite = len(liste)-1\n",
    "    # AVANT\n",
    "    while gauche <= droite and not trouve:\n",
    "        milieu = (gauche + droite)//2\n",
    "        #ICI\n",
    "        if liste[milieu] == element:\n",
    "            trouve = True\n",
    "        elif liste[milieu] < element:\n",
    "            gauche = milieu +1\n",
    "        else : # liste[milieu > element]\n",
    "            droite = milieu - 1\n",
    "        #LA\n",
    "    return trouve"
   ]
  },
  {
   "cell_type": "markdown",
   "metadata": {},
   "source": [
    "1. On exécute appartient([1 , 3 , 5 , 17 , 17 , 19], 3)."
   ]
  },
  {
   "cell_type": "markdown",
   "metadata": {},
   "source": [
    "a. Que renvoie cet appel de fonction ?"
   ]
  },
  {
   "cell_type": "markdown",
   "metadata": {},
   "source": [
    "b. Le tableau suivant précise les valeurs de certaines variables à chaque tour de boucle. Remplacer les \"?\" par les valeurs attendues."
   ]
  },
  {
   "cell_type": "markdown",
   "metadata": {},
   "source": [
    "  | | gauche| milieu | droite | liste[milieu] | trouve |\n",
    "  |:--:|:--:|:--:|:--:|:--:|:--:|\n",
    "  |#AVANT|0|-|5|-|False|\n",
    "  |#ICI|0|2|5|5|??  |\n",
    "  |#LA|0|2|1|5|??  |\n",
    "  |#ICI|0|0|1|1|??  |\n",
    "  |#LA|1|0|1|1|??  |\n",
    "  |#ICI|1|1|1|3|??  |\n",
    "  |#LA|1|1|1|3|??  |\n",
    "  ||||||"
   ]
  },
  {
   "cell_type": "markdown",
   "metadata": {},
   "source": [
    "2. On exécute appartient([1 , 3 , 5 , 17 , 17 , 19 ]),4)."
   ]
  },
  {
   "cell_type": "markdown",
   "metadata": {},
   "source": [
    "a. Que renvoie cet appel de fonction ?"
   ]
  },
  {
   "cell_type": "markdown",
   "metadata": {},
   "source": [
    "b. Construire un tableau similaire à celui de la question précédente."
   ]
  },
  {
   "cell_type": "markdown",
   "metadata": {},
   "source": [
    "c. Pourquoi sort-on de la boucle ?"
   ]
  },
  {
   "cell_type": "markdown",
   "metadata": {},
   "source": [
    "2. On exécute appartient([1 , 3 , 5 , 17 , 17 , 19 ]),27)."
   ]
  },
  {
   "cell_type": "markdown",
   "metadata": {},
   "source": [
    "a. Que renvoie cet appel de fonction ?"
   ]
  },
  {
   "cell_type": "markdown",
   "metadata": {},
   "source": [
    "b. Combien de fois va-t-on passer par la ligne #ICI ?"
   ]
  },
  {
   "cell_type": "markdown",
   "metadata": {},
   "source": [
    "4. En vous inspirant de la fonction appartient, écrire le code de la fonction suivante :"
   ]
  },
  {
   "cell_type": "code",
   "execution_count": 2,
   "metadata": {},
   "outputs": [
    {
     "ename": "AssertionError",
     "evalue": "",
     "output_type": "error",
     "traceback": [
      "\u001b[1;31m---------------------------------------------------------------------------\u001b[0m",
      "\u001b[1;31mAssertionError\u001b[0m                            Traceback (most recent call last)",
      "\u001b[1;32m<ipython-input-2-fcbac666d38b>\u001b[0m in \u001b[0;36m<module>\u001b[1;34m\u001b[0m\n\u001b[0;32m      6\u001b[0m \u001b[1;33m\u001b[0m\u001b[0m\n\u001b[0;32m      7\u001b[0m \u001b[1;33m\u001b[0m\u001b[0m\n\u001b[1;32m----> 8\u001b[1;33m \u001b[1;32massert\u001b[0m \u001b[0mindice\u001b[0m\u001b[1;33m(\u001b[0m\u001b[1;33m[\u001b[0m \u001b[1;36m1\u001b[0m \u001b[1;33m,\u001b[0m \u001b[1;36m3\u001b[0m \u001b[1;33m,\u001b[0m \u001b[1;36m5\u001b[0m \u001b[1;33m,\u001b[0m \u001b[1;36m17\u001b[0m \u001b[1;33m,\u001b[0m \u001b[1;36m17\u001b[0m \u001b[1;33m,\u001b[0m \u001b[1;36m19\u001b[0m\u001b[1;33m]\u001b[0m \u001b[1;33m,\u001b[0m \u001b[1;36m3\u001b[0m\u001b[1;33m)\u001b[0m \u001b[1;33m==\u001b[0m \u001b[1;36m1\u001b[0m\u001b[1;33m\u001b[0m\u001b[1;33m\u001b[0m\u001b[0m\n\u001b[0m\u001b[0;32m      9\u001b[0m \u001b[1;32massert\u001b[0m \u001b[0mindice\u001b[0m\u001b[1;33m(\u001b[0m\u001b[1;33m[\u001b[0m \u001b[1;36m1\u001b[0m \u001b[1;33m,\u001b[0m \u001b[1;36m3\u001b[0m \u001b[1;33m,\u001b[0m \u001b[1;36m5\u001b[0m \u001b[1;33m,\u001b[0m \u001b[1;36m17\u001b[0m \u001b[1;33m,\u001b[0m \u001b[1;36m17\u001b[0m \u001b[1;33m,\u001b[0m \u001b[1;36m19\u001b[0m\u001b[1;33m]\u001b[0m \u001b[1;33m,\u001b[0m \u001b[1;36m4\u001b[0m\u001b[1;33m)\u001b[0m \u001b[1;33m==\u001b[0m \u001b[1;32mNone\u001b[0m\u001b[1;33m\u001b[0m\u001b[1;33m\u001b[0m\u001b[0m\n\u001b[0;32m     10\u001b[0m \u001b[1;32massert\u001b[0m \u001b[0mindice\u001b[0m\u001b[1;33m(\u001b[0m\u001b[1;33m[\u001b[0m \u001b[1;36m1\u001b[0m \u001b[1;33m,\u001b[0m \u001b[1;36m3\u001b[0m \u001b[1;33m,\u001b[0m \u001b[1;36m5\u001b[0m \u001b[1;33m,\u001b[0m \u001b[1;36m17\u001b[0m \u001b[1;33m,\u001b[0m \u001b[1;36m17\u001b[0m \u001b[1;33m,\u001b[0m \u001b[1;36m19\u001b[0m\u001b[1;33m]\u001b[0m \u001b[1;33m,\u001b[0m \u001b[1;36m17\u001b[0m\u001b[1;33m)\u001b[0m \u001b[1;33m==\u001b[0m \u001b[1;36m3\u001b[0m \u001b[1;32mor\u001b[0m\u001b[0;31m \u001b[0m\u001b[0;31m\\\u001b[0m\u001b[1;33m\u001b[0m\u001b[1;33m\u001b[0m\u001b[0m\n",
      "\u001b[1;31mAssertionError\u001b[0m: "
     ]
    }
   ],
   "source": [
    "def indice(liste, element):\n",
    "    \"\"\"renvoie un indice i tel que liste[i]==element s'il y en a un, None sinon\"\"\"\n",
    "    #A FAIRE\n",
    "    \n",
    "    \n",
    "    \n",
    "    \n",
    "assert indice([ 1 , 3 , 5 , 17 , 17 , 19] , 3) == 1\n",
    "assert indice([ 1 , 3 , 5 , 17 , 17 , 19] , 4) == None\n",
    "assert indice([ 1 , 3 , 5 , 17 , 17 , 19] , 17) == 3 or \\\n",
    "indice([ 1 , 3 , 5 , 17 , 17 , 19] , 3) == 4"
   ]
  },
  {
   "cell_type": "markdown",
   "metadata": {},
   "source": [
    "<h2> Exercice 2 </h2>"
   ]
  },
  {
   "cell_type": "markdown",
   "metadata": {},
   "source": [
    "Quand on joue à \"devine le nombre\" avec un nombre compris entre 1 et 100, combien faut-il d'essais dans le pire des cas si l'on joue de façon optimale ?"
   ]
  },
  {
   "cell_type": "markdown",
   "metadata": {},
   "source": [
    "<h2> Exercice 3 </h2>"
   ]
  },
  {
   "cell_type": "markdown",
   "metadata": {},
   "source": [
    "Ecrire un programme qui triche au jeu \"devine un nombre\" : ce programme, plutôt que de fixer dès le début un nombre mystère, devra faire durer la partie aussi longtemps que possible, sans jamais donner un indice qui contredirait les indices précédents."
   ]
  },
  {
   "cell_type": "code",
   "execution_count": null,
   "metadata": {},
   "outputs": [],
   "source": []
  }
 ],
 "metadata": {
  "kernelspec": {
   "display_name": "Python 3",
   "language": "python",
   "name": "python3"
  },
  "language_info": {
   "codemirror_mode": {
    "name": "ipython",
    "version": 3
   },
   "file_extension": ".py",
   "mimetype": "text/x-python",
   "name": "python",
   "nbconvert_exporter": "python",
   "pygments_lexer": "ipython3",
   "version": "3.7.6"
  }
 },
 "nbformat": 4,
 "nbformat_minor": 4
}
