{
 "cells": [
  {
   "cell_type": "markdown",
   "metadata": {},
   "source": [
    "# CH9 COMPLEMENTS D'ALGORITHMIQUE"
   ]
  },
  {
   "cell_type": "markdown",
   "metadata": {},
   "source": [
    "## 1. Concevoir et tester ses programmes"
   ]
  },
  {
   "cell_type": "markdown",
   "metadata": {},
   "source": [
    "<h3> a. Les jeux de tests </h3>"
   ]
  },
  {
   "cell_type": "markdown",
   "metadata": {},
   "source": [
    "Il arrive très souvent (même aux meilleurs ! ) de faire des erreurs en écrivant un code. Pour détecter ces éventuelles erreurs, on peut utiliser le programme (ou partie de programme) sur quelques cas concrets et vérifier qu'il produit effectivement les résultats attendus. "
   ]
  },
  {
   "cell_type": "markdown",
   "metadata": {},
   "source": [
    "On souhaite par exemple coder et tester une fonction nommée indice_maximum_tableau qui renvoie l'indice du plus grand élément de la liste. On peut la tester et vérifier que **indice_maximal_tableau([2 , 3 , 1])** vaut bien 1. Si le résultat est erroné, on sait qu'il y a une erreur dans le code, si le résultat est juste, cela ne signifie pas que tout est correct pour autant. Il faut donc essayer de créer un \"jeu de tests\" avec plusieurs tests les plus pertinents possibles (valeurs limites, cas particuliers ...)."
   ]
  },
  {
   "cell_type": "markdown",
   "metadata": {},
   "source": [
    "Plutôt que d'effectuer les tests \"à la main\", on peut les inclure dans le programme, grâce à l'instruction **assert** et un test d'égalité. "
   ]
  },
  {
   "cell_type": "code",
   "execution_count": 16,
   "metadata": {},
   "outputs": [
    {
     "ename": "AssertionError",
     "evalue": "non plus, l'indice max n'est pas 0",
     "output_type": "error",
     "traceback": [
      "\u001b[0;31m---------------------------------------------------------------------------\u001b[0m",
      "\u001b[0;31mAssertionError\u001b[0m                            Traceback (most recent call last)",
      "\u001b[0;32m<ipython-input-16-aeb6b04d5f0f>\u001b[0m in \u001b[0;36m<module>\u001b[0;34m\u001b[0m\n\u001b[1;32m     10\u001b[0m \u001b[0;34m\u001b[0m\u001b[0m\n\u001b[1;32m     11\u001b[0m \u001b[0;32massert\u001b[0m \u001b[0mindice_maximum_tableau\u001b[0m\u001b[0;34m(\u001b[0m\u001b[0;34m[\u001b[0m\u001b[0;36m2\u001b[0m \u001b[0;34m,\u001b[0m \u001b[0;36m3\u001b[0m \u001b[0;34m,\u001b[0m \u001b[0;36m1\u001b[0m\u001b[0;34m]\u001b[0m\u001b[0;34m)\u001b[0m \u001b[0;34m==\u001b[0m \u001b[0;36m1\u001b[0m\u001b[0;34m,\u001b[0m \u001b[0;34m\"non, l'indice max n'est pas 1\"\u001b[0m\u001b[0;34m\u001b[0m\u001b[0;34m\u001b[0m\u001b[0m\n\u001b[0;32m---> 12\u001b[0;31m \u001b[0;32massert\u001b[0m \u001b[0mindice_maximum_tableau\u001b[0m\u001b[0;34m(\u001b[0m\u001b[0;34m[\u001b[0m\u001b[0;36m2\u001b[0m \u001b[0;34m,\u001b[0m \u001b[0;36m3\u001b[0m \u001b[0;34m,\u001b[0m \u001b[0;36m1\u001b[0m\u001b[0;34m]\u001b[0m\u001b[0;34m)\u001b[0m \u001b[0;34m==\u001b[0m \u001b[0;36m0\u001b[0m\u001b[0;34m,\u001b[0m \u001b[0;34m\"non plus, l'indice max n'est pas 0\"\u001b[0m\u001b[0;34m\u001b[0m\u001b[0;34m\u001b[0m\u001b[0m\n\u001b[0m",
      "\u001b[0;31mAssertionError\u001b[0m: non plus, l'indice max n'est pas 0"
     ]
    }
   ],
   "source": [
    "def indice_maximum_tableau(tableau):\n",
    "    \"\"\" Renvoie l'indice du maximum d'un tableau (tableau) ou None s'il est vide\"\"\"\n",
    "    \n",
    "    max = tableau[0]\n",
    "    for i in range(1, len(tableau)):\n",
    "        if tableau[i] > max:\n",
    "            max = tableau[i]\n",
    "            indice_max = i\n",
    "    return indice_max\n",
    "\n",
    "assert indice_maximum_tableau([2 , 3 , 1]) == 1, \"non, l'indice max n'est pas 1\"\n",
    "assert indice_maximum_tableau([2 , 3 , 1]) == 0, \"non plus, l'indice max n'est pas 0\""
   ]
  },
  {
   "cell_type": "markdown",
   "metadata": {},
   "source": [
    "Si l'un des tests échoue, il faut bien sur relancer tous les tests.\n",
    "Ajoutez quelques tests au programme précédent et vérifier que la fonction effectue bien ce qui est demandé (que se passe-t-il notamment si plusieurs éléments correspondent au maximum ? si le tableau est vide ? ). Modifier la fonction en conséquence."
   ]
  },
  {
   "cell_type": "markdown",
   "metadata": {},
   "source": [
    "<i> <b> Exercices d'application </b> </i>"
   ]
  },
  {
   "cell_type": "markdown",
   "metadata": {},
   "source": [
    "On prétend que les fonctions suivantes testent l'appartenance de la valeur v au tableau t. \n",
    "\n",
    "1) Donner des tests pour ces fonctions, et en particulier un test montrant qu'elle sont incorrectes."
   ]
  },
  {
   "cell_type": "code",
   "execution_count": 8,
   "metadata": {},
   "outputs": [],
   "source": [
    "def appartient1(v, t):\n",
    "    i = 0\n",
    "    while i < len(t)-1 and t[i] != v:\n",
    "        i = i + 1\n",
    "    return i < len(t)\n",
    "\n",
    "#assert appartient1(1,[0,2,5])==False\n",
    "\n",
    "def appartient1(v, t):\n",
    "    i = 0\n",
    "    while i < len(t)-1 and t[i] != v:\n",
    "        i = i + 1\n",
    "    return i == len(t)\n",
    "\n",
    "assert appartient1(1,[0,2,5])==False"
   ]
  },
  {
   "cell_type": "code",
   "execution_count": 10,
   "metadata": {},
   "outputs": [
    {
     "ename": "AssertionError",
     "evalue": "",
     "output_type": "error",
     "traceback": [
      "\u001b[1;31m---------------------------------------------------------------------------\u001b[0m",
      "\u001b[1;31mAssertionError\u001b[0m                            Traceback (most recent call last)",
      "\u001b[1;32m<ipython-input-10-9adaaa6b0c1a>\u001b[0m in \u001b[0;36m<module>\u001b[1;34m\u001b[0m\n\u001b[0;32m      7\u001b[0m     \u001b[1;32mreturn\u001b[0m \u001b[0mtrouvee\u001b[0m\u001b[1;33m\u001b[0m\u001b[1;33m\u001b[0m\u001b[0m\n\u001b[0;32m      8\u001b[0m \u001b[1;33m\u001b[0m\u001b[0m\n\u001b[1;32m----> 9\u001b[1;33m \u001b[1;32massert\u001b[0m \u001b[0mappartient1\u001b[0m\u001b[1;33m(\u001b[0m\u001b[1;36m1\u001b[0m\u001b[1;33m,\u001b[0m\u001b[1;33m[\u001b[0m\u001b[1;36m0\u001b[0m\u001b[1;33m,\u001b[0m\u001b[1;36m1\u001b[0m\u001b[1;33m,\u001b[0m\u001b[1;36m5\u001b[0m\u001b[1;33m]\u001b[0m\u001b[1;33m)\u001b[0m\u001b[1;33m==\u001b[0m\u001b[1;32mTrue\u001b[0m\u001b[1;33m\u001b[0m\u001b[1;33m\u001b[0m\u001b[0m\n\u001b[0m",
      "\u001b[1;31mAssertionError\u001b[0m: "
     ]
    }
   ],
   "source": [
    "def appartient2(v, t):\n",
    "    for i in range(len(t)):\n",
    "        if t[i] == v:\n",
    "            trouvee = True\n",
    "        else:\n",
    "            trouvee = False\n",
    "    return trouvee\n",
    "\n",
    "assert appartient1(1,[0,1,5])==True"
   ]
  },
  {
   "cell_type": "markdown",
   "metadata": {},
   "source": [
    "2) A partir de la fonction ci-dessous, on souhaite vérifier que l'utilisation se fait avec les bons paramètres, c'est à dire que t est bien une liste et que v est bien un entier. Intégrer des jeux de tests cette fois dans la fonction."
   ]
  },
  {
   "cell_type": "code",
   "execution_count": 26,
   "metadata": {},
   "outputs": [
    {
     "ename": "AssertionError",
     "evalue": "v doit être un entier",
     "output_type": "error",
     "traceback": [
      "\u001b[1;31m---------------------------------------------------------------------------\u001b[0m",
      "\u001b[1;31mAssertionError\u001b[0m                            Traceback (most recent call last)",
      "\u001b[1;32m<ipython-input-26-b4b051ed8850>\u001b[0m in \u001b[0;36m<module>\u001b[1;34m\u001b[0m\n\u001b[0;32m     15\u001b[0m     \u001b[1;32mreturn\u001b[0m \u001b[0mtrouvee\u001b[0m\u001b[1;33m\u001b[0m\u001b[1;33m\u001b[0m\u001b[0m\n\u001b[0;32m     16\u001b[0m \u001b[1;33m\u001b[0m\u001b[0m\n\u001b[1;32m---> 17\u001b[1;33m \u001b[0mappartient3\u001b[0m\u001b[1;33m(\u001b[0m\u001b[1;36m1.2\u001b[0m\u001b[1;33m,\u001b[0m\u001b[1;33m[\u001b[0m\u001b[1;36m0\u001b[0m\u001b[1;33m,\u001b[0m\u001b[1;36m1\u001b[0m\u001b[1;33m,\u001b[0m\u001b[1;36m5\u001b[0m\u001b[1;33m]\u001b[0m\u001b[1;33m)\u001b[0m\u001b[1;33m\u001b[0m\u001b[1;33m\u001b[0m\u001b[0m\n\u001b[0m",
      "\u001b[1;32m<ipython-input-26-b4b051ed8850>\u001b[0m in \u001b[0;36mappartient3\u001b[1;34m(v, t)\u001b[0m\n\u001b[0;32m      4\u001b[0m     \u001b[0mi\u001b[0m \u001b[1;33m=\u001b[0m \u001b[1;36m0\u001b[0m\u001b[1;33m\u001b[0m\u001b[1;33m\u001b[0m\u001b[0m\n\u001b[0;32m      5\u001b[0m     \u001b[1;32massert\u001b[0m \u001b[1;33m(\u001b[0m\u001b[0mtype\u001b[0m\u001b[1;33m(\u001b[0m\u001b[0mt\u001b[0m\u001b[1;33m)\u001b[0m\u001b[1;33m==\u001b[0m\u001b[0mlist\u001b[0m\u001b[1;33m)\u001b[0m\u001b[1;33m==\u001b[0m\u001b[1;32mTrue\u001b[0m\u001b[1;33m,\u001b[0m \u001b[1;34m\"t doit être une liste\"\u001b[0m\u001b[1;33m\u001b[0m\u001b[1;33m\u001b[0m\u001b[0m\n\u001b[1;32m----> 6\u001b[1;33m     \u001b[1;32massert\u001b[0m \u001b[1;33m(\u001b[0m\u001b[0mtype\u001b[0m\u001b[1;33m(\u001b[0m\u001b[0mv\u001b[0m\u001b[1;33m)\u001b[0m\u001b[1;33m==\u001b[0m\u001b[0mint\u001b[0m\u001b[1;33m)\u001b[0m\u001b[1;33m==\u001b[0m\u001b[1;32mTrue\u001b[0m\u001b[1;33m,\u001b[0m \u001b[1;34m\"v doit être un entier\"\u001b[0m\u001b[1;33m\u001b[0m\u001b[1;33m\u001b[0m\u001b[0m\n\u001b[0m\u001b[0;32m      7\u001b[0m \u001b[1;33m\u001b[0m\u001b[0m\n\u001b[0;32m      8\u001b[0m     \u001b[0mtrouvee\u001b[0m \u001b[1;33m=\u001b[0m \u001b[1;32mFalse\u001b[0m\u001b[1;33m\u001b[0m\u001b[1;33m\u001b[0m\u001b[0m\n",
      "\u001b[1;31mAssertionError\u001b[0m: v doit être un entier"
     ]
    }
   ],
   "source": [
    "def appartient3(v, t):\n",
    "    \"\"\" Fct correcte \n",
    "        Renvoie True si v appartient à t, False sinon \"\"\"\n",
    "    i = 0\n",
    "    assert (type(t)==list)==True, \"t doit être une liste\"\n",
    "    assert (type(v)==int)==True, \"v doit être un entier\"\n",
    "\n",
    "    trouvee = False\n",
    "    while i < len(t)-1:\n",
    "        if t[i] == v:\n",
    "            i = len(t)\n",
    "            trouvee = True\n",
    "        else:\n",
    "            i = i + 1\n",
    "    return trouvee\n",
    "\n",
    "appartient3(1.2,[0,1,5])"
   ]
  },
  {
   "cell_type": "markdown",
   "metadata": {},
   "source": [
    "<h3> b. Validité d'un algorithme : invariant de boucle et terminaison </h3>"
   ]
  },
  {
   "cell_type": "markdown",
   "metadata": {},
   "source": [
    "Quand un programme contient une boucle, il convient de se poser plusieurs questions : les variables sont-elles correctement initialisées avant la boucle ? Le nombre de tours de la boucle est-il le bon ? Va-t-on bien sortir de la boucle au bout d'un certain temps ? Les valeurs obtenues au final sont-elles celles attendues ?"
   ]
  },
  {
   "cell_type": "markdown",
   "metadata": {},
   "source": [
    "<h3> invariant de boucle </h3>"
   ]
  },
  {
   "cell_type": "markdown",
   "metadata": {},
   "source": [
    "Un invariant de boucle est une **propriété attachée à la boucle, qui est vraie initialement, avant de commencer à exécuter la boucle, et maintenue vraie pour toute itération de la boucle** (d'où son nom). Elle sera en particulier vraie à la sortie de la boucle."
   ]
  },
  {
   "cell_type": "markdown",
   "metadata": {},
   "source": [
    "Voici un algorithme de calcul avec un boucle conditionnelle et deux variables a et b ayant pour valeur un entier naturel."
   ]
  },
  {
   "cell_type": "raw",
   "metadata": {},
   "source": [
    "m = 0\n",
    "p = 0\n",
    "tant que m < a\n",
    "    m = m + 1\n",
    "    p = p + b\n",
    "fin tant que"
   ]
  },
  {
   "cell_type": "markdown",
   "metadata": {},
   "source": [
    "On peut montrer que *\"p = m x b\" est un invariant de cette boucle.*\n",
    "\n",
    " - Avant le premier passage, p = 0 et m = 0, donc on a bien p = m x b.\n",
    "\n",
    "- Supposons que p = m x b avant un passage dans la boucle : \n",
    "\n",
    "Les nouvelles de m et p après une boucle sont m' = m + 1 et p' = p + b. \n",
    "\n",
    "On a m' x b = (m + 1) x b = m x b + b = p + b = p'.\n",
    "\n",
    "- La propriété est donc vérifiée après passage dans la boucle.\n",
    "\n",
    "**Cette propriété est bien un invariant de boucle**, donc elle est vraie à la sortie de la boucle. Or à la sortie de la boucle, on a m = a , donc p = a x b.\n",
    "Cette boucle permet donc le calcul des produit a et b (stocké dans p)."
   ]
  },
  {
   "cell_type": "markdown",
   "metadata": {},
   "source": [
    "<h3> Terminaison </h3>"
   ]
  },
  {
   "cell_type": "markdown",
   "metadata": {},
   "source": [
    "Un algorithme ne doit toujours comporter qu'un nombre fini d'étapes. Dans le cas de boucles non conditionnelles (boucle for), le nombre d'étapes est déterminé, donc fini.\n",
    "Dans le cas de boucles conditionnelles (boucle while), on utilise la notion de **variant** : on choisit un variant, c'est-à-dire une expression (souvent une variable) telle que la suite des valeurs de cette expression au cours des itérations prend, à un moment donné, une valeur satisfaisant la condition d'arrêt."
   ]
  },
  {
   "cell_type": "markdown",
   "metadata": {},
   "source": [
    "Considérons le code suivant :"
   ]
  },
  {
   "cell_type": "code",
   "execution_count": 1,
   "metadata": {},
   "outputs": [],
   "source": [
    "a = 10\n",
    "x = 0\n",
    "while x**2 < a:\n",
    "    x = x + 1"
   ]
  },
  {
   "cell_type": "markdown",
   "metadata": {},
   "source": [
    "Si la valeur de a est négative ou nulle, il n'y a aucun passage dans la boucle.\n",
    "Sinon, la suite des valeurs de la variable x est 0 , 1 , 2 ... , n, où n est la première valeur supérieure ou égale à la racine carrée de la valeur de a. En considérant le variant x, on peut donc conclure que le nombre de passages dans la boucle est bien fini."
   ]
  },
  {
   "cell_type": "markdown",
   "metadata": {},
   "source": [
    "<i> <b> Exercices d'application </b> </i>"
   ]
  },
  {
   "cell_type": "markdown",
   "metadata": {},
   "source": [
    "1) Reprendre l'exemple du produit de deux nombres étudié plus haut et montrer la terminaison de la boucle."
   ]
  },
  {
   "cell_type": "markdown",
   "metadata": {},
   "source": [
    "<h4 style=\"color:blue;\">m est incrémenté de 1 à chaque passage dans la boucle, donc il va prendre les valeurs 0,1,2 ... et finira par atteindre a après a passages. La boucle va donc se terminer.</h4>"
   ]
  },
  {
   "cell_type": "markdown",
   "metadata": {},
   "source": [
    "2) On effectue la division euclidienne de a par b, ou a et b sont deux entiers strictement positifs. Il s'agit donc de déterminer deux entiers q et r tels que : \n",
    "a = bq + r avec 0 <= r < b, dont on donne l'algorithme ci-dessous :\n",
    "    \n",
    " - Prouver que a = bq + r est un invariant de boucle.\n",
    " - Prouver la terminaison de l'algorithme.\n",
    " \n",
    "<i> Vous pouvez utiliser <a href =\"http://pythontutor.com/visualize.html#mode=display\"> Pythontutor </a> pour visualiser les opérations </i>"
   ]
  },
  {
   "cell_type": "code",
   "execution_count": null,
   "metadata": {},
   "outputs": [],
   "source": [
    "q = 0 \n",
    "r = a\n",
    "while r >= b:\n",
    "    q = q + 1\n",
    "    r = r - b"
   ]
  },
  {
   "cell_type": "markdown",
   "metadata": {},
   "source": [
    "<h4 style=\"color:blue;\">\n",
    "Au départ, on a q = 0, donc bq + r = r et r = a \n",
    "    \n",
    "donc on a bien a = bq + r\n",
    "    \n",
    "On suppose que a = bq + r est vérifié à l'entrée de la boucle.\n",
    "    \n",
    "q devient alors q'= q + 1 et r devient r' = r - b.\n",
    "    \n",
    "Donc bq'+r'=b(q+1)+r-b=bq+b+r-b=bq+r=a\n",
    "\n",
    "La propriété est donc alors bien vérifiée à la sortie de la boucle.\n",
    "a = bq + r est bien un invariant de boucle.\n",
    "\n",
    "A chaque boucle r diminue de b. Il prend les valeurs, a, a-b, a-2b ... b étant un entier strictement positif, la suite des valeurs de r est strictement décroissante et r finira par devenir inférieur à b pour un nombre n de boucles. \n",
    "    \n",
    "En effet a-nb est inférieur à b dès lors que n supérieur à (a-b)/b ou n supérieur à a/b-1.</h4>"
   ]
  },
  {
   "cell_type": "markdown",
   "metadata": {},
   "source": [
    "<h3> c. Coût d'un algorithme </h3>"
   ]
  },
  {
   "cell_type": "markdown",
   "metadata": {},
   "source": [
    "Quand on écrit un algorithme, on doit réfléchir pour qu'il soit le plus efficace possible. On doit notamment se poser la question de son temps d'exécution. Si on traite une liste de 10^7 valeurs, puis une liste de 10^8 valeurs, le temps de traitement sera-t-il multiplié par 10 ? Ce coût dépend de l'algorithme, de la liste, de la machine, et même du langage utilisé.\n",
    "\n",
    "Pour comparer deux algorithmes, on cherche à déterminer l'ordre de grandeur de ce coût en fonction de la taille des données. On parle de **complexité d'un algorithme**.\n",
    "Pour évaluer cette complexité, **on se place toujours dans le \"pire des cas\"**, c'est-à-dire qu'on compte le nombre maximum d'opérations."
   ]
  },
  {
   "cell_type": "markdown",
   "metadata": {},
   "source": [
    "Reprenons l'exemple de la multiplication, dont le code est donné ci-dessous. On y a ajouté un \"timer\" pour déterminer le **temps d'exécution** du programme."
   ]
  },
  {
   "cell_type": "code",
   "execution_count": 11,
   "metadata": {},
   "outputs": [
    {
     "name": "stdout",
     "output_type": "stream",
     "text": [
      "0.023723840713500977\n"
     ]
    }
   ],
   "source": [
    "import time\n",
    "start = time.time() #on récupère le temps au début de l'exécution\n",
    "a = 100000\n",
    "b = 10\n",
    "m = 0\n",
    "p = 0\n",
    "while m < a:\n",
    "    m = m + 1\n",
    "    p = p + b\n",
    "end = time.time() # on récupère le temps à la fin de l'exécution\n",
    "duree = end - start\n",
    "print(duree)"
   ]
  },
  {
   "cell_type": "markdown",
   "metadata": {},
   "source": [
    "Tester ce programme pour différentes valeurs de a. Que remarquez-vous ?"
   ]
  },
  {
   "cell_type": "markdown",
   "metadata": {},
   "source": [
    "Le temps de calcul est proportionnel à a : on dit alors que le coût est <b>LINEAIRE</b>. "
   ]
  },
  {
   "cell_type": "markdown",
   "metadata": {},
   "source": [
    "Le coût en temps est accessible également par le **nombre d'affectations** car c'est *ce qui coûte* en ressources pour la machine (les tests étant négligeables). On peut estimer son ordre de grandeur en insérant un compteur :"
   ]
  },
  {
   "cell_type": "code",
   "execution_count": 1,
   "metadata": {},
   "outputs": [
    {
     "name": "stdout",
     "output_type": "stream",
     "text": [
      "200004\n"
     ]
    }
   ],
   "source": [
    "N = 0  # compteur d'affectations\n",
    "a = 100000\n",
    "b = 10\n",
    "m = 0\n",
    "p = 0\n",
    "N = N + 4  # 4 affectations\n",
    "while m < a:\n",
    "    m = m + 1\n",
    "    p = p + b\n",
    "    N = N + 2  # 2 affectation par passage dans la boucle\n",
    "print(N)"
   ]
  },
  {
   "cell_type": "markdown",
   "metadata": {},
   "source": [
    "On trouve que N = 2a + 4\n",
    "\n",
    "La boucle est effectuée exactement a fois, et il y a 2 affectations par boucle, donc 2a affectations en tout et on initialise avec 4 affectations.\n",
    "\n",
    "Le nombre d'opérations est donc encore proportionnel à a : on dit que le cout est <b>LINEAIRE</b>.\n",
    "\n",
    "On parlera de coût linéaire dès lors que le nombre d'opérations est représenté par une fonction affine en fonction de la taille des données.\n",
    "\n",
    "L'ordre de grandeur de la complexité s'écrit alors **O(a)**."
   ]
  },
  {
   "cell_type": "markdown",
   "metadata": {},
   "source": [
    "<i> <b> D'autres exemples </b> </i>"
   ]
  },
  {
   "cell_type": "markdown",
   "metadata": {},
   "source": [
    "1) Ecrire un programme permettant de calculer la somme des entiers de 1 à n. Le tester pour différentes valeurs de n. \n",
    "Vérifier que son coût est linéaire en comptant les opérations effectuées."
   ]
  },
  {
   "cell_type": "code",
   "execution_count": 28,
   "metadata": {},
   "outputs": [
    {
     "data": {
      "text/plain": [
       "1275"
      ]
     },
     "execution_count": 28,
     "metadata": {},
     "output_type": "execute_result"
    }
   ],
   "source": [
    "def somme(n):\n",
    "    s = 0\n",
    "    for i in range(1 , n + 1):\n",
    "        s = s + i\n",
    "    return s\n",
    "\n",
    "somme(50)\n",
    "\n",
    "#1 affectation par boucle et une affectation d'initialisation donc a+1, donc linéaire."
   ]
  },
  {
   "cell_type": "markdown",
   "metadata": {},
   "source": [
    "<p> 2) On considère le programme ci-dessous. Le tester pour différentes valeurs de n. Noter ces valeurs et le temps correspondant, puis utiliser un tableur pour visualiser le nuage de points (n, durée(n)). Que remarquez-vous ? On parle ici de coût quadratique (fonction du second degré). </p>\n",
    "<p> Ajouter un compteur d'opération, et reprendre les questions précédentes pour avoir le nombre d'opérations en fonction de n.</p>"
   ]
  },
  {
   "cell_type": "code",
   "execution_count": 2,
   "metadata": {},
   "outputs": [
    {
     "name": "stdout",
     "output_type": "stream",
     "text": [
      "1001002\n",
      "0.13147783279418945\n"
     ]
    }
   ],
   "source": [
    "import time\n",
    "start = time.time()\n",
    "x = 0\n",
    "n = 1000\n",
    "nop = 2\n",
    "    \n",
    "for i in range(n):\n",
    "    x = x + i\n",
    "    nop = nop + 1\n",
    "    for j in range(n):\n",
    "        x = x + j\n",
    "        nop = nop + 1\n",
    "print (nop)\n",
    "end = time.time()\n",
    "duree = end - start\n",
    "print(duree)\n"
   ]
  },
  {
   "cell_type": "markdown",
   "metadata": {},
   "source": [
    "<h4 style=\"color:blue;\"> On trouve : (n, nop, duree)\n",
    "\n",
    "    \n",
    "1000 / 1001002 / 0,147 \n",
    "\n",
    "2000 / 4002002 / 0,54\n",
    "\n",
    "3000 / 9003002 / 1,39\n",
    "\n",
    "4000 / 16004002 / 2,3\n",
    "\n",
    "5000 / 25005002 / 3,90\n",
    "\n",
    "10000 / 100010002 / 14,39 </h4>\n"
   ]
  },
  {
   "cell_type": "markdown",
   "metadata": {},
   "source": [
    "<h2> 2. Parcours séquentiel </h2>"
   ]
  },
  {
   "cell_type": "markdown",
   "metadata": {},
   "source": [
    "On va étudier ici quelques algorithmes nécessitant de parcourir une liste (on peut également parcourir un tuple). Le parcours séquentiel consiste à parcourir la liste élément par élément, en suivant l'ordre des éléments."
   ]
  },
  {
   "cell_type": "markdown",
   "metadata": {},
   "source": [
    "<h3> exemple 1 : calcul d'une moyenne </h3>"
   ]
  },
  {
   "cell_type": "markdown",
   "metadata": {},
   "source": [
    "Ecrire une fonction permettant de calculer la moyenne d'une liste de nombres. Pensez à toutes les vérifications vues ci-dessus. Déterminer le coût de cette fonction."
   ]
  },
  {
   "cell_type": "code",
   "execution_count": 7,
   "metadata": {},
   "outputs": [],
   "source": [
    "def moyenne(t):\n",
    "    s = 0\n",
    "    for i in t:\n",
    "        s = s + i\n",
    "    m = s/len(t)\n",
    "    return m\n",
    "\n",
    "assert(moyenne([1, 5, 3])) == 3, \"La moyenne n'est pas 3.\"\n",
    "assert(moyenne([2.5, -5.5, 3])) == 0"
   ]
  },
  {
   "cell_type": "markdown",
   "metadata": {},
   "source": [
    "<p style=\"color:blue;\">Invariant de boucle ?\n",
    "la boucle est une boucle for, donc bornée : l'algo se termine"
   ]
  },
  {
   "cell_type": "markdown",
   "metadata": {},
   "source": [
    "<h3> exemple 2 : recherche d'une occurence </h3>"
   ]
  },
  {
   "cell_type": "markdown",
   "metadata": {},
   "source": [
    "On cherche ici à rechercher de manière séquentielle la présence d'une valeur dans un tableau, qui peut être une liste, un tuple, ou une chaîne de caractères. \n",
    "On cherche une valeur ou un caractère précis, en le comparant à toutes les valeurs du tableau.\n",
    "On donne ci-dessous deux scripts Python répondant à cette question."
   ]
  },
  {
   "cell_type": "code",
   "execution_count": 15,
   "metadata": {},
   "outputs": [
    {
     "name": "stdout",
     "output_type": "stream",
     "text": [
      "1.9489080905914307\n"
     ]
    }
   ],
   "source": [
    "import time\n",
    "import random\n",
    "\n",
    "def recherche(x , t):\n",
    "    \n",
    "    n = len(t)\n",
    "    \n",
    "    i = 0\n",
    "    while i < n and x != t[i]:\n",
    "        i = i + 1\n",
    "    if i < n:\n",
    "        return i\n",
    "\n",
    "    \n",
    "L = [i for i in range(1000000)]\n",
    "random.shuffle(L)\n",
    "start = time.time()\n",
    "recherche(10, L)\n",
    "end = time.time()\n",
    "print(end-start)\n"
   ]
  },
  {
   "cell_type": "code",
   "execution_count": 7,
   "metadata": {},
   "outputs": [],
   "source": [
    "def recherche2(x ,t):\n",
    "    for i in range(len(t)):\n",
    "        if t[i] == x:\n",
    "            return i"
   ]
  },
  {
   "cell_type": "markdown",
   "metadata": {},
   "source": [
    "Etudier ces deux programmes, et déterminer leur coût."
   ]
  },
  {
   "cell_type": "markdown",
   "metadata": {},
   "source": [
    "1er programme : 2 affectation au départ, et au maximum n=len(t) boucles avec une affectation dans chaque, donc le coût est n+2. Il est linéaire."
   ]
  },
  {
   "cell_type": "markdown",
   "metadata": {},
   "source": [
    "2ème programme : le coût est nul ?"
   ]
  },
  {
   "cell_type": "markdown",
   "metadata": {},
   "source": [
    "<h3> exemple 3 : recherche d'un extremum </h3>"
   ]
  },
  {
   "cell_type": "markdown",
   "metadata": {},
   "source": [
    "On dispose d'un ensemble de nombres (liste, tuple) dont on cherche un extremum (maximum, minimum ou les deux).\n",
    "L'algorithme est le suivant :\n",
    "- si la liste est non vide, on suppose que le maximum est le premier élément\n",
    "- on parcourt la liste et chaque fois qu'on rencontre un élément plus grand, on dit que c'est le nouveau maximum provisoire."
   ]
  },
  {
   "cell_type": "markdown",
   "metadata": {},
   "source": [
    "Ecrire une fonction **maxmin(liste)** qui prend une liste de nombres en paramètres et renvoie son maximum et son minimum. Quel est son coût ?"
   ]
  },
  {
   "cell_type": "code",
   "execution_count": 8,
   "metadata": {},
   "outputs": [
    {
     "name": "stdout",
     "output_type": "stream",
     "text": [
      "(54, -2)\n"
     ]
    }
   ],
   "source": [
    "def maxmin(t):\n",
    "    max = t[0]\n",
    "    min = t[0]\n",
    "    for valeur in t:\n",
    "        if valeur > max:\n",
    "            max = valeur\n",
    "        if valeur < min:\n",
    "            min = valeur\n",
    "    return (max, min)\n",
    "\n",
    "print(maxmin([-2 , 3 , 54]))"
   ]
  },
  {
   "cell_type": "markdown",
   "metadata": {},
   "source": [
    "S'inspirer de cet algorithme pour écrire une fonction **max(f, a, b)** qui permet de déterminer une valeur approchée du maximum d'une fonction f sur un intervalle [a,b]."
   ]
  },
  {
   "cell_type": "code",
   "execution_count": 1,
   "metadata": {},
   "outputs": [
    {
     "name": "stdout",
     "output_type": "stream",
     "text": [
      "225\n"
     ]
    }
   ],
   "source": [
    "def f(x):\n",
    "    return x**2\n",
    "\n",
    "def max(f,a,b):\n",
    "    maxi = f(a)\n",
    "    pas = (b-a)/100\n",
    "    for i in range (101):\n",
    "        if f(a + i * pas) > maxi:\n",
    "            maxi = f(a + i * pas)\n",
    "    return maxi\n",
    "\n",
    "print(max(f, -15 ,2))\n",
    "        "
   ]
  },
  {
   "cell_type": "markdown",
   "metadata": {},
   "source": [
    "<h2> <b> 3. Exercices d'application </b> </h2>"
   ]
  },
  {
   "cell_type": "markdown",
   "metadata": {},
   "source": [
    "<b> Exercice 1 </b> : \n",
    "On attribue un numéro à divers personnages. Ceci se traduit par la liste Pers = [['Julie' , 1] , ['Tom' , 2] , ['Sam' , 3] , ['Lea' , 4] , ['Charlie' , 5]].\n",
    "Ecrire une fonction qui permet de rechercher de manière séquentielle si un personnage de numéro x (entier) quelconque est présent dans la liste. Cette fonction doit renvoyer le nom du personnage en question s'il est présent dans la liste, False sinon."
   ]
  },
  {
   "cell_type": "code",
   "execution_count": 3,
   "metadata": {},
   "outputs": [
    {
     "data": {
      "text/plain": [
       "True"
      ]
     },
     "execution_count": 3,
     "metadata": {},
     "output_type": "execute_result"
    }
   ],
   "source": [
    "def rechercher(perso ,tab):\n",
    "    assert type(perso) == list, \"perso est une liste\"\n",
    "    \n",
    "    occurence = False   # 1 affect.\n",
    "    \n",
    "    for i in range(len(tab)):  # balaye la liste : pour n éléments, on passe tout en revue\n",
    "        if tab[i] == perso:\n",
    "            occurence = True   # 1 affectation\n",
    "            \n",
    "    return occurence\n",
    "\n",
    "Pers = [['Julie' , 1] , ['Tom' , 2] , ['Sam' , 3] , ['Lea' , 4] , ['Charlie' , 5]]\n",
    "rechercher(['Tom', 2], Pers)\n",
    "\n",
    "# liste de n éléments\n",
    "# O(n) = n + 1 + 1 = n + 2  ~ n    LINEAIRE"
   ]
  },
  {
   "cell_type": "markdown",
   "metadata": {},
   "source": [
    "<b> Exercice 2 </b> : On veut écrire une fonction verifie_tri qui prend en paramètres une liste d'entiers et qui renvoie True si la liste est correctement triée dans l'ordre croissant et False sinon.\n",
    "Proposer des tests pour cette fonction, puis écrire son code."
   ]
  },
  {
   "cell_type": "code",
   "execution_count": 7,
   "metadata": {},
   "outputs": [
    {
     "data": {
      "text/plain": [
       "False"
      ]
     },
     "execution_count": 7,
     "metadata": {},
     "output_type": "execute_result"
    }
   ],
   "source": [
    "def verifie_tri(liste):\n",
    "    \"\"\" Renvoie True si la liste d'entier est triée\"\"\"\n",
    "    for i in range(len(liste) - 1):\n",
    "        if liste[i] > liste[i + 1]:\n",
    "            return False\n",
    "    return True\n",
    "        \n",
    "L = [ 1, 3, 2, 4, 5]\n",
    "verifie_tri(L)\n",
    "\n",
    "# liste de n éléments\n",
    "# O(n) = n     LINEAIRE \n",
    " "
   ]
  },
  {
   "cell_type": "markdown",
   "metadata": {},
   "source": [
    "<b> Exercice 3 </b> : Ecrire une fonction permute qui prend en argument une liste de mots et modifie la liste en permutant le mot le plus court en nombre de lettres  avec le premier mot de la liste. La fonction ne renvoie rien."
   ]
  },
  {
   "cell_type": "code",
   "execution_count": 4,
   "metadata": {},
   "outputs": [
    {
     "data": {
      "text/plain": [
       "['Lea', 'Julie', 'Tom', 'Sam', 'Charlie']"
      ]
     },
     "execution_count": 4,
     "metadata": {},
     "output_type": "execute_result"
    }
   ],
   "source": [
    "def permute(liste):\n",
    "    \n",
    "    mot_min = liste[0]\n",
    "    \n",
    "    for i in range(1, len(liste)):\n",
    "        if len(liste[i]) < len(mot_min):\n",
    "            temp = liste[i]\n",
    "            liste[i] = liste[0]\n",
    "            liste[0] = temp\n",
    "        \n",
    "        \n",
    "liste_noms = ['Julie' , 'Tom', 'Sam', 'Lea', 'Charlie' ]\n",
    "\n",
    "permute(liste_noms)\n",
    "liste_noms\n",
    "\n",
    "# liste de n éléments\n",
    "# 3 affectations pendant la permutation et une affectation au départ\n",
    "# O(n) = 3n  + 1 ~ 3n ~ n    LINEAIRE \n",
    " "
   ]
  },
  {
   "cell_type": "markdown",
   "metadata": {},
   "source": [
    "<b> Exercice 4 </b> : Ecrire un programme pour rechercher un mot dans un texte. Le mot et le texte sont des variables de type str. Etudier le coût de l'algorithme en fonction de la longueur du texte et de celle du mot.\n",
    "    "
   ]
  },
  {
   "cell_type": "code",
   "execution_count": 6,
   "metadata": {},
   "outputs": [
    {
     "name": "stdout",
     "output_type": "stream",
     "text": [
      "['je', 'suis', 'content', \"d'être\", 'là', 'mon', 'ptit', 'Bob', '!']\n"
     ]
    },
    {
     "data": {
      "text/plain": [
       "True"
      ]
     },
     "execution_count": 6,
     "metadata": {},
     "output_type": "execute_result"
    }
   ],
   "source": [
    "def rech_mot(chaine, mot):\n",
    "    \"\"\" Renvoie True si le mot est dans le texte chaine \"\"\"\n",
    "    liste = chaine.split(\" \")\n",
    "    if mot in liste:\n",
    "        return True\n",
    "    else:\n",
    "        return False\n",
    "\n",
    "texte = \"je suis content d'être là mon ptit Bob !\"\n",
    "rech_mot(texte, \"Bob\")\n",
    "\n",
    "# on balaye une fois la chaîne de n éléments\n",
    "# O(n) = n     LINEAIRE \n",
    " "
   ]
  },
  {
   "cell_type": "code",
   "execution_count": 14,
   "metadata": {},
   "outputs": [
    {
     "data": {
      "text/plain": [
       "False"
      ]
     },
     "execution_count": 14,
     "metadata": {},
     "output_type": "execute_result"
    }
   ],
   "source": [
    "def rech_mot2(chaine, mot):\n",
    "    \"\"\" Renvoie True si le mot est dans le texte chaine \"\"\"\n",
    "    \n",
    "    temp = \"\"   # definit un mot temporaire\n",
    "    \n",
    "    i = 0\n",
    "    \n",
    "    while i < len(chaine):   # balaye le chaine de caractère\n",
    "        \n",
    "        j = 0\n",
    "        \n",
    "        while j < len(mot):   # balaye le mot\n",
    "            \n",
    "            if chaine[i + j] == mot[j]:  # teste si la lettre de la chaine correspond à la lettre du mot\n",
    "                j = j + 1\n",
    "                temp = temp + mot[j - 1]   # ajoute au mot temporaire\n",
    "            else:\n",
    "                j = len(mot) + 1   # Sinon, on sort de la boucle\n",
    "        \n",
    "        if temp == mot: \n",
    "            return True    # si le mot est trouvé, on sort de la boucle\n",
    "        i = i + 1\n",
    "        \n",
    "    return False        \n",
    "            \n",
    "texte = \"je suis content d'être là mon ptit Bob !\"\n",
    "rech_mot2(texte, \"jes\")\n",
    "\n",
    "# on balaye une fois la chaîne de n éléments, et pour chaque passage on balaye le mot recherché\n",
    "# dans le pire des cas, le mot fait la longueur de la chaîne\n",
    "# avec les affectations intermédiaires, on arrive à :\n",
    "# O(n) = 2 + (n + 2) x (n + 2) = 2 + n² + 4n + 4 = n² + 4n + 6\n",
    "\n",
    "# Donc O(n) ~ n²   QUADRATIQUE"
   ]
  },
  {
   "cell_type": "code",
   "execution_count": null,
   "metadata": {},
   "outputs": [],
   "source": []
  }
 ],
 "metadata": {
  "kernelspec": {
   "display_name": "Python 3",
   "language": "python",
   "name": "python3"
  },
  "language_info": {
   "codemirror_mode": {
    "name": "ipython",
    "version": 3
   },
   "file_extension": ".py",
   "mimetype": "text/x-python",
   "name": "python",
   "nbconvert_exporter": "python",
   "pygments_lexer": "ipython3",
   "version": "3.7.6"
  }
 },
 "nbformat": 4,
 "nbformat_minor": 4
}
